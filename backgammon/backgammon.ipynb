{
 "cells": [
  {
   "cell_type": "code",
   "execution_count": 1,
   "metadata": {},
   "outputs": [],
   "source": [
    "import sys\n",
    "import copy \n",
    "import random\n",
    "import itertools\n",
    "import pandas as pd\n",
    "import numpy as np\n",
    "import torch\n",
    "import tqdm.auto as tqdm\n",
    "from pathlib import Path\n",
    "import torch_scatter\n",
    "\n",
    "from typing import *\n",
    "from enum import Enum\n",
    "from dataclasses import dataclass"
   ]
  },
  {
   "cell_type": "code",
   "execution_count": 2,
   "metadata": {},
   "outputs": [],
   "source": [
    "%load_ext autoreload\n",
    "%autoreload 2"
   ]
  },
  {
   "cell_type": "code",
   "execution_count": 3,
   "metadata": {},
   "outputs": [],
   "source": [
    "import logging\n",
    "logger = logging.getLogger(\"research\")"
   ]
  },
  {
   "cell_type": "code",
   "execution_count": 4,
   "metadata": {},
   "outputs": [],
   "source": [
    "import os,sys\n",
    "sys.path.insert(0, str(Path.cwd().parent))"
   ]
  },
  {
   "cell_type": "code",
   "execution_count": 5,
   "metadata": {},
   "outputs": [],
   "source": [
    "import utils.logging\n",
    "utils.logging.setup(debug=False)"
   ]
  },
  {
   "cell_type": "markdown",
   "metadata": {},
   "source": [
    "### Narde rules\n",
    "https://www.bkgm.com/variants/Narde.html"
   ]
  },
  {
   "cell_type": "code",
   "execution_count": 6,
   "metadata": {},
   "outputs": [],
   "source": [
    "class Game:\n",
    "    class Step(Enum):\n",
    "        IDLE = \"idle\"\n",
    "        ROLL = \"roll\"\n",
    "        TURN = \"trun\"\n",
    "        FINISHED = \"finished\"\n",
    "\n",
    "    @staticmethod\n",
    "    def _init_seed(seed: int | bool | None) -> int:\n",
    "        if isinstance(seed, bool):\n",
    "            seed = random.randint(0, 2**32-1) if seed else None\n",
    "\n",
    "        if seed is not None:\n",
    "            random.seed(seed)\n",
    "            np.random.seed(seed)\n",
    "        \n",
    "        return seed\n",
    "\n",
    "    def __init__(self, seed: bool | int | None = None, verbose = False):\n",
    "        self.seed = self._init_seed(seed)\n",
    "        self.board = np.zeros(24, dtype=int)\n",
    "        self.board[0] = 15\n",
    "        self.board[12] = -15\n",
    "        self.dice = [0, 0]\n",
    "        self.home = [0, 0]\n",
    "        self.pturn = 0\n",
    "        self.t = 0\n",
    "        self.head_moves = 0\n",
    "        self.valid_moves = None\n",
    "        self.step : Game.Step = Game.Step.IDLE\n",
    "        self.loglevel = logging.INFO if verbose else logging.DEBUG\n",
    "        logger.log(self.loglevel, f\"new game started, seed={self.seed}\")\n",
    "\n",
    "    def _get_next_pos(self, pos: int, steps: int) -> int:\n",
    "        dst_pos = pos + steps\n",
    "        if dst_pos > 24:\n",
    "            dst_pos = dst_pos % 25 + 1\n",
    "        if dst_pos < 1:\n",
    "            dst_pos = 24 + dst_pos\n",
    "        return dst_pos\n",
    "    \n",
    "    def _get_head(self, player: Optional[int] = None) -> int:\n",
    "        player = player if player is not None else self.pturn\n",
    "        return 1 if player == 0 else 13\n",
    "    \n",
    "    def _get_user_sign(self, player: Optional[int] = None) -> int:\n",
    "        player = player if player is not None else self.pturn\n",
    "        return 1 if player == 0 else -1\n",
    "\n",
    "    def _can_move_home(self):\n",
    "        counter = self.home[self.pturn]\n",
    "        home = range(19, 25) if self.pturn == 0 else range(7, 13)\n",
    "        for pos in home:\n",
    "            if self._has_checkers(pos, player=self._cur_player):\n",
    "                counter += self._get_checkers(pos, player=self._cur_player)\n",
    "        return counter == 15\n",
    "\n",
    "    def _is_move_home(self, pos: int, steps: int) -> bool:\n",
    "        dst_pos = self._get_next_pos(pos, steps)\n",
    "        return (self.pturn == 0 and dst_pos < pos) or \\\n",
    "               (self.pturn == 1 and pos <= 12 and dst_pos > 12)\n",
    "    \n",
    "    @property\n",
    "    def _opponent(self) -> int:\n",
    "        return 1 if self.pturn == 0 else 0\n",
    "    \n",
    "    @property\n",
    "    def _cur_player(self) -> int:\n",
    "        return self.pturn\n",
    "    \n",
    "    def _has_checkers(self, pos: int, player: Optional[int] = None):\n",
    "        return self._get_checkers(pos, player) > 0\n",
    "    \n",
    "    def _get_checkers(self, pos: int, player: Optional[int] = None):\n",
    "        player = player if player is not None else self.pturn\n",
    "        return self._get_user_sign(player) * self.board[pos-1]\n",
    "    \n",
    "    def _find_prime(self, pos: int) -> Optional[Tuple[int, int]]:\n",
    "        seq = 1\n",
    "        result = [pos, pos]\n",
    "        next_ptr = self._get_next_pos(pos, 1)\n",
    "        while seq < 6 and self._has_checkers(next_ptr, player=self._cur_player):\n",
    "            seq += 1\n",
    "            result[1] = next_ptr\n",
    "            next_ptr = self._get_next_pos(next_ptr, 1)\n",
    "        prev_ptr = self._get_next_pos(pos, -1)\n",
    "        while seq < 6 and self._has_checkers(prev_ptr, player=self._cur_player):\n",
    "            seq += 1\n",
    "            result[0] = prev_ptr\n",
    "            prev_ptr = self._get_next_pos(prev_ptr, -1)\n",
    "        return tuple(result) if seq == 6 else None\n",
    "    \n",
    "    def _is_blocking_prime(self, dst_pos: int) -> bool:\n",
    "        prime_range = self._find_prime(dst_pos)\n",
    "        if prime_range:\n",
    "            prime_end_pos = prime_range[1]\n",
    "            for step in range(1, 24):\n",
    "                search_pos = self._get_next_pos(prime_end_pos, step)\n",
    "                if self._get_head(self._opponent) == search_pos:\n",
    "                    return True # we reached other player's home without finding it's checkers\n",
    "                if self._has_checkers(pos=search_pos, player=self._opponent):\n",
    "                    break\n",
    "        return False\n",
    "    \n",
    "    def _check_move(self, pos: int, steps: int):\n",
    "        dst_pos = self._get_next_pos(pos, steps)\n",
    "        if self.step != Game.Step.TURN:\n",
    "            raise RuntimeError(\"invalid action\")\n",
    "        if not (1 <= pos <= 24):\n",
    "            raise RuntimeError(\"invalid position\")\n",
    "        if not self._has_checkers(pos, player=self._cur_player):\n",
    "            raise RuntimeError(f\"no checkers at position {pos}\")\n",
    "        if self._has_checkers(dst_pos, player=self._opponent):\n",
    "            raise RuntimeError(f\"can't move to position {dst_pos}\")\n",
    "        if steps not in self.dice:\n",
    "            raise RuntimeError(f\"no dice with value {steps}\")\n",
    "        if self._is_move_home(pos, steps):\n",
    "            if not self._can_move_home():\n",
    "                raise RuntimeError(f\"not all checkers are at finishing table\")\n",
    "        if self._get_head() == pos and self.head_moves > 0:\n",
    "            if not (self.head_moves == 1 and self.dice[0] == self.dice[1] and self.t < 2):\n",
    "                raise RuntimeError(f\"can't make any more head moves\")\n",
    "        if self._is_blocking_prime(dst_pos):\n",
    "            raise RuntimeError(f\"can't form a blocking prime\")\n",
    "        # TODO: If player can play one number but not both, they must play the higher one\n",
    "\n",
    "    def _render_player(self, player: Optional[int] = None, lower: bool = True) -> str:\n",
    "        player = player if player is not None else self.pturn\n",
    "        result = \"O\" if player == 0 else \"X\"\n",
    "        return result.lower() if lower else result\n",
    "\n",
    "    def _is_valid_move(self, pos: int, steps: int) -> bool:\n",
    "        try:\n",
    "            self._check_move(pos, steps)\n",
    "            return True\n",
    "        except RuntimeError as e:\n",
    "            return False\n",
    "    \n",
    "    def _enum_valid_moves(self) -> Iterator[Tuple[int, int]]:\n",
    "        for pos in range(1, 25):\n",
    "            if self._has_checkers(pos, player=self._cur_player):\n",
    "                for steps in range(1, 7):\n",
    "                    if self._is_valid_move(pos, steps):\n",
    "                        yield (pos, steps)\n",
    "\n",
    "    def get_valid_moves(self) -> List[Tuple[int, int]]:\n",
    "        if self.valid_moves is None:\n",
    "            self.valid_moves = list(self._enum_valid_moves())\n",
    "        return self.valid_moves\n",
    "    \n",
    "    def has_valid_moves(self):\n",
    "        return len(self.get_valid_moves()) > 0\n",
    "\n",
    "    def start(self, d1: int = 0, d2: int = 0) -> \"Game\":\n",
    "        if self.step != Game.Step.IDLE:\n",
    "            raise RuntimeError(\"invalid action\")\n",
    "\n",
    "        self.dice = [d1 or random.randint(1, 6), d2 or random.randint(1, 6)]\n",
    "        while self.dice[0] == self.dice[1]:\n",
    "            self.dice = [random.randint(1, 6), random.randint(1, 6)]\n",
    "\n",
    "        self.step = Game.Step.ROLL\n",
    "        if self.dice[0] > self.dice[1]:\n",
    "            self.pturn = 0\n",
    "        else: # self.dice[0] < self.dice[1]:\n",
    "            self.pturn = 1\n",
    "        return self\n",
    "\n",
    "    def roll(self, d1: int = 0, d2: int = 0) -> \"Game\":\n",
    "        if self.step != Game.Step.ROLL:\n",
    "            raise RuntimeError(\"invalid action\")\n",
    "        self.dice = [d1 or random.randint(1, 6), d2 or random.randint(1, 6)]\n",
    "        logger.log(self.loglevel, f\"t={self.t}, p={self._render_player()} rolls {self.dice}\")\n",
    "        if self.dice[0] == self.dice[1]:\n",
    "            self.dice += self.dice\n",
    "        self.step = Game.Step.TURN\n",
    "        return self\n",
    "\n",
    "    def turn(self, pos: int, steps: int) -> \"Game\":\n",
    "        dst_pos = self._get_next_pos(pos, steps)\n",
    "        self._check_move(pos, steps)\n",
    "        if self._is_move_home(pos, steps):\n",
    "            logger.log(self.loglevel, f\"t={self.t}, p={self._render_player()} moves: {pos}->HOME\")\n",
    "            self.board[pos-1] -= self._get_user_sign()\n",
    "            self.home[self.pturn] += 1\n",
    "        else:\n",
    "            logger.log(self.loglevel, f\"t={self.t}, p={self._render_player()} moves: {pos}-({steps})->{dst_pos}\")\n",
    "            self.board[pos-1] -= self._get_user_sign()\n",
    "            self.board[dst_pos-1] += self._get_user_sign()\n",
    "\n",
    "        if self._get_head() == pos:\n",
    "            self.head_moves += 1\n",
    "\n",
    "        if len(self.dice) > 2:\n",
    "            self.dice.pop(self.dice.index(steps, -1))\n",
    "        else:\n",
    "            self.dice[self.dice.index(steps)] = 0\n",
    "\n",
    "        if self.home[self.pturn] == 15:\n",
    "            logger.log(self.loglevel, f\"t={self.t}, game finished, p={self._render_player()} wins\")\n",
    "            self.step = Game.Step.FINISHED\n",
    "        elif self.dice[0] == 0 and self.dice[1] == 0:\n",
    "            self.step = Game.Step.ROLL\n",
    "            self.pturn = self._opponent\n",
    "            self.t += 1\n",
    "            self.head_moves = 0\n",
    "\n",
    "        self.valid_moves = None\n",
    "        return self\n",
    "    \n",
    "    def is_finished(self):\n",
    "        return self.step == Game.Step.FINISHED\n",
    "    \n",
    "    def skip(self) -> \"Game\":\n",
    "        if self.step != Game.Step.TURN:\n",
    "            raise RuntimeError(\"invalid action\")\n",
    "        \n",
    "        if self.has_valid_moves():\n",
    "            raise RuntimeError(\"skip only possible when there's no moves\")\n",
    "        else:\n",
    "            logger.log(self.loglevel, f\"t={self.t}, p={self._render_player()} has no eligible moves, skipping\")\n",
    "            self.dice = [0, 0]\n",
    "            self.step = Game.Step.ROLL\n",
    "            self.pturn = (self.pturn + 1) % 2\n",
    "            self.t += 1\n",
    "            self.head_moves = 0\n",
    "            \n",
    "        self.valid_moves = None\n",
    "        return self\n",
    "\n",
    "    def __repr__(self):\n",
    "        template = \"\"\"\n",
    "        |{oha}| 24 | 23 | 22 | 21 | 20 | 19 |{xst}| 18 | 17 | 16 | 15 | 14 | 13 |{xho}|\n",
    "        |{ohb}|-----------------------------|     |-----------------------------|{xhn}|\n",
    "        |{ohc}|{x1}|{w1}|{v1}|{u1}|{t1}|{s1}|     |{r1}|{q1}|{p1}|{o1}|{n1}|{m1}|{xhm}|\n",
    "        |{ohd}|{x2}|{w2}|{v2}|{u2}|{t2}|{s2}|     |{r2}|{q2}|{p2}|{o2}|{n2}|{m2}|{xhl}|\n",
    "        |{ohe}|{x3}|{w3}|{v3}|{u3}|{t3}|{s3}|     |{r3}|{q3}|{p3}|{o3}|{n3}|{m3}|{xhk}|\n",
    "        |{ohf}|{x4}|{w4}|{v4}|{u4}|{t4}|{s4}|     |{r4}|{q4}|{p4}|{o4}|{n4}|{m4}|{xhj}|\n",
    "        |{ohg}|{x5}|{w5}|{v5}|{u5}|{t5}|{s5}|     |{r5}|{q5}|{p5}|{o5}|{n5}|{m5}|{xhi}|\n",
    "        |{ohh}|-----------------------------|{dcs}|-----------------------------|{xhh}|\n",
    "        |{ohi}|{a5}|{b5}|{c5}|{d5}|{e5}|{f5}|     |{g5}|{h5}|{i5}|{j5}|{k5}|{l5}|{xhg}|\n",
    "        |{ohj}|{a4}|{b4}|{c4}|{d4}|{e4}|{f4}|     |{g4}|{h4}|{i4}|{j4}|{k4}|{l4}|{xhf}|\n",
    "        |{ohk}|{a3}|{b3}|{c3}|{d3}|{e3}|{f3}|     |{g3}|{h3}|{i3}|{j3}|{k3}|{l3}|{xhe}|\n",
    "        |{ohl}|{a2}|{b2}|{c2}|{d2}|{e2}|{f2}|     |{g2}|{h2}|{i2}|{j2}|{k2}|{l2}|{xhd}|\n",
    "        |{ohm}|{a1}|{b1}|{c1}|{d1}|{e1}|{f1}|     |{g1}|{h1}|{i1}|{j1}|{k1}|{l1}|{xhc}|\n",
    "        |{ohn}|-----------------------------|     |-----------------------------|{xhb}|\n",
    "        |{oho}| 01 | 02 | 03 | 04 | 05 | 06 |{ost}| 07 | 08 | 09 | 10 | 11 | 12 |{xha}|\n",
    "        \"\"\"\n",
    "\n",
    "        pixels = {}\n",
    "        for pos in range(1,25):\n",
    "            x = chr(ord(\"a\") + pos - 1)\n",
    "            checkers = abs(int(self.board[pos-1]))\n",
    "            pixel = self._render_player(player = 0 if self.board[pos-1] > 0 else 1)\n",
    "            for y in range(1, 6):\n",
    "                if checkers > 0:\n",
    "                    if y < 5 or checkers == 1:\n",
    "                        pixels[f\"{x}{y}\"] = (f\"  {pixel} \")\n",
    "                    else: # y == 5 and checkers > 1:\n",
    "                        pixels[f\"{x}{y}\"] = f\"({checkers}\".rjust(3) + \")\"\n",
    "                    checkers -= 1\n",
    "                else:\n",
    "                    pixels[f\"{x}{y}\"] = \"    \"\n",
    "        pixels[\"dcs\"] = f\" {self.dice[0] or ' '}:{self.dice[1] or ' '} \"\n",
    "\n",
    "        for player in [0, 1]:\n",
    "            pixel = self._render_player(player=player)\n",
    "            for idx in range(15):\n",
    "                h = pixel + \"h\" + chr(ord(\"a\") + idx)\n",
    "                pixels[h] = f\"  {pixel}  \" if self.home[player] > idx else \"     \"\n",
    "\n",
    "        pixels[\"ost\"] = \"     \"\n",
    "        pixels[\"xst\"] = \"     \"\n",
    "        if self.step == Game.Step.ROLL:\n",
    "            pixels[\"ost\" if self.pturn == 0 else \"xst\"] = \" ROL \"\n",
    "        elif self.step == Game.Step.TURN:\n",
    "            pixels[\"ost\" if self.pturn == 0 else \"xst\"] = f\" ({len([d for d in self.dice if d])}) \"\n",
    "        elif self.step == Game.Step.FINISHED:\n",
    "            pixels[\"ost\" if self.pturn == 0 else \"xst\"] = \" WIN \"\n",
    "\n",
    "        return template.format(**pixels)"
   ]
  },
  {
   "cell_type": "code",
   "execution_count": 7,
   "metadata": {},
   "outputs": [],
   "source": [
    "# def validate(game: Game):\n",
    "#     p1, p2 = 0, 0\n",
    "#     for i in range(len(game.board)):\n",
    "#         if game.board[i] > 0:\n",
    "#             p1 += game.board[i]\n",
    "#         if game.board[i] < 0:\n",
    "#             p2 -= game.board[i]\n",
    "#     p1 += game.home[0]\n",
    "#     p2 += game.home[1]\n",
    "#     assert (p1, p2) == (15, 15), \"invalid # of checkers at the board\""
   ]
  },
  {
   "cell_type": "code",
   "execution_count": 8,
   "metadata": {},
   "outputs": [],
   "source": [
    "# def random_move(game: Game):\n",
    "#     if not game.is_finished():\n",
    "#         moves = game.get_valid_moves()\n",
    "#         if len(moves) > 0:\n",
    "#             pos, steps = random.choice(moves)\n",
    "#             game.turn(pos, steps)\n",
    "#             return True\n",
    "#         else:\n",
    "#             game.skip()\n",
    "#     return False\n",
    "\n",
    "# def auto_turn(game: Game):\n",
    "#     game.roll()\n",
    "#     for _ in range(len(game.dice)):\n",
    "#         if not random_move(game):\n",
    "#             break\n",
    "#     return game\n",
    "\n",
    "# def auto_rollout(game, turns: int = 100):\n",
    "#     for turn in range(turns):\n",
    "#         auto_turn(game)\n",
    "#         validate(game)\n",
    "#         if game.is_finished():\n",
    "#             break\n",
    "#     return game"
   ]
  },
  {
   "cell_type": "code",
   "execution_count": 9,
   "metadata": {},
   "outputs": [],
   "source": [
    "# g = Game(seed=42, verbose=True)\n",
    "# auto_rollout(g.start(), 100)"
   ]
  },
  {
   "cell_type": "markdown",
   "metadata": {},
   "source": [
    "## Test cases:"
   ]
  },
  {
   "cell_type": "code",
   "execution_count": 10,
   "metadata": {},
   "outputs": [],
   "source": [
    "import unittest"
   ]
  },
  {
   "cell_type": "code",
   "execution_count": 11,
   "metadata": {},
   "outputs": [
    {
     "name": "stderr",
     "output_type": "stream",
     "text": [
      "test_blocking_primes (__main__.GameTests) ... ok\n",
      "test_heads (__main__.GameTests) ... ok\n",
      "test_nonblocking_primes (__main__.GameTests) ... ok\n",
      "test_skips (__main__.GameTests) ... ok\n",
      "\n",
      "----------------------------------------------------------------------\n",
      "Ran 4 tests in 0.003s\n",
      "\n",
      "OK\n"
     ]
    },
    {
     "data": {
      "text/plain": [
       "<unittest.main.TestProgram at 0x16a41dba0>"
      ]
     },
     "execution_count": 11,
     "metadata": {},
     "output_type": "execute_result"
    }
   ],
   "source": [
    "class GameTests(unittest.TestCase):\n",
    "\n",
    "    def test_heads(self):\n",
    "        g = Game(seed=42).start()\n",
    "        g.roll(3,3).turn(1,3).turn(1,3) # < can make 2 moves from head on doubles\n",
    "        with self.assertRaises(RuntimeError):\n",
    "            g.turn(1,3)\n",
    "        g.turn(4,3).turn(4,3)\n",
    "        g.roll(1,2).turn(13,1).turn(14,2) # p2\n",
    "        g.roll(2,2).turn(1,2)\n",
    "        with self.assertRaises(RuntimeError):\n",
    "            g.turn(1, 2)\n",
    "        g.turn(3,2)\n",
    "        with self.assertRaises(RuntimeError):\n",
    "            g.turn(1, 2)\n",
    "        g.turn(5,2)\n",
    "\n",
    "    def test_skips(self):\n",
    "        g = Game(seed=42).start()\n",
    "        g.roll(6,1).turn(1, 6).turn(7, 1)\n",
    "        g.roll(3,2).turn(13, 3).turn(16, 2)\n",
    "        g.roll(2,2).turn(1, 2).turn(3, 2).turn(5, 2).turn(8, 2)\n",
    "        g.roll(6,1).turn(13,6).turn(18,1)\n",
    "        g.roll(6,6).turn(10, 6).turn(16,6).turn(1, 6) # < there's no moves for red here\n",
    "        with self.assertRaises(RuntimeError):\n",
    "            g.turn(1, 6)\n",
    "        g.skip()\n",
    "\n",
    "    def test_blocking_primes(self):\n",
    "        g = Game(seed=42).start()\n",
    "        g.roll(1,1).turn(1,1).turn(1,1).turn(2,1).turn(3,1)\n",
    "        g.roll(6,5).turn(13,6).turn(19,5)\n",
    "        g.roll(2,3).turn(1,2).turn(3,3)\n",
    "        g.roll(4,2).turn(13,4).turn(17,2)\n",
    "        g.roll(3,1).turn(1,1).turn(2,3)\n",
    "        g.roll(3,6).turn(13,3).turn(16,6)\n",
    "        g.roll(1,2)\n",
    "        with self.assertRaises(RuntimeError):\n",
    "            g.turn(1,2)\n",
    "\n",
    "    def test_nonblocking_primes(self):\n",
    "        g = Game(seed=42).start()\n",
    "        g.roll(1,1).turn(1,1).turn(1,1).turn(2,1).turn(3,1)\n",
    "        g.roll(6,5).turn(13,6).turn(19,5)\n",
    "        g.roll(2,3).turn(1,2).turn(3,3)\n",
    "        g.roll(4,2).turn(13,4).turn(17,2)\n",
    "        g.roll(3,1).turn(1,1).turn(2,3)\n",
    "        g.roll(3,6).turn(24,3).turn(3,6)\n",
    "        g.roll(1,2).turn(1,2) # < valid move, since x is ahead\n",
    "\n",
    "unittest.main(argv=[''], verbosity=2, exit=False)"
   ]
  },
  {
   "cell_type": "markdown",
   "metadata": {},
   "source": [
    "## Player interface & automation"
   ]
  },
  {
   "cell_type": "code",
   "execution_count": 12,
   "metadata": {},
   "outputs": [],
   "source": [
    "class BasePlayer:\n",
    "    def play_turn(self, game: Game) -> bool:\n",
    "        pass\n",
    "\n",
    "class RandomPlayer(BasePlayer):\n",
    "    def play_turn(self, game: Game) -> bool:\n",
    "        actions = game.get_valid_moves()\n",
    "        if len(actions) > 0:\n",
    "            pos, steps = random.choice(actions)\n",
    "            game.turn(pos, steps)\n",
    "            return True\n",
    "        else:\n",
    "            game.skip()\n",
    "            return False\n",
    "\n",
    "class LazyPlayer(BasePlayer):\n",
    "    def play_turn(self, game: Game) -> bool:\n",
    "        actions = game.get_valid_moves()\n",
    "        if actions:\n",
    "            pos, steps = actions[0]\n",
    "            game.turn(pos, steps)\n",
    "            return True\n",
    "        else:\n",
    "            game.skip()\n",
    "            return False"
   ]
  },
  {
   "cell_type": "code",
   "execution_count": 13,
   "metadata": {},
   "outputs": [],
   "source": [
    "class AutoGame(Game):\n",
    "    def __init__(self, player1: BasePlayer | None = None, player2: BasePlayer | None = None, start: bool = True, *args, **kwargs):\n",
    "        super().__init__(*args, **kwargs)\n",
    "        self.auto_player1 = player1\n",
    "        self.auto_player2 = player2\n",
    "        if start:\n",
    "            self.start()\n",
    "\n",
    "    def _automate(self) -> \"AutoGame\":\n",
    "        while not self.is_finished():\n",
    "            if self.step == Game.Step.ROLL:\n",
    "                self.roll()\n",
    "            if self.step == Game.Step.TURN:\n",
    "                if not self.has_valid_moves():\n",
    "                    self.skip()\n",
    "                else:\n",
    "                    player = self.auto_player1 if (self.pturn == 0) else self.auto_player2\n",
    "                    if player:\n",
    "                        player.play_turn(self)\n",
    "                    else:\n",
    "                        break\n",
    "        return self\n",
    "   \n",
    "    def start(self, *args, **kwargs) -> \"AutoGame\":\n",
    "        super().start(*args, **kwargs)\n",
    "        return self._automate()\n",
    "\n",
    "    def turn(self, *args, **kwargs) -> \"AutoGame\":\n",
    "        super().turn(*args, **kwargs)\n",
    "        return self._automate()\n",
    "\n",
    "    def play_sequence(self, turns: List[Tuple[int, int]]) -> \"AutoGame\":\n",
    "        for (pos, steps) in turns:\n",
    "            self.turn(pos, steps)\n",
    "        return self"
   ]
  },
  {
   "cell_type": "code",
   "execution_count": 14,
   "metadata": {},
   "outputs": [
    {
     "name": "stderr",
     "output_type": "stream",
     "text": [
      "test_autoplayer (__main__.AutoGameTests) ... ok\n",
      "test_basic (__main__.AutoGameTests) ... ok\n",
      "test_blocking_primes (__main__.GameTests) ... ok\n",
      "test_heads (__main__.GameTests) ... ok\n",
      "test_nonblocking_primes (__main__.GameTests) ... ok\n",
      "test_skips (__main__.GameTests) ... ok\n",
      "\n",
      "----------------------------------------------------------------------\n",
      "Ran 6 tests in 0.018s\n",
      "\n",
      "OK\n"
     ]
    },
    {
     "data": {
      "text/plain": [
       "<unittest.main.TestProgram at 0x106b68460>"
      ]
     },
     "execution_count": 14,
     "metadata": {},
     "output_type": "execute_result"
    }
   ],
   "source": [
    "class AutoGameTests(unittest.TestCase):\n",
    "\n",
    "    def test_basic(self):\n",
    "        AutoGame(seed=324).play_sequence([(1, 6), (1, 6), (13, 1), (14, 4),(7,5),(1,4),(13,1),(18,3)])\n",
    "        with self.assertRaises(RuntimeError):\n",
    "            AutoGame(seed=324).play_sequence([(1, 6), (1, 6), (13, 1), (14, 4),(7,5),(1,4),(13,1),(18,3),(4, 1)])\n",
    "\n",
    "    def test_autoplayer(self):\n",
    "        AutoGame(seed=324, player2=LazyPlayer()).play_sequence([(1,6), (1,6), (7,5), (1,4)])\n",
    "        AutoGame(seed=324, player1=LazyPlayer()).play_sequence([(13,4), (17,1)])\n",
    "        self.assertEqual(AutoGame(seed=324, player1=LazyPlayer(), player2=LazyPlayer()).is_finished(), True)\n",
    "        self.assertEqual(AutoGame(seed=324, start=False, player1=LazyPlayer(), player2=LazyPlayer()).is_finished(), False)\n",
    "\n",
    "unittest.main(argv=[''], verbosity=2, exit=False)"
   ]
  },
  {
   "cell_type": "code",
   "execution_count": 15,
   "metadata": {},
   "outputs": [],
   "source": [
    "@dataclass\n",
    "class Result:\n",
    "    winner: int\n",
    "    turns: int\n",
    "    reward: int\n",
    "\n",
    "def summarize(game: Game) -> Result:\n",
    "    assert game.is_finished()\n",
    "    reward =  (2 if game.home[game._opponent] == 0 else 1)\n",
    "    reward *= (1 if game.pturn == 0 else -1)\n",
    "    result = Result(\n",
    "        winner = int(game.pturn == 0),\n",
    "        turns = game.t,\n",
    "        reward = reward\n",
    "    )\n",
    "    return result\n",
    "\n",
    "def simulate(game: Game, player1: BasePlayer, player2: BasePlayer | None = None) -> Result:\n",
    "    while not game.is_finished():\n",
    "        player = player1 if (game.pturn == 0) else player2\n",
    "        if player:\n",
    "            player.play_turn(game)\n",
    "    return summarize(game)"
   ]
  },
  {
   "cell_type": "code",
   "execution_count": 16,
   "metadata": {},
   "outputs": [],
   "source": [
    "# summarize(AutoGame(player1=LazyPlayer(), player2=LazyPlayer()))"
   ]
  },
  {
   "cell_type": "code",
   "execution_count": 17,
   "metadata": {},
   "outputs": [],
   "source": [
    "# simulate(AutoGame(player2=LazyPlayer()), player1=LazyPlayer())"
   ]
  },
  {
   "cell_type": "code",
   "execution_count": 18,
   "metadata": {},
   "outputs": [],
   "source": [
    "# simulate(AutoGame(), player1=LazyPlayer(), player2=LazyPlayer())"
   ]
  },
  {
   "cell_type": "code",
   "execution_count": 19,
   "metadata": {},
   "outputs": [
    {
     "data": {
      "application/vnd.jupyter.widget-view+json": {
       "model_id": "6d90d04a53a04348a9bc5f7f9164b383",
       "version_major": 2,
       "version_minor": 0
      },
      "text/plain": [
       "  0%|          | 0/12 [00:00<?, ?it/s]"
      ]
     },
     "metadata": {},
     "output_type": "display_data"
    },
    {
     "data": {
      "application/vnd.jupyter.widget-view+json": {
       "model_id": "43a177b5c1634a0fb7af3e99a4af1a16",
       "version_major": 2,
       "version_minor": 0
      },
      "text/plain": [
       "  0%|          | 0/100 [00:00<?, ?it/s, p1=lazy, p2=lazy, start=random]"
      ]
     },
     "metadata": {},
     "output_type": "display_data"
    },
    {
     "data": {
      "application/vnd.jupyter.widget-view+json": {
       "model_id": "91bf466a27784d28828386eb699809dd",
       "version_major": 2,
       "version_minor": 0
      },
      "text/plain": [
       "  0%|          | 0/100 [00:00<?, ?it/s, p1=lazy, p2=lazy, start=first]"
      ]
     },
     "metadata": {},
     "output_type": "display_data"
    },
    {
     "data": {
      "application/vnd.jupyter.widget-view+json": {
       "model_id": "206d184e11254f169bff6510f920892e",
       "version_major": 2,
       "version_minor": 0
      },
      "text/plain": [
       "  0%|          | 0/100 [00:00<?, ?it/s, p1=lazy, p2=lazy, start=second]"
      ]
     },
     "metadata": {},
     "output_type": "display_data"
    },
    {
     "data": {
      "application/vnd.jupyter.widget-view+json": {
       "model_id": "f9686af585514215ae3a5999bcfd0e0f",
       "version_major": 2,
       "version_minor": 0
      },
      "text/plain": [
       "  0%|          | 0/100 [00:00<?, ?it/s, p1=lazy, p2=rand, start=random]"
      ]
     },
     "metadata": {},
     "output_type": "display_data"
    },
    {
     "data": {
      "application/vnd.jupyter.widget-view+json": {
       "model_id": "6b764fa66cfa498abc015952ac05b799",
       "version_major": 2,
       "version_minor": 0
      },
      "text/plain": [
       "  0%|          | 0/100 [00:00<?, ?it/s, p1=lazy, p2=rand, start=first]"
      ]
     },
     "metadata": {},
     "output_type": "display_data"
    },
    {
     "data": {
      "application/vnd.jupyter.widget-view+json": {
       "model_id": "a7e10da2afed46c5b269c2f0c6947414",
       "version_major": 2,
       "version_minor": 0
      },
      "text/plain": [
       "  0%|          | 0/100 [00:00<?, ?it/s, p1=lazy, p2=rand, start=second]"
      ]
     },
     "metadata": {},
     "output_type": "display_data"
    },
    {
     "data": {
      "application/vnd.jupyter.widget-view+json": {
       "model_id": "61ded101283a4d5dab8f6336a725f3cf",
       "version_major": 2,
       "version_minor": 0
      },
      "text/plain": [
       "  0%|          | 0/100 [00:00<?, ?it/s, p1=rand, p2=lazy, start=random]"
      ]
     },
     "metadata": {},
     "output_type": "display_data"
    },
    {
     "data": {
      "application/vnd.jupyter.widget-view+json": {
       "model_id": "cf60943da4b948db852d7c1731a5ffad",
       "version_major": 2,
       "version_minor": 0
      },
      "text/plain": [
       "  0%|          | 0/100 [00:00<?, ?it/s, p1=rand, p2=lazy, start=first]"
      ]
     },
     "metadata": {},
     "output_type": "display_data"
    },
    {
     "data": {
      "application/vnd.jupyter.widget-view+json": {
       "model_id": "8e2fa26b6b7d41a3a3bc3afeeb341f7c",
       "version_major": 2,
       "version_minor": 0
      },
      "text/plain": [
       "  0%|          | 0/100 [00:00<?, ?it/s, p1=rand, p2=lazy, start=second]"
      ]
     },
     "metadata": {},
     "output_type": "display_data"
    },
    {
     "data": {
      "application/vnd.jupyter.widget-view+json": {
       "model_id": "29b1f59af0524dccb4308d0e8b73cd01",
       "version_major": 2,
       "version_minor": 0
      },
      "text/plain": [
       "  0%|          | 0/100 [00:00<?, ?it/s, p1=rand, p2=rand, start=random]"
      ]
     },
     "metadata": {},
     "output_type": "display_data"
    },
    {
     "data": {
      "application/vnd.jupyter.widget-view+json": {
       "model_id": "8da2fde677c949c680cf5d2875ff4a22",
       "version_major": 2,
       "version_minor": 0
      },
      "text/plain": [
       "  0%|          | 0/100 [00:00<?, ?it/s, p1=rand, p2=rand, start=first]"
      ]
     },
     "metadata": {},
     "output_type": "display_data"
    },
    {
     "data": {
      "application/vnd.jupyter.widget-view+json": {
       "model_id": "537f55b6d7f14c208f905c49ffaf0ab1",
       "version_major": 2,
       "version_minor": 0
      },
      "text/plain": [
       "  0%|          | 0/100 [00:00<?, ?it/s, p1=rand, p2=rand, start=second]"
      ]
     },
     "metadata": {},
     "output_type": "display_data"
    },
    {
     "data": {
      "text/html": [
       "<div>\n",
       "<style scoped>\n",
       "    .dataframe tbody tr th:only-of-type {\n",
       "        vertical-align: middle;\n",
       "    }\n",
       "\n",
       "    .dataframe tbody tr th {\n",
       "        vertical-align: top;\n",
       "    }\n",
       "\n",
       "    .dataframe thead th {\n",
       "        text-align: right;\n",
       "    }\n",
       "</style>\n",
       "<table border=\"1\" class=\"dataframe\">\n",
       "  <thead>\n",
       "    <tr style=\"text-align: right;\">\n",
       "      <th></th>\n",
       "      <th>p1</th>\n",
       "      <th>p2</th>\n",
       "      <th>start</th>\n",
       "      <th>games</th>\n",
       "      <th>wins</th>\n",
       "      <th>win_rate_lo</th>\n",
       "      <th>win_rate_mu</th>\n",
       "      <th>win_rate_hi</th>\n",
       "      <th>avg_turns</th>\n",
       "      <th>avg_reward</th>\n",
       "    </tr>\n",
       "  </thead>\n",
       "  <tbody>\n",
       "    <tr>\n",
       "      <th>0</th>\n",
       "      <td>lazy</td>\n",
       "      <td>lazy</td>\n",
       "      <td>random</td>\n",
       "      <td>100</td>\n",
       "      <td>40</td>\n",
       "      <td>0.2530</td>\n",
       "      <td>0.40</td>\n",
       "      <td>0.5470</td>\n",
       "      <td>90.85</td>\n",
       "      <td>-0.14</td>\n",
       "    </tr>\n",
       "    <tr>\n",
       "      <th>1</th>\n",
       "      <td>lazy</td>\n",
       "      <td>lazy</td>\n",
       "      <td>first</td>\n",
       "      <td>100</td>\n",
       "      <td>48</td>\n",
       "      <td>0.3300</td>\n",
       "      <td>0.48</td>\n",
       "      <td>0.6300</td>\n",
       "      <td>92.42</td>\n",
       "      <td>0.09</td>\n",
       "    </tr>\n",
       "    <tr>\n",
       "      <th>2</th>\n",
       "      <td>lazy</td>\n",
       "      <td>lazy</td>\n",
       "      <td>second</td>\n",
       "      <td>100</td>\n",
       "      <td>43</td>\n",
       "      <td>0.2815</td>\n",
       "      <td>0.43</td>\n",
       "      <td>0.5785</td>\n",
       "      <td>91.19</td>\n",
       "      <td>-0.08</td>\n",
       "    </tr>\n",
       "    <tr>\n",
       "      <th>3</th>\n",
       "      <td>lazy</td>\n",
       "      <td>rand</td>\n",
       "      <td>random</td>\n",
       "      <td>100</td>\n",
       "      <td>75</td>\n",
       "      <td>0.6201</td>\n",
       "      <td>0.75</td>\n",
       "      <td>0.8799</td>\n",
       "      <td>92.77</td>\n",
       "      <td>0.73</td>\n",
       "    </tr>\n",
       "    <tr>\n",
       "      <th>4</th>\n",
       "      <td>lazy</td>\n",
       "      <td>rand</td>\n",
       "      <td>first</td>\n",
       "      <td>100</td>\n",
       "      <td>89</td>\n",
       "      <td>0.7961</td>\n",
       "      <td>0.89</td>\n",
       "      <td>0.9839</td>\n",
       "      <td>92.75</td>\n",
       "      <td>1.14</td>\n",
       "    </tr>\n",
       "    <tr>\n",
       "      <th>5</th>\n",
       "      <td>lazy</td>\n",
       "      <td>rand</td>\n",
       "      <td>second</td>\n",
       "      <td>100</td>\n",
       "      <td>76</td>\n",
       "      <td>0.6319</td>\n",
       "      <td>0.76</td>\n",
       "      <td>0.8881</td>\n",
       "      <td>93.42</td>\n",
       "      <td>0.78</td>\n",
       "    </tr>\n",
       "    <tr>\n",
       "      <th>6</th>\n",
       "      <td>rand</td>\n",
       "      <td>lazy</td>\n",
       "      <td>random</td>\n",
       "      <td>100</td>\n",
       "      <td>56</td>\n",
       "      <td>0.4112</td>\n",
       "      <td>0.56</td>\n",
       "      <td>0.7088</td>\n",
       "      <td>94.37</td>\n",
       "      <td>0.12</td>\n",
       "    </tr>\n",
       "    <tr>\n",
       "      <th>7</th>\n",
       "      <td>rand</td>\n",
       "      <td>lazy</td>\n",
       "      <td>first</td>\n",
       "      <td>100</td>\n",
       "      <td>46</td>\n",
       "      <td>0.3106</td>\n",
       "      <td>0.46</td>\n",
       "      <td>0.6094</td>\n",
       "      <td>93.48</td>\n",
       "      <td>-0.06</td>\n",
       "    </tr>\n",
       "    <tr>\n",
       "      <th>8</th>\n",
       "      <td>rand</td>\n",
       "      <td>lazy</td>\n",
       "      <td>second</td>\n",
       "      <td>100</td>\n",
       "      <td>51</td>\n",
       "      <td>0.3600</td>\n",
       "      <td>0.51</td>\n",
       "      <td>0.6600</td>\n",
       "      <td>93.15</td>\n",
       "      <td>0.02</td>\n",
       "    </tr>\n",
       "    <tr>\n",
       "      <th>9</th>\n",
       "      <td>rand</td>\n",
       "      <td>rand</td>\n",
       "      <td>random</td>\n",
       "      <td>100</td>\n",
       "      <td>48</td>\n",
       "      <td>0.3300</td>\n",
       "      <td>0.48</td>\n",
       "      <td>0.6300</td>\n",
       "      <td>96.39</td>\n",
       "      <td>-0.07</td>\n",
       "    </tr>\n",
       "    <tr>\n",
       "      <th>10</th>\n",
       "      <td>rand</td>\n",
       "      <td>rand</td>\n",
       "      <td>first</td>\n",
       "      <td>100</td>\n",
       "      <td>57</td>\n",
       "      <td>0.4215</td>\n",
       "      <td>0.57</td>\n",
       "      <td>0.7185</td>\n",
       "      <td>95.95</td>\n",
       "      <td>0.18</td>\n",
       "    </tr>\n",
       "    <tr>\n",
       "      <th>11</th>\n",
       "      <td>rand</td>\n",
       "      <td>rand</td>\n",
       "      <td>second</td>\n",
       "      <td>100</td>\n",
       "      <td>50</td>\n",
       "      <td>0.3500</td>\n",
       "      <td>0.50</td>\n",
       "      <td>0.6500</td>\n",
       "      <td>95.98</td>\n",
       "      <td>-0.02</td>\n",
       "    </tr>\n",
       "  </tbody>\n",
       "</table>\n",
       "</div>"
      ],
      "text/plain": [
       "      p1    p2   start  games  wins  win_rate_lo  win_rate_mu  win_rate_hi  \\\n",
       "0   lazy  lazy  random    100    40       0.2530         0.40       0.5470   \n",
       "1   lazy  lazy   first    100    48       0.3300         0.48       0.6300   \n",
       "2   lazy  lazy  second    100    43       0.2815         0.43       0.5785   \n",
       "3   lazy  rand  random    100    75       0.6201         0.75       0.8799   \n",
       "4   lazy  rand   first    100    89       0.7961         0.89       0.9839   \n",
       "5   lazy  rand  second    100    76       0.6319         0.76       0.8881   \n",
       "6   rand  lazy  random    100    56       0.4112         0.56       0.7088   \n",
       "7   rand  lazy   first    100    46       0.3106         0.46       0.6094   \n",
       "8   rand  lazy  second    100    51       0.3600         0.51       0.6600   \n",
       "9   rand  rand  random    100    48       0.3300         0.48       0.6300   \n",
       "10  rand  rand   first    100    57       0.4215         0.57       0.7185   \n",
       "11  rand  rand  second    100    50       0.3500         0.50       0.6500   \n",
       "\n",
       "    avg_turns  avg_reward  \n",
       "0       90.85       -0.14  \n",
       "1       92.42        0.09  \n",
       "2       91.19       -0.08  \n",
       "3       92.77        0.73  \n",
       "4       92.75        1.14  \n",
       "5       93.42        0.78  \n",
       "6       94.37        0.12  \n",
       "7       93.48       -0.06  \n",
       "8       93.15        0.02  \n",
       "9       96.39       -0.07  \n",
       "10      95.95        0.18  \n",
       "11      95.98       -0.02  "
      ]
     },
     "execution_count": 19,
     "metadata": {},
     "output_type": "execute_result"
    }
   ],
   "source": [
    "import math\n",
    "\n",
    "games = 100\n",
    "\n",
    "results = []\n",
    "for p1, p2, start in tqdm.tqdm(list(itertools.product([\"lazy\", \"rand\"], [\"lazy\", \"rand\"], [\"random\", \"first\", \"second\"])), leave=False):\n",
    "    exp_info = {\"p1\": p1, \"p2\": p2, \"start\": start}\n",
    "    player1 = LazyPlayer() if p1 == \"lazy\" else RandomPlayer()\n",
    "    player2 = LazyPlayer() if p2 == \"lazy\" else RandomPlayer()\n",
    "    start_args = [6,6] if start == \"random\" else ([6,1] if start == \"first\" else [1,6])\n",
    "    sims = pd.DataFrame([summarize(AutoGame(player1, player2, False).start(*start_args)).__dict__ for _ in tqdm.trange(games, postfix=exp_info, leave=False)])\n",
    "    exp_info[\"games\"] = games\n",
    "    exp_info[\"wins\"] = sims[\"winner\"].sum()\n",
    "    wins_mu = exp_info[\"wins\"] / exp_info[\"games\"]\n",
    "    wins_sd = round(math.sqrt(exp_info[\"games\"] * wins_mu * (1 - wins_mu)), 2)\n",
    "    exp_info[\"win_rate_lo\"] = (exp_info[\"wins\"] - wins_sd*3) / exp_info[\"games\"]\n",
    "    exp_info[\"win_rate_mu\"] = wins_mu\n",
    "    exp_info[\"win_rate_hi\"] = (exp_info[\"wins\"] + wins_sd*3) / exp_info[\"games\"]\n",
    "    exp_info[\"avg_turns\"] = sims[\"turns\"].mean()\n",
    "    exp_info[\"avg_reward\"] = sims[\"reward\"].mean()\n",
    "    results.append(exp_info)\n",
    "\n",
    "pd.DataFrame(results)"
   ]
  },
  {
   "cell_type": "markdown",
   "metadata": {},
   "source": [
    "Interesting bias is observed here, as lazy policy seems to have a significant advantage when played against random.  \n",
    "Bias only shows up if it plays as player1, but disappears if it plays as player2\n",
    "\n",
    "TODO: Figure out what's going on here"
   ]
  },
  {
   "cell_type": "markdown",
   "metadata": {},
   "source": [
    "# Training a model with Q-Learning"
   ]
  },
  {
   "cell_type": "code",
   "execution_count": 20,
   "metadata": {},
   "outputs": [],
   "source": [
    "@dataclass\n",
    "class ReplaySample:\n",
    "    state_action: torch.Tensor\n",
    "    reward: int = 0\n",
    "    next_state_actions: torch.Tensor | None = None\n"
   ]
  },
  {
   "cell_type": "code",
   "execution_count": 21,
   "metadata": {},
   "outputs": [],
   "source": [
    "class ReplayBuffer:\n",
    "    def __init__(self, size: 1_000_000):\n",
    "        self.buffer = [None] * size\n",
    "        self.insert_ptr = 0\n",
    "        self.upper_bound = 0\n",
    "\n",
    "    def add(self, sample: ReplaySample):\n",
    "        self.buffer[self.insert_ptr] = sample\n",
    "        self.insert_ptr = self.insert_ptr+1 if self.insert_ptr+1 < len(self.buffer) else 0\n",
    "        self.upper_bound = max(self.insert_ptr, self.upper_bound)\n",
    "    \n",
    "    def sample(self, k: int = 1) -> List[ReplaySample]:\n",
    "        return random.choices(self.buffer[:self.upper_bound], k=k)\n",
    "    \n",
    "    def __getitem__(self, index: int) -> ReplaySample:\n",
    "        if index < self.upper_bound:\n",
    "            return self.buffer[index]\n",
    "        raise IndexError()\n",
    "    \n",
    "    def __len__(self) -> int:\n",
    "        return self.upper_bound"
   ]
  },
  {
   "cell_type": "code",
   "execution_count": 22,
   "metadata": {},
   "outputs": [],
   "source": [
    "class QPolicy(BasePlayer):\n",
    "    def __init__(\n",
    "            self, \n",
    "            layers=[32, 64], \n",
    "            device=\"cpu\", \n",
    "            training: bool = True,\n",
    "            replay_buffer_size: int = 1_000_000\n",
    "        ):\n",
    "        self.device = device\n",
    "        network = []\n",
    "        network.append(torch.nn.Linear(31, layers[0]))\n",
    "        network.append(torch.nn.ReLU())\n",
    "        for idx in range(1, len(layers)):\n",
    "            network.append(torch.nn.Linear(layers[idx-1], layers[idx]))\n",
    "            network.append(torch.nn.ReLU())\n",
    "        network.append(torch.nn.Linear(layers[-1], 1))\n",
    "        self.q_network = torch.nn.Sequential(*network).to(self.device)\n",
    "        self.t_network = torch.nn.Sequential(*network).to(self.device)\n",
    "        self.training = training\n",
    "        self.replay_buffer = ReplayBuffer(size=replay_buffer_size)\n",
    "        # self.q_network.apply(self._init_weights)\n",
    "        self.optimizer = torch.optim.Adam(self.q_network.parameters())\n",
    "        self.prev_state_action = None\n",
    "        self.gamma = 1\n",
    "        self.lr = 0.001\n",
    "        self.grad_clip = 10\n",
    "        self.soft_epsilon = 0.05\n",
    "        self._sync_networks()\n",
    "\n",
    "    # @staticmethod\n",
    "    # def _init_weights(m):\n",
    "    #     if hasattr(m, \"weight\"):\n",
    "    #         torch.nn.init.xavier_uniform_(m.weight, gain=2 ** (1.0 / 2))\n",
    "    #     if hasattr(m, \"bias\"):\n",
    "    #         torch.nn.init.zeros_(m.bias)\n",
    "\n",
    "    def _sync_networks(self) -> None:\n",
    "        logger.debug(\"syncing weights of t-network\")\n",
    "        self.t_network.load_state_dict(self.q_network.state_dict())\n",
    "    \n",
    "    def _encode_state(self, game: Game) -> torch.Tensor:\n",
    "        dice = game.dice.copy()\n",
    "        if len(dice) < 4:\n",
    "            dice += [0] * (4 - len(dice))\n",
    "        return torch.concat([\n",
    "            torch.tensor(game.board),\n",
    "            torch.tensor(dice),\n",
    "            torch.tensor([game.head_moves])\n",
    "        ]).to(self.device).float()\n",
    "\n",
    "    def _encode_actions(self, actions: List[Tuple[int, int]]) -> torch.Tensor:\n",
    "        if not actions:\n",
    "            actions = [(-1,-1)]\n",
    "        return torch.tensor(actions).to(self.device).float()\n",
    "    \n",
    "    def _encode_state_actions(self, game: Game) -> torch.Tensor:\n",
    "        return self._concat_state_actions(\n",
    "            self._encode_state(game),\n",
    "            self._encode_actions(game.get_valid_moves())\n",
    "        )\n",
    "\n",
    "    def _concat_state_actions(self, state: torch.Tensor, actions: torch.Tensor) -> torch.Tensor:\n",
    "        actions = actions.view(-1, 2)\n",
    "        return torch.concat([\n",
    "                state.unsqueeze(dim=0).broadcast_to((actions.shape[0], -1)),\n",
    "                actions\n",
    "            ], dim=1)\n",
    "   \n",
    "    def _sample_batch(self, batch_size: int = 32):\n",
    "        rewards = []\n",
    "        curr_state_actions = []\n",
    "        next_state_actions = []\n",
    "        next_state_actions_idx = []\n",
    "        for sample_id, sample in enumerate(self.replay_buffer.sample(k=batch_size)):\n",
    "            rewards.append(sample.reward)\n",
    "            curr_state_actions.append(sample.state_action)\n",
    "            if sample.next_state_actions is not None:\n",
    "                next_state_actions.append(sample.next_state_actions)\n",
    "                next_state_actions_idx.extend([sample_id] * sample.next_state_actions.shape[0])\n",
    "\n",
    "        rewards = torch.tensor(rewards).float().to(self.device)\n",
    "        curr_state_actions = torch.vstack(curr_state_actions)\n",
    "        next_state_actions = torch.vstack(next_state_actions)\n",
    "        next_state_actions_idx = torch.tensor(next_state_actions_idx, dtype=torch.long).to(self.device)\n",
    "        assert next_state_actions.shape[0] == next_state_actions_idx.shape[0]\n",
    "        return curr_state_actions, rewards, next_state_actions, next_state_actions_idx\n",
    "    \n",
    "    def _calc_loss(self, q_scores, t_scores, sample_ids, rewards) -> torch.Tensor:\n",
    "        t_scores_max = rewards.scatter_reduce(dim=0, index=sample_ids, src=t_scores.squeeze(), reduce=\"max\", include_self=False)\n",
    "        # t_scores_max, t_score_idx = torch_scatter.scatter_max(t_scores.squeeze(), index=sample_ids, dim=0)\n",
    "        td_target = rewards + self.gamma * t_scores_max\n",
    "        td_error = td_target - q_scores.squeeze()\n",
    "        return td_error.pow(2).mean()\n",
    "    \n",
    "    def _train_step(self, batch_size: int = 32) -> None:\n",
    "        if len(self.replay_buffer) < batch_size:\n",
    "            logger.warning(\"not enough samples in replay buffer, skipping train step\")\n",
    "\n",
    "        self.optimizer.zero_grad()\n",
    "    \n",
    "        curr_sa, rewards, next_sa, sample_ids  = self._sample_batch(batch_size)\n",
    "\n",
    "        q_scores = self.q_network(curr_sa)\n",
    "        with torch.no_grad():\n",
    "            t_scores = self.t_network(next_sa)\n",
    "\n",
    "        loss = self._calc_loss(q_scores, t_scores, sample_ids, rewards)\n",
    "\n",
    "        loss.backward()\n",
    "        grad_norm = torch.nn.utils.clip_grad_norm_(self.q_network.parameters(), self.grad_clip)\n",
    "            \n",
    "        for group in self.optimizer.param_groups:\n",
    "            group[\"lr\"] = self.lr\n",
    "        \n",
    "        self.optimizer.step()\n",
    "\n",
    "        return loss.item(), grad_norm.item()\n",
    "\n",
    "\n",
    "    def play_turn(self, game: Game):\n",
    "        valid_moves = list(game.get_valid_moves())\n",
    "        if not valid_moves:\n",
    "            game.skip()\n",
    "            return False\n",
    "\n",
    "        with torch.no_grad():\n",
    "            state_actions = self._encode_state_actions(game)\n",
    "\n",
    "            if self.training and self.prev_state_action is not None:\n",
    "                self.replay_buffer.add(ReplaySample(state_action=self.prev_state_action, reward=self._calc_reward(game), next_state_actions=state_actions))\n",
    "                self.prev_state_action = None\n",
    "        \n",
    "            scores = self.q_network(state_actions).squeeze()\n",
    "            action_idx = scores.argmax(dim=-1).item()\n",
    "            if np.random.random() < self.soft_epsilon:\n",
    "                action_idx = random.randint(0, len(valid_moves)-1)\n",
    "            self.prev_state_action = state_actions[action_idx]\n",
    "\n",
    "            game.turn(*valid_moves[action_idx])\n",
    "\n",
    "            if game.is_finished() and self.training and self.prev_state_action is not None:\n",
    "                self.replay_buffer.add(ReplaySample(state_action=self.prev_state_action, reward=self._calc_reward(game)))\n",
    "                self.prev_state_action = None\n",
    "\n",
    "            # self._train_step()\n",
    "\n",
    "        return True\n",
    "\n",
    "    def _calc_reward(self, game: Game) -> int:\n",
    "        reward = 0\n",
    "        if game.is_finished():\n",
    "            reward  = (2 if game.home[game._opponent] == 0 else 1)\n",
    "            reward *= (1 if game.pturn == 0 else -1)\n",
    "        return reward\n"
   ]
  },
  {
   "cell_type": "markdown",
   "metadata": {},
   "source": [
    "### Training and evaluation"
   ]
  },
  {
   "cell_type": "code",
   "execution_count": 23,
   "metadata": {},
   "outputs": [],
   "source": [
    "def practice(\n",
    "        policy: QPolicy, \n",
    "        games: int = 100,\n",
    "        train_every: int = 1, \n",
    "        sync_every: int = 100,\n",
    "        batch_size = 32,\n",
    "        show_progress : bool = False, \n",
    "        gamma: float = 0.99, \n",
    "        lr: float = 0.001,\n",
    "        grad_clip: float = 10,\n",
    "        soft_epsilon: float = 0\n",
    "    ):\n",
    "    policy.training = True\n",
    "    policy.gamma = gamma\n",
    "    policy.lr = lr\n",
    "    policy.grad_clip = grad_clip\n",
    "    policy.soft_epsilon = soft_epsilon\n",
    "\n",
    "    loss_vals = []\n",
    "    grad_vals = []\n",
    "    for game_id in (tqdm.trange(games, leave=False, desc=\"practicing\") if show_progress else range(games)):\n",
    "        simulate(AutoGame(), player1=policy, player2=RandomPlayer())\n",
    "        if game_id % train_every == 0:\n",
    "            loss, grad = policy._train_step(batch_size=batch_size)\n",
    "            loss_vals.append(loss)\n",
    "            grad_vals.append(grad)\n",
    "        if game_id % sync_every == 0:\n",
    "            policy._sync_networks()\n",
    "    return sum(loss_vals) / len(loss_vals), sum(grad_vals) / len(grad_vals)"
   ]
  },
  {
   "cell_type": "code",
   "execution_count": 24,
   "metadata": {},
   "outputs": [],
   "source": [
    "def evaluate(model_name: str, policy: QPolicy, games: int = 100):\n",
    "    prev_training = policy.training\n",
    "    policy.training = False\n",
    "\n",
    "    results = []\n",
    "    sims = pd.DataFrame([simulate(AutoGame(player2=RandomPlayer()), player1=policy).__dict__ for _ in tqdm.trange(games, leave=False, desc=\"evaluating\")])\n",
    "    exp_info = {\"model\": model_name, \"p2\": \"random\", \"start\": \"random\"}\n",
    "    exp_info[\"games\"] = games\n",
    "    exp_info[\"wins\"] = sims[\"winner\"].sum()\n",
    "    wins_mu = exp_info[\"wins\"] / exp_info[\"games\"]\n",
    "    wins_sd = round(math.sqrt(exp_info[\"games\"] * wins_mu * (1 - wins_mu)), 2)\n",
    "    exp_info[\"win_rate_lo\"] = (exp_info[\"wins\"] - wins_sd*3) / exp_info[\"games\"]\n",
    "    exp_info[\"win_rate_mu\"] = wins_mu\n",
    "    exp_info[\"win_rate_hi\"] = (exp_info[\"wins\"] + wins_sd*3) / exp_info[\"games\"]\n",
    "    exp_info[\"avg_turns\"] = sims[\"turns\"].mean()\n",
    "    exp_info[\"avg_reward\"] = sims[\"reward\"].mean()\n",
    "    results.append(exp_info)\n",
    "\n",
    "    policy.training = prev_training\n",
    "    return pd.DataFrame(results)"
   ]
  },
  {
   "cell_type": "code",
   "execution_count": 25,
   "metadata": {},
   "outputs": [],
   "source": [
    "def train_eval_loop(\n",
    "    policy: QPolicy,\n",
    "    epochs: int = 1000,\n",
    "    practice_games: int = 1000,\n",
    "    batch_size: int = 32,\n",
    "    eval_games: int = 100,\n",
    "    sync_every: int = 50,\n",
    "    **kwargs\n",
    "):\n",
    "    epoch_pbar = tqdm.trange(1, epochs+1, desc=\"train/eval epochs\")\n",
    "    results = []\n",
    "    result = evaluate(f\"untrained\", policy, games=eval_games).loc[0].to_dict()\n",
    "    epoch_pbar.set_postfix({\"win_rate\": result[\"win_rate_mu\"], \"avg_reward\": result[\"avg_reward\"]})\n",
    "    logger.info(f\"untrained: win_rate={result['win_rate_mu']:.4%}, avg_reward={result['avg_reward']:.2f}\")\n",
    "    results.append(result)\n",
    "    for epoch_id in epoch_pbar:\n",
    "        avg_loss, avg_grad = practice(policy, games=practice_games, train_every=1, sync_every=sync_every, batch_size=batch_size, show_progress=True, **kwargs)\n",
    "        epoch_pbar.set_postfix({\"win_rate\": result[\"win_rate_mu\"], \"avg_reward\": result[\"avg_reward\"], \"avg_loss\": avg_loss, \"avg_grad\": avg_grad})\n",
    "        result = evaluate(f\"epoch-{epoch_id}\", policy, games=eval_games).loc[0].to_dict()\n",
    "        result[\"avg_loss\"] = avg_loss\n",
    "        result[\"avg_grad\"] = avg_grad\n",
    "        results.append(result)\n",
    "        epoch_pbar.set_postfix({\"win_rate\": result[\"win_rate_mu\"], \"avg_reward\": result[\"avg_reward\"], \"avg_loss\": avg_loss, \"avg_grad\": avg_grad})\n",
    "        logger.info(f\"epoch={epoch_id}: win_rate={result['win_rate_mu']:.4%}, avg_reward={result['avg_reward']:.2f}, {avg_loss=:.4f}, {avg_grad=:.4f}\")\n",
    "    results = pd.DataFrame(results)\n",
    "    return results"
   ]
  },
  {
   "cell_type": "code",
   "execution_count": 26,
   "metadata": {},
   "outputs": [],
   "source": [
    "nn_player = QPolicy(layers=[32, 64, 32], device=\"cpu\")"
   ]
  },
  {
   "cell_type": "code",
   "execution_count": 27,
   "metadata": {},
   "outputs": [],
   "source": [
    "train_eval_args = {\"epochs\": 10, \"practice_games\": 5000, \"batch_size\": 32, \"eval_games\": 1000, \"sync_every\": 2500}"
   ]
  },
  {
   "cell_type": "code",
   "execution_count": 28,
   "metadata": {},
   "outputs": [
    {
     "data": {
      "application/vnd.jupyter.widget-view+json": {
       "model_id": "62d57ae0ae7b45079abb1c31a211bfc0",
       "version_major": 2,
       "version_minor": 0
      },
      "text/plain": [
       "train/eval epochs:   0%|          | 0/10 [00:00<?, ?it/s]"
      ]
     },
     "metadata": {},
     "output_type": "display_data"
    },
    {
     "data": {
      "application/vnd.jupyter.widget-view+json": {
       "model_id": "ac4025be7c96436da002722066ad9932",
       "version_major": 2,
       "version_minor": 0
      },
      "text/plain": [
       "evaluating:   0%|          | 0/1000 [00:00<?, ?it/s]"
      ]
     },
     "metadata": {},
     "output_type": "display_data"
    },
    {
     "name": "stdout",
     "output_type": "stream",
     "text": [
      "2024-12-11 03:08:31,020 - research - INFO - untrained: win_rate=48.1000%, avg_reward=-0.09\n"
     ]
    },
    {
     "data": {
      "application/vnd.jupyter.widget-view+json": {
       "model_id": "2b2572020c5948be8048d21ed4dcaa6b",
       "version_major": 2,
       "version_minor": 0
      },
      "text/plain": [
       "practicing:   0%|          | 0/5000 [00:00<?, ?it/s]"
      ]
     },
     "metadata": {},
     "output_type": "display_data"
    },
    {
     "data": {
      "application/vnd.jupyter.widget-view+json": {
       "model_id": "b9ed8ab4651d4888bac6ea99d56fc3c3",
       "version_major": 2,
       "version_minor": 0
      },
      "text/plain": [
       "evaluating:   0%|          | 0/1000 [00:00<?, ?it/s]"
      ]
     },
     "metadata": {},
     "output_type": "display_data"
    },
    {
     "name": "stdout",
     "output_type": "stream",
     "text": [
      "2024-12-11 03:10:45,229 - research - INFO - epoch=1: win_rate=58.6000%, avg_reward=0.25, avg_loss=0.0065, avg_grad=0.1722\n"
     ]
    },
    {
     "data": {
      "application/vnd.jupyter.widget-view+json": {
       "model_id": "247074966b8d4dceb33c89a469474727",
       "version_major": 2,
       "version_minor": 0
      },
      "text/plain": [
       "practicing:   0%|          | 0/5000 [00:00<?, ?it/s]"
      ]
     },
     "metadata": {},
     "output_type": "display_data"
    },
    {
     "data": {
      "application/vnd.jupyter.widget-view+json": {
       "model_id": "6daa6f4bf9734d66a3183c4910a9dcfa",
       "version_major": 2,
       "version_minor": 0
      },
      "text/plain": [
       "evaluating:   0%|          | 0/1000 [00:00<?, ?it/s]"
      ]
     },
     "metadata": {},
     "output_type": "display_data"
    },
    {
     "name": "stdout",
     "output_type": "stream",
     "text": [
      "2024-12-11 03:13:25,119 - research - INFO - epoch=2: win_rate=50.1000%, avg_reward=0.01, avg_loss=0.0046, avg_grad=0.1457\n"
     ]
    },
    {
     "data": {
      "application/vnd.jupyter.widget-view+json": {
       "model_id": "5933f8ab9b23418589536c2c29e71e3a",
       "version_major": 2,
       "version_minor": 0
      },
      "text/plain": [
       "practicing:   0%|          | 0/5000 [00:00<?, ?it/s]"
      ]
     },
     "metadata": {},
     "output_type": "display_data"
    },
    {
     "data": {
      "application/vnd.jupyter.widget-view+json": {
       "model_id": "9c67f219c33d4510b789573bf5cac562",
       "version_major": 2,
       "version_minor": 0
      },
      "text/plain": [
       "evaluating:   0%|          | 0/1000 [00:00<?, ?it/s]"
      ]
     },
     "metadata": {},
     "output_type": "display_data"
    },
    {
     "name": "stdout",
     "output_type": "stream",
     "text": [
      "2024-12-11 03:16:14,392 - research - INFO - epoch=3: win_rate=45.1000%, avg_reward=-0.15, avg_loss=0.0086, avg_grad=0.2577\n"
     ]
    },
    {
     "data": {
      "application/vnd.jupyter.widget-view+json": {
       "model_id": "c1894504e61d4910ae47955ae05141c2",
       "version_major": 2,
       "version_minor": 0
      },
      "text/plain": [
       "practicing:   0%|          | 0/5000 [00:00<?, ?it/s]"
      ]
     },
     "metadata": {},
     "output_type": "display_data"
    },
    {
     "data": {
      "application/vnd.jupyter.widget-view+json": {
       "model_id": "420c0cc5d75a402f80b8ecf38e3cacc8",
       "version_major": 2,
       "version_minor": 0
      },
      "text/plain": [
       "evaluating:   0%|          | 0/1000 [00:00<?, ?it/s]"
      ]
     },
     "metadata": {},
     "output_type": "display_data"
    },
    {
     "name": "stdout",
     "output_type": "stream",
     "text": [
      "2024-12-11 03:19:03,641 - research - INFO - epoch=4: win_rate=37.6000%, avg_reward=-0.34, avg_loss=0.0044, avg_grad=0.1962\n"
     ]
    },
    {
     "data": {
      "application/vnd.jupyter.widget-view+json": {
       "model_id": "8d113da32f6947069dd3f9ab1ee96f40",
       "version_major": 2,
       "version_minor": 0
      },
      "text/plain": [
       "practicing:   0%|          | 0/5000 [00:00<?, ?it/s]"
      ]
     },
     "metadata": {},
     "output_type": "display_data"
    },
    {
     "data": {
      "application/vnd.jupyter.widget-view+json": {
       "model_id": "bbd2c94e2201408e8111862c152c43f9",
       "version_major": 2,
       "version_minor": 0
      },
      "text/plain": [
       "evaluating:   0%|          | 0/1000 [00:00<?, ?it/s]"
      ]
     },
     "metadata": {},
     "output_type": "display_data"
    },
    {
     "name": "stdout",
     "output_type": "stream",
     "text": [
      "2024-12-11 03:21:53,171 - research - INFO - epoch=5: win_rate=43.9000%, avg_reward=-0.18, avg_loss=0.0048, avg_grad=0.1982\n"
     ]
    },
    {
     "data": {
      "application/vnd.jupyter.widget-view+json": {
       "model_id": "e4650091a5da4e10aade84d307a91544",
       "version_major": 2,
       "version_minor": 0
      },
      "text/plain": [
       "practicing:   0%|          | 0/5000 [00:00<?, ?it/s]"
      ]
     },
     "metadata": {},
     "output_type": "display_data"
    },
    {
     "data": {
      "application/vnd.jupyter.widget-view+json": {
       "model_id": "b364675d199d4dbc90d7d4e8129f5bb1",
       "version_major": 2,
       "version_minor": 0
      },
      "text/plain": [
       "evaluating:   0%|          | 0/1000 [00:00<?, ?it/s]"
      ]
     },
     "metadata": {},
     "output_type": "display_data"
    },
    {
     "name": "stdout",
     "output_type": "stream",
     "text": [
      "2024-12-11 03:24:42,824 - research - INFO - epoch=6: win_rate=42.4000%, avg_reward=-0.22, avg_loss=0.0049, avg_grad=0.2018\n"
     ]
    },
    {
     "data": {
      "application/vnd.jupyter.widget-view+json": {
       "model_id": "d4cbb379097c4ab28e6045b90f9b29f1",
       "version_major": 2,
       "version_minor": 0
      },
      "text/plain": [
       "practicing:   0%|          | 0/5000 [00:00<?, ?it/s]"
      ]
     },
     "metadata": {},
     "output_type": "display_data"
    },
    {
     "data": {
      "application/vnd.jupyter.widget-view+json": {
       "model_id": "72a40bfc6e6e452ab7c072a5db0aed29",
       "version_major": 2,
       "version_minor": 0
      },
      "text/plain": [
       "evaluating:   0%|          | 0/1000 [00:00<?, ?it/s]"
      ]
     },
     "metadata": {},
     "output_type": "display_data"
    },
    {
     "name": "stdout",
     "output_type": "stream",
     "text": [
      "2024-12-11 03:27:32,892 - research - INFO - epoch=7: win_rate=52.2000%, avg_reward=0.07, avg_loss=0.0049, avg_grad=0.2047\n"
     ]
    },
    {
     "data": {
      "application/vnd.jupyter.widget-view+json": {
       "model_id": "ea75c58db3a24f3788f370109aef8574",
       "version_major": 2,
       "version_minor": 0
      },
      "text/plain": [
       "practicing:   0%|          | 0/5000 [00:00<?, ?it/s]"
      ]
     },
     "metadata": {},
     "output_type": "display_data"
    },
    {
     "data": {
      "application/vnd.jupyter.widget-view+json": {
       "model_id": "706917dc3fb44e558ff9f7841cf4a06f",
       "version_major": 2,
       "version_minor": 0
      },
      "text/plain": [
       "evaluating:   0%|          | 0/1000 [00:00<?, ?it/s]"
      ]
     },
     "metadata": {},
     "output_type": "display_data"
    },
    {
     "name": "stdout",
     "output_type": "stream",
     "text": [
      "2024-12-11 03:30:23,897 - research - INFO - epoch=8: win_rate=49.7000%, avg_reward=0.02, avg_loss=0.0051, avg_grad=0.2082\n"
     ]
    },
    {
     "data": {
      "application/vnd.jupyter.widget-view+json": {
       "model_id": "f9c2833b06094a7dab3df932c0e1aa3b",
       "version_major": 2,
       "version_minor": 0
      },
      "text/plain": [
       "practicing:   0%|          | 0/5000 [00:00<?, ?it/s]"
      ]
     },
     "metadata": {},
     "output_type": "display_data"
    },
    {
     "data": {
      "application/vnd.jupyter.widget-view+json": {
       "model_id": "839dbd77864e499482c739c630e9700d",
       "version_major": 2,
       "version_minor": 0
      },
      "text/plain": [
       "evaluating:   0%|          | 0/1000 [00:00<?, ?it/s]"
      ]
     },
     "metadata": {},
     "output_type": "display_data"
    },
    {
     "name": "stdout",
     "output_type": "stream",
     "text": [
      "2024-12-11 03:33:14,868 - research - INFO - epoch=9: win_rate=45.7000%, avg_reward=-0.13, avg_loss=0.0049, avg_grad=0.1916\n"
     ]
    },
    {
     "data": {
      "application/vnd.jupyter.widget-view+json": {
       "model_id": "c8924c11f5984542a6a79e60f4c66792",
       "version_major": 2,
       "version_minor": 0
      },
      "text/plain": [
       "practicing:   0%|          | 0/5000 [00:00<?, ?it/s]"
      ]
     },
     "metadata": {},
     "output_type": "display_data"
    },
    {
     "data": {
      "application/vnd.jupyter.widget-view+json": {
       "model_id": "0c421b81a57246aaacab055d20a13615",
       "version_major": 2,
       "version_minor": 0
      },
      "text/plain": [
       "evaluating:   0%|          | 0/1000 [00:00<?, ?it/s]"
      ]
     },
     "metadata": {},
     "output_type": "display_data"
    },
    {
     "name": "stdout",
     "output_type": "stream",
     "text": [
      "2024-12-11 03:36:06,808 - research - INFO - epoch=10: win_rate=56.0000%, avg_reward=0.17, avg_loss=0.0046, avg_grad=0.1844\n"
     ]
    },
    {
     "data": {
      "text/html": [
       "<div>\n",
       "<style scoped>\n",
       "    .dataframe tbody tr th:only-of-type {\n",
       "        vertical-align: middle;\n",
       "    }\n",
       "\n",
       "    .dataframe tbody tr th {\n",
       "        vertical-align: top;\n",
       "    }\n",
       "\n",
       "    .dataframe thead th {\n",
       "        text-align: right;\n",
       "    }\n",
       "</style>\n",
       "<table border=\"1\" class=\"dataframe\">\n",
       "  <thead>\n",
       "    <tr style=\"text-align: right;\">\n",
       "      <th></th>\n",
       "      <th>model</th>\n",
       "      <th>p2</th>\n",
       "      <th>start</th>\n",
       "      <th>games</th>\n",
       "      <th>wins</th>\n",
       "      <th>win_rate_lo</th>\n",
       "      <th>win_rate_mu</th>\n",
       "      <th>win_rate_hi</th>\n",
       "      <th>avg_turns</th>\n",
       "      <th>avg_reward</th>\n",
       "      <th>avg_loss</th>\n",
       "      <th>avg_grad</th>\n",
       "    </tr>\n",
       "  </thead>\n",
       "  <tbody>\n",
       "    <tr>\n",
       "      <th>0</th>\n",
       "      <td>untrained</td>\n",
       "      <td>random</td>\n",
       "      <td>random</td>\n",
       "      <td>1000</td>\n",
       "      <td>481</td>\n",
       "      <td>0.43360</td>\n",
       "      <td>0.481</td>\n",
       "      <td>0.52840</td>\n",
       "      <td>94.914</td>\n",
       "      <td>-0.088</td>\n",
       "      <td>NaN</td>\n",
       "      <td>NaN</td>\n",
       "    </tr>\n",
       "    <tr>\n",
       "      <th>1</th>\n",
       "      <td>epoch-1</td>\n",
       "      <td>random</td>\n",
       "      <td>random</td>\n",
       "      <td>1000</td>\n",
       "      <td>586</td>\n",
       "      <td>0.53926</td>\n",
       "      <td>0.586</td>\n",
       "      <td>0.63274</td>\n",
       "      <td>94.555</td>\n",
       "      <td>0.254</td>\n",
       "      <td>0.006483</td>\n",
       "      <td>0.172234</td>\n",
       "    </tr>\n",
       "    <tr>\n",
       "      <th>2</th>\n",
       "      <td>epoch-2</td>\n",
       "      <td>random</td>\n",
       "      <td>random</td>\n",
       "      <td>1000</td>\n",
       "      <td>501</td>\n",
       "      <td>0.45357</td>\n",
       "      <td>0.501</td>\n",
       "      <td>0.54843</td>\n",
       "      <td>94.908</td>\n",
       "      <td>0.014</td>\n",
       "      <td>0.004611</td>\n",
       "      <td>0.145685</td>\n",
       "    </tr>\n",
       "    <tr>\n",
       "      <th>3</th>\n",
       "      <td>epoch-3</td>\n",
       "      <td>random</td>\n",
       "      <td>random</td>\n",
       "      <td>1000</td>\n",
       "      <td>451</td>\n",
       "      <td>0.40378</td>\n",
       "      <td>0.451</td>\n",
       "      <td>0.49822</td>\n",
       "      <td>95.940</td>\n",
       "      <td>-0.151</td>\n",
       "      <td>0.008641</td>\n",
       "      <td>0.257674</td>\n",
       "    </tr>\n",
       "    <tr>\n",
       "      <th>4</th>\n",
       "      <td>epoch-4</td>\n",
       "      <td>random</td>\n",
       "      <td>random</td>\n",
       "      <td>1000</td>\n",
       "      <td>376</td>\n",
       "      <td>0.33004</td>\n",
       "      <td>0.376</td>\n",
       "      <td>0.42196</td>\n",
       "      <td>95.910</td>\n",
       "      <td>-0.344</td>\n",
       "      <td>0.004424</td>\n",
       "      <td>0.196203</td>\n",
       "    </tr>\n",
       "    <tr>\n",
       "      <th>5</th>\n",
       "      <td>epoch-5</td>\n",
       "      <td>random</td>\n",
       "      <td>random</td>\n",
       "      <td>1000</td>\n",
       "      <td>439</td>\n",
       "      <td>0.39193</td>\n",
       "      <td>0.439</td>\n",
       "      <td>0.48607</td>\n",
       "      <td>95.127</td>\n",
       "      <td>-0.178</td>\n",
       "      <td>0.004755</td>\n",
       "      <td>0.198166</td>\n",
       "    </tr>\n",
       "    <tr>\n",
       "      <th>6</th>\n",
       "      <td>epoch-6</td>\n",
       "      <td>random</td>\n",
       "      <td>random</td>\n",
       "      <td>1000</td>\n",
       "      <td>424</td>\n",
       "      <td>0.37711</td>\n",
       "      <td>0.424</td>\n",
       "      <td>0.47089</td>\n",
       "      <td>95.740</td>\n",
       "      <td>-0.218</td>\n",
       "      <td>0.004941</td>\n",
       "      <td>0.201841</td>\n",
       "    </tr>\n",
       "    <tr>\n",
       "      <th>7</th>\n",
       "      <td>epoch-7</td>\n",
       "      <td>random</td>\n",
       "      <td>random</td>\n",
       "      <td>1000</td>\n",
       "      <td>522</td>\n",
       "      <td>0.47460</td>\n",
       "      <td>0.522</td>\n",
       "      <td>0.56940</td>\n",
       "      <td>94.523</td>\n",
       "      <td>0.070</td>\n",
       "      <td>0.004942</td>\n",
       "      <td>0.204653</td>\n",
       "    </tr>\n",
       "    <tr>\n",
       "      <th>8</th>\n",
       "      <td>epoch-8</td>\n",
       "      <td>random</td>\n",
       "      <td>random</td>\n",
       "      <td>1000</td>\n",
       "      <td>497</td>\n",
       "      <td>0.44957</td>\n",
       "      <td>0.497</td>\n",
       "      <td>0.54443</td>\n",
       "      <td>94.562</td>\n",
       "      <td>0.016</td>\n",
       "      <td>0.005121</td>\n",
       "      <td>0.208213</td>\n",
       "    </tr>\n",
       "    <tr>\n",
       "      <th>9</th>\n",
       "      <td>epoch-9</td>\n",
       "      <td>random</td>\n",
       "      <td>random</td>\n",
       "      <td>1000</td>\n",
       "      <td>457</td>\n",
       "      <td>0.40975</td>\n",
       "      <td>0.457</td>\n",
       "      <td>0.50425</td>\n",
       "      <td>95.934</td>\n",
       "      <td>-0.127</td>\n",
       "      <td>0.004889</td>\n",
       "      <td>0.191605</td>\n",
       "    </tr>\n",
       "    <tr>\n",
       "      <th>10</th>\n",
       "      <td>epoch-10</td>\n",
       "      <td>random</td>\n",
       "      <td>random</td>\n",
       "      <td>1000</td>\n",
       "      <td>560</td>\n",
       "      <td>0.51290</td>\n",
       "      <td>0.560</td>\n",
       "      <td>0.60710</td>\n",
       "      <td>95.164</td>\n",
       "      <td>0.168</td>\n",
       "      <td>0.004611</td>\n",
       "      <td>0.184434</td>\n",
       "    </tr>\n",
       "  </tbody>\n",
       "</table>\n",
       "</div>"
      ],
      "text/plain": [
       "        model      p2   start  games  wins  win_rate_lo  win_rate_mu  \\\n",
       "0   untrained  random  random   1000   481      0.43360        0.481   \n",
       "1     epoch-1  random  random   1000   586      0.53926        0.586   \n",
       "2     epoch-2  random  random   1000   501      0.45357        0.501   \n",
       "3     epoch-3  random  random   1000   451      0.40378        0.451   \n",
       "4     epoch-4  random  random   1000   376      0.33004        0.376   \n",
       "5     epoch-5  random  random   1000   439      0.39193        0.439   \n",
       "6     epoch-6  random  random   1000   424      0.37711        0.424   \n",
       "7     epoch-7  random  random   1000   522      0.47460        0.522   \n",
       "8     epoch-8  random  random   1000   497      0.44957        0.497   \n",
       "9     epoch-9  random  random   1000   457      0.40975        0.457   \n",
       "10   epoch-10  random  random   1000   560      0.51290        0.560   \n",
       "\n",
       "    win_rate_hi  avg_turns  avg_reward  avg_loss  avg_grad  \n",
       "0       0.52840     94.914      -0.088       NaN       NaN  \n",
       "1       0.63274     94.555       0.254  0.006483  0.172234  \n",
       "2       0.54843     94.908       0.014  0.004611  0.145685  \n",
       "3       0.49822     95.940      -0.151  0.008641  0.257674  \n",
       "4       0.42196     95.910      -0.344  0.004424  0.196203  \n",
       "5       0.48607     95.127      -0.178  0.004755  0.198166  \n",
       "6       0.47089     95.740      -0.218  0.004941  0.201841  \n",
       "7       0.56940     94.523       0.070  0.004942  0.204653  \n",
       "8       0.54443     94.562       0.016  0.005121  0.208213  \n",
       "9       0.50425     95.934      -0.127  0.004889  0.191605  \n",
       "10      0.60710     95.164       0.168  0.004611  0.184434  "
      ]
     },
     "execution_count": 28,
     "metadata": {},
     "output_type": "execute_result"
    }
   ],
   "source": [
    "train_eval_loop(nn_player, lr=0.001, gamma=0.99, grad_clip=10, soft_epsilon=0.5, **train_eval_args)"
   ]
  },
  {
   "cell_type": "code",
   "execution_count": 29,
   "metadata": {},
   "outputs": [
    {
     "data": {
      "application/vnd.jupyter.widget-view+json": {
       "model_id": "03e98be196654c918b67181acc8a7d8c",
       "version_major": 2,
       "version_minor": 0
      },
      "text/plain": [
       "train/eval epochs:   0%|          | 0/10 [00:00<?, ?it/s]"
      ]
     },
     "metadata": {},
     "output_type": "display_data"
    },
    {
     "data": {
      "application/vnd.jupyter.widget-view+json": {
       "model_id": "3ad0083035b84dd298442f9c8258e0c6",
       "version_major": 2,
       "version_minor": 0
      },
      "text/plain": [
       "evaluating:   0%|          | 0/1000 [00:00<?, ?it/s]"
      ]
     },
     "metadata": {},
     "output_type": "display_data"
    },
    {
     "name": "stdout",
     "output_type": "stream",
     "text": [
      "2024-12-11 03:36:26,470 - research - INFO - untrained: win_rate=59.2000%, avg_reward=0.27\n"
     ]
    },
    {
     "data": {
      "application/vnd.jupyter.widget-view+json": {
       "model_id": "c2b845a394544623be6b695d98afdd29",
       "version_major": 2,
       "version_minor": 0
      },
      "text/plain": [
       "practicing:   0%|          | 0/5000 [00:00<?, ?it/s]"
      ]
     },
     "metadata": {},
     "output_type": "display_data"
    },
    {
     "data": {
      "application/vnd.jupyter.widget-view+json": {
       "model_id": "19a64dff219d413b92c2b0009e6ecc13",
       "version_major": 2,
       "version_minor": 0
      },
      "text/plain": [
       "evaluating:   0%|          | 0/1000 [00:00<?, ?it/s]"
      ]
     },
     "metadata": {},
     "output_type": "display_data"
    },
    {
     "name": "stdout",
     "output_type": "stream",
     "text": [
      "2024-12-11 03:39:16,414 - research - INFO - epoch=1: win_rate=57.2000%, avg_reward=0.17, avg_loss=0.0043, avg_grad=0.1896\n"
     ]
    },
    {
     "data": {
      "application/vnd.jupyter.widget-view+json": {
       "model_id": "669deb1012ce42cbb05fbd67070cf545",
       "version_major": 2,
       "version_minor": 0
      },
      "text/plain": [
       "practicing:   0%|          | 0/5000 [00:00<?, ?it/s]"
      ]
     },
     "metadata": {},
     "output_type": "display_data"
    },
    {
     "data": {
      "application/vnd.jupyter.widget-view+json": {
       "model_id": "347caaa7a3784616bedb6677b9f688bd",
       "version_major": 2,
       "version_minor": 0
      },
      "text/plain": [
       "evaluating:   0%|          | 0/1000 [00:00<?, ?it/s]"
      ]
     },
     "metadata": {},
     "output_type": "display_data"
    },
    {
     "name": "stdout",
     "output_type": "stream",
     "text": [
      "2024-12-11 03:42:07,175 - research - INFO - epoch=2: win_rate=55.2000%, avg_reward=0.15, avg_loss=0.0051, avg_grad=0.2284\n"
     ]
    },
    {
     "data": {
      "application/vnd.jupyter.widget-view+json": {
       "model_id": "d096f9c4485545d3bf3465cc932d14ad",
       "version_major": 2,
       "version_minor": 0
      },
      "text/plain": [
       "practicing:   0%|          | 0/5000 [00:00<?, ?it/s]"
      ]
     },
     "metadata": {},
     "output_type": "display_data"
    },
    {
     "data": {
      "application/vnd.jupyter.widget-view+json": {
       "model_id": "70f9651aea544c5fbb097db291dd18cc",
       "version_major": 2,
       "version_minor": 0
      },
      "text/plain": [
       "evaluating:   0%|          | 0/1000 [00:00<?, ?it/s]"
      ]
     },
     "metadata": {},
     "output_type": "display_data"
    },
    {
     "name": "stdout",
     "output_type": "stream",
     "text": [
      "2024-12-11 03:44:57,989 - research - INFO - epoch=3: win_rate=53.6000%, avg_reward=0.10, avg_loss=0.0054, avg_grad=0.2533\n"
     ]
    },
    {
     "data": {
      "application/vnd.jupyter.widget-view+json": {
       "model_id": "ce96e3b9d3014b3e866623c79a3c31b9",
       "version_major": 2,
       "version_minor": 0
      },
      "text/plain": [
       "practicing:   0%|          | 0/5000 [00:00<?, ?it/s]"
      ]
     },
     "metadata": {},
     "output_type": "display_data"
    },
    {
     "data": {
      "application/vnd.jupyter.widget-view+json": {
       "model_id": "8e2920ffb5444c51b06c6bd9317176cb",
       "version_major": 2,
       "version_minor": 0
      },
      "text/plain": [
       "evaluating:   0%|          | 0/1000 [00:00<?, ?it/s]"
      ]
     },
     "metadata": {},
     "output_type": "display_data"
    },
    {
     "name": "stdout",
     "output_type": "stream",
     "text": [
      "2024-12-11 03:47:48,883 - research - INFO - epoch=4: win_rate=52.5000%, avg_reward=0.07, avg_loss=0.0056, avg_grad=0.2616\n"
     ]
    },
    {
     "data": {
      "application/vnd.jupyter.widget-view+json": {
       "model_id": "6cdb354e6cd64a08890045cc0ab6914f",
       "version_major": 2,
       "version_minor": 0
      },
      "text/plain": [
       "practicing:   0%|          | 0/5000 [00:00<?, ?it/s]"
      ]
     },
     "metadata": {},
     "output_type": "display_data"
    },
    {
     "data": {
      "application/vnd.jupyter.widget-view+json": {
       "model_id": "19337c951b334516b3766668b28b597f",
       "version_major": 2,
       "version_minor": 0
      },
      "text/plain": [
       "evaluating:   0%|          | 0/1000 [00:00<?, ?it/s]"
      ]
     },
     "metadata": {},
     "output_type": "display_data"
    },
    {
     "name": "stdout",
     "output_type": "stream",
     "text": [
      "2024-12-11 03:50:40,095 - research - INFO - epoch=5: win_rate=57.6000%, avg_reward=0.22, avg_loss=0.0054, avg_grad=0.2525\n"
     ]
    },
    {
     "data": {
      "application/vnd.jupyter.widget-view+json": {
       "model_id": "1674e7a3830d442aa7ba66145c2a7660",
       "version_major": 2,
       "version_minor": 0
      },
      "text/plain": [
       "practicing:   0%|          | 0/5000 [00:00<?, ?it/s]"
      ]
     },
     "metadata": {},
     "output_type": "display_data"
    },
    {
     "data": {
      "application/vnd.jupyter.widget-view+json": {
       "model_id": "ecc9c0104acb4210a8ef12d312e5e760",
       "version_major": 2,
       "version_minor": 0
      },
      "text/plain": [
       "evaluating:   0%|          | 0/1000 [00:00<?, ?it/s]"
      ]
     },
     "metadata": {},
     "output_type": "display_data"
    },
    {
     "name": "stdout",
     "output_type": "stream",
     "text": [
      "2024-12-11 03:53:31,493 - research - INFO - epoch=6: win_rate=60.3000%, avg_reward=0.27, avg_loss=0.0055, avg_grad=0.2578\n"
     ]
    },
    {
     "data": {
      "application/vnd.jupyter.widget-view+json": {
       "model_id": "b6cc516d8c954d36b5632dbabe624105",
       "version_major": 2,
       "version_minor": 0
      },
      "text/plain": [
       "practicing:   0%|          | 0/5000 [00:00<?, ?it/s]"
      ]
     },
     "metadata": {},
     "output_type": "display_data"
    },
    {
     "data": {
      "application/vnd.jupyter.widget-view+json": {
       "model_id": "85bad1ffc2294ac98209d8fa3be73aa7",
       "version_major": 2,
       "version_minor": 0
      },
      "text/plain": [
       "evaluating:   0%|          | 0/1000 [00:00<?, ?it/s]"
      ]
     },
     "metadata": {},
     "output_type": "display_data"
    },
    {
     "name": "stdout",
     "output_type": "stream",
     "text": [
      "2024-12-11 03:56:23,420 - research - INFO - epoch=7: win_rate=58.1000%, avg_reward=0.24, avg_loss=0.0054, avg_grad=0.2555\n"
     ]
    },
    {
     "data": {
      "application/vnd.jupyter.widget-view+json": {
       "model_id": "a8f6fd93f8b14efdbef16409a36ba27c",
       "version_major": 2,
       "version_minor": 0
      },
      "text/plain": [
       "practicing:   0%|          | 0/5000 [00:00<?, ?it/s]"
      ]
     },
     "metadata": {},
     "output_type": "display_data"
    },
    {
     "data": {
      "application/vnd.jupyter.widget-view+json": {
       "model_id": "af241c8d198f448db92d43df33f01cd6",
       "version_major": 2,
       "version_minor": 0
      },
      "text/plain": [
       "evaluating:   0%|          | 0/1000 [00:00<?, ?it/s]"
      ]
     },
     "metadata": {},
     "output_type": "display_data"
    },
    {
     "name": "stdout",
     "output_type": "stream",
     "text": [
      "2024-12-11 03:59:15,398 - research - INFO - epoch=8: win_rate=56.8000%, avg_reward=0.19, avg_loss=0.0055, avg_grad=0.2675\n"
     ]
    },
    {
     "data": {
      "application/vnd.jupyter.widget-view+json": {
       "model_id": "11e9d9af230a42ebbbff04535b7da082",
       "version_major": 2,
       "version_minor": 0
      },
      "text/plain": [
       "practicing:   0%|          | 0/5000 [00:00<?, ?it/s]"
      ]
     },
     "metadata": {},
     "output_type": "display_data"
    },
    {
     "data": {
      "application/vnd.jupyter.widget-view+json": {
       "model_id": "c07ab3f33e734b86ae7c3b18f2b0d913",
       "version_major": 2,
       "version_minor": 0
      },
      "text/plain": [
       "evaluating:   0%|          | 0/1000 [00:00<?, ?it/s]"
      ]
     },
     "metadata": {},
     "output_type": "display_data"
    },
    {
     "name": "stdout",
     "output_type": "stream",
     "text": [
      "2024-12-11 04:02:06,918 - research - INFO - epoch=9: win_rate=51.6000%, avg_reward=0.04, avg_loss=0.0056, avg_grad=0.2625\n"
     ]
    },
    {
     "data": {
      "application/vnd.jupyter.widget-view+json": {
       "model_id": "5bbd365ff4a4443bb76183e8adab792b",
       "version_major": 2,
       "version_minor": 0
      },
      "text/plain": [
       "practicing:   0%|          | 0/5000 [00:00<?, ?it/s]"
      ]
     },
     "metadata": {},
     "output_type": "display_data"
    },
    {
     "data": {
      "application/vnd.jupyter.widget-view+json": {
       "model_id": "b94688322506429ab0fb2a216da1a4cc",
       "version_major": 2,
       "version_minor": 0
      },
      "text/plain": [
       "evaluating:   0%|          | 0/1000 [00:00<?, ?it/s]"
      ]
     },
     "metadata": {},
     "output_type": "display_data"
    },
    {
     "name": "stdout",
     "output_type": "stream",
     "text": [
      "2024-12-11 04:04:59,087 - research - INFO - epoch=10: win_rate=60.5000%, avg_reward=0.30, avg_loss=0.0057, avg_grad=0.2647\n"
     ]
    },
    {
     "data": {
      "text/html": [
       "<div>\n",
       "<style scoped>\n",
       "    .dataframe tbody tr th:only-of-type {\n",
       "        vertical-align: middle;\n",
       "    }\n",
       "\n",
       "    .dataframe tbody tr th {\n",
       "        vertical-align: top;\n",
       "    }\n",
       "\n",
       "    .dataframe thead th {\n",
       "        text-align: right;\n",
       "    }\n",
       "</style>\n",
       "<table border=\"1\" class=\"dataframe\">\n",
       "  <thead>\n",
       "    <tr style=\"text-align: right;\">\n",
       "      <th></th>\n",
       "      <th>model</th>\n",
       "      <th>p2</th>\n",
       "      <th>start</th>\n",
       "      <th>games</th>\n",
       "      <th>wins</th>\n",
       "      <th>win_rate_lo</th>\n",
       "      <th>win_rate_mu</th>\n",
       "      <th>win_rate_hi</th>\n",
       "      <th>avg_turns</th>\n",
       "      <th>avg_reward</th>\n",
       "      <th>avg_loss</th>\n",
       "      <th>avg_grad</th>\n",
       "    </tr>\n",
       "  </thead>\n",
       "  <tbody>\n",
       "    <tr>\n",
       "      <th>0</th>\n",
       "      <td>untrained</td>\n",
       "      <td>random</td>\n",
       "      <td>random</td>\n",
       "      <td>1000</td>\n",
       "      <td>592</td>\n",
       "      <td>0.54538</td>\n",
       "      <td>0.592</td>\n",
       "      <td>0.63862</td>\n",
       "      <td>95.108</td>\n",
       "      <td>0.267</td>\n",
       "      <td>NaN</td>\n",
       "      <td>NaN</td>\n",
       "    </tr>\n",
       "    <tr>\n",
       "      <th>1</th>\n",
       "      <td>epoch-1</td>\n",
       "      <td>random</td>\n",
       "      <td>random</td>\n",
       "      <td>1000</td>\n",
       "      <td>572</td>\n",
       "      <td>0.52505</td>\n",
       "      <td>0.572</td>\n",
       "      <td>0.61895</td>\n",
       "      <td>95.438</td>\n",
       "      <td>0.171</td>\n",
       "      <td>0.004335</td>\n",
       "      <td>0.189551</td>\n",
       "    </tr>\n",
       "    <tr>\n",
       "      <th>2</th>\n",
       "      <td>epoch-2</td>\n",
       "      <td>random</td>\n",
       "      <td>random</td>\n",
       "      <td>1000</td>\n",
       "      <td>552</td>\n",
       "      <td>0.50481</td>\n",
       "      <td>0.552</td>\n",
       "      <td>0.59919</td>\n",
       "      <td>95.737</td>\n",
       "      <td>0.150</td>\n",
       "      <td>0.005057</td>\n",
       "      <td>0.228371</td>\n",
       "    </tr>\n",
       "    <tr>\n",
       "      <th>3</th>\n",
       "      <td>epoch-3</td>\n",
       "      <td>random</td>\n",
       "      <td>random</td>\n",
       "      <td>1000</td>\n",
       "      <td>536</td>\n",
       "      <td>0.48869</td>\n",
       "      <td>0.536</td>\n",
       "      <td>0.58331</td>\n",
       "      <td>95.374</td>\n",
       "      <td>0.101</td>\n",
       "      <td>0.005426</td>\n",
       "      <td>0.253321</td>\n",
       "    </tr>\n",
       "    <tr>\n",
       "      <th>4</th>\n",
       "      <td>epoch-4</td>\n",
       "      <td>random</td>\n",
       "      <td>random</td>\n",
       "      <td>1000</td>\n",
       "      <td>525</td>\n",
       "      <td>0.47763</td>\n",
       "      <td>0.525</td>\n",
       "      <td>0.57237</td>\n",
       "      <td>95.140</td>\n",
       "      <td>0.067</td>\n",
       "      <td>0.005642</td>\n",
       "      <td>0.261554</td>\n",
       "    </tr>\n",
       "    <tr>\n",
       "      <th>5</th>\n",
       "      <td>epoch-5</td>\n",
       "      <td>random</td>\n",
       "      <td>random</td>\n",
       "      <td>1000</td>\n",
       "      <td>576</td>\n",
       "      <td>0.52911</td>\n",
       "      <td>0.576</td>\n",
       "      <td>0.62289</td>\n",
       "      <td>96.508</td>\n",
       "      <td>0.217</td>\n",
       "      <td>0.005436</td>\n",
       "      <td>0.252477</td>\n",
       "    </tr>\n",
       "    <tr>\n",
       "      <th>6</th>\n",
       "      <td>epoch-6</td>\n",
       "      <td>random</td>\n",
       "      <td>random</td>\n",
       "      <td>1000</td>\n",
       "      <td>603</td>\n",
       "      <td>0.55659</td>\n",
       "      <td>0.603</td>\n",
       "      <td>0.64941</td>\n",
       "      <td>95.805</td>\n",
       "      <td>0.270</td>\n",
       "      <td>0.005541</td>\n",
       "      <td>0.257800</td>\n",
       "    </tr>\n",
       "    <tr>\n",
       "      <th>7</th>\n",
       "      <td>epoch-7</td>\n",
       "      <td>random</td>\n",
       "      <td>random</td>\n",
       "      <td>1000</td>\n",
       "      <td>581</td>\n",
       "      <td>0.53420</td>\n",
       "      <td>0.581</td>\n",
       "      <td>0.62780</td>\n",
       "      <td>96.126</td>\n",
       "      <td>0.240</td>\n",
       "      <td>0.005437</td>\n",
       "      <td>0.255523</td>\n",
       "    </tr>\n",
       "    <tr>\n",
       "      <th>8</th>\n",
       "      <td>epoch-8</td>\n",
       "      <td>random</td>\n",
       "      <td>random</td>\n",
       "      <td>1000</td>\n",
       "      <td>568</td>\n",
       "      <td>0.52102</td>\n",
       "      <td>0.568</td>\n",
       "      <td>0.61498</td>\n",
       "      <td>95.963</td>\n",
       "      <td>0.187</td>\n",
       "      <td>0.005455</td>\n",
       "      <td>0.267494</td>\n",
       "    </tr>\n",
       "    <tr>\n",
       "      <th>9</th>\n",
       "      <td>epoch-9</td>\n",
       "      <td>random</td>\n",
       "      <td>random</td>\n",
       "      <td>1000</td>\n",
       "      <td>516</td>\n",
       "      <td>0.46860</td>\n",
       "      <td>0.516</td>\n",
       "      <td>0.56340</td>\n",
       "      <td>96.657</td>\n",
       "      <td>0.044</td>\n",
       "      <td>0.005553</td>\n",
       "      <td>0.262498</td>\n",
       "    </tr>\n",
       "    <tr>\n",
       "      <th>10</th>\n",
       "      <td>epoch-10</td>\n",
       "      <td>random</td>\n",
       "      <td>random</td>\n",
       "      <td>1000</td>\n",
       "      <td>605</td>\n",
       "      <td>0.55862</td>\n",
       "      <td>0.605</td>\n",
       "      <td>0.65138</td>\n",
       "      <td>94.996</td>\n",
       "      <td>0.298</td>\n",
       "      <td>0.005729</td>\n",
       "      <td>0.264654</td>\n",
       "    </tr>\n",
       "  </tbody>\n",
       "</table>\n",
       "</div>"
      ],
      "text/plain": [
       "        model      p2   start  games  wins  win_rate_lo  win_rate_mu  \\\n",
       "0   untrained  random  random   1000   592      0.54538        0.592   \n",
       "1     epoch-1  random  random   1000   572      0.52505        0.572   \n",
       "2     epoch-2  random  random   1000   552      0.50481        0.552   \n",
       "3     epoch-3  random  random   1000   536      0.48869        0.536   \n",
       "4     epoch-4  random  random   1000   525      0.47763        0.525   \n",
       "5     epoch-5  random  random   1000   576      0.52911        0.576   \n",
       "6     epoch-6  random  random   1000   603      0.55659        0.603   \n",
       "7     epoch-7  random  random   1000   581      0.53420        0.581   \n",
       "8     epoch-8  random  random   1000   568      0.52102        0.568   \n",
       "9     epoch-9  random  random   1000   516      0.46860        0.516   \n",
       "10   epoch-10  random  random   1000   605      0.55862        0.605   \n",
       "\n",
       "    win_rate_hi  avg_turns  avg_reward  avg_loss  avg_grad  \n",
       "0       0.63862     95.108       0.267       NaN       NaN  \n",
       "1       0.61895     95.438       0.171  0.004335  0.189551  \n",
       "2       0.59919     95.737       0.150  0.005057  0.228371  \n",
       "3       0.58331     95.374       0.101  0.005426  0.253321  \n",
       "4       0.57237     95.140       0.067  0.005642  0.261554  \n",
       "5       0.62289     96.508       0.217  0.005436  0.252477  \n",
       "6       0.64941     95.805       0.270  0.005541  0.257800  \n",
       "7       0.62780     96.126       0.240  0.005437  0.255523  \n",
       "8       0.61498     95.963       0.187  0.005455  0.267494  \n",
       "9       0.56340     96.657       0.044  0.005553  0.262498  \n",
       "10      0.65138     94.996       0.298  0.005729  0.264654  "
      ]
     },
     "execution_count": 29,
     "metadata": {},
     "output_type": "execute_result"
    }
   ],
   "source": [
    "train_eval_loop(nn_player, lr=0.0005, gamma=0.99, grad_clip=10, soft_epsilon=0.25, **train_eval_args)"
   ]
  },
  {
   "cell_type": "code",
   "execution_count": 30,
   "metadata": {},
   "outputs": [
    {
     "data": {
      "application/vnd.jupyter.widget-view+json": {
       "model_id": "532daa6645364e4eaa32af081b7c2660",
       "version_major": 2,
       "version_minor": 0
      },
      "text/plain": [
       "train/eval epochs:   0%|          | 0/10 [00:00<?, ?it/s]"
      ]
     },
     "metadata": {},
     "output_type": "display_data"
    },
    {
     "data": {
      "application/vnd.jupyter.widget-view+json": {
       "model_id": "448440d7ea9f49d992c3f37450680a92",
       "version_major": 2,
       "version_minor": 0
      },
      "text/plain": [
       "evaluating:   0%|          | 0/1000 [00:00<?, ?it/s]"
      ]
     },
     "metadata": {},
     "output_type": "display_data"
    },
    {
     "name": "stdout",
     "output_type": "stream",
     "text": [
      "2024-12-11 04:05:18,921 - research - INFO - untrained: win_rate=61.4000%, avg_reward=0.30\n"
     ]
    },
    {
     "data": {
      "application/vnd.jupyter.widget-view+json": {
       "model_id": "0c566e0e9eef41fbb902316f69c539ce",
       "version_major": 2,
       "version_minor": 0
      },
      "text/plain": [
       "practicing:   0%|          | 0/5000 [00:00<?, ?it/s]"
      ]
     },
     "metadata": {},
     "output_type": "display_data"
    },
    {
     "data": {
      "application/vnd.jupyter.widget-view+json": {
       "model_id": "d98200238d3f4fa0a10971334aba21aa",
       "version_major": 2,
       "version_minor": 0
      },
      "text/plain": [
       "evaluating:   0%|          | 0/1000 [00:00<?, ?it/s]"
      ]
     },
     "metadata": {},
     "output_type": "display_data"
    },
    {
     "name": "stdout",
     "output_type": "stream",
     "text": [
      "2024-12-11 04:08:10,477 - research - INFO - epoch=1: win_rate=52.8000%, avg_reward=0.07, avg_loss=0.0050, avg_grad=0.2533\n"
     ]
    },
    {
     "data": {
      "application/vnd.jupyter.widget-view+json": {
       "model_id": "15bf7bafc04a4e2e831dc9d4f9e50ed4",
       "version_major": 2,
       "version_minor": 0
      },
      "text/plain": [
       "practicing:   0%|          | 0/5000 [00:00<?, ?it/s]"
      ]
     },
     "metadata": {},
     "output_type": "display_data"
    },
    {
     "data": {
      "application/vnd.jupyter.widget-view+json": {
       "model_id": "7a8db16aa0d44515ae9704792638d5b8",
       "version_major": 2,
       "version_minor": 0
      },
      "text/plain": [
       "evaluating:   0%|          | 0/1000 [00:00<?, ?it/s]"
      ]
     },
     "metadata": {},
     "output_type": "display_data"
    },
    {
     "name": "stdout",
     "output_type": "stream",
     "text": [
      "2024-12-11 04:11:04,488 - research - INFO - epoch=2: win_rate=54.4000%, avg_reward=0.14, avg_loss=0.0059, avg_grad=0.2979\n"
     ]
    },
    {
     "data": {
      "application/vnd.jupyter.widget-view+json": {
       "model_id": "43f1b331c55d4179860391d2c49380a3",
       "version_major": 2,
       "version_minor": 0
      },
      "text/plain": [
       "practicing:   0%|          | 0/5000 [00:00<?, ?it/s]"
      ]
     },
     "metadata": {},
     "output_type": "display_data"
    },
    {
     "data": {
      "application/vnd.jupyter.widget-view+json": {
       "model_id": "a62a43e187b34c27b1eb12a844702269",
       "version_major": 2,
       "version_minor": 0
      },
      "text/plain": [
       "evaluating:   0%|          | 0/1000 [00:00<?, ?it/s]"
      ]
     },
     "metadata": {},
     "output_type": "display_data"
    },
    {
     "name": "stdout",
     "output_type": "stream",
     "text": [
      "2024-12-11 04:13:56,501 - research - INFO - epoch=3: win_rate=60.7000%, avg_reward=0.30, avg_loss=0.0058, avg_grad=0.2955\n"
     ]
    },
    {
     "data": {
      "application/vnd.jupyter.widget-view+json": {
       "model_id": "9e410b807ad04cbf9c67650b6600feea",
       "version_major": 2,
       "version_minor": 0
      },
      "text/plain": [
       "practicing:   0%|          | 0/5000 [00:00<?, ?it/s]"
      ]
     },
     "metadata": {},
     "output_type": "display_data"
    },
    {
     "data": {
      "application/vnd.jupyter.widget-view+json": {
       "model_id": "e750bec3bf3c4ecab5a0129e53b07def",
       "version_major": 2,
       "version_minor": 0
      },
      "text/plain": [
       "evaluating:   0%|          | 0/1000 [00:00<?, ?it/s]"
      ]
     },
     "metadata": {},
     "output_type": "display_data"
    },
    {
     "name": "stdout",
     "output_type": "stream",
     "text": [
      "2024-12-11 04:16:48,581 - research - INFO - epoch=4: win_rate=46.3000%, avg_reward=-0.11, avg_loss=0.0058, avg_grad=0.3011\n"
     ]
    },
    {
     "data": {
      "application/vnd.jupyter.widget-view+json": {
       "model_id": "0a594f25199e41c8bffa191fd50f51db",
       "version_major": 2,
       "version_minor": 0
      },
      "text/plain": [
       "practicing:   0%|          | 0/5000 [00:00<?, ?it/s]"
      ]
     },
     "metadata": {},
     "output_type": "display_data"
    },
    {
     "data": {
      "application/vnd.jupyter.widget-view+json": {
       "model_id": "8a003aa2465848e4b525aef9cbf9a305",
       "version_major": 2,
       "version_minor": 0
      },
      "text/plain": [
       "evaluating:   0%|          | 0/1000 [00:00<?, ?it/s]"
      ]
     },
     "metadata": {},
     "output_type": "display_data"
    },
    {
     "name": "stdout",
     "output_type": "stream",
     "text": [
      "2024-12-11 04:19:41,639 - research - INFO - epoch=5: win_rate=58.2000%, avg_reward=0.24, avg_loss=0.0061, avg_grad=0.3205\n"
     ]
    },
    {
     "data": {
      "application/vnd.jupyter.widget-view+json": {
       "model_id": "06346bb859dd4a75b7bf5b71a6c9e465",
       "version_major": 2,
       "version_minor": 0
      },
      "text/plain": [
       "practicing:   0%|          | 0/5000 [00:00<?, ?it/s]"
      ]
     },
     "metadata": {},
     "output_type": "display_data"
    },
    {
     "data": {
      "application/vnd.jupyter.widget-view+json": {
       "model_id": "0c9896e05bd24db9b51c1a8337ee6225",
       "version_major": 2,
       "version_minor": 0
      },
      "text/plain": [
       "evaluating:   0%|          | 0/1000 [00:00<?, ?it/s]"
      ]
     },
     "metadata": {},
     "output_type": "display_data"
    },
    {
     "name": "stdout",
     "output_type": "stream",
     "text": [
      "2024-12-11 04:22:34,047 - research - INFO - epoch=6: win_rate=59.5000%, avg_reward=0.22, avg_loss=0.0058, avg_grad=0.3157\n"
     ]
    },
    {
     "data": {
      "application/vnd.jupyter.widget-view+json": {
       "model_id": "8ded46f6451f40aaba0fddad88fedbf8",
       "version_major": 2,
       "version_minor": 0
      },
      "text/plain": [
       "practicing:   0%|          | 0/5000 [00:00<?, ?it/s]"
      ]
     },
     "metadata": {},
     "output_type": "display_data"
    },
    {
     "data": {
      "application/vnd.jupyter.widget-view+json": {
       "model_id": "fe99d087666d40e0827ba8c76ce3ff73",
       "version_major": 2,
       "version_minor": 0
      },
      "text/plain": [
       "evaluating:   0%|          | 0/1000 [00:00<?, ?it/s]"
      ]
     },
     "metadata": {},
     "output_type": "display_data"
    },
    {
     "name": "stdout",
     "output_type": "stream",
     "text": [
      "2024-12-11 04:25:26,480 - research - INFO - epoch=7: win_rate=58.6000%, avg_reward=0.23, avg_loss=0.0058, avg_grad=0.3083\n"
     ]
    },
    {
     "data": {
      "application/vnd.jupyter.widget-view+json": {
       "model_id": "f0bbe1b5f17c4d28a732b94e5d83514b",
       "version_major": 2,
       "version_minor": 0
      },
      "text/plain": [
       "practicing:   0%|          | 0/5000 [00:00<?, ?it/s]"
      ]
     },
     "metadata": {},
     "output_type": "display_data"
    },
    {
     "data": {
      "application/vnd.jupyter.widget-view+json": {
       "model_id": "4361072ae4964e01a514953d8b80769c",
       "version_major": 2,
       "version_minor": 0
      },
      "text/plain": [
       "evaluating:   0%|          | 0/1000 [00:00<?, ?it/s]"
      ]
     },
     "metadata": {},
     "output_type": "display_data"
    },
    {
     "name": "stdout",
     "output_type": "stream",
     "text": [
      "2024-12-11 04:28:19,383 - research - INFO - epoch=8: win_rate=56.8000%, avg_reward=0.17, avg_loss=0.0058, avg_grad=0.3122\n"
     ]
    },
    {
     "data": {
      "application/vnd.jupyter.widget-view+json": {
       "model_id": "66e58cf2572246669508e1aebf0ef7ac",
       "version_major": 2,
       "version_minor": 0
      },
      "text/plain": [
       "practicing:   0%|          | 0/5000 [00:00<?, ?it/s]"
      ]
     },
     "metadata": {},
     "output_type": "display_data"
    },
    {
     "data": {
      "application/vnd.jupyter.widget-view+json": {
       "model_id": "d7ffe5d35ca244429a3bbcb3eff1992c",
       "version_major": 2,
       "version_minor": 0
      },
      "text/plain": [
       "evaluating:   0%|          | 0/1000 [00:00<?, ?it/s]"
      ]
     },
     "metadata": {},
     "output_type": "display_data"
    },
    {
     "name": "stdout",
     "output_type": "stream",
     "text": [
      "2024-12-11 04:31:12,483 - research - INFO - epoch=9: win_rate=61.9000%, avg_reward=0.30, avg_loss=0.0057, avg_grad=0.3158\n"
     ]
    },
    {
     "data": {
      "application/vnd.jupyter.widget-view+json": {
       "model_id": "8244442f836a4befb0fdb5a046fed91b",
       "version_major": 2,
       "version_minor": 0
      },
      "text/plain": [
       "practicing:   0%|          | 0/5000 [00:00<?, ?it/s]"
      ]
     },
     "metadata": {},
     "output_type": "display_data"
    },
    {
     "data": {
      "application/vnd.jupyter.widget-view+json": {
       "model_id": "c68a850ab0ac4961a754fbfac43a37b7",
       "version_major": 2,
       "version_minor": 0
      },
      "text/plain": [
       "evaluating:   0%|          | 0/1000 [00:00<?, ?it/s]"
      ]
     },
     "metadata": {},
     "output_type": "display_data"
    },
    {
     "name": "stdout",
     "output_type": "stream",
     "text": [
      "2024-12-11 04:34:05,750 - research - INFO - epoch=10: win_rate=55.0000%, avg_reward=0.13, avg_loss=0.0061, avg_grad=0.3289\n"
     ]
    },
    {
     "data": {
      "text/html": [
       "<div>\n",
       "<style scoped>\n",
       "    .dataframe tbody tr th:only-of-type {\n",
       "        vertical-align: middle;\n",
       "    }\n",
       "\n",
       "    .dataframe tbody tr th {\n",
       "        vertical-align: top;\n",
       "    }\n",
       "\n",
       "    .dataframe thead th {\n",
       "        text-align: right;\n",
       "    }\n",
       "</style>\n",
       "<table border=\"1\" class=\"dataframe\">\n",
       "  <thead>\n",
       "    <tr style=\"text-align: right;\">\n",
       "      <th></th>\n",
       "      <th>model</th>\n",
       "      <th>p2</th>\n",
       "      <th>start</th>\n",
       "      <th>games</th>\n",
       "      <th>wins</th>\n",
       "      <th>win_rate_lo</th>\n",
       "      <th>win_rate_mu</th>\n",
       "      <th>win_rate_hi</th>\n",
       "      <th>avg_turns</th>\n",
       "      <th>avg_reward</th>\n",
       "      <th>avg_loss</th>\n",
       "      <th>avg_grad</th>\n",
       "    </tr>\n",
       "  </thead>\n",
       "  <tbody>\n",
       "    <tr>\n",
       "      <th>0</th>\n",
       "      <td>untrained</td>\n",
       "      <td>random</td>\n",
       "      <td>random</td>\n",
       "      <td>1000</td>\n",
       "      <td>614</td>\n",
       "      <td>0.56783</td>\n",
       "      <td>0.614</td>\n",
       "      <td>0.66017</td>\n",
       "      <td>95.434</td>\n",
       "      <td>0.303</td>\n",
       "      <td>NaN</td>\n",
       "      <td>NaN</td>\n",
       "    </tr>\n",
       "    <tr>\n",
       "      <th>1</th>\n",
       "      <td>epoch-1</td>\n",
       "      <td>random</td>\n",
       "      <td>random</td>\n",
       "      <td>1000</td>\n",
       "      <td>528</td>\n",
       "      <td>0.48063</td>\n",
       "      <td>0.528</td>\n",
       "      <td>0.57537</td>\n",
       "      <td>95.940</td>\n",
       "      <td>0.075</td>\n",
       "      <td>0.005027</td>\n",
       "      <td>0.253329</td>\n",
       "    </tr>\n",
       "    <tr>\n",
       "      <th>2</th>\n",
       "      <td>epoch-2</td>\n",
       "      <td>random</td>\n",
       "      <td>random</td>\n",
       "      <td>1000</td>\n",
       "      <td>544</td>\n",
       "      <td>0.49675</td>\n",
       "      <td>0.544</td>\n",
       "      <td>0.59125</td>\n",
       "      <td>96.175</td>\n",
       "      <td>0.137</td>\n",
       "      <td>0.005853</td>\n",
       "      <td>0.297899</td>\n",
       "    </tr>\n",
       "    <tr>\n",
       "      <th>3</th>\n",
       "      <td>epoch-3</td>\n",
       "      <td>random</td>\n",
       "      <td>random</td>\n",
       "      <td>1000</td>\n",
       "      <td>607</td>\n",
       "      <td>0.56065</td>\n",
       "      <td>0.607</td>\n",
       "      <td>0.65335</td>\n",
       "      <td>96.106</td>\n",
       "      <td>0.299</td>\n",
       "      <td>0.005757</td>\n",
       "      <td>0.295506</td>\n",
       "    </tr>\n",
       "    <tr>\n",
       "      <th>4</th>\n",
       "      <td>epoch-4</td>\n",
       "      <td>random</td>\n",
       "      <td>random</td>\n",
       "      <td>1000</td>\n",
       "      <td>463</td>\n",
       "      <td>0.41569</td>\n",
       "      <td>0.463</td>\n",
       "      <td>0.51031</td>\n",
       "      <td>96.651</td>\n",
       "      <td>-0.110</td>\n",
       "      <td>0.005832</td>\n",
       "      <td>0.301061</td>\n",
       "    </tr>\n",
       "    <tr>\n",
       "      <th>5</th>\n",
       "      <td>epoch-5</td>\n",
       "      <td>random</td>\n",
       "      <td>random</td>\n",
       "      <td>1000</td>\n",
       "      <td>582</td>\n",
       "      <td>0.53520</td>\n",
       "      <td>0.582</td>\n",
       "      <td>0.62880</td>\n",
       "      <td>95.467</td>\n",
       "      <td>0.244</td>\n",
       "      <td>0.006102</td>\n",
       "      <td>0.320532</td>\n",
       "    </tr>\n",
       "    <tr>\n",
       "      <th>6</th>\n",
       "      <td>epoch-6</td>\n",
       "      <td>random</td>\n",
       "      <td>random</td>\n",
       "      <td>1000</td>\n",
       "      <td>595</td>\n",
       "      <td>0.54844</td>\n",
       "      <td>0.595</td>\n",
       "      <td>0.64156</td>\n",
       "      <td>95.365</td>\n",
       "      <td>0.219</td>\n",
       "      <td>0.005818</td>\n",
       "      <td>0.315676</td>\n",
       "    </tr>\n",
       "    <tr>\n",
       "      <th>7</th>\n",
       "      <td>epoch-7</td>\n",
       "      <td>random</td>\n",
       "      <td>random</td>\n",
       "      <td>1000</td>\n",
       "      <td>586</td>\n",
       "      <td>0.53926</td>\n",
       "      <td>0.586</td>\n",
       "      <td>0.63274</td>\n",
       "      <td>95.277</td>\n",
       "      <td>0.225</td>\n",
       "      <td>0.005775</td>\n",
       "      <td>0.308308</td>\n",
       "    </tr>\n",
       "    <tr>\n",
       "      <th>8</th>\n",
       "      <td>epoch-8</td>\n",
       "      <td>random</td>\n",
       "      <td>random</td>\n",
       "      <td>1000</td>\n",
       "      <td>568</td>\n",
       "      <td>0.52102</td>\n",
       "      <td>0.568</td>\n",
       "      <td>0.61498</td>\n",
       "      <td>96.031</td>\n",
       "      <td>0.175</td>\n",
       "      <td>0.005803</td>\n",
       "      <td>0.312226</td>\n",
       "    </tr>\n",
       "    <tr>\n",
       "      <th>9</th>\n",
       "      <td>epoch-9</td>\n",
       "      <td>random</td>\n",
       "      <td>random</td>\n",
       "      <td>1000</td>\n",
       "      <td>619</td>\n",
       "      <td>0.57292</td>\n",
       "      <td>0.619</td>\n",
       "      <td>0.66508</td>\n",
       "      <td>95.883</td>\n",
       "      <td>0.305</td>\n",
       "      <td>0.005747</td>\n",
       "      <td>0.315775</td>\n",
       "    </tr>\n",
       "    <tr>\n",
       "      <th>10</th>\n",
       "      <td>epoch-10</td>\n",
       "      <td>random</td>\n",
       "      <td>random</td>\n",
       "      <td>1000</td>\n",
       "      <td>550</td>\n",
       "      <td>0.50281</td>\n",
       "      <td>0.550</td>\n",
       "      <td>0.59719</td>\n",
       "      <td>95.481</td>\n",
       "      <td>0.134</td>\n",
       "      <td>0.006097</td>\n",
       "      <td>0.328922</td>\n",
       "    </tr>\n",
       "  </tbody>\n",
       "</table>\n",
       "</div>"
      ],
      "text/plain": [
       "        model      p2   start  games  wins  win_rate_lo  win_rate_mu  \\\n",
       "0   untrained  random  random   1000   614      0.56783        0.614   \n",
       "1     epoch-1  random  random   1000   528      0.48063        0.528   \n",
       "2     epoch-2  random  random   1000   544      0.49675        0.544   \n",
       "3     epoch-3  random  random   1000   607      0.56065        0.607   \n",
       "4     epoch-4  random  random   1000   463      0.41569        0.463   \n",
       "5     epoch-5  random  random   1000   582      0.53520        0.582   \n",
       "6     epoch-6  random  random   1000   595      0.54844        0.595   \n",
       "7     epoch-7  random  random   1000   586      0.53926        0.586   \n",
       "8     epoch-8  random  random   1000   568      0.52102        0.568   \n",
       "9     epoch-9  random  random   1000   619      0.57292        0.619   \n",
       "10   epoch-10  random  random   1000   550      0.50281        0.550   \n",
       "\n",
       "    win_rate_hi  avg_turns  avg_reward  avg_loss  avg_grad  \n",
       "0       0.66017     95.434       0.303       NaN       NaN  \n",
       "1       0.57537     95.940       0.075  0.005027  0.253329  \n",
       "2       0.59125     96.175       0.137  0.005853  0.297899  \n",
       "3       0.65335     96.106       0.299  0.005757  0.295506  \n",
       "4       0.51031     96.651      -0.110  0.005832  0.301061  \n",
       "5       0.62880     95.467       0.244  0.006102  0.320532  \n",
       "6       0.64156     95.365       0.219  0.005818  0.315676  \n",
       "7       0.63274     95.277       0.225  0.005775  0.308308  \n",
       "8       0.61498     96.031       0.175  0.005803  0.312226  \n",
       "9       0.66508     95.883       0.305  0.005747  0.315775  \n",
       "10      0.59719     95.481       0.134  0.006097  0.328922  "
      ]
     },
     "execution_count": 30,
     "metadata": {},
     "output_type": "execute_result"
    }
   ],
   "source": [
    "train_eval_loop(nn_player, lr=0.00025, gamma=0.99, grad_clip=10, soft_epsilon=0.10, **train_eval_args)"
   ]
  },
  {
   "cell_type": "code",
   "execution_count": 31,
   "metadata": {},
   "outputs": [
    {
     "data": {
      "application/vnd.jupyter.widget-view+json": {
       "model_id": "cadb9e516c424f81ab6859f67c4d01de",
       "version_major": 2,
       "version_minor": 0
      },
      "text/plain": [
       "train/eval epochs:   0%|          | 0/10 [00:00<?, ?it/s]"
      ]
     },
     "metadata": {},
     "output_type": "display_data"
    },
    {
     "data": {
      "application/vnd.jupyter.widget-view+json": {
       "model_id": "53fbe2144ee845ec909142f58c3ed0d2",
       "version_major": 2,
       "version_minor": 0
      },
      "text/plain": [
       "evaluating:   0%|          | 0/1000 [00:00<?, ?it/s]"
      ]
     },
     "metadata": {},
     "output_type": "display_data"
    },
    {
     "name": "stdout",
     "output_type": "stream",
     "text": [
      "2024-12-11 04:34:25,441 - research - INFO - untrained: win_rate=58.5000%, avg_reward=0.23\n"
     ]
    },
    {
     "data": {
      "application/vnd.jupyter.widget-view+json": {
       "model_id": "116e793e000c401ebf14e457618c7268",
       "version_major": 2,
       "version_minor": 0
      },
      "text/plain": [
       "practicing:   0%|          | 0/5000 [00:00<?, ?it/s]"
      ]
     },
     "metadata": {},
     "output_type": "display_data"
    },
    {
     "data": {
      "application/vnd.jupyter.widget-view+json": {
       "model_id": "39a1b11e0af64281a45414a6217f922a",
       "version_major": 2,
       "version_minor": 0
      },
      "text/plain": [
       "evaluating:   0%|          | 0/1000 [00:00<?, ?it/s]"
      ]
     },
     "metadata": {},
     "output_type": "display_data"
    },
    {
     "name": "stdout",
     "output_type": "stream",
     "text": [
      "2024-12-11 04:37:19,680 - research - INFO - epoch=1: win_rate=55.5000%, avg_reward=0.13, avg_loss=0.0059, avg_grad=0.3182\n"
     ]
    },
    {
     "data": {
      "application/vnd.jupyter.widget-view+json": {
       "model_id": "795a54306189477282481f7d55be4cf4",
       "version_major": 2,
       "version_minor": 0
      },
      "text/plain": [
       "practicing:   0%|          | 0/5000 [00:00<?, ?it/s]"
      ]
     },
     "metadata": {},
     "output_type": "display_data"
    },
    {
     "data": {
      "application/vnd.jupyter.widget-view+json": {
       "model_id": "6ca833bd11ee405c98e8a9de1671365c",
       "version_major": 2,
       "version_minor": 0
      },
      "text/plain": [
       "evaluating:   0%|          | 0/1000 [00:00<?, ?it/s]"
      ]
     },
     "metadata": {},
     "output_type": "display_data"
    },
    {
     "name": "stdout",
     "output_type": "stream",
     "text": [
      "2024-12-11 04:40:12,834 - research - INFO - epoch=2: win_rate=58.0000%, avg_reward=0.22, avg_loss=0.0060, avg_grad=0.3250\n"
     ]
    },
    {
     "data": {
      "application/vnd.jupyter.widget-view+json": {
       "model_id": "56c7411d1e734c09a0cf02eef38e23b2",
       "version_major": 2,
       "version_minor": 0
      },
      "text/plain": [
       "practicing:   0%|          | 0/5000 [00:00<?, ?it/s]"
      ]
     },
     "metadata": {},
     "output_type": "display_data"
    },
    {
     "data": {
      "application/vnd.jupyter.widget-view+json": {
       "model_id": "2f0446ffc0ab47fc80161846fd2b8a0f",
       "version_major": 2,
       "version_minor": 0
      },
      "text/plain": [
       "evaluating:   0%|          | 0/1000 [00:00<?, ?it/s]"
      ]
     },
     "metadata": {},
     "output_type": "display_data"
    },
    {
     "name": "stdout",
     "output_type": "stream",
     "text": [
      "2024-12-11 04:43:06,082 - research - INFO - epoch=3: win_rate=62.6000%, avg_reward=0.33, avg_loss=0.0061, avg_grad=0.3364\n"
     ]
    },
    {
     "data": {
      "application/vnd.jupyter.widget-view+json": {
       "model_id": "686236ee38104045997f7018aeb5c195",
       "version_major": 2,
       "version_minor": 0
      },
      "text/plain": [
       "practicing:   0%|          | 0/5000 [00:00<?, ?it/s]"
      ]
     },
     "metadata": {},
     "output_type": "display_data"
    },
    {
     "data": {
      "application/vnd.jupyter.widget-view+json": {
       "model_id": "43828ae9cbda4252b9b5915772f591a4",
       "version_major": 2,
       "version_minor": 0
      },
      "text/plain": [
       "evaluating:   0%|          | 0/1000 [00:00<?, ?it/s]"
      ]
     },
     "metadata": {},
     "output_type": "display_data"
    },
    {
     "name": "stdout",
     "output_type": "stream",
     "text": [
      "2024-12-11 04:45:59,456 - research - INFO - epoch=4: win_rate=62.9000%, avg_reward=0.32, avg_loss=0.0065, avg_grad=0.3566\n"
     ]
    },
    {
     "data": {
      "application/vnd.jupyter.widget-view+json": {
       "model_id": "6456d6e7c98540f0be2daa31b1143e3b",
       "version_major": 2,
       "version_minor": 0
      },
      "text/plain": [
       "practicing:   0%|          | 0/5000 [00:00<?, ?it/s]"
      ]
     },
     "metadata": {},
     "output_type": "display_data"
    },
    {
     "data": {
      "application/vnd.jupyter.widget-view+json": {
       "model_id": "0c0975d69a92410dab6663216f47bfad",
       "version_major": 2,
       "version_minor": 0
      },
      "text/plain": [
       "evaluating:   0%|          | 0/1000 [00:00<?, ?it/s]"
      ]
     },
     "metadata": {},
     "output_type": "display_data"
    },
    {
     "name": "stdout",
     "output_type": "stream",
     "text": [
      "2024-12-11 04:48:52,831 - research - INFO - epoch=5: win_rate=62.1000%, avg_reward=0.34, avg_loss=0.0062, avg_grad=0.3496\n"
     ]
    },
    {
     "data": {
      "application/vnd.jupyter.widget-view+json": {
       "model_id": "1e4cd8d7648c49ed8921cf9bf85c8e53",
       "version_major": 2,
       "version_minor": 0
      },
      "text/plain": [
       "practicing:   0%|          | 0/5000 [00:00<?, ?it/s]"
      ]
     },
     "metadata": {},
     "output_type": "display_data"
    },
    {
     "data": {
      "application/vnd.jupyter.widget-view+json": {
       "model_id": "33c22726b13e45e7964f24bddff5066c",
       "version_major": 2,
       "version_minor": 0
      },
      "text/plain": [
       "evaluating:   0%|          | 0/1000 [00:00<?, ?it/s]"
      ]
     },
     "metadata": {},
     "output_type": "display_data"
    },
    {
     "name": "stdout",
     "output_type": "stream",
     "text": [
      "2024-12-11 04:51:46,158 - research - INFO - epoch=6: win_rate=66.0000%, avg_reward=0.42, avg_loss=0.0062, avg_grad=0.3495\n"
     ]
    },
    {
     "data": {
      "application/vnd.jupyter.widget-view+json": {
       "model_id": "952539972e8142f2b58e3b2adc522ef9",
       "version_major": 2,
       "version_minor": 0
      },
      "text/plain": [
       "practicing:   0%|          | 0/5000 [00:00<?, ?it/s]"
      ]
     },
     "metadata": {},
     "output_type": "display_data"
    },
    {
     "data": {
      "application/vnd.jupyter.widget-view+json": {
       "model_id": "5ee650d99d434f5e8887c54940b8d0e2",
       "version_major": 2,
       "version_minor": 0
      },
      "text/plain": [
       "evaluating:   0%|          | 0/1000 [00:00<?, ?it/s]"
      ]
     },
     "metadata": {},
     "output_type": "display_data"
    },
    {
     "name": "stdout",
     "output_type": "stream",
     "text": [
      "2024-12-11 04:54:39,615 - research - INFO - epoch=7: win_rate=57.6000%, avg_reward=0.22, avg_loss=0.0062, avg_grad=0.3509\n"
     ]
    },
    {
     "data": {
      "application/vnd.jupyter.widget-view+json": {
       "model_id": "4a00053627504e0d985f12e7b26f40aa",
       "version_major": 2,
       "version_minor": 0
      },
      "text/plain": [
       "practicing:   0%|          | 0/5000 [00:00<?, ?it/s]"
      ]
     },
     "metadata": {},
     "output_type": "display_data"
    },
    {
     "data": {
      "application/vnd.jupyter.widget-view+json": {
       "model_id": "7a6e38d0764441ed9ad937f3f8e16030",
       "version_major": 2,
       "version_minor": 0
      },
      "text/plain": [
       "evaluating:   0%|          | 0/1000 [00:00<?, ?it/s]"
      ]
     },
     "metadata": {},
     "output_type": "display_data"
    },
    {
     "name": "stdout",
     "output_type": "stream",
     "text": [
      "2024-12-11 04:57:33,384 - research - INFO - epoch=8: win_rate=62.3000%, avg_reward=0.35, avg_loss=0.0063, avg_grad=0.3539\n"
     ]
    },
    {
     "data": {
      "application/vnd.jupyter.widget-view+json": {
       "model_id": "41c9eee4c04741b098caa0be4281d325",
       "version_major": 2,
       "version_minor": 0
      },
      "text/plain": [
       "practicing:   0%|          | 0/5000 [00:00<?, ?it/s]"
      ]
     },
     "metadata": {},
     "output_type": "display_data"
    },
    {
     "data": {
      "application/vnd.jupyter.widget-view+json": {
       "model_id": "5c9e30362fe34ec0a909ebb90d96656e",
       "version_major": 2,
       "version_minor": 0
      },
      "text/plain": [
       "evaluating:   0%|          | 0/1000 [00:00<?, ?it/s]"
      ]
     },
     "metadata": {},
     "output_type": "display_data"
    },
    {
     "name": "stdout",
     "output_type": "stream",
     "text": [
      "2024-12-11 05:00:27,669 - research - INFO - epoch=9: win_rate=60.0000%, avg_reward=0.28, avg_loss=0.0062, avg_grad=0.3633\n"
     ]
    },
    {
     "data": {
      "application/vnd.jupyter.widget-view+json": {
       "model_id": "73a6c01a611b49ac957ca89eff958c41",
       "version_major": 2,
       "version_minor": 0
      },
      "text/plain": [
       "practicing:   0%|          | 0/5000 [00:00<?, ?it/s]"
      ]
     },
     "metadata": {},
     "output_type": "display_data"
    },
    {
     "data": {
      "application/vnd.jupyter.widget-view+json": {
       "model_id": "ac17baa11dee4482822359bc032ebfa0",
       "version_major": 2,
       "version_minor": 0
      },
      "text/plain": [
       "evaluating:   0%|          | 0/1000 [00:00<?, ?it/s]"
      ]
     },
     "metadata": {},
     "output_type": "display_data"
    },
    {
     "name": "stdout",
     "output_type": "stream",
     "text": [
      "2024-12-11 05:03:21,252 - research - INFO - epoch=10: win_rate=65.1000%, avg_reward=0.43, avg_loss=0.0061, avg_grad=0.3533\n"
     ]
    },
    {
     "data": {
      "text/html": [
       "<div>\n",
       "<style scoped>\n",
       "    .dataframe tbody tr th:only-of-type {\n",
       "        vertical-align: middle;\n",
       "    }\n",
       "\n",
       "    .dataframe tbody tr th {\n",
       "        vertical-align: top;\n",
       "    }\n",
       "\n",
       "    .dataframe thead th {\n",
       "        text-align: right;\n",
       "    }\n",
       "</style>\n",
       "<table border=\"1\" class=\"dataframe\">\n",
       "  <thead>\n",
       "    <tr style=\"text-align: right;\">\n",
       "      <th></th>\n",
       "      <th>model</th>\n",
       "      <th>p2</th>\n",
       "      <th>start</th>\n",
       "      <th>games</th>\n",
       "      <th>wins</th>\n",
       "      <th>win_rate_lo</th>\n",
       "      <th>win_rate_mu</th>\n",
       "      <th>win_rate_hi</th>\n",
       "      <th>avg_turns</th>\n",
       "      <th>avg_reward</th>\n",
       "      <th>avg_loss</th>\n",
       "      <th>avg_grad</th>\n",
       "    </tr>\n",
       "  </thead>\n",
       "  <tbody>\n",
       "    <tr>\n",
       "      <th>0</th>\n",
       "      <td>untrained</td>\n",
       "      <td>random</td>\n",
       "      <td>random</td>\n",
       "      <td>1000</td>\n",
       "      <td>585</td>\n",
       "      <td>0.53826</td>\n",
       "      <td>0.585</td>\n",
       "      <td>0.63174</td>\n",
       "      <td>95.546</td>\n",
       "      <td>0.233</td>\n",
       "      <td>NaN</td>\n",
       "      <td>NaN</td>\n",
       "    </tr>\n",
       "    <tr>\n",
       "      <th>1</th>\n",
       "      <td>epoch-1</td>\n",
       "      <td>random</td>\n",
       "      <td>random</td>\n",
       "      <td>1000</td>\n",
       "      <td>555</td>\n",
       "      <td>0.50784</td>\n",
       "      <td>0.555</td>\n",
       "      <td>0.60216</td>\n",
       "      <td>95.852</td>\n",
       "      <td>0.129</td>\n",
       "      <td>0.005909</td>\n",
       "      <td>0.318177</td>\n",
       "    </tr>\n",
       "    <tr>\n",
       "      <th>2</th>\n",
       "      <td>epoch-2</td>\n",
       "      <td>random</td>\n",
       "      <td>random</td>\n",
       "      <td>1000</td>\n",
       "      <td>580</td>\n",
       "      <td>0.53317</td>\n",
       "      <td>0.580</td>\n",
       "      <td>0.62683</td>\n",
       "      <td>95.700</td>\n",
       "      <td>0.216</td>\n",
       "      <td>0.005953</td>\n",
       "      <td>0.324958</td>\n",
       "    </tr>\n",
       "    <tr>\n",
       "      <th>3</th>\n",
       "      <td>epoch-3</td>\n",
       "      <td>random</td>\n",
       "      <td>random</td>\n",
       "      <td>1000</td>\n",
       "      <td>626</td>\n",
       "      <td>0.58010</td>\n",
       "      <td>0.626</td>\n",
       "      <td>0.67190</td>\n",
       "      <td>95.868</td>\n",
       "      <td>0.333</td>\n",
       "      <td>0.006132</td>\n",
       "      <td>0.336373</td>\n",
       "    </tr>\n",
       "    <tr>\n",
       "      <th>4</th>\n",
       "      <td>epoch-4</td>\n",
       "      <td>random</td>\n",
       "      <td>random</td>\n",
       "      <td>1000</td>\n",
       "      <td>629</td>\n",
       "      <td>0.58316</td>\n",
       "      <td>0.629</td>\n",
       "      <td>0.67484</td>\n",
       "      <td>95.678</td>\n",
       "      <td>0.317</td>\n",
       "      <td>0.006497</td>\n",
       "      <td>0.356565</td>\n",
       "    </tr>\n",
       "    <tr>\n",
       "      <th>5</th>\n",
       "      <td>epoch-5</td>\n",
       "      <td>random</td>\n",
       "      <td>random</td>\n",
       "      <td>1000</td>\n",
       "      <td>621</td>\n",
       "      <td>0.57498</td>\n",
       "      <td>0.621</td>\n",
       "      <td>0.66702</td>\n",
       "      <td>95.208</td>\n",
       "      <td>0.337</td>\n",
       "      <td>0.006236</td>\n",
       "      <td>0.349558</td>\n",
       "    </tr>\n",
       "    <tr>\n",
       "      <th>6</th>\n",
       "      <td>epoch-6</td>\n",
       "      <td>random</td>\n",
       "      <td>random</td>\n",
       "      <td>1000</td>\n",
       "      <td>660</td>\n",
       "      <td>0.61506</td>\n",
       "      <td>0.660</td>\n",
       "      <td>0.70494</td>\n",
       "      <td>95.159</td>\n",
       "      <td>0.424</td>\n",
       "      <td>0.006150</td>\n",
       "      <td>0.349550</td>\n",
       "    </tr>\n",
       "    <tr>\n",
       "      <th>7</th>\n",
       "      <td>epoch-7</td>\n",
       "      <td>random</td>\n",
       "      <td>random</td>\n",
       "      <td>1000</td>\n",
       "      <td>576</td>\n",
       "      <td>0.52911</td>\n",
       "      <td>0.576</td>\n",
       "      <td>0.62289</td>\n",
       "      <td>95.796</td>\n",
       "      <td>0.218</td>\n",
       "      <td>0.006160</td>\n",
       "      <td>0.350875</td>\n",
       "    </tr>\n",
       "    <tr>\n",
       "      <th>8</th>\n",
       "      <td>epoch-8</td>\n",
       "      <td>random</td>\n",
       "      <td>random</td>\n",
       "      <td>1000</td>\n",
       "      <td>623</td>\n",
       "      <td>0.57701</td>\n",
       "      <td>0.623</td>\n",
       "      <td>0.66899</td>\n",
       "      <td>95.863</td>\n",
       "      <td>0.355</td>\n",
       "      <td>0.006264</td>\n",
       "      <td>0.353914</td>\n",
       "    </tr>\n",
       "    <tr>\n",
       "      <th>9</th>\n",
       "      <td>epoch-9</td>\n",
       "      <td>random</td>\n",
       "      <td>random</td>\n",
       "      <td>1000</td>\n",
       "      <td>600</td>\n",
       "      <td>0.55353</td>\n",
       "      <td>0.600</td>\n",
       "      <td>0.64647</td>\n",
       "      <td>95.581</td>\n",
       "      <td>0.277</td>\n",
       "      <td>0.006166</td>\n",
       "      <td>0.363265</td>\n",
       "    </tr>\n",
       "    <tr>\n",
       "      <th>10</th>\n",
       "      <td>epoch-10</td>\n",
       "      <td>random</td>\n",
       "      <td>random</td>\n",
       "      <td>1000</td>\n",
       "      <td>651</td>\n",
       "      <td>0.60579</td>\n",
       "      <td>0.651</td>\n",
       "      <td>0.69621</td>\n",
       "      <td>95.170</td>\n",
       "      <td>0.431</td>\n",
       "      <td>0.006096</td>\n",
       "      <td>0.353302</td>\n",
       "    </tr>\n",
       "  </tbody>\n",
       "</table>\n",
       "</div>"
      ],
      "text/plain": [
       "        model      p2   start  games  wins  win_rate_lo  win_rate_mu  \\\n",
       "0   untrained  random  random   1000   585      0.53826        0.585   \n",
       "1     epoch-1  random  random   1000   555      0.50784        0.555   \n",
       "2     epoch-2  random  random   1000   580      0.53317        0.580   \n",
       "3     epoch-3  random  random   1000   626      0.58010        0.626   \n",
       "4     epoch-4  random  random   1000   629      0.58316        0.629   \n",
       "5     epoch-5  random  random   1000   621      0.57498        0.621   \n",
       "6     epoch-6  random  random   1000   660      0.61506        0.660   \n",
       "7     epoch-7  random  random   1000   576      0.52911        0.576   \n",
       "8     epoch-8  random  random   1000   623      0.57701        0.623   \n",
       "9     epoch-9  random  random   1000   600      0.55353        0.600   \n",
       "10   epoch-10  random  random   1000   651      0.60579        0.651   \n",
       "\n",
       "    win_rate_hi  avg_turns  avg_reward  avg_loss  avg_grad  \n",
       "0       0.63174     95.546       0.233       NaN       NaN  \n",
       "1       0.60216     95.852       0.129  0.005909  0.318177  \n",
       "2       0.62683     95.700       0.216  0.005953  0.324958  \n",
       "3       0.67190     95.868       0.333  0.006132  0.336373  \n",
       "4       0.67484     95.678       0.317  0.006497  0.356565  \n",
       "5       0.66702     95.208       0.337  0.006236  0.349558  \n",
       "6       0.70494     95.159       0.424  0.006150  0.349550  \n",
       "7       0.62289     95.796       0.218  0.006160  0.350875  \n",
       "8       0.66899     95.863       0.355  0.006264  0.353914  \n",
       "9       0.64647     95.581       0.277  0.006166  0.363265  \n",
       "10      0.69621     95.170       0.431  0.006096  0.353302  "
      ]
     },
     "execution_count": 31,
     "metadata": {},
     "output_type": "execute_result"
    }
   ],
   "source": [
    "train_eval_loop(nn_player, lr=0.00015, gamma=0.99, grad_clip=10, soft_epsilon=0.05, **train_eval_args)"
   ]
  },
  {
   "cell_type": "code",
   "execution_count": 32,
   "metadata": {},
   "outputs": [
    {
     "data": {
      "application/vnd.jupyter.widget-view+json": {
       "model_id": "a1d88ca412bb4ffd9b688a162a371384",
       "version_major": 2,
       "version_minor": 0
      },
      "text/plain": [
       "train/eval epochs:   0%|          | 0/10 [00:00<?, ?it/s]"
      ]
     },
     "metadata": {},
     "output_type": "display_data"
    },
    {
     "data": {
      "application/vnd.jupyter.widget-view+json": {
       "model_id": "0292bc2e29574aadaa588ba5844867ef",
       "version_major": 2,
       "version_minor": 0
      },
      "text/plain": [
       "evaluating:   0%|          | 0/1000 [00:00<?, ?it/s]"
      ]
     },
     "metadata": {},
     "output_type": "display_data"
    },
    {
     "name": "stdout",
     "output_type": "stream",
     "text": [
      "2024-12-11 05:03:40,761 - research - INFO - untrained: win_rate=66.0000%, avg_reward=0.43\n"
     ]
    },
    {
     "data": {
      "application/vnd.jupyter.widget-view+json": {
       "model_id": "140b5de9087341988d935742e1d15a9d",
       "version_major": 2,
       "version_minor": 0
      },
      "text/plain": [
       "practicing:   0%|          | 0/5000 [00:00<?, ?it/s]"
      ]
     },
     "metadata": {},
     "output_type": "display_data"
    },
    {
     "data": {
      "application/vnd.jupyter.widget-view+json": {
       "model_id": "2747e74a4b3f429cb27800e810843585",
       "version_major": 2,
       "version_minor": 0
      },
      "text/plain": [
       "evaluating:   0%|          | 0/1000 [00:00<?, ?it/s]"
      ]
     },
     "metadata": {},
     "output_type": "display_data"
    },
    {
     "name": "stdout",
     "output_type": "stream",
     "text": [
      "2024-12-11 05:06:33,861 - research - INFO - epoch=1: win_rate=60.3000%, avg_reward=0.29, avg_loss=0.0062, avg_grad=0.3649\n"
     ]
    },
    {
     "data": {
      "application/vnd.jupyter.widget-view+json": {
       "model_id": "aec098fe72a14ff9bf7fb964d314f864",
       "version_major": 2,
       "version_minor": 0
      },
      "text/plain": [
       "practicing:   0%|          | 0/5000 [00:00<?, ?it/s]"
      ]
     },
     "metadata": {},
     "output_type": "display_data"
    },
    {
     "data": {
      "application/vnd.jupyter.widget-view+json": {
       "model_id": "a421bb5ae3ae4f978b8372de3f93df71",
       "version_major": 2,
       "version_minor": 0
      },
      "text/plain": [
       "evaluating:   0%|          | 0/1000 [00:00<?, ?it/s]"
      ]
     },
     "metadata": {},
     "output_type": "display_data"
    },
    {
     "name": "stdout",
     "output_type": "stream",
     "text": [
      "2024-12-11 05:09:27,611 - research - INFO - epoch=2: win_rate=62.9000%, avg_reward=0.38, avg_loss=0.0064, avg_grad=0.3801\n"
     ]
    },
    {
     "data": {
      "application/vnd.jupyter.widget-view+json": {
       "model_id": "97654c6c8cd04a7293a9baa72fdc0e78",
       "version_major": 2,
       "version_minor": 0
      },
      "text/plain": [
       "practicing:   0%|          | 0/5000 [00:00<?, ?it/s]"
      ]
     },
     "metadata": {},
     "output_type": "display_data"
    },
    {
     "data": {
      "application/vnd.jupyter.widget-view+json": {
       "model_id": "b90aa1b863f943968629688e6c0181dc",
       "version_major": 2,
       "version_minor": 0
      },
      "text/plain": [
       "evaluating:   0%|          | 0/1000 [00:00<?, ?it/s]"
      ]
     },
     "metadata": {},
     "output_type": "display_data"
    },
    {
     "name": "stdout",
     "output_type": "stream",
     "text": [
      "2024-12-11 05:12:18,658 - research - INFO - epoch=3: win_rate=63.0000%, avg_reward=0.36, avg_loss=0.0065, avg_grad=0.3785\n"
     ]
    },
    {
     "data": {
      "application/vnd.jupyter.widget-view+json": {
       "model_id": "681e02ad482a4c11ab6c1038ffd32dcb",
       "version_major": 2,
       "version_minor": 0
      },
      "text/plain": [
       "practicing:   0%|          | 0/5000 [00:00<?, ?it/s]"
      ]
     },
     "metadata": {},
     "output_type": "display_data"
    },
    {
     "data": {
      "application/vnd.jupyter.widget-view+json": {
       "model_id": "fff4b0e127a54b53af5648f00d933a57",
       "version_major": 2,
       "version_minor": 0
      },
      "text/plain": [
       "evaluating:   0%|          | 0/1000 [00:00<?, ?it/s]"
      ]
     },
     "metadata": {},
     "output_type": "display_data"
    },
    {
     "name": "stdout",
     "output_type": "stream",
     "text": [
      "2024-12-11 05:15:09,257 - research - INFO - epoch=4: win_rate=63.4000%, avg_reward=0.37, avg_loss=0.0065, avg_grad=0.3721\n"
     ]
    },
    {
     "data": {
      "application/vnd.jupyter.widget-view+json": {
       "model_id": "99d7408cf4664190b3f2c32be8ea0e05",
       "version_major": 2,
       "version_minor": 0
      },
      "text/plain": [
       "practicing:   0%|          | 0/5000 [00:00<?, ?it/s]"
      ]
     },
     "metadata": {},
     "output_type": "display_data"
    },
    {
     "data": {
      "application/vnd.jupyter.widget-view+json": {
       "model_id": "83f5883b47554b45b177d413f56fbb1c",
       "version_major": 2,
       "version_minor": 0
      },
      "text/plain": [
       "evaluating:   0%|          | 0/1000 [00:00<?, ?it/s]"
      ]
     },
     "metadata": {},
     "output_type": "display_data"
    },
    {
     "name": "stdout",
     "output_type": "stream",
     "text": [
      "2024-12-11 05:18:00,201 - research - INFO - epoch=5: win_rate=58.4000%, avg_reward=0.27, avg_loss=0.0064, avg_grad=0.3714\n"
     ]
    },
    {
     "data": {
      "application/vnd.jupyter.widget-view+json": {
       "model_id": "5dd7357027474adba4027465f61c25c7",
       "version_major": 2,
       "version_minor": 0
      },
      "text/plain": [
       "practicing:   0%|          | 0/5000 [00:00<?, ?it/s]"
      ]
     },
     "metadata": {},
     "output_type": "display_data"
    },
    {
     "data": {
      "application/vnd.jupyter.widget-view+json": {
       "model_id": "d488ed610c254df48f8c199d2ca170ce",
       "version_major": 2,
       "version_minor": 0
      },
      "text/plain": [
       "evaluating:   0%|          | 0/1000 [00:00<?, ?it/s]"
      ]
     },
     "metadata": {},
     "output_type": "display_data"
    },
    {
     "name": "stdout",
     "output_type": "stream",
     "text": [
      "2024-12-11 05:20:51,274 - research - INFO - epoch=6: win_rate=61.4000%, avg_reward=0.34, avg_loss=0.0064, avg_grad=0.3821\n"
     ]
    },
    {
     "data": {
      "application/vnd.jupyter.widget-view+json": {
       "model_id": "615f205b138e415fb33438c2d5a145a9",
       "version_major": 2,
       "version_minor": 0
      },
      "text/plain": [
       "practicing:   0%|          | 0/5000 [00:00<?, ?it/s]"
      ]
     },
     "metadata": {},
     "output_type": "display_data"
    },
    {
     "data": {
      "application/vnd.jupyter.widget-view+json": {
       "model_id": "2144a575db474f9b97ce2cc8409193ea",
       "version_major": 2,
       "version_minor": 0
      },
      "text/plain": [
       "evaluating:   0%|          | 0/1000 [00:00<?, ?it/s]"
      ]
     },
     "metadata": {},
     "output_type": "display_data"
    },
    {
     "name": "stdout",
     "output_type": "stream",
     "text": [
      "2024-12-11 05:23:42,385 - research - INFO - epoch=7: win_rate=63.9000%, avg_reward=0.39, avg_loss=0.0066, avg_grad=0.4001\n"
     ]
    },
    {
     "data": {
      "application/vnd.jupyter.widget-view+json": {
       "model_id": "893e2cd7401341bab51cac38497dd4cd",
       "version_major": 2,
       "version_minor": 0
      },
      "text/plain": [
       "practicing:   0%|          | 0/5000 [00:00<?, ?it/s]"
      ]
     },
     "metadata": {},
     "output_type": "display_data"
    },
    {
     "data": {
      "application/vnd.jupyter.widget-view+json": {
       "model_id": "798fa6f6ae444038bff033518bb2e125",
       "version_major": 2,
       "version_minor": 0
      },
      "text/plain": [
       "evaluating:   0%|          | 0/1000 [00:00<?, ?it/s]"
      ]
     },
     "metadata": {},
     "output_type": "display_data"
    },
    {
     "name": "stdout",
     "output_type": "stream",
     "text": [
      "2024-12-11 05:26:33,820 - research - INFO - epoch=8: win_rate=59.5000%, avg_reward=0.28, avg_loss=0.0064, avg_grad=0.3906\n"
     ]
    },
    {
     "data": {
      "application/vnd.jupyter.widget-view+json": {
       "model_id": "3c508de5002047d6a7333992ac71c042",
       "version_major": 2,
       "version_minor": 0
      },
      "text/plain": [
       "practicing:   0%|          | 0/5000 [00:00<?, ?it/s]"
      ]
     },
     "metadata": {},
     "output_type": "display_data"
    },
    {
     "data": {
      "application/vnd.jupyter.widget-view+json": {
       "model_id": "aa07f2800da34f1ea14394cc783e9a20",
       "version_major": 2,
       "version_minor": 0
      },
      "text/plain": [
       "evaluating:   0%|          | 0/1000 [00:00<?, ?it/s]"
      ]
     },
     "metadata": {},
     "output_type": "display_data"
    },
    {
     "name": "stdout",
     "output_type": "stream",
     "text": [
      "2024-12-11 05:29:25,768 - research - INFO - epoch=9: win_rate=62.6000%, avg_reward=0.37, avg_loss=0.0067, avg_grad=0.4051\n"
     ]
    },
    {
     "data": {
      "application/vnd.jupyter.widget-view+json": {
       "model_id": "dd2b8a3fbc7349bc9e777bcd0838f1c6",
       "version_major": 2,
       "version_minor": 0
      },
      "text/plain": [
       "practicing:   0%|          | 0/5000 [00:00<?, ?it/s]"
      ]
     },
     "metadata": {},
     "output_type": "display_data"
    },
    {
     "data": {
      "application/vnd.jupyter.widget-view+json": {
       "model_id": "de579e90c3a642258064217fb1b28468",
       "version_major": 2,
       "version_minor": 0
      },
      "text/plain": [
       "evaluating:   0%|          | 0/1000 [00:00<?, ?it/s]"
      ]
     },
     "metadata": {},
     "output_type": "display_data"
    },
    {
     "name": "stdout",
     "output_type": "stream",
     "text": [
      "2024-12-11 05:32:17,312 - research - INFO - epoch=10: win_rate=65.3000%, avg_reward=0.43, avg_loss=0.0063, avg_grad=0.3912\n"
     ]
    },
    {
     "data": {
      "text/html": [
       "<div>\n",
       "<style scoped>\n",
       "    .dataframe tbody tr th:only-of-type {\n",
       "        vertical-align: middle;\n",
       "    }\n",
       "\n",
       "    .dataframe tbody tr th {\n",
       "        vertical-align: top;\n",
       "    }\n",
       "\n",
       "    .dataframe thead th {\n",
       "        text-align: right;\n",
       "    }\n",
       "</style>\n",
       "<table border=\"1\" class=\"dataframe\">\n",
       "  <thead>\n",
       "    <tr style=\"text-align: right;\">\n",
       "      <th></th>\n",
       "      <th>model</th>\n",
       "      <th>p2</th>\n",
       "      <th>start</th>\n",
       "      <th>games</th>\n",
       "      <th>wins</th>\n",
       "      <th>win_rate_lo</th>\n",
       "      <th>win_rate_mu</th>\n",
       "      <th>win_rate_hi</th>\n",
       "      <th>avg_turns</th>\n",
       "      <th>avg_reward</th>\n",
       "      <th>avg_loss</th>\n",
       "      <th>avg_grad</th>\n",
       "    </tr>\n",
       "  </thead>\n",
       "  <tbody>\n",
       "    <tr>\n",
       "      <th>0</th>\n",
       "      <td>untrained</td>\n",
       "      <td>random</td>\n",
       "      <td>random</td>\n",
       "      <td>1000</td>\n",
       "      <td>660</td>\n",
       "      <td>0.61506</td>\n",
       "      <td>0.660</td>\n",
       "      <td>0.70494</td>\n",
       "      <td>95.198</td>\n",
       "      <td>0.426</td>\n",
       "      <td>NaN</td>\n",
       "      <td>NaN</td>\n",
       "    </tr>\n",
       "    <tr>\n",
       "      <th>1</th>\n",
       "      <td>epoch-1</td>\n",
       "      <td>random</td>\n",
       "      <td>random</td>\n",
       "      <td>1000</td>\n",
       "      <td>603</td>\n",
       "      <td>0.55659</td>\n",
       "      <td>0.603</td>\n",
       "      <td>0.64941</td>\n",
       "      <td>95.866</td>\n",
       "      <td>0.288</td>\n",
       "      <td>0.006175</td>\n",
       "      <td>0.364910</td>\n",
       "    </tr>\n",
       "    <tr>\n",
       "      <th>2</th>\n",
       "      <td>epoch-2</td>\n",
       "      <td>random</td>\n",
       "      <td>random</td>\n",
       "      <td>1000</td>\n",
       "      <td>629</td>\n",
       "      <td>0.58316</td>\n",
       "      <td>0.629</td>\n",
       "      <td>0.67484</td>\n",
       "      <td>95.528</td>\n",
       "      <td>0.379</td>\n",
       "      <td>0.006377</td>\n",
       "      <td>0.380117</td>\n",
       "    </tr>\n",
       "    <tr>\n",
       "      <th>3</th>\n",
       "      <td>epoch-3</td>\n",
       "      <td>random</td>\n",
       "      <td>random</td>\n",
       "      <td>1000</td>\n",
       "      <td>630</td>\n",
       "      <td>0.58419</td>\n",
       "      <td>0.630</td>\n",
       "      <td>0.67581</td>\n",
       "      <td>95.806</td>\n",
       "      <td>0.358</td>\n",
       "      <td>0.006519</td>\n",
       "      <td>0.378514</td>\n",
       "    </tr>\n",
       "    <tr>\n",
       "      <th>4</th>\n",
       "      <td>epoch-4</td>\n",
       "      <td>random</td>\n",
       "      <td>random</td>\n",
       "      <td>1000</td>\n",
       "      <td>634</td>\n",
       "      <td>0.58831</td>\n",
       "      <td>0.634</td>\n",
       "      <td>0.67969</td>\n",
       "      <td>94.703</td>\n",
       "      <td>0.370</td>\n",
       "      <td>0.006541</td>\n",
       "      <td>0.372105</td>\n",
       "    </tr>\n",
       "    <tr>\n",
       "      <th>5</th>\n",
       "      <td>epoch-5</td>\n",
       "      <td>random</td>\n",
       "      <td>random</td>\n",
       "      <td>1000</td>\n",
       "      <td>584</td>\n",
       "      <td>0.53723</td>\n",
       "      <td>0.584</td>\n",
       "      <td>0.63077</td>\n",
       "      <td>95.792</td>\n",
       "      <td>0.267</td>\n",
       "      <td>0.006402</td>\n",
       "      <td>0.371419</td>\n",
       "    </tr>\n",
       "    <tr>\n",
       "      <th>6</th>\n",
       "      <td>epoch-6</td>\n",
       "      <td>random</td>\n",
       "      <td>random</td>\n",
       "      <td>1000</td>\n",
       "      <td>614</td>\n",
       "      <td>0.56783</td>\n",
       "      <td>0.614</td>\n",
       "      <td>0.66017</td>\n",
       "      <td>95.112</td>\n",
       "      <td>0.338</td>\n",
       "      <td>0.006426</td>\n",
       "      <td>0.382100</td>\n",
       "    </tr>\n",
       "    <tr>\n",
       "      <th>7</th>\n",
       "      <td>epoch-7</td>\n",
       "      <td>random</td>\n",
       "      <td>random</td>\n",
       "      <td>1000</td>\n",
       "      <td>639</td>\n",
       "      <td>0.59343</td>\n",
       "      <td>0.639</td>\n",
       "      <td>0.68457</td>\n",
       "      <td>95.128</td>\n",
       "      <td>0.387</td>\n",
       "      <td>0.006568</td>\n",
       "      <td>0.400136</td>\n",
       "    </tr>\n",
       "    <tr>\n",
       "      <th>8</th>\n",
       "      <td>epoch-8</td>\n",
       "      <td>random</td>\n",
       "      <td>random</td>\n",
       "      <td>1000</td>\n",
       "      <td>595</td>\n",
       "      <td>0.54844</td>\n",
       "      <td>0.595</td>\n",
       "      <td>0.64156</td>\n",
       "      <td>95.576</td>\n",
       "      <td>0.281</td>\n",
       "      <td>0.006385</td>\n",
       "      <td>0.390585</td>\n",
       "    </tr>\n",
       "    <tr>\n",
       "      <th>9</th>\n",
       "      <td>epoch-9</td>\n",
       "      <td>random</td>\n",
       "      <td>random</td>\n",
       "      <td>1000</td>\n",
       "      <td>626</td>\n",
       "      <td>0.58010</td>\n",
       "      <td>0.626</td>\n",
       "      <td>0.67190</td>\n",
       "      <td>94.745</td>\n",
       "      <td>0.369</td>\n",
       "      <td>0.006714</td>\n",
       "      <td>0.405099</td>\n",
       "    </tr>\n",
       "    <tr>\n",
       "      <th>10</th>\n",
       "      <td>epoch-10</td>\n",
       "      <td>random</td>\n",
       "      <td>random</td>\n",
       "      <td>1000</td>\n",
       "      <td>653</td>\n",
       "      <td>0.60785</td>\n",
       "      <td>0.653</td>\n",
       "      <td>0.69815</td>\n",
       "      <td>94.879</td>\n",
       "      <td>0.432</td>\n",
       "      <td>0.006313</td>\n",
       "      <td>0.391247</td>\n",
       "    </tr>\n",
       "  </tbody>\n",
       "</table>\n",
       "</div>"
      ],
      "text/plain": [
       "        model      p2   start  games  wins  win_rate_lo  win_rate_mu  \\\n",
       "0   untrained  random  random   1000   660      0.61506        0.660   \n",
       "1     epoch-1  random  random   1000   603      0.55659        0.603   \n",
       "2     epoch-2  random  random   1000   629      0.58316        0.629   \n",
       "3     epoch-3  random  random   1000   630      0.58419        0.630   \n",
       "4     epoch-4  random  random   1000   634      0.58831        0.634   \n",
       "5     epoch-5  random  random   1000   584      0.53723        0.584   \n",
       "6     epoch-6  random  random   1000   614      0.56783        0.614   \n",
       "7     epoch-7  random  random   1000   639      0.59343        0.639   \n",
       "8     epoch-8  random  random   1000   595      0.54844        0.595   \n",
       "9     epoch-9  random  random   1000   626      0.58010        0.626   \n",
       "10   epoch-10  random  random   1000   653      0.60785        0.653   \n",
       "\n",
       "    win_rate_hi  avg_turns  avg_reward  avg_loss  avg_grad  \n",
       "0       0.70494     95.198       0.426       NaN       NaN  \n",
       "1       0.64941     95.866       0.288  0.006175  0.364910  \n",
       "2       0.67484     95.528       0.379  0.006377  0.380117  \n",
       "3       0.67581     95.806       0.358  0.006519  0.378514  \n",
       "4       0.67969     94.703       0.370  0.006541  0.372105  \n",
       "5       0.63077     95.792       0.267  0.006402  0.371419  \n",
       "6       0.66017     95.112       0.338  0.006426  0.382100  \n",
       "7       0.68457     95.128       0.387  0.006568  0.400136  \n",
       "8       0.64156     95.576       0.281  0.006385  0.390585  \n",
       "9       0.67190     94.745       0.369  0.006714  0.405099  \n",
       "10      0.69815     94.879       0.432  0.006313  0.391247  "
      ]
     },
     "execution_count": 32,
     "metadata": {},
     "output_type": "execute_result"
    }
   ],
   "source": [
    "train_eval_loop(nn_player, lr=0.00010, gamma=0.99, grad_clip=10, soft_epsilon=0.01, **train_eval_args)"
   ]
  },
  {
   "cell_type": "code",
   "execution_count": 33,
   "metadata": {},
   "outputs": [
    {
     "data": {
      "application/vnd.jupyter.widget-view+json": {
       "model_id": "1e616f4d13a34271892b48cb49d76cb5",
       "version_major": 2,
       "version_minor": 0
      },
      "text/plain": [
       "train/eval epochs:   0%|          | 0/10 [00:00<?, ?it/s]"
      ]
     },
     "metadata": {},
     "output_type": "display_data"
    },
    {
     "data": {
      "application/vnd.jupyter.widget-view+json": {
       "model_id": "d835c672b6344164bce4f718a62e8025",
       "version_major": 2,
       "version_minor": 0
      },
      "text/plain": [
       "evaluating:   0%|          | 0/1000 [00:00<?, ?it/s]"
      ]
     },
     "metadata": {},
     "output_type": "display_data"
    },
    {
     "name": "stdout",
     "output_type": "stream",
     "text": [
      "2024-12-11 05:32:36,858 - research - INFO - untrained: win_rate=64.1000%, avg_reward=0.41\n"
     ]
    },
    {
     "data": {
      "application/vnd.jupyter.widget-view+json": {
       "model_id": "d2da489280a04f498ddabab6f8a83802",
       "version_major": 2,
       "version_minor": 0
      },
      "text/plain": [
       "practicing:   0%|          | 0/5000 [00:00<?, ?it/s]"
      ]
     },
     "metadata": {},
     "output_type": "display_data"
    },
    {
     "data": {
      "application/vnd.jupyter.widget-view+json": {
       "model_id": "ebe6c07b5b4a40eda8f2bd204e52b3ce",
       "version_major": 2,
       "version_minor": 0
      },
      "text/plain": [
       "evaluating:   0%|          | 0/1000 [00:00<?, ?it/s]"
      ]
     },
     "metadata": {},
     "output_type": "display_data"
    },
    {
     "name": "stdout",
     "output_type": "stream",
     "text": [
      "2024-12-11 05:35:28,516 - research - INFO - epoch=1: win_rate=63.8000%, avg_reward=0.39, avg_loss=0.0065, avg_grad=0.3972\n"
     ]
    },
    {
     "data": {
      "application/vnd.jupyter.widget-view+json": {
       "model_id": "37089ac8f7de45ac9590cdf005ce6e33",
       "version_major": 2,
       "version_minor": 0
      },
      "text/plain": [
       "practicing:   0%|          | 0/5000 [00:00<?, ?it/s]"
      ]
     },
     "metadata": {},
     "output_type": "display_data"
    },
    {
     "data": {
      "application/vnd.jupyter.widget-view+json": {
       "model_id": "5e4b9211b4ef41559d0089c203d44215",
       "version_major": 2,
       "version_minor": 0
      },
      "text/plain": [
       "evaluating:   0%|          | 0/1000 [00:00<?, ?it/s]"
      ]
     },
     "metadata": {},
     "output_type": "display_data"
    },
    {
     "name": "stdout",
     "output_type": "stream",
     "text": [
      "2024-12-11 05:38:20,102 - research - INFO - epoch=2: win_rate=62.4000%, avg_reward=0.36, avg_loss=0.0066, avg_grad=0.4010\n"
     ]
    },
    {
     "data": {
      "application/vnd.jupyter.widget-view+json": {
       "model_id": "27d2b81bcf354a48ad646d2f7965f40e",
       "version_major": 2,
       "version_minor": 0
      },
      "text/plain": [
       "practicing:   0%|          | 0/5000 [00:00<?, ?it/s]"
      ]
     },
     "metadata": {},
     "output_type": "display_data"
    },
    {
     "data": {
      "application/vnd.jupyter.widget-view+json": {
       "model_id": "b09c840f917d427b83613e802b2b873d",
       "version_major": 2,
       "version_minor": 0
      },
      "text/plain": [
       "evaluating:   0%|          | 0/1000 [00:00<?, ?it/s]"
      ]
     },
     "metadata": {},
     "output_type": "display_data"
    },
    {
     "name": "stdout",
     "output_type": "stream",
     "text": [
      "2024-12-11 05:41:11,308 - research - INFO - epoch=3: win_rate=62.6000%, avg_reward=0.34, avg_loss=0.0065, avg_grad=0.4018\n"
     ]
    },
    {
     "data": {
      "application/vnd.jupyter.widget-view+json": {
       "model_id": "c5743194ace64c6d877709cfdc7b6c22",
       "version_major": 2,
       "version_minor": 0
      },
      "text/plain": [
       "practicing:   0%|          | 0/5000 [00:00<?, ?it/s]"
      ]
     },
     "metadata": {},
     "output_type": "display_data"
    },
    {
     "data": {
      "application/vnd.jupyter.widget-view+json": {
       "model_id": "525565fe29f04a0e92d47e4b89fd3999",
       "version_major": 2,
       "version_minor": 0
      },
      "text/plain": [
       "evaluating:   0%|          | 0/1000 [00:00<?, ?it/s]"
      ]
     },
     "metadata": {},
     "output_type": "display_data"
    },
    {
     "name": "stdout",
     "output_type": "stream",
     "text": [
      "2024-12-11 05:44:03,030 - research - INFO - epoch=4: win_rate=61.7000%, avg_reward=0.33, avg_loss=0.0063, avg_grad=0.3900\n"
     ]
    },
    {
     "data": {
      "application/vnd.jupyter.widget-view+json": {
       "model_id": "dece7e5bff804624b1616d425f167421",
       "version_major": 2,
       "version_minor": 0
      },
      "text/plain": [
       "practicing:   0%|          | 0/5000 [00:00<?, ?it/s]"
      ]
     },
     "metadata": {},
     "output_type": "display_data"
    },
    {
     "data": {
      "application/vnd.jupyter.widget-view+json": {
       "model_id": "1909ea1620074eac9a12e1e5c81e3a99",
       "version_major": 2,
       "version_minor": 0
      },
      "text/plain": [
       "evaluating:   0%|          | 0/1000 [00:00<?, ?it/s]"
      ]
     },
     "metadata": {},
     "output_type": "display_data"
    },
    {
     "name": "stdout",
     "output_type": "stream",
     "text": [
      "2024-12-11 05:46:54,359 - research - INFO - epoch=5: win_rate=63.7000%, avg_reward=0.38, avg_loss=0.0064, avg_grad=0.4037\n"
     ]
    },
    {
     "data": {
      "application/vnd.jupyter.widget-view+json": {
       "model_id": "8ea728ca0c0f42cd9ef7477cb996269a",
       "version_major": 2,
       "version_minor": 0
      },
      "text/plain": [
       "practicing:   0%|          | 0/5000 [00:00<?, ?it/s]"
      ]
     },
     "metadata": {},
     "output_type": "display_data"
    },
    {
     "data": {
      "application/vnd.jupyter.widget-view+json": {
       "model_id": "db534a0f71e345ed960cc5d04e180562",
       "version_major": 2,
       "version_minor": 0
      },
      "text/plain": [
       "evaluating:   0%|          | 0/1000 [00:00<?, ?it/s]"
      ]
     },
     "metadata": {},
     "output_type": "display_data"
    },
    {
     "name": "stdout",
     "output_type": "stream",
     "text": [
      "2024-12-11 05:49:45,584 - research - INFO - epoch=6: win_rate=61.3000%, avg_reward=0.34, avg_loss=0.0067, avg_grad=0.4217\n"
     ]
    },
    {
     "data": {
      "application/vnd.jupyter.widget-view+json": {
       "model_id": "c9bdfa0adae84db5bf13bf82fbd019c1",
       "version_major": 2,
       "version_minor": 0
      },
      "text/plain": [
       "practicing:   0%|          | 0/5000 [00:00<?, ?it/s]"
      ]
     },
     "metadata": {},
     "output_type": "display_data"
    },
    {
     "data": {
      "application/vnd.jupyter.widget-view+json": {
       "model_id": "6c5058c78ceb4872b0f9867c72dab48e",
       "version_major": 2,
       "version_minor": 0
      },
      "text/plain": [
       "evaluating:   0%|          | 0/1000 [00:00<?, ?it/s]"
      ]
     },
     "metadata": {},
     "output_type": "display_data"
    },
    {
     "name": "stdout",
     "output_type": "stream",
     "text": [
      "2024-12-11 05:52:37,003 - research - INFO - epoch=7: win_rate=65.1000%, avg_reward=0.41, avg_loss=0.0068, avg_grad=0.4292\n"
     ]
    },
    {
     "data": {
      "application/vnd.jupyter.widget-view+json": {
       "model_id": "b7dd0d551e4c4d149fb1ced085635904",
       "version_major": 2,
       "version_minor": 0
      },
      "text/plain": [
       "practicing:   0%|          | 0/5000 [00:00<?, ?it/s]"
      ]
     },
     "metadata": {},
     "output_type": "display_data"
    },
    {
     "data": {
      "application/vnd.jupyter.widget-view+json": {
       "model_id": "9177155ec2f24b90a1b1eccaf785dd8b",
       "version_major": 2,
       "version_minor": 0
      },
      "text/plain": [
       "evaluating:   0%|          | 0/1000 [00:00<?, ?it/s]"
      ]
     },
     "metadata": {},
     "output_type": "display_data"
    },
    {
     "name": "stdout",
     "output_type": "stream",
     "text": [
      "2024-12-11 05:55:28,689 - research - INFO - epoch=8: win_rate=64.0000%, avg_reward=0.38, avg_loss=0.0066, avg_grad=0.4141\n"
     ]
    },
    {
     "data": {
      "application/vnd.jupyter.widget-view+json": {
       "model_id": "9774bad96f46420da46e81607af97927",
       "version_major": 2,
       "version_minor": 0
      },
      "text/plain": [
       "practicing:   0%|          | 0/5000 [00:00<?, ?it/s]"
      ]
     },
     "metadata": {},
     "output_type": "display_data"
    },
    {
     "data": {
      "application/vnd.jupyter.widget-view+json": {
       "model_id": "1027c5c909354ba28f18daa56377a62a",
       "version_major": 2,
       "version_minor": 0
      },
      "text/plain": [
       "evaluating:   0%|          | 0/1000 [00:00<?, ?it/s]"
      ]
     },
     "metadata": {},
     "output_type": "display_data"
    },
    {
     "name": "stdout",
     "output_type": "stream",
     "text": [
      "2024-12-11 05:58:20,120 - research - INFO - epoch=9: win_rate=63.3000%, avg_reward=0.35, avg_loss=0.0063, avg_grad=0.3999\n"
     ]
    },
    {
     "data": {
      "application/vnd.jupyter.widget-view+json": {
       "model_id": "95808a3bff374329adafcabcbc025404",
       "version_major": 2,
       "version_minor": 0
      },
      "text/plain": [
       "practicing:   0%|          | 0/5000 [00:00<?, ?it/s]"
      ]
     },
     "metadata": {},
     "output_type": "display_data"
    },
    {
     "data": {
      "application/vnd.jupyter.widget-view+json": {
       "model_id": "95dce2d639d540de8b4c0e9e3cb6dbb8",
       "version_major": 2,
       "version_minor": 0
      },
      "text/plain": [
       "evaluating:   0%|          | 0/1000 [00:00<?, ?it/s]"
      ]
     },
     "metadata": {},
     "output_type": "display_data"
    },
    {
     "name": "stdout",
     "output_type": "stream",
     "text": [
      "2024-12-11 06:01:11,441 - research - INFO - epoch=10: win_rate=60.6000%, avg_reward=0.32, avg_loss=0.0066, avg_grad=0.4128\n"
     ]
    },
    {
     "data": {
      "text/html": [
       "<div>\n",
       "<style scoped>\n",
       "    .dataframe tbody tr th:only-of-type {\n",
       "        vertical-align: middle;\n",
       "    }\n",
       "\n",
       "    .dataframe tbody tr th {\n",
       "        vertical-align: top;\n",
       "    }\n",
       "\n",
       "    .dataframe thead th {\n",
       "        text-align: right;\n",
       "    }\n",
       "</style>\n",
       "<table border=\"1\" class=\"dataframe\">\n",
       "  <thead>\n",
       "    <tr style=\"text-align: right;\">\n",
       "      <th></th>\n",
       "      <th>model</th>\n",
       "      <th>p2</th>\n",
       "      <th>start</th>\n",
       "      <th>games</th>\n",
       "      <th>wins</th>\n",
       "      <th>win_rate_lo</th>\n",
       "      <th>win_rate_mu</th>\n",
       "      <th>win_rate_hi</th>\n",
       "      <th>avg_turns</th>\n",
       "      <th>avg_reward</th>\n",
       "      <th>avg_loss</th>\n",
       "      <th>avg_grad</th>\n",
       "    </tr>\n",
       "  </thead>\n",
       "  <tbody>\n",
       "    <tr>\n",
       "      <th>0</th>\n",
       "      <td>untrained</td>\n",
       "      <td>random</td>\n",
       "      <td>random</td>\n",
       "      <td>1000</td>\n",
       "      <td>641</td>\n",
       "      <td>0.59549</td>\n",
       "      <td>0.641</td>\n",
       "      <td>0.68651</td>\n",
       "      <td>94.472</td>\n",
       "      <td>0.412</td>\n",
       "      <td>NaN</td>\n",
       "      <td>NaN</td>\n",
       "    </tr>\n",
       "    <tr>\n",
       "      <th>1</th>\n",
       "      <td>epoch-1</td>\n",
       "      <td>random</td>\n",
       "      <td>random</td>\n",
       "      <td>1000</td>\n",
       "      <td>638</td>\n",
       "      <td>0.59240</td>\n",
       "      <td>0.638</td>\n",
       "      <td>0.68360</td>\n",
       "      <td>94.889</td>\n",
       "      <td>0.386</td>\n",
       "      <td>0.006541</td>\n",
       "      <td>0.397195</td>\n",
       "    </tr>\n",
       "    <tr>\n",
       "      <th>2</th>\n",
       "      <td>epoch-2</td>\n",
       "      <td>random</td>\n",
       "      <td>random</td>\n",
       "      <td>1000</td>\n",
       "      <td>624</td>\n",
       "      <td>0.57804</td>\n",
       "      <td>0.624</td>\n",
       "      <td>0.66996</td>\n",
       "      <td>95.484</td>\n",
       "      <td>0.361</td>\n",
       "      <td>0.006562</td>\n",
       "      <td>0.401000</td>\n",
       "    </tr>\n",
       "    <tr>\n",
       "      <th>3</th>\n",
       "      <td>epoch-3</td>\n",
       "      <td>random</td>\n",
       "      <td>random</td>\n",
       "      <td>1000</td>\n",
       "      <td>626</td>\n",
       "      <td>0.58010</td>\n",
       "      <td>0.626</td>\n",
       "      <td>0.67190</td>\n",
       "      <td>95.293</td>\n",
       "      <td>0.341</td>\n",
       "      <td>0.006480</td>\n",
       "      <td>0.401813</td>\n",
       "    </tr>\n",
       "    <tr>\n",
       "      <th>4</th>\n",
       "      <td>epoch-4</td>\n",
       "      <td>random</td>\n",
       "      <td>random</td>\n",
       "      <td>1000</td>\n",
       "      <td>617</td>\n",
       "      <td>0.57089</td>\n",
       "      <td>0.617</td>\n",
       "      <td>0.66311</td>\n",
       "      <td>95.499</td>\n",
       "      <td>0.333</td>\n",
       "      <td>0.006260</td>\n",
       "      <td>0.389964</td>\n",
       "    </tr>\n",
       "    <tr>\n",
       "      <th>5</th>\n",
       "      <td>epoch-5</td>\n",
       "      <td>random</td>\n",
       "      <td>random</td>\n",
       "      <td>1000</td>\n",
       "      <td>637</td>\n",
       "      <td>0.59137</td>\n",
       "      <td>0.637</td>\n",
       "      <td>0.68263</td>\n",
       "      <td>95.238</td>\n",
       "      <td>0.382</td>\n",
       "      <td>0.006413</td>\n",
       "      <td>0.403744</td>\n",
       "    </tr>\n",
       "    <tr>\n",
       "      <th>6</th>\n",
       "      <td>epoch-6</td>\n",
       "      <td>random</td>\n",
       "      <td>random</td>\n",
       "      <td>1000</td>\n",
       "      <td>613</td>\n",
       "      <td>0.56680</td>\n",
       "      <td>0.613</td>\n",
       "      <td>0.65920</td>\n",
       "      <td>95.146</td>\n",
       "      <td>0.337</td>\n",
       "      <td>0.006719</td>\n",
       "      <td>0.421741</td>\n",
       "    </tr>\n",
       "    <tr>\n",
       "      <th>7</th>\n",
       "      <td>epoch-7</td>\n",
       "      <td>random</td>\n",
       "      <td>random</td>\n",
       "      <td>1000</td>\n",
       "      <td>651</td>\n",
       "      <td>0.60579</td>\n",
       "      <td>0.651</td>\n",
       "      <td>0.69621</td>\n",
       "      <td>95.531</td>\n",
       "      <td>0.414</td>\n",
       "      <td>0.006843</td>\n",
       "      <td>0.429195</td>\n",
       "    </tr>\n",
       "    <tr>\n",
       "      <th>8</th>\n",
       "      <td>epoch-8</td>\n",
       "      <td>random</td>\n",
       "      <td>random</td>\n",
       "      <td>1000</td>\n",
       "      <td>640</td>\n",
       "      <td>0.59446</td>\n",
       "      <td>0.640</td>\n",
       "      <td>0.68554</td>\n",
       "      <td>95.301</td>\n",
       "      <td>0.379</td>\n",
       "      <td>0.006582</td>\n",
       "      <td>0.414132</td>\n",
       "    </tr>\n",
       "    <tr>\n",
       "      <th>9</th>\n",
       "      <td>epoch-9</td>\n",
       "      <td>random</td>\n",
       "      <td>random</td>\n",
       "      <td>1000</td>\n",
       "      <td>633</td>\n",
       "      <td>0.58728</td>\n",
       "      <td>0.633</td>\n",
       "      <td>0.67872</td>\n",
       "      <td>95.653</td>\n",
       "      <td>0.354</td>\n",
       "      <td>0.006304</td>\n",
       "      <td>0.399889</td>\n",
       "    </tr>\n",
       "    <tr>\n",
       "      <th>10</th>\n",
       "      <td>epoch-10</td>\n",
       "      <td>random</td>\n",
       "      <td>random</td>\n",
       "      <td>1000</td>\n",
       "      <td>606</td>\n",
       "      <td>0.55965</td>\n",
       "      <td>0.606</td>\n",
       "      <td>0.65235</td>\n",
       "      <td>95.251</td>\n",
       "      <td>0.318</td>\n",
       "      <td>0.006586</td>\n",
       "      <td>0.412782</td>\n",
       "    </tr>\n",
       "  </tbody>\n",
       "</table>\n",
       "</div>"
      ],
      "text/plain": [
       "        model      p2   start  games  wins  win_rate_lo  win_rate_mu  \\\n",
       "0   untrained  random  random   1000   641      0.59549        0.641   \n",
       "1     epoch-1  random  random   1000   638      0.59240        0.638   \n",
       "2     epoch-2  random  random   1000   624      0.57804        0.624   \n",
       "3     epoch-3  random  random   1000   626      0.58010        0.626   \n",
       "4     epoch-4  random  random   1000   617      0.57089        0.617   \n",
       "5     epoch-5  random  random   1000   637      0.59137        0.637   \n",
       "6     epoch-6  random  random   1000   613      0.56680        0.613   \n",
       "7     epoch-7  random  random   1000   651      0.60579        0.651   \n",
       "8     epoch-8  random  random   1000   640      0.59446        0.640   \n",
       "9     epoch-9  random  random   1000   633      0.58728        0.633   \n",
       "10   epoch-10  random  random   1000   606      0.55965        0.606   \n",
       "\n",
       "    win_rate_hi  avg_turns  avg_reward  avg_loss  avg_grad  \n",
       "0       0.68651     94.472       0.412       NaN       NaN  \n",
       "1       0.68360     94.889       0.386  0.006541  0.397195  \n",
       "2       0.66996     95.484       0.361  0.006562  0.401000  \n",
       "3       0.67190     95.293       0.341  0.006480  0.401813  \n",
       "4       0.66311     95.499       0.333  0.006260  0.389964  \n",
       "5       0.68263     95.238       0.382  0.006413  0.403744  \n",
       "6       0.65920     95.146       0.337  0.006719  0.421741  \n",
       "7       0.69621     95.531       0.414  0.006843  0.429195  \n",
       "8       0.68554     95.301       0.379  0.006582  0.414132  \n",
       "9       0.67872     95.653       0.354  0.006304  0.399889  \n",
       "10      0.65235     95.251       0.318  0.006586  0.412782  "
      ]
     },
     "execution_count": 33,
     "metadata": {},
     "output_type": "execute_result"
    }
   ],
   "source": [
    "train_eval_loop(nn_player, lr=0.00005, gamma=0.99, grad_clip=10, soft_epsilon=0.00, **train_eval_args)"
   ]
  },
  {
   "cell_type": "markdown",
   "metadata": {},
   "source": [
    "### Experiments with scatter & reduce:"
   ]
  },
  {
   "cell_type": "markdown",
   "metadata": {},
   "source": [
    "When executed on MPS, scatter_reduce implementation fails with the following error:\n",
    "\n",
    "NotImplementedError: The operator 'aten::scatter_reduce.two_out' is not currently implemented for the MPS device. If you want this op to be added in priority during the prototype phase of this feature, please comment on https://github.com/pytorch/pytorch/issues/77764. As a temporary fix, you can set the environment variable `PYTORCH_ENABLE_MPS_FALLBACK=1` to use the CPU as a fallback for this op. WARNING: this will be slower than running natively on MPS."
   ]
  },
  {
   "cell_type": "code",
   "execution_count": 34,
   "metadata": {},
   "outputs": [],
   "source": [
    "# q_score = nn_player.q_network(curr_state_actions)\n",
    "\n",
    "# with torch.no_grad():\n",
    "#     t_score = nn_player.t_network(next_state_actions).squeeze()\n",
    "#     t_score_max = torch.zeros_like(rewards).scatter_reduce(0, index=next_state_actions_idx, src=t_score, reduce=\"max\", include_self=False)\n",
    "    \n",
    "# t_score_max"
   ]
  },
  {
   "cell_type": "markdown",
   "metadata": {},
   "source": [
    "And this implementation fails on MPS with another error:\n",
    "\n",
    "RuntimeError: src.device().is_cpu() INTERNAL ASSERT FAILED at \"csrc/cpu/scatter_cpu.cpp\":11, please report a bug to PyTorch. src must be CPU tensor"
   ]
  },
  {
   "cell_type": "code",
   "execution_count": 35,
   "metadata": {},
   "outputs": [],
   "source": [
    "# q_score = nn_player.q_network(curr_state_actions)\n",
    "\n",
    "# with torch.no_grad():\n",
    "#     t_score = nn_player.t_network(next_state_actions).squeeze()\n",
    "#     t_score_max, t_score_idx = torch_scatter.scatter_max(t_score, index=next_state_actions_idx, dim=0)\n",
    "    \n",
    "# t_score_max"
   ]
  },
  {
   "cell_type": "code",
   "execution_count": 36,
   "metadata": {},
   "outputs": [],
   "source": [
    "# max_score, max_score_idx = torch_scatter.scatter_max(score, index=next_state_actions_idx, dim=0)\n",
    "# max_score, max_score_idx"
   ]
  },
  {
   "cell_type": "code",
   "execution_count": 37,
   "metadata": {},
   "outputs": [],
   "source": [
    "# torch.zeros_like(rewards).scatter_reduce(0, index=next_state_actions_idx, src=score.squeeze(), reduce=\"max\", include_self=False)"
   ]
  },
  {
   "cell_type": "code",
   "execution_count": 38,
   "metadata": {},
   "outputs": [],
   "source": [
    "# max_score, max_score_idx = torch_scatter.scatter_max(score, index=next_state_actions_idx, dim=0)\n",
    "# max_score, max_score_idx"
   ]
  },
  {
   "cell_type": "code",
   "execution_count": 39,
   "metadata": {},
   "outputs": [],
   "source": [
    "# data = torch.arange(24).view(-1,6).long()\n",
    "# data"
   ]
  },
  {
   "cell_type": "code",
   "execution_count": 40,
   "metadata": {},
   "outputs": [],
   "source": [
    "# score = data.float().sum(dim=1)\n",
    "# score"
   ]
  },
  {
   "cell_type": "code",
   "execution_count": 41,
   "metadata": {},
   "outputs": [],
   "source": [
    "# max_score, max_score_idx = torch_scatter.scatter_max(score, index=torch.tensor([0,0,0,1]), dim=0)\n",
    "# max_score, max_score_idx"
   ]
  },
  {
   "cell_type": "code",
   "execution_count": 42,
   "metadata": {},
   "outputs": [],
   "source": [
    "# data[max_score_idx]"
   ]
  },
  {
   "cell_type": "code",
   "execution_count": null,
   "metadata": {},
   "outputs": [],
   "source": []
  }
 ],
 "metadata": {
  "kernelspec": {
   "display_name": "XCS234",
   "language": "python",
   "name": "python3"
  },
  "language_info": {
   "codemirror_mode": {
    "name": "ipython",
    "version": 3
   },
   "file_extension": ".py",
   "mimetype": "text/x-python",
   "name": "python",
   "nbconvert_exporter": "python",
   "pygments_lexer": "ipython3",
   "version": "3.10.13"
  }
 },
 "nbformat": 4,
 "nbformat_minor": 2
}
