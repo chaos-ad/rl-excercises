{
 "cells": [
  {
   "cell_type": "code",
   "execution_count": 1,
   "metadata": {},
   "outputs": [
    {
     "name": "stderr",
     "output_type": "stream",
     "text": [
      "/Users/tolya/.miniconda3/envs/XCS234/lib/python3.10/site-packages/tqdm/auto.py:21: TqdmWarning: IProgress not found. Please update jupyter and ipywidgets. See https://ipywidgets.readthedocs.io/en/stable/user_install.html\n",
      "  from .autonotebook import tqdm as notebook_tqdm\n"
     ]
    }
   ],
   "source": [
    "import sys\n",
    "import copy \n",
    "import random\n",
    "import pandas as pd\n",
    "import numpy as np\n",
    "import torch\n",
    "import tqdm.auto as tqdm\n",
    "from pathlib import Path\n",
    "\n",
    "from typing import *\n",
    "from enum import Enum\n",
    "from dataclasses import dataclass"
   ]
  },
  {
   "cell_type": "code",
   "execution_count": 2,
   "metadata": {},
   "outputs": [],
   "source": [
    "%load_ext autoreload\n",
    "%autoreload 2"
   ]
  },
  {
   "cell_type": "code",
   "execution_count": 3,
   "metadata": {},
   "outputs": [],
   "source": [
    "import logging\n",
    "logger = logging.getLogger(\"research\")"
   ]
  },
  {
   "cell_type": "code",
   "execution_count": 4,
   "metadata": {},
   "outputs": [],
   "source": [
    "import os,sys\n",
    "sys.path.insert(0, str(Path.cwd().parent))"
   ]
  },
  {
   "cell_type": "code",
   "execution_count": 5,
   "metadata": {},
   "outputs": [],
   "source": [
    "import utils.logging\n",
    "utils.logging.setup(debug=False)"
   ]
  },
  {
   "cell_type": "markdown",
   "metadata": {},
   "source": [
    "### Narde rules\n",
    "https://www.bkgm.com/variants/Narde.html"
   ]
  },
  {
   "cell_type": "code",
   "execution_count": 6,
   "metadata": {},
   "outputs": [],
   "source": [
    "class Game:\n",
    "    class Step(Enum):\n",
    "        IDLE = \"idle\"\n",
    "        ROLL = \"roll\"\n",
    "        TURN = \"trun\"\n",
    "        FINISHED = \"finished\"\n",
    "\n",
    "    def __init__(self, seed: Optional[int] = None):\n",
    "        self.seed = random.randint(0, 2**32-1) if seed is None else seed\n",
    "        logger.debug(f\"new game started, seed={self.seed}\")\n",
    "        random.seed(self.seed)\n",
    "        np.random.seed(self.seed)\n",
    "        self.board = np.zeros(24, dtype=int)\n",
    "        self.board[0] = 15\n",
    "        self.board[12] = -15\n",
    "        self.dice = [0, 0]\n",
    "        self.home = [0, 0]\n",
    "        self.last = [0, 12]\n",
    "        self.pturn = 0\n",
    "        self.t = 0\n",
    "        self.head_moves = 0\n",
    "        self.step : Game.Step = Game.Step.IDLE\n",
    "\n",
    "    def _get_next_idx(self, src_idx: int, steps: int) -> int:\n",
    "        dst_idx = src_idx + steps\n",
    "        if dst_idx > 24:\n",
    "            dst_idx = dst_idx % 25 + 1\n",
    "        if dst_idx < 1:\n",
    "            dst_idx = 24 + dst_idx\n",
    "        return dst_idx\n",
    "    \n",
    "    def _get_head(self, player: Optional[int] = None) -> int:\n",
    "        player = player if player is not None else self.pturn\n",
    "        return 1 if player == 0 else 13\n",
    "    \n",
    "    def _get_user_sign(self, player: Optional[int] = None) -> int:\n",
    "        player = player if player is not None else self.pturn\n",
    "        return 1 if player == 0 else -1\n",
    "\n",
    "    def _can_move_home(self):\n",
    "        counter = self.home[self.pturn]\n",
    "        home = range(19, 25) if self.pturn == 0 else range(7, 13)\n",
    "        for idx in home:\n",
    "            if self._has_checkers(idx, player=self._cur_player):\n",
    "                counter += self._get_checkers(idx, player=self._cur_player)\n",
    "        return counter == 15\n",
    "\n",
    "    def _is_move_home(self, src_idx: int, steps: int) -> bool:\n",
    "        dst_idx = self._get_next_idx(src_idx, steps)\n",
    "        return (self.pturn == 0 and dst_idx < src_idx) or \\\n",
    "               (self.pturn == 1 and src_idx <= 12 and dst_idx > 12)\n",
    "    \n",
    "    @property\n",
    "    def _opponent(self) -> int:\n",
    "        return 1 if self.pturn == 0 else 0\n",
    "    \n",
    "    @property\n",
    "    def _cur_player(self) -> int:\n",
    "        return self.pturn\n",
    "    \n",
    "    def _has_checkers(self, pos: int, player: Optional[int] = None):\n",
    "        return self._get_checkers(pos, player) > 0\n",
    "    \n",
    "    def _get_checkers(self, pos: int, player: Optional[int] = None):\n",
    "        player = player if player is not None else self.pturn\n",
    "        return self._get_user_sign(player) * self.board[pos-1]\n",
    "    \n",
    "    def _find_prime(self, pos: int) -> Optional[Tuple[int, int]]:\n",
    "        seq = 1\n",
    "        result = [pos, pos]\n",
    "        next_ptr = self._get_next_idx(pos, 1)\n",
    "        while seq < 6 and self._has_checkers(next_ptr, player=self._cur_player):\n",
    "            seq += 1\n",
    "            result[1] = next_ptr\n",
    "            next_ptr = self._get_next_idx(next_ptr, 1)\n",
    "        prev_ptr = self._get_next_idx(pos, -1)\n",
    "        while seq < 6 and self._has_checkers(prev_ptr, player=self._cur_player):\n",
    "            seq += 1\n",
    "            result[0] = prev_ptr\n",
    "            prev_ptr = self._get_next_idx(prev_ptr, -1)\n",
    "        return tuple(result) if seq == 6 else None\n",
    "    \n",
    "    def _is_blocking_prime(self, dst_idx: int) -> bool:\n",
    "        prime_range = self._find_prime(dst_idx)\n",
    "        if prime_range:\n",
    "            prime_end_idx = prime_range[1]\n",
    "            for step in range(1, 24):\n",
    "                search_idx = self._get_next_idx(prime_end_idx, step)\n",
    "                if self._get_head(self._opponent) == search_idx:\n",
    "                    return True # we reached other player's home without finding it's checkers\n",
    "                if self._has_checkers(pos=search_idx, player=self._opponent):\n",
    "                    break\n",
    "        return False\n",
    "    \n",
    "    def _check_move(self, src_idx: int, steps: int):\n",
    "        dst_idx = self._get_next_idx(src_idx, steps)\n",
    "        if self.step != Game.Step.TURN:\n",
    "            raise RuntimeError(\"invalid action\")\n",
    "        if not (1 <= src_idx <= 24):\n",
    "            raise RuntimeError(\"invalid position\")\n",
    "        if not self._has_checkers(src_idx, player=self._cur_player):\n",
    "            raise RuntimeError(f\"no checkers at position {src_idx}\")\n",
    "        if self._has_checkers(dst_idx, player=self._opponent):\n",
    "            raise RuntimeError(f\"can't move to position {dst_idx}\")\n",
    "        if steps not in self.dice:\n",
    "            raise RuntimeError(f\"no dice with value {steps}\")\n",
    "        if self._is_move_home(src_idx, steps):\n",
    "            if not self._can_move_home():\n",
    "                raise RuntimeError(f\"not all checkers are at finishing table\")\n",
    "        if self._get_head() == src_idx and self.head_moves > 0:\n",
    "            if self.head_moves > 1 or self.dice[0] != self.dice[1]:\n",
    "                raise RuntimeError(f\"can't make any more head moves\")\n",
    "        if self._is_blocking_prime(dst_idx):\n",
    "            raise RuntimeError(f\"can't form a blocking prime\")\n",
    "        # TODO: If player can play one number but not both, they must play the higher one\n",
    "\n",
    "    def _render_player(self, player: Optional[int] = None, lower: bool = True) -> str:\n",
    "        player = player if player is not None else self.pturn\n",
    "        result = \"O\" if player == 0 else \"X\"\n",
    "        return result.lower() if lower else result\n",
    "\n",
    "    def _enum_valid_moves(self) -> Iterator[Tuple[int, int]]:\n",
    "        eligible_moves = []\n",
    "        for src_idx in range(1, 25):\n",
    "            if self._has_checkers(src_idx, player=self._cur_player):\n",
    "                for steps in range(1, 7):\n",
    "                    if self._is_valid_move(src_idx, steps):\n",
    "                        yield (src_idx, steps)\n",
    "        return eligible_moves\n",
    "        \n",
    "    def _is_valid_move(self, src_idx: int, steps: int) -> bool:\n",
    "        try:\n",
    "            self._check_move(src_idx, steps)\n",
    "            return True\n",
    "        except RuntimeError as e:\n",
    "            return False\n",
    "        \n",
    "    def _can_move(self):\n",
    "        try:\n",
    "            next(iter(self._enum_valid_moves()))\n",
    "            return True\n",
    "        except StopIteration:\n",
    "            return False\n",
    "\n",
    "    def start(self, d1: int = 0, d2: int = 0) -> \"Game\":\n",
    "        if self.step != Game.Step.IDLE:\n",
    "            raise RuntimeError(\"invalid action\")\n",
    "\n",
    "        self.dice = [d1 or random.randint(1, 6), d2 or random.randint(1, 6)]\n",
    "        while self.dice[0] == self.dice[1]:\n",
    "            self.dice = [random.randint(1, 6), random.randint(1, 6)]\n",
    "\n",
    "        self.step = Game.Step.ROLL\n",
    "        if self.dice[0] > self.dice[1]:\n",
    "            self.pturn = 0\n",
    "        else: # self.dice[0] < self.dice[1]:\n",
    "            self.pturn = 1\n",
    "        return self\n",
    "\n",
    "    def roll(self, d1: int = 0, d2: int = 0) -> \"Game\":\n",
    "        if self.step != Game.Step.ROLL:\n",
    "            raise RuntimeError(\"invalid action\")\n",
    "        self.dice = [d1 or random.randint(1, 6), d2 or random.randint(1, 6)]\n",
    "        logger.debug(f\"t={self.t}, p={self._render_player()} rolls {self.dice}\")\n",
    "        if self.dice[0] == self.dice[1]:\n",
    "            self.dice += self.dice\n",
    "        self.step = Game.Step.TURN\n",
    "        return self\n",
    "\n",
    "    def turn(self, src_idx: int, steps: int) -> \"Game\":\n",
    "        dst_idx = self._get_next_idx(src_idx, steps)\n",
    "        self._check_move(src_idx, steps)\n",
    "        if self._is_move_home(src_idx, steps):\n",
    "            logger.debug(f\"t={self.t}, p={self._render_player()} moves: {src_idx}->HOME\")\n",
    "            self.board[src_idx-1] -= self._get_user_sign()\n",
    "            self.home[self.pturn] += 1\n",
    "        else:\n",
    "            logger.debug(f\"t={self.t}, p={self._render_player()} moves: {src_idx}-({steps})->{dst_idx}\")\n",
    "            self.board[src_idx-1] -= self._get_user_sign()\n",
    "            self.board[dst_idx-1] += self._get_user_sign()\n",
    "\n",
    "        if self._get_head() == src_idx:\n",
    "            self.head_moves += 1\n",
    "\n",
    "        if len(self.dice) > 2:\n",
    "            self.dice.pop(self.dice.index(steps, -1))\n",
    "        else:\n",
    "            self.dice[self.dice.index(steps)] = 0\n",
    "\n",
    "        if self.home[self.pturn] == 15:\n",
    "            logger.debug(f\"t={self.t}, game finished, p={self._render_player()} wins\")\n",
    "            self.step = Game.Step.FINISHED\n",
    "        elif self.dice[0] == 0 and self.dice[1] == 0:\n",
    "            self.step = Game.Step.ROLL\n",
    "            self.pturn = self._opponent\n",
    "            self.t += 1\n",
    "            self.head_moves = 0\n",
    "        \n",
    "        return self\n",
    "    \n",
    "    def is_finished(self):\n",
    "        return self.step == Game.Step.FINISHED\n",
    "    \n",
    "    def skip(self) -> \"Game\":\n",
    "        if self.step != Game.Step.TURN:\n",
    "            raise RuntimeError(\"invalid action\")\n",
    "        \n",
    "        if self._can_move():\n",
    "            raise RuntimeError(\"skip only possible when there's no moves\")\n",
    "        else:\n",
    "            logger.debug(f\"t={self.t}, p={self._render_player()} has no eligible moves, skipping\")\n",
    "            self.dice = [0, 0]\n",
    "            self.step = Game.Step.ROLL\n",
    "            self.pturn = (self.pturn + 1) % 2\n",
    "            self.t += 1\n",
    "        \n",
    "        return self\n",
    "\n",
    "    def __repr__(self):\n",
    "        template = \"\"\"\n",
    "        |{oha}| 24 | 23 | 22 | 21 | 20 | 19 |{xst}| 18 | 17 | 16 | 15 | 14 | 13 |{xho}|\n",
    "        |{ohb}|-----------------------------|     |-----------------------------|{xhn}|\n",
    "        |{ohc}|{x1}|{w1}|{v1}|{u1}|{t1}|{s1}|     |{r1}|{q1}|{p1}|{o1}|{n1}|{m1}|{xhm}|\n",
    "        |{ohd}|{x2}|{w2}|{v2}|{u2}|{t2}|{s2}|     |{r2}|{q2}|{p2}|{o2}|{n2}|{m2}|{xhl}|\n",
    "        |{ohe}|{x3}|{w3}|{v3}|{u3}|{t3}|{s3}|     |{r3}|{q3}|{p3}|{o3}|{n3}|{m3}|{xhk}|\n",
    "        |{ohf}|{x4}|{w4}|{v4}|{u4}|{t4}|{s4}|     |{r4}|{q4}|{p4}|{o4}|{n4}|{m4}|{xhj}|\n",
    "        |{ohg}|{x5}|{w5}|{v5}|{u5}|{t5}|{s5}|     |{r5}|{q5}|{p5}|{o5}|{n5}|{m5}|{xhi}|\n",
    "        |{ohh}|-----------------------------|{dcs}|-----------------------------|{xhh}|\n",
    "        |{ohi}|{a5}|{b5}|{c5}|{d5}|{e5}|{f5}|     |{g5}|{h5}|{i5}|{j5}|{k5}|{l5}|{xhg}|\n",
    "        |{ohj}|{a4}|{b4}|{c4}|{d4}|{e4}|{f4}|     |{g4}|{h4}|{i4}|{j4}|{k4}|{l4}|{xhf}|\n",
    "        |{ohk}|{a3}|{b3}|{c3}|{d3}|{e3}|{f3}|     |{g3}|{h3}|{i3}|{j3}|{k3}|{l3}|{xhe}|\n",
    "        |{ohl}|{a2}|{b2}|{c2}|{d2}|{e2}|{f2}|     |{g2}|{h2}|{i2}|{j2}|{k2}|{l2}|{xhd}|\n",
    "        |{ohm}|{a1}|{b1}|{c1}|{d1}|{e1}|{f1}|     |{g1}|{h1}|{i1}|{j1}|{k1}|{l1}|{xhc}|\n",
    "        |{ohn}|-----------------------------|     |-----------------------------|{xhb}|\n",
    "        |{oho}| 01 | 02 | 03 | 04 | 05 | 06 |{ost}| 07 | 08 | 09 | 10 | 11 | 12 |{xha}|\n",
    "        \"\"\"\n",
    "\n",
    "        pixels = {}\n",
    "        for pos in range(1,25):\n",
    "            x = chr(ord(\"a\") + pos - 1)\n",
    "            checkers = abs(int(self.board[pos-1]))\n",
    "            pixel = self._render_player(player = 0 if self.board[pos-1] > 0 else 1)\n",
    "            for y in range(1, 6):\n",
    "                if checkers > 0:\n",
    "                    if y < 5 or checkers == 1:\n",
    "                        pixels[f\"{x}{y}\"] = (f\"  {pixel} \")\n",
    "                    else: # y == 5 and checkers > 1:\n",
    "                        pixels[f\"{x}{y}\"] = f\"({checkers}\".rjust(3) + \")\"\n",
    "                    checkers -= 1\n",
    "                else:\n",
    "                    pixels[f\"{x}{y}\"] = \"    \"\n",
    "        pixels[\"dcs\"] = f\" {self.dice[0] or ' '}:{self.dice[1] or ' '} \"\n",
    "\n",
    "        for player in [0, 1]:\n",
    "            pixel = self._render_player(player=player)\n",
    "            for idx in range(15):\n",
    "                h = pixel + \"h\" + chr(ord(\"a\") + idx)\n",
    "                pixels[h] = f\"  {pixel}  \" if self.home[player] > idx else \"     \"\n",
    "\n",
    "        pixels[\"ost\"] = \"     \"\n",
    "        pixels[\"xst\"] = \"     \"\n",
    "        if self.step == Game.Step.ROLL:\n",
    "            pixels[\"ost\" if self.pturn == 0 else \"xst\"] = \" ROL \"\n",
    "        elif self.step == Game.Step.TURN:\n",
    "            pixels[\"ost\" if self.pturn == 0 else \"xst\"] = f\" ({len([d for d in self.dice if d])}) \"\n",
    "        elif self.step == Game.Step.FINISHED:\n",
    "            pixels[\"ost\" if self.pturn == 0 else \"xst\"] = \" WIN \"\n",
    "\n",
    "        return template.format(**pixels)"
   ]
  },
  {
   "cell_type": "code",
   "execution_count": 7,
   "metadata": {},
   "outputs": [],
   "source": [
    "def validate(game: Game):\n",
    "    p1, p2 = 0, 0\n",
    "    for i in range(len(game.board)):\n",
    "        if game.board[i] > 0:\n",
    "            p1 += game.board[i]\n",
    "        if game.board[i] < 0:\n",
    "            p2 -= game.board[i]\n",
    "    p1 += game.home[0]\n",
    "    p2 += game.home[1]\n",
    "    assert (p1, p2) == (15, 15), \"invalid # of checkers at the board\""
   ]
  },
  {
   "cell_type": "code",
   "execution_count": 8,
   "metadata": {},
   "outputs": [],
   "source": [
    "def random_move(game: Game):\n",
    "    if not game.is_finished():\n",
    "        moves = list(game._enum_valid_moves())\n",
    "        if len(moves) > 0:\n",
    "            pos, steps = random.choice(moves)\n",
    "            game.turn(pos, steps)\n",
    "            return True\n",
    "        else:\n",
    "            game.skip()\n",
    "    return False\n",
    "\n",
    "def auto_turn(game: Game):\n",
    "    game.roll()\n",
    "    for _ in range(len(game.dice)):\n",
    "        if not random_move(game):\n",
    "            break\n",
    "    return game\n",
    "\n",
    "def auto_rollout(game, turns: int = 100):\n",
    "    for turn in range(turns):\n",
    "        auto_turn(game)\n",
    "        validate(game)\n",
    "        if game.is_finished():\n",
    "            break\n",
    "    return game"
   ]
  },
  {
   "cell_type": "code",
   "execution_count": 9,
   "metadata": {},
   "outputs": [
    {
     "data": {
      "text/plain": [
       "\n",
       "        |  o  | 24 | 23 | 22 | 21 | 20 | 19 |     | 18 | 17 | 16 | 15 | 14 | 13 |     |\n",
       "        |  o  |-----------------------------|     |-----------------------------|     |\n",
       "        |  o  |    |    |    |    |    |    |     |    |    |    |    |    |    |     |\n",
       "        |  o  |    |    |    |    |    |    |     |    |    |    |    |    |    |     |\n",
       "        |  o  |    |    |    |    |    |    |     |    |    |    |    |    |    |     |\n",
       "        |  o  |    |    |    |    |    |    |     |    |    |    |    |    |    |     |\n",
       "        |  o  |    |    |    |    |    |    |     |    |    |    |    |    |    |     |\n",
       "        |  o  |-----------------------------|  :  |-----------------------------|     |\n",
       "        |  o  |    |    |    |    |    |    |     |    |    |    |    |    | (4)|     |\n",
       "        |  o  |    |    |    |    |    |    |     |    |    |    |    |    |  x |     |\n",
       "        |  o  |    |    |    |    |    |    |     |    |    |    |    |  x |  x |     |\n",
       "        |  o  |    |    |    |    |    |    |     |    |    |    |    |  x |  x |  x  |\n",
       "        |  o  |    |    |    |    |    |    |     |    |    |    |    |  x |  x |  x  |\n",
       "        |  o  |-----------------------------|     |-----------------------------|  x  |\n",
       "        |  o  | 01 | 02 | 03 | 04 | 05 | 06 | WIN | 07 | 08 | 09 | 10 | 11 | 12 |  x  |\n",
       "        "
      ]
     },
     "execution_count": 9,
     "metadata": {},
     "output_type": "execute_result"
    }
   ],
   "source": [
    "g = Game(seed=42)\n",
    "auto_rollout(g.start(), 100)"
   ]
  },
  {
   "cell_type": "markdown",
   "metadata": {},
   "source": [
    "## Test cases:"
   ]
  },
  {
   "cell_type": "markdown",
   "metadata": {},
   "source": [
    "#### Can't make any moves, only skip is possible:"
   ]
  },
  {
   "cell_type": "markdown",
   "metadata": {},
   "source": [
    "#### Check limitations on prime (blocking 6 in a row is not allowed if no opposing checker is in front)"
   ]
  },
  {
   "cell_type": "code",
   "execution_count": 10,
   "metadata": {},
   "outputs": [],
   "source": [
    "import unittest"
   ]
  },
  {
   "cell_type": "code",
   "execution_count": 11,
   "metadata": {},
   "outputs": [],
   "source": [
    "class Test(unittest.TestCase):\n",
    "    def test_skips(self):\n",
    "        g = Game(seed=42)\n",
    "        g.start().roll().turn(1, 6).turn(7, 1)\n",
    "        g.roll().turn(13, 3).turn(16, 2)\n",
    "        g.roll().turn(1, 2).turn(3, 2).turn(5, 2).turn(8, 2)\n",
    "        g.roll().turn(13,6).turn(18,1)\n",
    "        g.roll().turn(10, 6).turn(16,6).turn(1, 6) # < there's no moves for red here\n",
    "        with self.assertRaises(RuntimeError):\n",
    "            g.turn(1, 6)\n",
    "        g.skip()\n",
    "\n",
    "    def test_blocking_primes(self):\n",
    "        g = Game(seed=42)\n",
    "        auto_turn(g.start().roll(1,4).turn(1, 4).turn(5, 1))\n",
    "        auto_turn(g.roll(1,1).turn(1,1).turn(1,1).turn(2, 1).turn(3,1))\n",
    "        auto_turn(g.roll(1,3).turn(1,1).turn(2,3))\n",
    "        g.roll(1,2)\n",
    "        with self.assertRaises(RuntimeError):\n",
    "            g.turn(2,1)\n",
    "\n",
    "    def test_nonblocking_primes(self):\n",
    "        g = Game(seed=42)\n",
    "        auto_turn(g.start().roll(1,4).turn(1, 4).turn(5, 1))\n",
    "        auto_turn(g.roll(1,1).turn(1,1).turn(1,1).turn(2, 1).turn(3,1))\n",
    "        g.roll(1,3).turn(1,1).turn(2,3)\n",
    "        g.roll(3,6).turn(24,3).turn(3,6)\n",
    "        g.roll(1,2).turn(1,2)"
   ]
  },
  {
   "cell_type": "code",
   "execution_count": 12,
   "metadata": {},
   "outputs": [],
   "source": [
    "# Test().test_skips()\n",
    "# Test().test_blocking_primes()\n",
    "# Test().test_nonblocking_primes()"
   ]
  },
  {
   "cell_type": "code",
   "execution_count": 13,
   "metadata": {},
   "outputs": [
    {
     "name": "stderr",
     "output_type": "stream",
     "text": [
      "test_blocking_primes (__main__.Test) ... ok\n",
      "test_nonblocking_primes (__main__.Test) ... ok\n",
      "test_skips (__main__.Test) ... ok\n",
      "\n",
      "----------------------------------------------------------------------\n",
      "Ran 3 tests in 0.004s\n",
      "\n",
      "OK\n"
     ]
    },
    {
     "data": {
      "text/plain": [
       "<unittest.main.TestProgram at 0x153e09450>"
      ]
     },
     "execution_count": 13,
     "metadata": {},
     "output_type": "execute_result"
    }
   ],
   "source": [
    "unittest.main(argv=[''], verbosity=2, exit=False)"
   ]
  },
  {
   "cell_type": "markdown",
   "metadata": {},
   "source": [
    "## Playing around"
   ]
  },
  {
   "cell_type": "code",
   "execution_count": 14,
   "metadata": {},
   "outputs": [
    {
     "data": {
      "text/plain": [
       "\n",
       "        |  o  | 24 | 23 | 22 | 21 | 20 | 19 |     | 18 | 17 | 16 | 15 | 14 | 13 |     |\n",
       "        |  o  |-----------------------------|     |-----------------------------|     |\n",
       "        |  o  |    |    |    |    |    |    |     |    |    |    |    |    |    |     |\n",
       "        |  o  |    |    |    |    |    |    |     |    |    |    |    |    |    |     |\n",
       "        |  o  |    |    |    |    |    |    |     |    |    |    |    |    |    |     |\n",
       "        |  o  |    |    |    |    |    |    |     |    |    |    |    |    |    |  x  |\n",
       "        |  o  |    |    |    |    |    |    |     |    |    |    |    |    |    |  x  |\n",
       "        |  o  |-----------------------------|  :6 |-----------------------------|  x  |\n",
       "        |  o  |    |    |    |    |    |    |     |    |    |    |    |    |    |  x  |\n",
       "        |  o  |    |    |    |    |    |    |     |    |    |    |    |    |    |  x  |\n",
       "        |  o  |    |    |    |    |    |    |     |    |    |    |    |    |    |  x  |\n",
       "        |  o  |    |    |    |    |    |    |     |    |    |    |    |    |  x |  x  |\n",
       "        |  o  |    |    |    |    |    |    |     |    |  x |    |  x |  x |  x |  x  |\n",
       "        |  o  |-----------------------------|     |-----------------------------|  x  |\n",
       "        |  o  | 01 | 02 | 03 | 04 | 05 | 06 | WIN | 07 | 08 | 09 | 10 | 11 | 12 |  x  |\n",
       "        "
      ]
     },
     "execution_count": 14,
     "metadata": {},
     "output_type": "execute_result"
    }
   ],
   "source": [
    "g = Game(seed=1761854789)\n",
    "auto_rollout(g.start(), turns=100)"
   ]
  },
  {
   "cell_type": "code",
   "execution_count": 15,
   "metadata": {},
   "outputs": [
    {
     "data": {
      "text/plain": [
       "\n",
       "        |     | 24 | 23 | 22 | 21 | 20 | 19 |     | 18 | 17 | 16 | 15 | 14 | 13 |     |\n",
       "        |     |-----------------------------|     |-----------------------------|     |\n",
       "        |     |    |  x |    |    |    |    |     |    |    |    |    |    |  x |     |\n",
       "        |     |    |    |    |    |    |    |     |    |    |    |    |    |  x |     |\n",
       "        |     |    |    |    |    |    |    |     |    |    |    |    |    |  x |     |\n",
       "        |     |    |    |    |    |    |    |     |    |    |    |    |    |  x |     |\n",
       "        |     |    |    |    |    |    |    |     |    |    |    |    |    |(10)|     |\n",
       "        |     |-----------------------------|  :  |-----------------------------|     |\n",
       "        |     |(10)|    |    |    |    |    |     |    |    |    |    |    |    |     |\n",
       "        |     |  o |    |    |    |    |    |     |    |    |    |    |    |    |     |\n",
       "        |     |  o |    |    |    |    |    |     |    |    |    |    |    |    |     |\n",
       "        |     |  o |    |    |    |    |    |     |    |    |    |    |    |    |     |\n",
       "        |     |  o |    |    |    |  o |    |     |    |    |    |    |    |    |     |\n",
       "        |     |-----------------------------|     |-----------------------------|     |\n",
       "        |     | 01 | 02 | 03 | 04 | 05 | 06 | ROL | 07 | 08 | 09 | 10 | 11 | 12 |     |\n",
       "        "
      ]
     },
     "execution_count": 15,
     "metadata": {},
     "output_type": "execute_result"
    }
   ],
   "source": [
    "g = Game()\n",
    "auto_rollout(g.start(), turns=3)"
   ]
  },
  {
   "cell_type": "code",
   "execution_count": 16,
   "metadata": {},
   "outputs": [
    {
     "data": {
      "text/plain": [
       "\n",
       "        |  o  | 24 | 23 | 22 | 21 | 20 | 19 |     | 18 | 17 | 16 | 15 | 14 | 13 |     |\n",
       "        |  o  |-----------------------------|     |-----------------------------|     |\n",
       "        |  o  |    |    |    |    |    |    |     |    |    |    |    |    |    |     |\n",
       "        |  o  |    |    |    |    |    |    |     |    |    |    |    |    |    |     |\n",
       "        |  o  |    |    |    |    |    |    |     |    |    |    |    |    |    |     |\n",
       "        |  o  |    |    |    |    |    |    |     |    |    |    |    |    |    |     |\n",
       "        |  o  |    |    |    |    |    |    |     |    |    |    |    |    |    |     |\n",
       "        |  o  |-----------------------------|  :6 |-----------------------------|     |\n",
       "        |  o  |    |    |    |    |    |    |     |    |    |    |    | (3)| (2)|     |\n",
       "        |  o  |    |    |    |    |    |    |     |    |    |    |    |  x |  x |     |\n",
       "        |  o  |    |    |    |    |    |    |     |    |    |    |    |  x |  x |     |\n",
       "        |  o  |    |    |    |    |    |    |     |    |    |    |  x |  x |  x |     |\n",
       "        |  o  |    |    |    |    |    |    |     |    |    |    |  x |  x |  x |     |\n",
       "        |  o  |-----------------------------|     |-----------------------------|     |\n",
       "        |  o  | 01 | 02 | 03 | 04 | 05 | 06 | WIN | 07 | 08 | 09 | 10 | 11 | 12 |     |\n",
       "        "
      ]
     },
     "execution_count": 16,
     "metadata": {},
     "output_type": "execute_result"
    }
   ],
   "source": [
    "auto_rollout(Game().start(), turns=500)"
   ]
  },
  {
   "cell_type": "code",
   "execution_count": 17,
   "metadata": {},
   "outputs": [
    {
     "name": "stderr",
     "output_type": "stream",
     "text": [
      "100%|██████████| 1000/1000 [00:14<00:00, 66.75it/s]\n"
     ]
    },
    {
     "data": {
      "text/plain": [
       "np.float64(0.513)"
      ]
     },
     "execution_count": 17,
     "metadata": {},
     "output_type": "execute_result"
    }
   ],
   "source": [
    "np.array([auto_rollout(Game().start(), turns=500).pturn for _ in tqdm.trange(1000)]).mean()"
   ]
  },
  {
   "cell_type": "code",
   "execution_count": 18,
   "metadata": {},
   "outputs": [],
   "source": [
    "class Policy:\n",
    "    def make_move(self, game: Game) -> bool:\n",
    "        pass\n",
    "\n",
    "    def play_turn(self, game: Game) -> Game:\n",
    "        game.roll()\n",
    "        logger.debug(f\"t={game.t}, p={game.pturn} rolls {game.dice}\")\n",
    "        for _ in range(len(game.dice)):\n",
    "            if not self._make_move(game):\n",
    "                break\n",
    "        return game\n",
    "\n",
    "class RandomPolicy(Policy):\n",
    "    def _make_move(self, game: Game):\n",
    "        if not game.is_finished():\n",
    "            moves = list(game._enum_valid_moves())\n",
    "            if len(moves) > 0:\n",
    "                pos, steps = random.choice(moves)\n",
    "                game.turn(pos, steps)\n",
    "                return True\n",
    "            else:\n",
    "                game.skip()\n",
    "        return False\n",
    "\n",
    "class LazyPolicy(Policy):\n",
    "    def _first_move(self, game: Game) -> Optional[Tuple[int, int]]:\n",
    "        try:\n",
    "            return next(iter(game._enum_valid_moves()))\n",
    "        except StopIteration:\n",
    "            return None\n",
    "\n",
    "    def _make_move(self, game: Game):\n",
    "        if not game.is_finished():\n",
    "            move = self._first_move(game)\n",
    "            if move:\n",
    "                pos, steps = move\n",
    "                game.turn(pos, steps)\n",
    "                return True\n",
    "            else:\n",
    "                game.skip()\n",
    "        return False\n",
    "\n",
    "@dataclass\n",
    "class Results:\n",
    "    winner: int\n",
    "    turns: int\n",
    "    reward: int\n",
    "\n",
    "def calc_reward(game: Game) -> int:\n",
    "    opponent = 1 if game.pturn == 0 else 0\n",
    "    return 2 if game.home[opponent] == 0 else 1\n",
    "\n",
    "\n",
    "def tournament(game: Game, player1: Policy, player2: Policy, turns: int = 100) -> Results:\n",
    "    game.start()   \n",
    "    for turn in range(turns):\n",
    "        if game.is_finished():\n",
    "            break\n",
    "        cur_player = player1 if game.pturn == 0 else player2\n",
    "        cur_player.play_turn(game)\n",
    "    return Results(winner=game.pturn, turns=game.t, reward=calc_reward(game))"
   ]
  },
  {
   "cell_type": "code",
   "execution_count": 19,
   "metadata": {},
   "outputs": [
    {
     "data": {
      "text/plain": [
       "Results(winner=0, turns=87, reward=1)"
      ]
     },
     "execution_count": 19,
     "metadata": {},
     "output_type": "execute_result"
    }
   ],
   "source": [
    "p1 = LazyPolicy()\n",
    "p2 = LazyPolicy()\n",
    "tournament(Game(), LazyPolicy(), LazyPolicy(), turns=1000)"
   ]
  },
  {
   "cell_type": "code",
   "execution_count": 20,
   "metadata": {},
   "outputs": [
    {
     "name": "stderr",
     "output_type": "stream",
     "text": [
      "100%|██████████| 10000/10000 [00:43<00:00, 232.28it/s]\n"
     ]
    },
    {
     "data": {
      "text/plain": [
       "winner     0.5522\n",
       "turns     92.0029\n",
       "reward     1.0761\n",
       "dtype: float64"
      ]
     },
     "execution_count": 20,
     "metadata": {},
     "output_type": "execute_result"
    }
   ],
   "source": [
    "pd.DataFrame([tournament(Game(), LazyPolicy(), LazyPolicy(), turns=1000).__dict__ for _ in tqdm.trange(10000)]).mean()"
   ]
  },
  {
   "cell_type": "code",
   "execution_count": 21,
   "metadata": {},
   "outputs": [
    {
     "name": "stderr",
     "output_type": "stream",
     "text": [
      "100%|██████████| 10000/10000 [02:23<00:00, 69.64it/s]\n"
     ]
    },
    {
     "data": {
      "text/plain": [
       "winner     0.5029\n",
       "turns     95.4575\n",
       "reward     1.1456\n",
       "dtype: float64"
      ]
     },
     "execution_count": 21,
     "metadata": {},
     "output_type": "execute_result"
    }
   ],
   "source": [
    "pd.DataFrame([tournament(Game(), RandomPolicy(), RandomPolicy(), turns=1000).__dict__ for _ in tqdm.trange(10000)]).mean()"
   ]
  },
  {
   "cell_type": "code",
   "execution_count": 22,
   "metadata": {},
   "outputs": [
    {
     "name": "stderr",
     "output_type": "stream",
     "text": [
      "100%|██████████| 10000/10000 [01:36<00:00, 104.08it/s]\n"
     ]
    },
    {
     "data": {
      "text/plain": [
       "winner     0.5019\n",
       "turns     93.1297\n",
       "reward     1.1396\n",
       "dtype: float64"
      ]
     },
     "execution_count": 22,
     "metadata": {},
     "output_type": "execute_result"
    }
   ],
   "source": [
    "pd.DataFrame([tournament(Game(), RandomPolicy(), LazyPolicy(), turns=1000).__dict__ for _ in tqdm.trange(10000)]).mean()"
   ]
  }
 ],
 "metadata": {
  "kernelspec": {
   "display_name": "XCS234",
   "language": "python",
   "name": "python3"
  },
  "language_info": {
   "codemirror_mode": {
    "name": "ipython",
    "version": 3
   },
   "file_extension": ".py",
   "mimetype": "text/x-python",
   "name": "python",
   "nbconvert_exporter": "python",
   "pygments_lexer": "ipython3",
   "version": "3.10.13"
  }
 },
 "nbformat": 4,
 "nbformat_minor": 2
}
