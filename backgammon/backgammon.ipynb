{
 "cells": [
  {
   "cell_type": "code",
   "execution_count": 1,
   "metadata": {},
   "outputs": [],
   "source": [
    "import sys\n",
    "import copy \n",
    "import random\n",
    "import itertools\n",
    "import pandas as pd\n",
    "import numpy as np\n",
    "import torch\n",
    "import tqdm.auto as tqdm\n",
    "from pathlib import Path\n",
    "import torch_scatter\n",
    "\n",
    "from typing import *\n",
    "from enum import Enum\n",
    "from dataclasses import dataclass"
   ]
  },
  {
   "cell_type": "code",
   "execution_count": 2,
   "metadata": {},
   "outputs": [],
   "source": [
    "%load_ext autoreload\n",
    "%autoreload 2"
   ]
  },
  {
   "cell_type": "code",
   "execution_count": 3,
   "metadata": {},
   "outputs": [],
   "source": [
    "import logging\n",
    "logger = logging.getLogger(\"research\")"
   ]
  },
  {
   "cell_type": "code",
   "execution_count": 4,
   "metadata": {},
   "outputs": [],
   "source": [
    "import os,sys\n",
    "sys.path.insert(0, str(Path.cwd().parent))"
   ]
  },
  {
   "cell_type": "code",
   "execution_count": 5,
   "metadata": {},
   "outputs": [],
   "source": [
    "import utils.logging\n",
    "utils.logging.setup(debug=False)"
   ]
  },
  {
   "cell_type": "markdown",
   "metadata": {},
   "source": [
    "### Narde rules\n",
    "https://www.bkgm.com/variants/Narde.html"
   ]
  },
  {
   "cell_type": "code",
   "execution_count": 6,
   "metadata": {},
   "outputs": [],
   "source": [
    "class Game:\n",
    "    class Step(Enum):\n",
    "        IDLE = \"idle\"\n",
    "        ROLL = \"roll\"\n",
    "        TURN = \"trun\"\n",
    "        FINISHED = \"finished\"\n",
    "\n",
    "    @staticmethod\n",
    "    def _init_seed(seed: int | bool | None) -> int:\n",
    "        if isinstance(seed, bool):\n",
    "            seed = random.randint(0, 2**32-1) if seed else None\n",
    "\n",
    "        if seed is not None:\n",
    "            random.seed(seed)\n",
    "            np.random.seed(seed)\n",
    "        \n",
    "        return seed\n",
    "\n",
    "    def __init__(self, seed: bool | int | None = None, verbose = False):\n",
    "        self.seed = self._init_seed(seed)\n",
    "        self.board = np.zeros(24, dtype=int)\n",
    "        self.board[0] = 15\n",
    "        self.board[12] = -15\n",
    "        self.dice = [0, 0]\n",
    "        self.home = [0, 0]\n",
    "        self.pturn = 0\n",
    "        self.t = 0\n",
    "        self.head_moves = 0\n",
    "        self.valid_moves = None\n",
    "        self.step : Game.Step = Game.Step.IDLE\n",
    "        self.loglevel = logging.INFO if verbose else logging.DEBUG\n",
    "        logger.log(self.loglevel, f\"new game started, seed={self.seed}\")\n",
    "\n",
    "    def _get_next_pos(self, pos: int, steps: int) -> int:\n",
    "        dst_pos = pos + steps\n",
    "        if dst_pos > 24:\n",
    "            dst_pos = dst_pos % 25 + 1\n",
    "        if dst_pos < 1:\n",
    "            dst_pos = 24 + dst_pos\n",
    "        return dst_pos\n",
    "    \n",
    "    def _get_head(self, player: Optional[int] = None) -> int:\n",
    "        player = player if player is not None else self.pturn\n",
    "        return 1 if player == 0 else 13\n",
    "    \n",
    "    def _get_user_sign(self, player: Optional[int] = None) -> int:\n",
    "        player = player if player is not None else self.pturn\n",
    "        return 1 if player == 0 else -1\n",
    "\n",
    "    def _can_move_home(self):\n",
    "        counter = self.home[self.pturn]\n",
    "        home = range(19, 25) if self.pturn == 0 else range(7, 13)\n",
    "        for pos in home:\n",
    "            if self._has_checkers(pos, player=self._cur_player):\n",
    "                counter += self._get_checkers(pos, player=self._cur_player)\n",
    "        return counter == 15\n",
    "\n",
    "    def _is_move_home(self, pos: int, steps: int) -> bool:\n",
    "        dst_pos = self._get_next_pos(pos, steps)\n",
    "        return (self.pturn == 0 and dst_pos < pos) or \\\n",
    "               (self.pturn == 1 and pos <= 12 and dst_pos > 12)\n",
    "    \n",
    "    @property\n",
    "    def _opponent(self) -> int:\n",
    "        return 1 if self.pturn == 0 else 0\n",
    "    \n",
    "    @property\n",
    "    def _cur_player(self) -> int:\n",
    "        return self.pturn\n",
    "    \n",
    "    def _has_checkers(self, pos: int, player: Optional[int] = None):\n",
    "        return self._get_checkers(pos, player) > 0\n",
    "    \n",
    "    def _get_checkers(self, pos: int, player: Optional[int] = None):\n",
    "        player = player if player is not None else self.pturn\n",
    "        return self._get_user_sign(player) * self.board[pos-1]\n",
    "    \n",
    "    def _find_prime(self, pos: int) -> Optional[Tuple[int, int]]:\n",
    "        seq = 1\n",
    "        result = [pos, pos]\n",
    "        next_ptr = self._get_next_pos(pos, 1)\n",
    "        while seq < 6 and self._has_checkers(next_ptr, player=self._cur_player):\n",
    "            seq += 1\n",
    "            result[1] = next_ptr\n",
    "            next_ptr = self._get_next_pos(next_ptr, 1)\n",
    "        prev_ptr = self._get_next_pos(pos, -1)\n",
    "        while seq < 6 and self._has_checkers(prev_ptr, player=self._cur_player):\n",
    "            seq += 1\n",
    "            result[0] = prev_ptr\n",
    "            prev_ptr = self._get_next_pos(prev_ptr, -1)\n",
    "        return tuple(result) if seq == 6 else None\n",
    "    \n",
    "    def _is_blocking_prime(self, dst_pos: int) -> bool:\n",
    "        prime_range = self._find_prime(dst_pos)\n",
    "        if prime_range:\n",
    "            prime_end_pos = prime_range[1]\n",
    "            for step in range(1, 24):\n",
    "                search_pos = self._get_next_pos(prime_end_pos, step)\n",
    "                if self._get_head(self._opponent) == search_pos:\n",
    "                    return True # we reached other player's home without finding it's checkers\n",
    "                if self._has_checkers(pos=search_pos, player=self._opponent):\n",
    "                    break\n",
    "        return False\n",
    "    \n",
    "    def _check_move(self, pos: int, steps: int):\n",
    "        dst_pos = self._get_next_pos(pos, steps)\n",
    "        if self.step != Game.Step.TURN:\n",
    "            raise RuntimeError(\"invalid action\")\n",
    "        if not (1 <= pos <= 24):\n",
    "            raise RuntimeError(\"invalid position\")\n",
    "        if not self._has_checkers(pos, player=self._cur_player):\n",
    "            raise RuntimeError(f\"no checkers at position {pos}\")\n",
    "        if self._has_checkers(dst_pos, player=self._opponent):\n",
    "            raise RuntimeError(f\"can't move to position {dst_pos}\")\n",
    "        if steps not in self.dice:\n",
    "            raise RuntimeError(f\"no dice with value {steps}\")\n",
    "        if self._is_move_home(pos, steps):\n",
    "            if not self._can_move_home():\n",
    "                raise RuntimeError(f\"not all checkers are at finishing table\")\n",
    "        if self._get_head() == pos and self.head_moves > 0:\n",
    "            if not (self.head_moves == 1 and self.dice[0] == self.dice[1] and self.t < 2):\n",
    "                raise RuntimeError(f\"can't make any more head moves\")\n",
    "        if self._is_blocking_prime(dst_pos):\n",
    "            raise RuntimeError(f\"can't form a blocking prime\")\n",
    "        # TODO: If player can play one number but not both, they must play the higher one\n",
    "\n",
    "    def _render_player(self, player: Optional[int] = None, lower: bool = True) -> str:\n",
    "        player = player if player is not None else self.pturn\n",
    "        result = \"O\" if player == 0 else \"X\"\n",
    "        return result.lower() if lower else result\n",
    "\n",
    "    def _is_valid_move(self, pos: int, steps: int) -> bool:\n",
    "        try:\n",
    "            self._check_move(pos, steps)\n",
    "            return True\n",
    "        except RuntimeError as e:\n",
    "            return False\n",
    "    \n",
    "    def _enum_valid_moves(self) -> Iterator[Tuple[int, int]]:\n",
    "        for pos in range(1, 25):\n",
    "            if self._has_checkers(pos, player=self._cur_player):\n",
    "                for steps in range(1, 7):\n",
    "                    if self._is_valid_move(pos, steps):\n",
    "                        yield (pos, steps)\n",
    "\n",
    "    def get_valid_moves(self) -> List[Tuple[int, int]]:\n",
    "        if self.valid_moves is None:\n",
    "            self.valid_moves = list(self._enum_valid_moves())\n",
    "        return self.valid_moves\n",
    "    \n",
    "    def has_valid_moves(self):\n",
    "        return len(self.get_valid_moves()) > 0\n",
    "\n",
    "    def start(self, d1: int = 0, d2: int = 0) -> \"Game\":\n",
    "        if self.step != Game.Step.IDLE:\n",
    "            raise RuntimeError(\"invalid action\")\n",
    "\n",
    "        self.dice = [d1 or random.randint(1, 6), d2 or random.randint(1, 6)]\n",
    "        while self.dice[0] == self.dice[1]:\n",
    "            self.dice = [random.randint(1, 6), random.randint(1, 6)]\n",
    "\n",
    "        self.step = Game.Step.ROLL\n",
    "        if self.dice[0] > self.dice[1]:\n",
    "            self.pturn = 0\n",
    "        else: # self.dice[0] < self.dice[1]:\n",
    "            self.pturn = 1\n",
    "        return self\n",
    "\n",
    "    def roll(self, d1: int = 0, d2: int = 0) -> \"Game\":\n",
    "        if self.step != Game.Step.ROLL:\n",
    "            raise RuntimeError(\"invalid action\")\n",
    "        self.dice = [d1 or random.randint(1, 6), d2 or random.randint(1, 6)]\n",
    "        logger.log(self.loglevel, f\"t={self.t}, p={self._render_player()} rolls {self.dice}\")\n",
    "        if self.dice[0] == self.dice[1]:\n",
    "            self.dice += self.dice\n",
    "        self.step = Game.Step.TURN\n",
    "        return self\n",
    "\n",
    "    def turn(self, pos: int, steps: int) -> \"Game\":\n",
    "        dst_pos = self._get_next_pos(pos, steps)\n",
    "        self._check_move(pos, steps)\n",
    "        if self._is_move_home(pos, steps):\n",
    "            logger.log(self.loglevel, f\"t={self.t}, p={self._render_player()} moves: {pos}->HOME\")\n",
    "            self.board[pos-1] -= self._get_user_sign()\n",
    "            self.home[self.pturn] += 1\n",
    "        else:\n",
    "            logger.log(self.loglevel, f\"t={self.t}, p={self._render_player()} moves: {pos}-({steps})->{dst_pos}\")\n",
    "            self.board[pos-1] -= self._get_user_sign()\n",
    "            self.board[dst_pos-1] += self._get_user_sign()\n",
    "\n",
    "        if self._get_head() == pos:\n",
    "            self.head_moves += 1\n",
    "\n",
    "        if len(self.dice) > 2:\n",
    "            self.dice.pop(self.dice.index(steps, -1))\n",
    "        else:\n",
    "            self.dice[self.dice.index(steps)] = 0\n",
    "\n",
    "        if self.home[self.pturn] == 15:\n",
    "            logger.log(self.loglevel, f\"t={self.t}, game finished, p={self._render_player()} wins\")\n",
    "            self.step = Game.Step.FINISHED\n",
    "        elif self.dice[0] == 0 and self.dice[1] == 0:\n",
    "            self.step = Game.Step.ROLL\n",
    "            self.pturn = self._opponent\n",
    "            self.t += 1\n",
    "            self.head_moves = 0\n",
    "\n",
    "        self.valid_moves = None\n",
    "        return self\n",
    "    \n",
    "    def is_finished(self):\n",
    "        return self.step == Game.Step.FINISHED\n",
    "    \n",
    "    def skip(self) -> \"Game\":\n",
    "        if self.step != Game.Step.TURN:\n",
    "            raise RuntimeError(\"invalid action\")\n",
    "        \n",
    "        if self.has_valid_moves():\n",
    "            raise RuntimeError(\"skip only possible when there's no moves\")\n",
    "        else:\n",
    "            logger.log(self.loglevel, f\"t={self.t}, p={self._render_player()} has no eligible moves, skipping\")\n",
    "            self.dice = [0, 0]\n",
    "            self.step = Game.Step.ROLL\n",
    "            self.pturn = (self.pturn + 1) % 2\n",
    "            self.t += 1\n",
    "            self.head_moves = 0\n",
    "            \n",
    "        self.valid_moves = None\n",
    "        return self\n",
    "\n",
    "    def __repr__(self):\n",
    "        template = \"\"\"\n",
    "        |{oha}| 24 | 23 | 22 | 21 | 20 | 19 |{xst}| 18 | 17 | 16 | 15 | 14 | 13 |{xho}|\n",
    "        |{ohb}|-----------------------------|     |-----------------------------|{xhn}|\n",
    "        |{ohc}|{x1}|{w1}|{v1}|{u1}|{t1}|{s1}|     |{r1}|{q1}|{p1}|{o1}|{n1}|{m1}|{xhm}|\n",
    "        |{ohd}|{x2}|{w2}|{v2}|{u2}|{t2}|{s2}|     |{r2}|{q2}|{p2}|{o2}|{n2}|{m2}|{xhl}|\n",
    "        |{ohe}|{x3}|{w3}|{v3}|{u3}|{t3}|{s3}|     |{r3}|{q3}|{p3}|{o3}|{n3}|{m3}|{xhk}|\n",
    "        |{ohf}|{x4}|{w4}|{v4}|{u4}|{t4}|{s4}|     |{r4}|{q4}|{p4}|{o4}|{n4}|{m4}|{xhj}|\n",
    "        |{ohg}|{x5}|{w5}|{v5}|{u5}|{t5}|{s5}|     |{r5}|{q5}|{p5}|{o5}|{n5}|{m5}|{xhi}|\n",
    "        |{ohh}|-----------------------------|{dcs}|-----------------------------|{xhh}|\n",
    "        |{ohi}|{a5}|{b5}|{c5}|{d5}|{e5}|{f5}|     |{g5}|{h5}|{i5}|{j5}|{k5}|{l5}|{xhg}|\n",
    "        |{ohj}|{a4}|{b4}|{c4}|{d4}|{e4}|{f4}|     |{g4}|{h4}|{i4}|{j4}|{k4}|{l4}|{xhf}|\n",
    "        |{ohk}|{a3}|{b3}|{c3}|{d3}|{e3}|{f3}|     |{g3}|{h3}|{i3}|{j3}|{k3}|{l3}|{xhe}|\n",
    "        |{ohl}|{a2}|{b2}|{c2}|{d2}|{e2}|{f2}|     |{g2}|{h2}|{i2}|{j2}|{k2}|{l2}|{xhd}|\n",
    "        |{ohm}|{a1}|{b1}|{c1}|{d1}|{e1}|{f1}|     |{g1}|{h1}|{i1}|{j1}|{k1}|{l1}|{xhc}|\n",
    "        |{ohn}|-----------------------------|     |-----------------------------|{xhb}|\n",
    "        |{oho}| 01 | 02 | 03 | 04 | 05 | 06 |{ost}| 07 | 08 | 09 | 10 | 11 | 12 |{xha}|\n",
    "        \"\"\"\n",
    "\n",
    "        pixels = {}\n",
    "        for pos in range(1,25):\n",
    "            x = chr(ord(\"a\") + pos - 1)\n",
    "            checkers = abs(int(self.board[pos-1]))\n",
    "            pixel = self._render_player(player = 0 if self.board[pos-1] > 0 else 1)\n",
    "            for y in range(1, 6):\n",
    "                if checkers > 0:\n",
    "                    if y < 5 or checkers == 1:\n",
    "                        pixels[f\"{x}{y}\"] = (f\"  {pixel} \")\n",
    "                    else: # y == 5 and checkers > 1:\n",
    "                        pixels[f\"{x}{y}\"] = f\"({checkers}\".rjust(3) + \")\"\n",
    "                    checkers -= 1\n",
    "                else:\n",
    "                    pixels[f\"{x}{y}\"] = \"    \"\n",
    "        pixels[\"dcs\"] = f\" {self.dice[0] or ' '}:{self.dice[1] or ' '} \"\n",
    "\n",
    "        for player in [0, 1]:\n",
    "            pixel = self._render_player(player=player)\n",
    "            for idx in range(15):\n",
    "                h = pixel + \"h\" + chr(ord(\"a\") + idx)\n",
    "                pixels[h] = f\"  {pixel}  \" if self.home[player] > idx else \"     \"\n",
    "\n",
    "        pixels[\"ost\"] = \"     \"\n",
    "        pixels[\"xst\"] = \"     \"\n",
    "        if self.step == Game.Step.ROLL:\n",
    "            pixels[\"ost\" if self.pturn == 0 else \"xst\"] = \" ROL \"\n",
    "        elif self.step == Game.Step.TURN:\n",
    "            pixels[\"ost\" if self.pturn == 0 else \"xst\"] = f\" ({len([d for d in self.dice if d])}) \"\n",
    "        elif self.step == Game.Step.FINISHED:\n",
    "            pixels[\"ost\" if self.pturn == 0 else \"xst\"] = \" WIN \"\n",
    "\n",
    "        return template.format(**pixels)"
   ]
  },
  {
   "cell_type": "code",
   "execution_count": 7,
   "metadata": {},
   "outputs": [],
   "source": [
    "# def validate(game: Game):\n",
    "#     p1, p2 = 0, 0\n",
    "#     for i in range(len(game.board)):\n",
    "#         if game.board[i] > 0:\n",
    "#             p1 += game.board[i]\n",
    "#         if game.board[i] < 0:\n",
    "#             p2 -= game.board[i]\n",
    "#     p1 += game.home[0]\n",
    "#     p2 += game.home[1]\n",
    "#     assert (p1, p2) == (15, 15), \"invalid # of checkers at the board\""
   ]
  },
  {
   "cell_type": "code",
   "execution_count": 8,
   "metadata": {},
   "outputs": [],
   "source": [
    "# def random_move(game: Game):\n",
    "#     if not game.is_finished():\n",
    "#         moves = game.get_valid_moves()\n",
    "#         if len(moves) > 0:\n",
    "#             pos, steps = random.choice(moves)\n",
    "#             game.turn(pos, steps)\n",
    "#             return True\n",
    "#         else:\n",
    "#             game.skip()\n",
    "#     return False\n",
    "\n",
    "# def auto_turn(game: Game):\n",
    "#     game.roll()\n",
    "#     for _ in range(len(game.dice)):\n",
    "#         if not random_move(game):\n",
    "#             break\n",
    "#     return game\n",
    "\n",
    "# def auto_rollout(game, turns: int = 100):\n",
    "#     for turn in range(turns):\n",
    "#         auto_turn(game)\n",
    "#         validate(game)\n",
    "#         if game.is_finished():\n",
    "#             break\n",
    "#     return game"
   ]
  },
  {
   "cell_type": "code",
   "execution_count": 9,
   "metadata": {},
   "outputs": [],
   "source": [
    "# g = Game(seed=42, verbose=True)\n",
    "# auto_rollout(g.start(), 100)"
   ]
  },
  {
   "cell_type": "markdown",
   "metadata": {},
   "source": [
    "## Test cases:"
   ]
  },
  {
   "cell_type": "code",
   "execution_count": 10,
   "metadata": {},
   "outputs": [],
   "source": [
    "import unittest"
   ]
  },
  {
   "cell_type": "code",
   "execution_count": 11,
   "metadata": {},
   "outputs": [
    {
     "name": "stderr",
     "output_type": "stream",
     "text": [
      "test_blocking_primes (__main__.GameTests) ... ok\n",
      "test_heads (__main__.GameTests) ... ok\n",
      "test_nonblocking_primes (__main__.GameTests) ... ok\n",
      "test_skips (__main__.GameTests) ... ok\n",
      "\n",
      "----------------------------------------------------------------------\n",
      "Ran 4 tests in 0.003s\n",
      "\n",
      "OK\n"
     ]
    },
    {
     "data": {
      "text/plain": [
       "<unittest.main.TestProgram at 0x16011e740>"
      ]
     },
     "execution_count": 11,
     "metadata": {},
     "output_type": "execute_result"
    }
   ],
   "source": [
    "class GameTests(unittest.TestCase):\n",
    "\n",
    "    def test_heads(self):\n",
    "        g = Game(seed=42).start()\n",
    "        g.roll(3,3).turn(1,3).turn(1,3) # < can make 2 moves from head on doubles\n",
    "        with self.assertRaises(RuntimeError):\n",
    "            g.turn(1,3)\n",
    "        g.turn(4,3).turn(4,3)\n",
    "        g.roll(1,2).turn(13,1).turn(14,2) # p2\n",
    "        g.roll(2,2).turn(1,2)\n",
    "        with self.assertRaises(RuntimeError):\n",
    "            g.turn(1, 2)\n",
    "        g.turn(3,2)\n",
    "        with self.assertRaises(RuntimeError):\n",
    "            g.turn(1, 2)\n",
    "        g.turn(5,2)\n",
    "\n",
    "    def test_skips(self):\n",
    "        g = Game(seed=42).start()\n",
    "        g.roll(6,1).turn(1, 6).turn(7, 1)\n",
    "        g.roll(3,2).turn(13, 3).turn(16, 2)\n",
    "        g.roll(2,2).turn(1, 2).turn(3, 2).turn(5, 2).turn(8, 2)\n",
    "        g.roll(6,1).turn(13,6).turn(18,1)\n",
    "        g.roll(6,6).turn(10, 6).turn(16,6).turn(1, 6) # < there's no moves for red here\n",
    "        with self.assertRaises(RuntimeError):\n",
    "            g.turn(1, 6)\n",
    "        g.skip()\n",
    "\n",
    "    def test_blocking_primes(self):\n",
    "        g = Game(seed=42).start()\n",
    "        g.roll(1,1).turn(1,1).turn(1,1).turn(2,1).turn(3,1)\n",
    "        g.roll(6,5).turn(13,6).turn(19,5)\n",
    "        g.roll(2,3).turn(1,2).turn(3,3)\n",
    "        g.roll(4,2).turn(13,4).turn(17,2)\n",
    "        g.roll(3,1).turn(1,1).turn(2,3)\n",
    "        g.roll(3,6).turn(13,3).turn(16,6)\n",
    "        g.roll(1,2)\n",
    "        with self.assertRaises(RuntimeError):\n",
    "            g.turn(1,2)\n",
    "\n",
    "    def test_nonblocking_primes(self):\n",
    "        g = Game(seed=42).start()\n",
    "        g.roll(1,1).turn(1,1).turn(1,1).turn(2,1).turn(3,1)\n",
    "        g.roll(6,5).turn(13,6).turn(19,5)\n",
    "        g.roll(2,3).turn(1,2).turn(3,3)\n",
    "        g.roll(4,2).turn(13,4).turn(17,2)\n",
    "        g.roll(3,1).turn(1,1).turn(2,3)\n",
    "        g.roll(3,6).turn(24,3).turn(3,6)\n",
    "        g.roll(1,2).turn(1,2) # < valid move, since x is ahead\n",
    "\n",
    "unittest.main(argv=[''], verbosity=2, exit=False)"
   ]
  },
  {
   "cell_type": "markdown",
   "metadata": {},
   "source": [
    "## Player interface & automation"
   ]
  },
  {
   "cell_type": "code",
   "execution_count": 12,
   "metadata": {},
   "outputs": [],
   "source": [
    "class BasePlayer:\n",
    "    def play_turn(self, game: Game) -> bool:\n",
    "        pass\n",
    "\n",
    "class RandomPlayer(BasePlayer):\n",
    "    def play_turn(self, game: Game) -> bool:\n",
    "        actions = game.get_valid_moves()\n",
    "        if len(actions) > 0:\n",
    "            pos, steps = random.choice(actions)\n",
    "            game.turn(pos, steps)\n",
    "            return True\n",
    "        else:\n",
    "            game.skip()\n",
    "            return False\n",
    "\n",
    "class LazyPlayer(BasePlayer):\n",
    "    def play_turn(self, game: Game) -> bool:\n",
    "        actions = game.get_valid_moves()\n",
    "        if actions:\n",
    "            pos, steps = actions[0]\n",
    "            game.turn(pos, steps)\n",
    "            return True\n",
    "        else:\n",
    "            game.skip()\n",
    "            return False"
   ]
  },
  {
   "cell_type": "code",
   "execution_count": 13,
   "metadata": {},
   "outputs": [],
   "source": [
    "class AutoGame(Game):\n",
    "    def __init__(self, player1: BasePlayer | None = None, player2: BasePlayer | None = None, start: bool = True, *args, **kwargs):\n",
    "        super().__init__(*args, **kwargs)\n",
    "        self.auto_player1 = player1\n",
    "        self.auto_player2 = player2\n",
    "        if start:\n",
    "            self.start()\n",
    "\n",
    "    def _automate(self) -> \"AutoGame\":\n",
    "        while not self.is_finished():\n",
    "            if self.step == Game.Step.ROLL:\n",
    "                self.roll()\n",
    "            if self.step == Game.Step.TURN:\n",
    "                if not self.has_valid_moves():\n",
    "                    self.skip()\n",
    "                else:\n",
    "                    player = self.auto_player1 if (self.pturn == 0) else self.auto_player2\n",
    "                    if player:\n",
    "                        player.play_turn(self)\n",
    "                    else:\n",
    "                        break\n",
    "        return self\n",
    "   \n",
    "    def start(self, *args, **kwargs) -> \"AutoGame\":\n",
    "        super().start(*args, **kwargs)\n",
    "        return self._automate()\n",
    "\n",
    "    def turn(self, *args, **kwargs) -> \"AutoGame\":\n",
    "        super().turn(*args, **kwargs)\n",
    "        return self._automate()\n",
    "\n",
    "    def play_sequence(self, turns: List[Tuple[int, int]]) -> \"AutoGame\":\n",
    "        for (pos, steps) in turns:\n",
    "            self.turn(pos, steps)\n",
    "        return self"
   ]
  },
  {
   "cell_type": "code",
   "execution_count": 14,
   "metadata": {},
   "outputs": [
    {
     "name": "stderr",
     "output_type": "stream",
     "text": [
      "test_autoplayer (__main__.AutoGameTests) ... ok\n",
      "test_basic (__main__.AutoGameTests) ... ok\n",
      "test_blocking_primes (__main__.GameTests) ... ok\n",
      "test_heads (__main__.GameTests) ... ok\n",
      "test_nonblocking_primes (__main__.GameTests) ... ok\n",
      "test_skips (__main__.GameTests) ... ok\n",
      "\n",
      "----------------------------------------------------------------------\n",
      "Ran 6 tests in 0.018s\n",
      "\n",
      "OK\n"
     ]
    },
    {
     "data": {
      "text/plain": [
       "<unittest.main.TestProgram at 0x16011d930>"
      ]
     },
     "execution_count": 14,
     "metadata": {},
     "output_type": "execute_result"
    }
   ],
   "source": [
    "class AutoGameTests(unittest.TestCase):\n",
    "\n",
    "    def test_basic(self):\n",
    "        AutoGame(seed=324).play_sequence([(1, 6), (1, 6), (13, 1), (14, 4),(7,5),(1,4),(13,1),(18,3)])\n",
    "        with self.assertRaises(RuntimeError):\n",
    "            AutoGame(seed=324).play_sequence([(1, 6), (1, 6), (13, 1), (14, 4),(7,5),(1,4),(13,1),(18,3),(4, 1)])\n",
    "\n",
    "    def test_autoplayer(self):\n",
    "        AutoGame(seed=324, player2=LazyPlayer()).play_sequence([(1,6), (1,6), (7,5), (1,4)])\n",
    "        AutoGame(seed=324, player1=LazyPlayer()).play_sequence([(13,4), (17,1)])\n",
    "        self.assertEqual(AutoGame(seed=324, player1=LazyPlayer(), player2=LazyPlayer()).is_finished(), True)\n",
    "        self.assertEqual(AutoGame(seed=324, start=False, player1=LazyPlayer(), player2=LazyPlayer()).is_finished(), False)\n",
    "\n",
    "unittest.main(argv=[''], verbosity=2, exit=False)"
   ]
  },
  {
   "cell_type": "code",
   "execution_count": 15,
   "metadata": {},
   "outputs": [],
   "source": [
    "@dataclass\n",
    "class Result:\n",
    "    winner: int\n",
    "    turns: int\n",
    "    reward: int\n",
    "\n",
    "def summarize(game: Game) -> Result:\n",
    "    assert game.is_finished()\n",
    "    reward =  (2 if game.home[game._opponent] == 0 else 1)\n",
    "    reward *= (1 if game.pturn == 0 else -1)\n",
    "    result = Result(\n",
    "        winner = int(game.pturn == 0),\n",
    "        turns = game.t,\n",
    "        reward = reward\n",
    "    )\n",
    "    return result\n",
    "\n",
    "def simulate(game: Game, player1: BasePlayer, player2: BasePlayer | None = None) -> Result:\n",
    "    while not game.is_finished():\n",
    "        player = player1 if (game.pturn == 0) else player2\n",
    "        if player:\n",
    "            player.play_turn(game)\n",
    "    return summarize(game)"
   ]
  },
  {
   "cell_type": "code",
   "execution_count": 16,
   "metadata": {},
   "outputs": [],
   "source": [
    "# summarize(AutoGame(player1=LazyPlayer(), player2=LazyPlayer()))"
   ]
  },
  {
   "cell_type": "code",
   "execution_count": 17,
   "metadata": {},
   "outputs": [],
   "source": [
    "# simulate(AutoGame(player2=LazyPlayer()), player1=LazyPlayer())"
   ]
  },
  {
   "cell_type": "code",
   "execution_count": 18,
   "metadata": {},
   "outputs": [],
   "source": [
    "# simulate(AutoGame(), player1=LazyPlayer(), player2=LazyPlayer())"
   ]
  },
  {
   "cell_type": "code",
   "execution_count": 19,
   "metadata": {},
   "outputs": [
    {
     "data": {
      "application/vnd.jupyter.widget-view+json": {
       "model_id": "90481c56606844b2a4ae2e7c6a33e62d",
       "version_major": 2,
       "version_minor": 0
      },
      "text/plain": [
       "  0%|          | 0/12 [00:00<?, ?it/s]"
      ]
     },
     "metadata": {},
     "output_type": "display_data"
    },
    {
     "data": {
      "application/vnd.jupyter.widget-view+json": {
       "model_id": "d4aceaaa994b4e4783a04ec2d8b90e13",
       "version_major": 2,
       "version_minor": 0
      },
      "text/plain": [
       "  0%|          | 0/100 [00:00<?, ?it/s, p1=lazy, p2=lazy, start=random]"
      ]
     },
     "metadata": {},
     "output_type": "display_data"
    },
    {
     "data": {
      "application/vnd.jupyter.widget-view+json": {
       "model_id": "3009188dbb384397b20837ba3148de5e",
       "version_major": 2,
       "version_minor": 0
      },
      "text/plain": [
       "  0%|          | 0/100 [00:00<?, ?it/s, p1=lazy, p2=lazy, start=first]"
      ]
     },
     "metadata": {},
     "output_type": "display_data"
    },
    {
     "data": {
      "application/vnd.jupyter.widget-view+json": {
       "model_id": "b7b6ce62639847a3b0ddbb4627d4371a",
       "version_major": 2,
       "version_minor": 0
      },
      "text/plain": [
       "  0%|          | 0/100 [00:00<?, ?it/s, p1=lazy, p2=lazy, start=second]"
      ]
     },
     "metadata": {},
     "output_type": "display_data"
    },
    {
     "data": {
      "application/vnd.jupyter.widget-view+json": {
       "model_id": "e3e1686eab3f480e8e126395dd8b016c",
       "version_major": 2,
       "version_minor": 0
      },
      "text/plain": [
       "  0%|          | 0/100 [00:00<?, ?it/s, p1=lazy, p2=rand, start=random]"
      ]
     },
     "metadata": {},
     "output_type": "display_data"
    },
    {
     "data": {
      "application/vnd.jupyter.widget-view+json": {
       "model_id": "73fcf3ce4d71447689999279e07fa3c5",
       "version_major": 2,
       "version_minor": 0
      },
      "text/plain": [
       "  0%|          | 0/100 [00:00<?, ?it/s, p1=lazy, p2=rand, start=first]"
      ]
     },
     "metadata": {},
     "output_type": "display_data"
    },
    {
     "data": {
      "application/vnd.jupyter.widget-view+json": {
       "model_id": "32159bb28c3c479e86cdf9f83d4790f8",
       "version_major": 2,
       "version_minor": 0
      },
      "text/plain": [
       "  0%|          | 0/100 [00:00<?, ?it/s, p1=lazy, p2=rand, start=second]"
      ]
     },
     "metadata": {},
     "output_type": "display_data"
    },
    {
     "data": {
      "application/vnd.jupyter.widget-view+json": {
       "model_id": "cd12922de28641538cab362515710ba7",
       "version_major": 2,
       "version_minor": 0
      },
      "text/plain": [
       "  0%|          | 0/100 [00:00<?, ?it/s, p1=rand, p2=lazy, start=random]"
      ]
     },
     "metadata": {},
     "output_type": "display_data"
    },
    {
     "data": {
      "application/vnd.jupyter.widget-view+json": {
       "model_id": "3c5eff060c7c4aa2b4adfe9f56852fc6",
       "version_major": 2,
       "version_minor": 0
      },
      "text/plain": [
       "  0%|          | 0/100 [00:00<?, ?it/s, p1=rand, p2=lazy, start=first]"
      ]
     },
     "metadata": {},
     "output_type": "display_data"
    },
    {
     "data": {
      "application/vnd.jupyter.widget-view+json": {
       "model_id": "51367b4b408e400cb86b84ad5aa1912f",
       "version_major": 2,
       "version_minor": 0
      },
      "text/plain": [
       "  0%|          | 0/100 [00:00<?, ?it/s, p1=rand, p2=lazy, start=second]"
      ]
     },
     "metadata": {},
     "output_type": "display_data"
    },
    {
     "data": {
      "application/vnd.jupyter.widget-view+json": {
       "model_id": "f9930e9cc4fe4f3c8b627c2bf4719a94",
       "version_major": 2,
       "version_minor": 0
      },
      "text/plain": [
       "  0%|          | 0/100 [00:00<?, ?it/s, p1=rand, p2=rand, start=random]"
      ]
     },
     "metadata": {},
     "output_type": "display_data"
    },
    {
     "data": {
      "application/vnd.jupyter.widget-view+json": {
       "model_id": "76d0c6e024e649e1931694990e0aa1e0",
       "version_major": 2,
       "version_minor": 0
      },
      "text/plain": [
       "  0%|          | 0/100 [00:00<?, ?it/s, p1=rand, p2=rand, start=first]"
      ]
     },
     "metadata": {},
     "output_type": "display_data"
    },
    {
     "data": {
      "application/vnd.jupyter.widget-view+json": {
       "model_id": "4b54938ae40549eca642b1d5c5e516c9",
       "version_major": 2,
       "version_minor": 0
      },
      "text/plain": [
       "  0%|          | 0/100 [00:00<?, ?it/s, p1=rand, p2=rand, start=second]"
      ]
     },
     "metadata": {},
     "output_type": "display_data"
    },
    {
     "data": {
      "text/html": [
       "<div>\n",
       "<style scoped>\n",
       "    .dataframe tbody tr th:only-of-type {\n",
       "        vertical-align: middle;\n",
       "    }\n",
       "\n",
       "    .dataframe tbody tr th {\n",
       "        vertical-align: top;\n",
       "    }\n",
       "\n",
       "    .dataframe thead th {\n",
       "        text-align: right;\n",
       "    }\n",
       "</style>\n",
       "<table border=\"1\" class=\"dataframe\">\n",
       "  <thead>\n",
       "    <tr style=\"text-align: right;\">\n",
       "      <th></th>\n",
       "      <th>p1</th>\n",
       "      <th>p2</th>\n",
       "      <th>start</th>\n",
       "      <th>games</th>\n",
       "      <th>wins</th>\n",
       "      <th>win_rate_lo</th>\n",
       "      <th>win_rate_mu</th>\n",
       "      <th>win_rate_hi</th>\n",
       "      <th>avg_turns</th>\n",
       "      <th>avg_reward</th>\n",
       "    </tr>\n",
       "  </thead>\n",
       "  <tbody>\n",
       "    <tr>\n",
       "      <th>0</th>\n",
       "      <td>lazy</td>\n",
       "      <td>lazy</td>\n",
       "      <td>random</td>\n",
       "      <td>100</td>\n",
       "      <td>40</td>\n",
       "      <td>0.2530</td>\n",
       "      <td>0.40</td>\n",
       "      <td>0.5470</td>\n",
       "      <td>90.85</td>\n",
       "      <td>-0.14</td>\n",
       "    </tr>\n",
       "    <tr>\n",
       "      <th>1</th>\n",
       "      <td>lazy</td>\n",
       "      <td>lazy</td>\n",
       "      <td>first</td>\n",
       "      <td>100</td>\n",
       "      <td>48</td>\n",
       "      <td>0.3300</td>\n",
       "      <td>0.48</td>\n",
       "      <td>0.6300</td>\n",
       "      <td>92.42</td>\n",
       "      <td>0.09</td>\n",
       "    </tr>\n",
       "    <tr>\n",
       "      <th>2</th>\n",
       "      <td>lazy</td>\n",
       "      <td>lazy</td>\n",
       "      <td>second</td>\n",
       "      <td>100</td>\n",
       "      <td>43</td>\n",
       "      <td>0.2815</td>\n",
       "      <td>0.43</td>\n",
       "      <td>0.5785</td>\n",
       "      <td>91.19</td>\n",
       "      <td>-0.08</td>\n",
       "    </tr>\n",
       "    <tr>\n",
       "      <th>3</th>\n",
       "      <td>lazy</td>\n",
       "      <td>rand</td>\n",
       "      <td>random</td>\n",
       "      <td>100</td>\n",
       "      <td>75</td>\n",
       "      <td>0.6201</td>\n",
       "      <td>0.75</td>\n",
       "      <td>0.8799</td>\n",
       "      <td>92.77</td>\n",
       "      <td>0.73</td>\n",
       "    </tr>\n",
       "    <tr>\n",
       "      <th>4</th>\n",
       "      <td>lazy</td>\n",
       "      <td>rand</td>\n",
       "      <td>first</td>\n",
       "      <td>100</td>\n",
       "      <td>89</td>\n",
       "      <td>0.7961</td>\n",
       "      <td>0.89</td>\n",
       "      <td>0.9839</td>\n",
       "      <td>92.75</td>\n",
       "      <td>1.14</td>\n",
       "    </tr>\n",
       "    <tr>\n",
       "      <th>5</th>\n",
       "      <td>lazy</td>\n",
       "      <td>rand</td>\n",
       "      <td>second</td>\n",
       "      <td>100</td>\n",
       "      <td>76</td>\n",
       "      <td>0.6319</td>\n",
       "      <td>0.76</td>\n",
       "      <td>0.8881</td>\n",
       "      <td>93.42</td>\n",
       "      <td>0.78</td>\n",
       "    </tr>\n",
       "    <tr>\n",
       "      <th>6</th>\n",
       "      <td>rand</td>\n",
       "      <td>lazy</td>\n",
       "      <td>random</td>\n",
       "      <td>100</td>\n",
       "      <td>56</td>\n",
       "      <td>0.4112</td>\n",
       "      <td>0.56</td>\n",
       "      <td>0.7088</td>\n",
       "      <td>94.37</td>\n",
       "      <td>0.12</td>\n",
       "    </tr>\n",
       "    <tr>\n",
       "      <th>7</th>\n",
       "      <td>rand</td>\n",
       "      <td>lazy</td>\n",
       "      <td>first</td>\n",
       "      <td>100</td>\n",
       "      <td>46</td>\n",
       "      <td>0.3106</td>\n",
       "      <td>0.46</td>\n",
       "      <td>0.6094</td>\n",
       "      <td>93.48</td>\n",
       "      <td>-0.06</td>\n",
       "    </tr>\n",
       "    <tr>\n",
       "      <th>8</th>\n",
       "      <td>rand</td>\n",
       "      <td>lazy</td>\n",
       "      <td>second</td>\n",
       "      <td>100</td>\n",
       "      <td>51</td>\n",
       "      <td>0.3600</td>\n",
       "      <td>0.51</td>\n",
       "      <td>0.6600</td>\n",
       "      <td>93.15</td>\n",
       "      <td>0.02</td>\n",
       "    </tr>\n",
       "    <tr>\n",
       "      <th>9</th>\n",
       "      <td>rand</td>\n",
       "      <td>rand</td>\n",
       "      <td>random</td>\n",
       "      <td>100</td>\n",
       "      <td>48</td>\n",
       "      <td>0.3300</td>\n",
       "      <td>0.48</td>\n",
       "      <td>0.6300</td>\n",
       "      <td>96.39</td>\n",
       "      <td>-0.07</td>\n",
       "    </tr>\n",
       "    <tr>\n",
       "      <th>10</th>\n",
       "      <td>rand</td>\n",
       "      <td>rand</td>\n",
       "      <td>first</td>\n",
       "      <td>100</td>\n",
       "      <td>57</td>\n",
       "      <td>0.4215</td>\n",
       "      <td>0.57</td>\n",
       "      <td>0.7185</td>\n",
       "      <td>95.95</td>\n",
       "      <td>0.18</td>\n",
       "    </tr>\n",
       "    <tr>\n",
       "      <th>11</th>\n",
       "      <td>rand</td>\n",
       "      <td>rand</td>\n",
       "      <td>second</td>\n",
       "      <td>100</td>\n",
       "      <td>50</td>\n",
       "      <td>0.3500</td>\n",
       "      <td>0.50</td>\n",
       "      <td>0.6500</td>\n",
       "      <td>95.98</td>\n",
       "      <td>-0.02</td>\n",
       "    </tr>\n",
       "  </tbody>\n",
       "</table>\n",
       "</div>"
      ],
      "text/plain": [
       "      p1    p2   start  games  wins  win_rate_lo  win_rate_mu  win_rate_hi  \\\n",
       "0   lazy  lazy  random    100    40       0.2530         0.40       0.5470   \n",
       "1   lazy  lazy   first    100    48       0.3300         0.48       0.6300   \n",
       "2   lazy  lazy  second    100    43       0.2815         0.43       0.5785   \n",
       "3   lazy  rand  random    100    75       0.6201         0.75       0.8799   \n",
       "4   lazy  rand   first    100    89       0.7961         0.89       0.9839   \n",
       "5   lazy  rand  second    100    76       0.6319         0.76       0.8881   \n",
       "6   rand  lazy  random    100    56       0.4112         0.56       0.7088   \n",
       "7   rand  lazy   first    100    46       0.3106         0.46       0.6094   \n",
       "8   rand  lazy  second    100    51       0.3600         0.51       0.6600   \n",
       "9   rand  rand  random    100    48       0.3300         0.48       0.6300   \n",
       "10  rand  rand   first    100    57       0.4215         0.57       0.7185   \n",
       "11  rand  rand  second    100    50       0.3500         0.50       0.6500   \n",
       "\n",
       "    avg_turns  avg_reward  \n",
       "0       90.85       -0.14  \n",
       "1       92.42        0.09  \n",
       "2       91.19       -0.08  \n",
       "3       92.77        0.73  \n",
       "4       92.75        1.14  \n",
       "5       93.42        0.78  \n",
       "6       94.37        0.12  \n",
       "7       93.48       -0.06  \n",
       "8       93.15        0.02  \n",
       "9       96.39       -0.07  \n",
       "10      95.95        0.18  \n",
       "11      95.98       -0.02  "
      ]
     },
     "execution_count": 19,
     "metadata": {},
     "output_type": "execute_result"
    }
   ],
   "source": [
    "import math\n",
    "\n",
    "games = 100\n",
    "\n",
    "results = []\n",
    "for p1, p2, start in tqdm.tqdm(list(itertools.product([\"lazy\", \"rand\"], [\"lazy\", \"rand\"], [\"random\", \"first\", \"second\"])), leave=False):\n",
    "    exp_info = {\"p1\": p1, \"p2\": p2, \"start\": start}\n",
    "    player1 = LazyPlayer() if p1 == \"lazy\" else RandomPlayer()\n",
    "    player2 = LazyPlayer() if p2 == \"lazy\" else RandomPlayer()\n",
    "    start_args = [6,6] if start == \"random\" else ([6,1] if start == \"first\" else [1,6])\n",
    "    sims = pd.DataFrame([summarize(AutoGame(player1, player2, False).start(*start_args)).__dict__ for _ in tqdm.trange(games, postfix=exp_info, leave=False)])\n",
    "    exp_info[\"games\"] = games\n",
    "    exp_info[\"wins\"] = sims[\"winner\"].sum()\n",
    "    wins_mu = exp_info[\"wins\"] / exp_info[\"games\"]\n",
    "    wins_sd = round(math.sqrt(exp_info[\"games\"] * wins_mu * (1 - wins_mu)), 2)\n",
    "    exp_info[\"win_rate_lo\"] = (exp_info[\"wins\"] - wins_sd*3) / exp_info[\"games\"]\n",
    "    exp_info[\"win_rate_mu\"] = wins_mu\n",
    "    exp_info[\"win_rate_hi\"] = (exp_info[\"wins\"] + wins_sd*3) / exp_info[\"games\"]\n",
    "    exp_info[\"avg_turns\"] = sims[\"turns\"].mean()\n",
    "    exp_info[\"avg_reward\"] = sims[\"reward\"].mean()\n",
    "    results.append(exp_info)\n",
    "\n",
    "pd.DataFrame(results)"
   ]
  },
  {
   "cell_type": "markdown",
   "metadata": {},
   "source": [
    "Interesting bias is observed here, as lazy policy seems to have a significant advantage when played against random.  \n",
    "Bias only shows up if it plays as player1, but disappears if it plays as player2\n",
    "\n",
    "TODO: Figure out what's going on here"
   ]
  },
  {
   "cell_type": "markdown",
   "metadata": {},
   "source": [
    "# Training a model with Q-Learning"
   ]
  },
  {
   "cell_type": "code",
   "execution_count": 20,
   "metadata": {},
   "outputs": [],
   "source": [
    "@dataclass\n",
    "class ReplaySample:\n",
    "    state_action: torch.Tensor\n",
    "    reward: int = 0\n",
    "    next_state_actions: torch.Tensor | None = None\n"
   ]
  },
  {
   "cell_type": "code",
   "execution_count": 21,
   "metadata": {},
   "outputs": [],
   "source": [
    "class ReplayBuffer:\n",
    "    def __init__(self, size: 1_000_000):\n",
    "        self.buffer = [None] * size\n",
    "        self.insert_ptr = 0\n",
    "        self.upper_bound = 0\n",
    "\n",
    "    def add(self, sample: ReplaySample):\n",
    "        self.buffer[self.insert_ptr] = sample\n",
    "        self.insert_ptr = self.insert_ptr+1 if self.insert_ptr+1 < len(self.buffer) else 0\n",
    "        self.upper_bound = max(self.insert_ptr, self.upper_bound)\n",
    "    \n",
    "    def sample(self, k: int = 1) -> List[ReplaySample]:\n",
    "        return random.choices(self.buffer[:self.upper_bound], k=k)\n",
    "    \n",
    "    def __getitem__(self, index: int) -> ReplaySample:\n",
    "        if index < self.upper_bound:\n",
    "            return self.buffer[index]\n",
    "        raise IndexError()\n",
    "    \n",
    "    def __len__(self) -> int:\n",
    "        return self.upper_bound"
   ]
  },
  {
   "cell_type": "code",
   "execution_count": 31,
   "metadata": {},
   "outputs": [],
   "source": [
    "class QPolicy(BasePlayer):\n",
    "    def __init__(\n",
    "            self, \n",
    "            layers=[32, 64], \n",
    "            device=\"cpu\", \n",
    "            training: bool = True,\n",
    "            replay_buffer_size: int = 1_000_000\n",
    "        ):\n",
    "        self.device = device\n",
    "        network = []\n",
    "        network.append(torch.nn.Linear(31, layers[0]))\n",
    "        network.append(torch.nn.ReLU())\n",
    "        for idx in range(1, len(layers)):\n",
    "            network.append(torch.nn.Linear(layers[idx-1], layers[idx]))\n",
    "            network.append(torch.nn.ReLU())\n",
    "        network.append(torch.nn.Linear(layers[-1], 1))\n",
    "        self.q_network = torch.nn.Sequential(*network).to(self.device)\n",
    "        self.t_network = torch.nn.Sequential(*network).to(self.device)\n",
    "        self.training = training\n",
    "        self.replay_buffer = ReplayBuffer(size=replay_buffer_size)\n",
    "        # self.q_network.apply(self._init_weights)\n",
    "        self.optimizer = torch.optim.Adam(self.q_network.parameters())\n",
    "        self.prev_state_action = None\n",
    "        self.gamma = 1\n",
    "        self.lr = 0.001\n",
    "        self.grad_clip = 10\n",
    "        self.soft_epsilon = 0.05\n",
    "        self._sync_networks()\n",
    "\n",
    "    # @staticmethod\n",
    "    # def _init_weights(m):\n",
    "    #     if hasattr(m, \"weight\"):\n",
    "    #         torch.nn.init.xavier_uniform_(m.weight, gain=2 ** (1.0 / 2))\n",
    "    #     if hasattr(m, \"bias\"):\n",
    "    #         torch.nn.init.zeros_(m.bias)\n",
    "\n",
    "    def _sync_networks(self) -> None:\n",
    "        logger.debug(\"syncing weights of t-network\")\n",
    "        self.t_network.load_state_dict(self.q_network.state_dict())\n",
    "    \n",
    "    def _encode_state(self, game: Game) -> torch.Tensor:\n",
    "        dice = game.dice.copy()\n",
    "        if len(dice) < 4:\n",
    "            dice += [0] * (4 - len(dice))\n",
    "        return torch.concat([\n",
    "            torch.tensor(game.board),\n",
    "            torch.tensor(dice),\n",
    "            torch.tensor([game.head_moves])\n",
    "        ]).to(self.device).float()\n",
    "\n",
    "    def _encode_actions(self, actions: List[Tuple[int, int]]) -> torch.Tensor:\n",
    "        if not actions:\n",
    "            actions = [(-1,-1)]\n",
    "        return torch.tensor(actions).to(self.device).float()\n",
    "    \n",
    "    def _encode_state_actions(self, game: Game) -> torch.Tensor:\n",
    "        return self._concat_state_actions(\n",
    "            self._encode_state(game),\n",
    "            self._encode_actions(game.get_valid_moves())\n",
    "        )\n",
    "\n",
    "    def _concat_state_actions(self, state: torch.Tensor, actions: torch.Tensor) -> torch.Tensor:\n",
    "        actions = actions.view(-1, 2)\n",
    "        return torch.concat([\n",
    "                state.unsqueeze(dim=0).broadcast_to((actions.shape[0], -1)),\n",
    "                actions\n",
    "            ], dim=1)\n",
    "   \n",
    "    def _sample_batch(self, batch_size: int = 32):\n",
    "        rewards = []\n",
    "        curr_state_actions = []\n",
    "        next_state_actions = []\n",
    "        next_state_actions_idx = []\n",
    "        for sample_id, sample in enumerate(self.replay_buffer.sample(k=batch_size)):\n",
    "            rewards.append(sample.reward)\n",
    "            curr_state_actions.append(sample.state_action)\n",
    "            if sample.next_state_actions is not None:\n",
    "                next_state_actions.append(sample.next_state_actions)\n",
    "                next_state_actions_idx.extend([sample_id] * sample.next_state_actions.shape[0])\n",
    "\n",
    "        rewards = torch.tensor(rewards).float().to(self.device)\n",
    "        curr_state_actions = torch.vstack(curr_state_actions)\n",
    "        next_state_actions = torch.vstack(next_state_actions)\n",
    "        next_state_actions_idx = torch.tensor(next_state_actions_idx, dtype=torch.long).to(self.device)\n",
    "        assert next_state_actions.shape[0] == next_state_actions_idx.shape[0]\n",
    "        return curr_state_actions, rewards, next_state_actions, next_state_actions_idx\n",
    "    \n",
    "    def _calc_loss(self, q_scores, t_scores, sample_ids, rewards) -> torch.Tensor:\n",
    "        t_scores_max = rewards.scatter_reduce(dim=0, index=sample_ids, src=t_scores.squeeze(), reduce=\"max\", include_self=False)\n",
    "        td_target = rewards + self.gamma * t_scores_max\n",
    "        td_error = td_target - q_scores.squeeze()\n",
    "        return td_error.pow(2).mean()\n",
    "    \n",
    "    def _train_step(self, batch_size: int = 32) -> None:\n",
    "        if len(self.replay_buffer) < batch_size:\n",
    "            logger.warning(\"not enough samples in replay buffer, skipping train step\")\n",
    "\n",
    "        self.optimizer.zero_grad()\n",
    "    \n",
    "        curr_sa, rewards, next_sa, sample_ids  = self._sample_batch(batch_size)\n",
    "\n",
    "        q_scores = self.q_network(curr_sa)\n",
    "        with torch.no_grad():\n",
    "            t_scores = self.t_network(next_sa)\n",
    "\n",
    "        loss = self._calc_loss(q_scores, t_scores, sample_ids, rewards)\n",
    "\n",
    "        loss.backward()\n",
    "        grad_norm = torch.nn.utils.clip_grad_norm_(self.q_network.parameters(), self.grad_clip)\n",
    "            \n",
    "        for group in self.optimizer.param_groups:\n",
    "            group[\"lr\"] = self.lr\n",
    "        \n",
    "        self.optimizer.step()\n",
    "\n",
    "        return loss.item(), grad_norm.item()\n",
    "\n",
    "\n",
    "    def play_turn(self, game: Game):\n",
    "        valid_moves = list(game.get_valid_moves())\n",
    "        if not valid_moves:\n",
    "            game.skip()\n",
    "            return False\n",
    "\n",
    "        with torch.no_grad():\n",
    "            state_actions = self._encode_state_actions(game)\n",
    "\n",
    "            if self.training and self.prev_state_action is not None:\n",
    "                self.replay_buffer.add(ReplaySample(state_action=self.prev_state_action, reward=self._calc_reward(game), next_state_actions=state_actions))\n",
    "                self.prev_state_action = None\n",
    "        \n",
    "            scores = self.q_network(state_actions).squeeze()\n",
    "            action_idx = scores.argmax(dim=-1).item()\n",
    "            if np.random.random() < self.soft_epsilon:\n",
    "                action_idx = random.randint(0, len(valid_moves)-1)\n",
    "            self.prev_state_action = state_actions[action_idx]\n",
    "\n",
    "            game.turn(*valid_moves[action_idx])\n",
    "\n",
    "            if game.is_finished() and self.training and self.prev_state_action is not None:\n",
    "                self.replay_buffer.add(ReplaySample(state_action=self.prev_state_action, reward=self._calc_reward(game)))\n",
    "                self.prev_state_action = None\n",
    "\n",
    "            # self._train_step()\n",
    "\n",
    "        return True\n",
    "\n",
    "    def _calc_reward(self, game: Game) -> int:\n",
    "        reward = 0\n",
    "        if game.is_finished():\n",
    "            reward  = (2 if game.home[game._opponent] == 0 else 1)\n",
    "            reward *= (1 if game.pturn == 0 else -1)\n",
    "        return reward\n"
   ]
  },
  {
   "cell_type": "markdown",
   "metadata": {},
   "source": [
    "### Training and evaluation"
   ]
  },
  {
   "cell_type": "code",
   "execution_count": 33,
   "metadata": {},
   "outputs": [],
   "source": [
    "def practice(\n",
    "        policy: QPolicy, \n",
    "        games: int = 100,\n",
    "        train_every: int = 1, \n",
    "        sync_every: int = 100,\n",
    "        batch_size = 32,\n",
    "        show_progress : bool = False, \n",
    "        gamma: float = 0.99, \n",
    "        lr: float = 0.001,\n",
    "        grad_clip: float = 10,\n",
    "        soft_epsilon: float = 0\n",
    "    ):\n",
    "    policy.training = True\n",
    "    policy.gamma = gamma\n",
    "    policy.lr = lr\n",
    "    policy.grad_clip = grad_clip\n",
    "    policy.soft_epsilon = soft_epsilon\n",
    "\n",
    "    loss_vals = []\n",
    "    grad_vals = []\n",
    "    for game_id in (tqdm.trange(games, leave=False, desc=\"practicing\") if show_progress else range(games)):\n",
    "        simulate(AutoGame(), player1=policy, player2=RandomPlayer())\n",
    "        if game_id % train_every == 0:\n",
    "            loss, grad = policy._train_step(batch_size=batch_size)\n",
    "            loss_vals.append(loss)\n",
    "            grad_vals.append(grad)\n",
    "        if game_id % sync_every == 0:\n",
    "            policy._sync_networks()\n",
    "    return sum(loss_vals) / len(loss_vals), sum(grad_vals) / len(grad_vals)"
   ]
  },
  {
   "cell_type": "code",
   "execution_count": 34,
   "metadata": {},
   "outputs": [],
   "source": [
    "def evaluate(model_name: str, policy: QPolicy, games: int = 100):\n",
    "    prev_training = policy.training\n",
    "    policy.training = False\n",
    "\n",
    "    results = []\n",
    "    sims = pd.DataFrame([simulate(AutoGame(player2=RandomPlayer()), player1=policy).__dict__ for _ in tqdm.trange(games, leave=False, desc=\"evaluating\")])\n",
    "    exp_info = {\"model\": model_name, \"p2\": \"random\", \"start\": \"random\"}\n",
    "    exp_info[\"games\"] = games\n",
    "    exp_info[\"wins\"] = sims[\"winner\"].sum()\n",
    "    wins_mu = exp_info[\"wins\"] / exp_info[\"games\"]\n",
    "    wins_sd = round(math.sqrt(exp_info[\"games\"] * wins_mu * (1 - wins_mu)), 2)\n",
    "    exp_info[\"win_rate_lo\"] = (exp_info[\"wins\"] - wins_sd*3) / exp_info[\"games\"]\n",
    "    exp_info[\"win_rate_mu\"] = wins_mu\n",
    "    exp_info[\"win_rate_hi\"] = (exp_info[\"wins\"] + wins_sd*3) / exp_info[\"games\"]\n",
    "    exp_info[\"avg_turns\"] = sims[\"turns\"].mean()\n",
    "    exp_info[\"avg_reward\"] = sims[\"reward\"].mean()\n",
    "    results.append(exp_info)\n",
    "\n",
    "    policy.training = prev_training\n",
    "    return pd.DataFrame(results)"
   ]
  },
  {
   "cell_type": "code",
   "execution_count": 64,
   "metadata": {},
   "outputs": [],
   "source": [
    "def train_eval_loop(\n",
    "    policy: QPolicy, \n",
    "    epochs: int = 1000, \n",
    "    practice_games: int = 1000, \n",
    "    eval_games: int = 100, \n",
    "    sync_every: int = 50, \n",
    "    **kwargs\n",
    "):\n",
    "    epoch_pbar = tqdm.trange(1, epochs+1, desc=\"train/eval epochs\")\n",
    "    results = []\n",
    "    result = evaluate(f\"untrained\", policy, games=eval_games).loc[0].to_dict()\n",
    "    epoch_pbar.set_postfix({\"win_rate\": result[\"win_rate_mu\"], \"avg_reward\": result[\"avg_reward\"]})\n",
    "    logger.info(f\"untrained: win_rate={result['win_rate_mu']:.4%}, avg_reward={result['avg_reward']:.2f}\")\n",
    "    results.append(result)\n",
    "    for epoch_id in epoch_pbar:\n",
    "        avg_loss, avg_grad = practice(policy, games=practice_games, train_every=1, sync_every=sync_every, batch_size=32, show_progress=True, **kwargs)\n",
    "        epoch_pbar.set_postfix({\"win_rate\": result[\"win_rate_mu\"], \"avg_reward\": result[\"avg_reward\"], \"avg_loss\": avg_loss, \"avg_grad\": avg_grad})\n",
    "        result = evaluate(f\"epoch-{epoch_id}\", policy, games=eval_games).loc[0].to_dict()\n",
    "        result[\"avg_loss\"] = avg_loss\n",
    "        result[\"avg_grad\"] = avg_grad\n",
    "        results.append(result)\n",
    "        epoch_pbar.set_postfix({\"win_rate\": result[\"win_rate_mu\"], \"avg_reward\": result[\"avg_reward\"], \"avg_loss\": avg_loss, \"avg_grad\": avg_grad})\n",
    "        logger.info(f\"epoch={epoch_id}: win_rate={result['win_rate_mu']:.4%}, avg_reward={result['avg_reward']:.2f}, {avg_loss=:.4f}, {avg_grad=:.4f}\")\n",
    "    results = pd.DataFrame(results)\n",
    "    return results"
   ]
  },
  {
   "cell_type": "code",
   "execution_count": 65,
   "metadata": {},
   "outputs": [],
   "source": [
    "nn_player = QPolicy(layers=[32, 64, 32], device=\"cpu\")"
   ]
  },
  {
   "cell_type": "code",
   "execution_count": 66,
   "metadata": {},
   "outputs": [
    {
     "data": {
      "application/vnd.jupyter.widget-view+json": {
       "model_id": "2dd268b981f340ad828699a0f6a34d99",
       "version_major": 2,
       "version_minor": 0
      },
      "text/plain": [
       "train/eval epochs:   0%|          | 0/10 [00:00<?, ?it/s]"
      ]
     },
     "metadata": {},
     "output_type": "display_data"
    },
    {
     "data": {
      "application/vnd.jupyter.widget-view+json": {
       "model_id": "0763c715ea854e98a7e9c8eafabf9fb2",
       "version_major": 2,
       "version_minor": 0
      },
      "text/plain": [
       "evaluating:   0%|          | 0/100 [00:00<?, ?it/s]"
      ]
     },
     "metadata": {},
     "output_type": "display_data"
    },
    {
     "name": "stdout",
     "output_type": "stream",
     "text": [
      "2024-12-10 22:24:22,565 - research - INFO - untrained: win_rate=36.0000%, avg_reward=-0.40\n"
     ]
    },
    {
     "data": {
      "application/vnd.jupyter.widget-view+json": {
       "model_id": "030bfa23576c4ae2891065be737a9f45",
       "version_major": 2,
       "version_minor": 0
      },
      "text/plain": [
       "practicing:   0%|          | 0/500 [00:00<?, ?it/s]"
      ]
     },
     "metadata": {},
     "output_type": "display_data"
    },
    {
     "data": {
      "application/vnd.jupyter.widget-view+json": {
       "model_id": "edb1bb7ab88e4fce913153b951a415fe",
       "version_major": 2,
       "version_minor": 0
      },
      "text/plain": [
       "evaluating:   0%|          | 0/100 [00:00<?, ?it/s]"
      ]
     },
     "metadata": {},
     "output_type": "display_data"
    },
    {
     "name": "stdout",
     "output_type": "stream",
     "text": [
      "2024-12-10 22:24:34,588 - research - INFO - epoch=1: win_rate=36.0000%, avg_reward=-0.31, avg_loss=0.0120, avg_grad=0.2679\n"
     ]
    },
    {
     "data": {
      "application/vnd.jupyter.widget-view+json": {
       "model_id": "ec31342b2efe4f249205d38d3ca5a3f5",
       "version_major": 2,
       "version_minor": 0
      },
      "text/plain": [
       "practicing:   0%|          | 0/500 [00:00<?, ?it/s]"
      ]
     },
     "metadata": {},
     "output_type": "display_data"
    },
    {
     "data": {
      "application/vnd.jupyter.widget-view+json": {
       "model_id": "bbb5052a6c7c4b288989b205f60ee4be",
       "version_major": 2,
       "version_minor": 0
      },
      "text/plain": [
       "evaluating:   0%|          | 0/100 [00:00<?, ?it/s]"
      ]
     },
     "metadata": {},
     "output_type": "display_data"
    },
    {
     "name": "stdout",
     "output_type": "stream",
     "text": [
      "2024-12-10 22:24:47,801 - research - INFO - epoch=2: win_rate=55.0000%, avg_reward=0.11, avg_loss=0.0058, avg_grad=0.1688\n"
     ]
    },
    {
     "data": {
      "application/vnd.jupyter.widget-view+json": {
       "model_id": "e8d28b15d37242019c75d91cdf73f309",
       "version_major": 2,
       "version_minor": 0
      },
      "text/plain": [
       "practicing:   0%|          | 0/500 [00:00<?, ?it/s]"
      ]
     },
     "metadata": {},
     "output_type": "display_data"
    },
    {
     "data": {
      "application/vnd.jupyter.widget-view+json": {
       "model_id": "a3ada1ccb83246f384a1a6239ebc81ea",
       "version_major": 2,
       "version_minor": 0
      },
      "text/plain": [
       "evaluating:   0%|          | 0/100 [00:00<?, ?it/s]"
      ]
     },
     "metadata": {},
     "output_type": "display_data"
    },
    {
     "name": "stdout",
     "output_type": "stream",
     "text": [
      "2024-12-10 22:25:00,481 - research - INFO - epoch=3: win_rate=35.0000%, avg_reward=-0.42, avg_loss=0.0065, avg_grad=0.1853\n"
     ]
    },
    {
     "data": {
      "application/vnd.jupyter.widget-view+json": {
       "model_id": "a0079df390e64f4eb11b5ef6b559ff23",
       "version_major": 2,
       "version_minor": 0
      },
      "text/plain": [
       "practicing:   0%|          | 0/500 [00:00<?, ?it/s]"
      ]
     },
     "metadata": {},
     "output_type": "display_data"
    },
    {
     "data": {
      "application/vnd.jupyter.widget-view+json": {
       "model_id": "f33f66213ee74a79a5ca338923f5a02d",
       "version_major": 2,
       "version_minor": 0
      },
      "text/plain": [
       "evaluating:   0%|          | 0/100 [00:00<?, ?it/s]"
      ]
     },
     "metadata": {},
     "output_type": "display_data"
    },
    {
     "name": "stdout",
     "output_type": "stream",
     "text": [
      "2024-12-10 22:25:13,529 - research - INFO - epoch=4: win_rate=42.0000%, avg_reward=-0.21, avg_loss=0.0061, avg_grad=0.1702\n"
     ]
    },
    {
     "data": {
      "application/vnd.jupyter.widget-view+json": {
       "model_id": "2896ee2ff7f74941a69e96c07604491f",
       "version_major": 2,
       "version_minor": 0
      },
      "text/plain": [
       "practicing:   0%|          | 0/500 [00:00<?, ?it/s]"
      ]
     },
     "metadata": {},
     "output_type": "display_data"
    },
    {
     "data": {
      "application/vnd.jupyter.widget-view+json": {
       "model_id": "e1968ae63ebc407c8b5894bea63eb4b0",
       "version_major": 2,
       "version_minor": 0
      },
      "text/plain": [
       "evaluating:   0%|          | 0/100 [00:00<?, ?it/s]"
      ]
     },
     "metadata": {},
     "output_type": "display_data"
    },
    {
     "name": "stdout",
     "output_type": "stream",
     "text": [
      "2024-12-10 22:25:27,014 - research - INFO - epoch=5: win_rate=43.0000%, avg_reward=-0.24, avg_loss=0.0036, avg_grad=0.1106\n"
     ]
    },
    {
     "data": {
      "application/vnd.jupyter.widget-view+json": {
       "model_id": "15fe2cf049b24040b0d637ac96ae71cc",
       "version_major": 2,
       "version_minor": 0
      },
      "text/plain": [
       "practicing:   0%|          | 0/500 [00:00<?, ?it/s]"
      ]
     },
     "metadata": {},
     "output_type": "display_data"
    },
    {
     "data": {
      "application/vnd.jupyter.widget-view+json": {
       "model_id": "65a317cf18b04561b3ba3c5085b73c79",
       "version_major": 2,
       "version_minor": 0
      },
      "text/plain": [
       "evaluating:   0%|          | 0/100 [00:00<?, ?it/s]"
      ]
     },
     "metadata": {},
     "output_type": "display_data"
    },
    {
     "name": "stdout",
     "output_type": "stream",
     "text": [
      "2024-12-10 22:25:40,578 - research - INFO - epoch=6: win_rate=45.0000%, avg_reward=-0.17, avg_loss=0.0042, avg_grad=0.1262\n"
     ]
    },
    {
     "data": {
      "application/vnd.jupyter.widget-view+json": {
       "model_id": "c31867a7b96340cab646719c9fbd4b1c",
       "version_major": 2,
       "version_minor": 0
      },
      "text/plain": [
       "practicing:   0%|          | 0/500 [00:00<?, ?it/s]"
      ]
     },
     "metadata": {},
     "output_type": "display_data"
    },
    {
     "data": {
      "application/vnd.jupyter.widget-view+json": {
       "model_id": "468ec941cb5847f39f928efd34b7a55d",
       "version_major": 2,
       "version_minor": 0
      },
      "text/plain": [
       "evaluating:   0%|          | 0/100 [00:00<?, ?it/s]"
      ]
     },
     "metadata": {},
     "output_type": "display_data"
    },
    {
     "name": "stdout",
     "output_type": "stream",
     "text": [
      "2024-12-10 22:25:54,416 - research - INFO - epoch=7: win_rate=59.0000%, avg_reward=0.29, avg_loss=0.0360, avg_grad=0.6292\n"
     ]
    },
    {
     "data": {
      "application/vnd.jupyter.widget-view+json": {
       "model_id": "2df883018b274f6ab3412ee1ffcd728d",
       "version_major": 2,
       "version_minor": 0
      },
      "text/plain": [
       "practicing:   0%|          | 0/500 [00:00<?, ?it/s]"
      ]
     },
     "metadata": {},
     "output_type": "display_data"
    },
    {
     "data": {
      "application/vnd.jupyter.widget-view+json": {
       "model_id": "3ca022c167aa471aac9bf7c2c9a50305",
       "version_major": 2,
       "version_minor": 0
      },
      "text/plain": [
       "evaluating:   0%|          | 0/100 [00:00<?, ?it/s]"
      ]
     },
     "metadata": {},
     "output_type": "display_data"
    },
    {
     "name": "stdout",
     "output_type": "stream",
     "text": [
      "2024-12-10 22:26:08,900 - research - INFO - epoch=8: win_rate=64.0000%, avg_reward=0.42, avg_loss=0.0047, avg_grad=0.1052\n"
     ]
    },
    {
     "data": {
      "application/vnd.jupyter.widget-view+json": {
       "model_id": "124e03d8bda54e04bf75000e35e279ac",
       "version_major": 2,
       "version_minor": 0
      },
      "text/plain": [
       "practicing:   0%|          | 0/500 [00:00<?, ?it/s]"
      ]
     },
     "metadata": {},
     "output_type": "display_data"
    },
    {
     "data": {
      "application/vnd.jupyter.widget-view+json": {
       "model_id": "31af53dc791d4e81b84103e22e764791",
       "version_major": 2,
       "version_minor": 0
      },
      "text/plain": [
       "evaluating:   0%|          | 0/100 [00:00<?, ?it/s]"
      ]
     },
     "metadata": {},
     "output_type": "display_data"
    },
    {
     "name": "stdout",
     "output_type": "stream",
     "text": [
      "2024-12-10 22:26:23,433 - research - INFO - epoch=9: win_rate=51.0000%, avg_reward=0.02, avg_loss=0.0031, avg_grad=0.0995\n"
     ]
    },
    {
     "data": {
      "application/vnd.jupyter.widget-view+json": {
       "model_id": "0891a1fa2d274cfab012268a0945120c",
       "version_major": 2,
       "version_minor": 0
      },
      "text/plain": [
       "practicing:   0%|          | 0/500 [00:00<?, ?it/s]"
      ]
     },
     "metadata": {},
     "output_type": "display_data"
    },
    {
     "data": {
      "application/vnd.jupyter.widget-view+json": {
       "model_id": "4e2479cdde3a4ee59ee863c77714f05f",
       "version_major": 2,
       "version_minor": 0
      },
      "text/plain": [
       "evaluating:   0%|          | 0/100 [00:00<?, ?it/s]"
      ]
     },
     "metadata": {},
     "output_type": "display_data"
    },
    {
     "name": "stdout",
     "output_type": "stream",
     "text": [
      "2024-12-10 22:26:38,130 - research - INFO - epoch=10: win_rate=45.0000%, avg_reward=-0.14, avg_loss=0.0028, avg_grad=0.1105\n"
     ]
    },
    {
     "data": {
      "text/html": [
       "<div>\n",
       "<style scoped>\n",
       "    .dataframe tbody tr th:only-of-type {\n",
       "        vertical-align: middle;\n",
       "    }\n",
       "\n",
       "    .dataframe tbody tr th {\n",
       "        vertical-align: top;\n",
       "    }\n",
       "\n",
       "    .dataframe thead th {\n",
       "        text-align: right;\n",
       "    }\n",
       "</style>\n",
       "<table border=\"1\" class=\"dataframe\">\n",
       "  <thead>\n",
       "    <tr style=\"text-align: right;\">\n",
       "      <th></th>\n",
       "      <th>model</th>\n",
       "      <th>p2</th>\n",
       "      <th>start</th>\n",
       "      <th>games</th>\n",
       "      <th>wins</th>\n",
       "      <th>win_rate_lo</th>\n",
       "      <th>win_rate_mu</th>\n",
       "      <th>win_rate_hi</th>\n",
       "      <th>avg_turns</th>\n",
       "      <th>avg_reward</th>\n",
       "      <th>avg_loss</th>\n",
       "      <th>avg_grad</th>\n",
       "    </tr>\n",
       "  </thead>\n",
       "  <tbody>\n",
       "    <tr>\n",
       "      <th>0</th>\n",
       "      <td>untrained</td>\n",
       "      <td>random</td>\n",
       "      <td>random</td>\n",
       "      <td>100</td>\n",
       "      <td>36</td>\n",
       "      <td>0.2160</td>\n",
       "      <td>0.36</td>\n",
       "      <td>0.5040</td>\n",
       "      <td>96.65</td>\n",
       "      <td>-0.40</td>\n",
       "      <td>NaN</td>\n",
       "      <td>NaN</td>\n",
       "    </tr>\n",
       "    <tr>\n",
       "      <th>1</th>\n",
       "      <td>epoch-1</td>\n",
       "      <td>random</td>\n",
       "      <td>random</td>\n",
       "      <td>100</td>\n",
       "      <td>36</td>\n",
       "      <td>0.2160</td>\n",
       "      <td>0.36</td>\n",
       "      <td>0.5040</td>\n",
       "      <td>95.13</td>\n",
       "      <td>-0.31</td>\n",
       "      <td>0.011981</td>\n",
       "      <td>0.267858</td>\n",
       "    </tr>\n",
       "    <tr>\n",
       "      <th>2</th>\n",
       "      <td>epoch-2</td>\n",
       "      <td>random</td>\n",
       "      <td>random</td>\n",
       "      <td>100</td>\n",
       "      <td>55</td>\n",
       "      <td>0.4009</td>\n",
       "      <td>0.55</td>\n",
       "      <td>0.6991</td>\n",
       "      <td>95.03</td>\n",
       "      <td>0.11</td>\n",
       "      <td>0.005751</td>\n",
       "      <td>0.168775</td>\n",
       "    </tr>\n",
       "    <tr>\n",
       "      <th>3</th>\n",
       "      <td>epoch-3</td>\n",
       "      <td>random</td>\n",
       "      <td>random</td>\n",
       "      <td>100</td>\n",
       "      <td>35</td>\n",
       "      <td>0.2069</td>\n",
       "      <td>0.35</td>\n",
       "      <td>0.4931</td>\n",
       "      <td>95.88</td>\n",
       "      <td>-0.42</td>\n",
       "      <td>0.006482</td>\n",
       "      <td>0.185309</td>\n",
       "    </tr>\n",
       "    <tr>\n",
       "      <th>4</th>\n",
       "      <td>epoch-4</td>\n",
       "      <td>random</td>\n",
       "      <td>random</td>\n",
       "      <td>100</td>\n",
       "      <td>42</td>\n",
       "      <td>0.2718</td>\n",
       "      <td>0.42</td>\n",
       "      <td>0.5682</td>\n",
       "      <td>96.18</td>\n",
       "      <td>-0.21</td>\n",
       "      <td>0.006093</td>\n",
       "      <td>0.170202</td>\n",
       "    </tr>\n",
       "    <tr>\n",
       "      <th>5</th>\n",
       "      <td>epoch-5</td>\n",
       "      <td>random</td>\n",
       "      <td>random</td>\n",
       "      <td>100</td>\n",
       "      <td>43</td>\n",
       "      <td>0.2815</td>\n",
       "      <td>0.43</td>\n",
       "      <td>0.5785</td>\n",
       "      <td>96.45</td>\n",
       "      <td>-0.24</td>\n",
       "      <td>0.003562</td>\n",
       "      <td>0.110590</td>\n",
       "    </tr>\n",
       "    <tr>\n",
       "      <th>6</th>\n",
       "      <td>epoch-6</td>\n",
       "      <td>random</td>\n",
       "      <td>random</td>\n",
       "      <td>100</td>\n",
       "      <td>45</td>\n",
       "      <td>0.3009</td>\n",
       "      <td>0.45</td>\n",
       "      <td>0.5991</td>\n",
       "      <td>95.79</td>\n",
       "      <td>-0.17</td>\n",
       "      <td>0.004168</td>\n",
       "      <td>0.126167</td>\n",
       "    </tr>\n",
       "    <tr>\n",
       "      <th>7</th>\n",
       "      <td>epoch-7</td>\n",
       "      <td>random</td>\n",
       "      <td>random</td>\n",
       "      <td>100</td>\n",
       "      <td>59</td>\n",
       "      <td>0.4424</td>\n",
       "      <td>0.59</td>\n",
       "      <td>0.7376</td>\n",
       "      <td>94.17</td>\n",
       "      <td>0.29</td>\n",
       "      <td>0.035980</td>\n",
       "      <td>0.629240</td>\n",
       "    </tr>\n",
       "    <tr>\n",
       "      <th>8</th>\n",
       "      <td>epoch-8</td>\n",
       "      <td>random</td>\n",
       "      <td>random</td>\n",
       "      <td>100</td>\n",
       "      <td>64</td>\n",
       "      <td>0.4960</td>\n",
       "      <td>0.64</td>\n",
       "      <td>0.7840</td>\n",
       "      <td>95.81</td>\n",
       "      <td>0.42</td>\n",
       "      <td>0.004746</td>\n",
       "      <td>0.105173</td>\n",
       "    </tr>\n",
       "    <tr>\n",
       "      <th>9</th>\n",
       "      <td>epoch-9</td>\n",
       "      <td>random</td>\n",
       "      <td>random</td>\n",
       "      <td>100</td>\n",
       "      <td>51</td>\n",
       "      <td>0.3600</td>\n",
       "      <td>0.51</td>\n",
       "      <td>0.6600</td>\n",
       "      <td>95.19</td>\n",
       "      <td>0.02</td>\n",
       "      <td>0.003094</td>\n",
       "      <td>0.099455</td>\n",
       "    </tr>\n",
       "    <tr>\n",
       "      <th>10</th>\n",
       "      <td>epoch-10</td>\n",
       "      <td>random</td>\n",
       "      <td>random</td>\n",
       "      <td>100</td>\n",
       "      <td>45</td>\n",
       "      <td>0.3009</td>\n",
       "      <td>0.45</td>\n",
       "      <td>0.5991</td>\n",
       "      <td>95.92</td>\n",
       "      <td>-0.14</td>\n",
       "      <td>0.002815</td>\n",
       "      <td>0.110478</td>\n",
       "    </tr>\n",
       "  </tbody>\n",
       "</table>\n",
       "</div>"
      ],
      "text/plain": [
       "        model      p2   start  games  wins  win_rate_lo  win_rate_mu  \\\n",
       "0   untrained  random  random    100    36       0.2160         0.36   \n",
       "1     epoch-1  random  random    100    36       0.2160         0.36   \n",
       "2     epoch-2  random  random    100    55       0.4009         0.55   \n",
       "3     epoch-3  random  random    100    35       0.2069         0.35   \n",
       "4     epoch-4  random  random    100    42       0.2718         0.42   \n",
       "5     epoch-5  random  random    100    43       0.2815         0.43   \n",
       "6     epoch-6  random  random    100    45       0.3009         0.45   \n",
       "7     epoch-7  random  random    100    59       0.4424         0.59   \n",
       "8     epoch-8  random  random    100    64       0.4960         0.64   \n",
       "9     epoch-9  random  random    100    51       0.3600         0.51   \n",
       "10   epoch-10  random  random    100    45       0.3009         0.45   \n",
       "\n",
       "    win_rate_hi  avg_turns  avg_reward  avg_loss  avg_grad  \n",
       "0        0.5040      96.65       -0.40       NaN       NaN  \n",
       "1        0.5040      95.13       -0.31  0.011981  0.267858  \n",
       "2        0.6991      95.03        0.11  0.005751  0.168775  \n",
       "3        0.4931      95.88       -0.42  0.006482  0.185309  \n",
       "4        0.5682      96.18       -0.21  0.006093  0.170202  \n",
       "5        0.5785      96.45       -0.24  0.003562  0.110590  \n",
       "6        0.5991      95.79       -0.17  0.004168  0.126167  \n",
       "7        0.7376      94.17        0.29  0.035980  0.629240  \n",
       "8        0.7840      95.81        0.42  0.004746  0.105173  \n",
       "9        0.6600      95.19        0.02  0.003094  0.099455  \n",
       "10       0.5991      95.92       -0.14  0.002815  0.110478  "
      ]
     },
     "execution_count": 66,
     "metadata": {},
     "output_type": "execute_result"
    }
   ],
   "source": [
    "train_eval_loop(nn_player, epochs=10, practice_games=500, eval_games=100, sync_every=250, lr=0.001, gamma=0.99, grad_clip=10, soft_epsilon=0.5)"
   ]
  },
  {
   "cell_type": "code",
   "execution_count": null,
   "metadata": {},
   "outputs": [
    {
     "data": {
      "application/vnd.jupyter.widget-view+json": {
       "model_id": "87e91b3bdcb24dc7bd5accab871d4e73",
       "version_major": 2,
       "version_minor": 0
      },
      "text/plain": [
       "train/eval epochs:   0%|          | 0/10 [00:00<?, ?it/s]"
      ]
     },
     "metadata": {},
     "output_type": "display_data"
    },
    {
     "data": {
      "application/vnd.jupyter.widget-view+json": {
       "model_id": "63eafbd0b99d4a4b9a170f4c5cee6b46",
       "version_major": 2,
       "version_minor": 0
      },
      "text/plain": [
       "evaluating:   0%|          | 0/100 [00:00<?, ?it/s]"
      ]
     },
     "metadata": {},
     "output_type": "display_data"
    },
    {
     "name": "stdout",
     "output_type": "stream",
     "text": [
      "2024-12-10 22:26:42,687 - research - INFO - untrained: win_rate=43.0000%, avg_reward=-0.16\n"
     ]
    },
    {
     "data": {
      "application/vnd.jupyter.widget-view+json": {
       "model_id": "72bc3f63cd2a41398e8b67e7f929c79b",
       "version_major": 2,
       "version_minor": 0
      },
      "text/plain": [
       "practicing:   0%|          | 0/500 [00:00<?, ?it/s]"
      ]
     },
     "metadata": {},
     "output_type": "display_data"
    },
    {
     "data": {
      "application/vnd.jupyter.widget-view+json": {
       "model_id": "e798056ca76247c18e45ea83623b3380",
       "version_major": 2,
       "version_minor": 0
      },
      "text/plain": [
       "evaluating:   0%|          | 0/100 [00:00<?, ?it/s]"
      ]
     },
     "metadata": {},
     "output_type": "display_data"
    },
    {
     "name": "stdout",
     "output_type": "stream",
     "text": [
      "2024-12-10 22:26:57,869 - research - INFO - epoch=1: win_rate=61.0000%, avg_reward=0.27, avg_loss=0.0038, avg_grad=0.1457\n"
     ]
    },
    {
     "data": {
      "application/vnd.jupyter.widget-view+json": {
       "model_id": "705473d8b8d0493095bb123d6488d72b",
       "version_major": 2,
       "version_minor": 0
      },
      "text/plain": [
       "practicing:   0%|          | 0/500 [00:00<?, ?it/s]"
      ]
     },
     "metadata": {},
     "output_type": "display_data"
    },
    {
     "data": {
      "application/vnd.jupyter.widget-view+json": {
       "model_id": "c0af88dea5b04af9aaf413451dd3ec96",
       "version_major": 2,
       "version_minor": 0
      },
      "text/plain": [
       "evaluating:   0%|          | 0/100 [00:00<?, ?it/s]"
      ]
     },
     "metadata": {},
     "output_type": "display_data"
    },
    {
     "name": "stdout",
     "output_type": "stream",
     "text": [
      "2024-12-10 22:27:13,167 - research - INFO - epoch=2: win_rate=48.0000%, avg_reward=-0.09, avg_loss=0.0033, avg_grad=0.1504\n"
     ]
    },
    {
     "data": {
      "application/vnd.jupyter.widget-view+json": {
       "model_id": "d1a50f0b90c5457aa1c89fda3076569a",
       "version_major": 2,
       "version_minor": 0
      },
      "text/plain": [
       "practicing:   0%|          | 0/500 [00:00<?, ?it/s]"
      ]
     },
     "metadata": {},
     "output_type": "display_data"
    },
    {
     "data": {
      "application/vnd.jupyter.widget-view+json": {
       "model_id": "ab40703d36d842a4a245525ab3109bbe",
       "version_major": 2,
       "version_minor": 0
      },
      "text/plain": [
       "evaluating:   0%|          | 0/100 [00:00<?, ?it/s]"
      ]
     },
     "metadata": {},
     "output_type": "display_data"
    },
    {
     "name": "stdout",
     "output_type": "stream",
     "text": [
      "2024-12-10 22:27:28,794 - research - INFO - epoch=3: win_rate=33.0000%, avg_reward=-0.49, avg_loss=0.0035, avg_grad=0.1522\n"
     ]
    },
    {
     "data": {
      "application/vnd.jupyter.widget-view+json": {
       "model_id": "b9207314cd894f56b51e27990ce7c8f2",
       "version_major": 2,
       "version_minor": 0
      },
      "text/plain": [
       "practicing:   0%|          | 0/500 [00:00<?, ?it/s]"
      ]
     },
     "metadata": {},
     "output_type": "display_data"
    },
    {
     "data": {
      "application/vnd.jupyter.widget-view+json": {
       "model_id": "1a454984565c49b6942dda93908982fb",
       "version_major": 2,
       "version_minor": 0
      },
      "text/plain": [
       "evaluating:   0%|          | 0/100 [00:00<?, ?it/s]"
      ]
     },
     "metadata": {},
     "output_type": "display_data"
    },
    {
     "name": "stdout",
     "output_type": "stream",
     "text": [
      "2024-12-10 22:27:44,778 - research - INFO - epoch=4: win_rate=68.0000%, avg_reward=0.56, avg_loss=0.0038, avg_grad=0.1558\n"
     ]
    },
    {
     "data": {
      "application/vnd.jupyter.widget-view+json": {
       "model_id": "c400cd0b6f1c43efac4ed45d309d1c95",
       "version_major": 2,
       "version_minor": 0
      },
      "text/plain": [
       "practicing:   0%|          | 0/500 [00:00<?, ?it/s]"
      ]
     },
     "metadata": {},
     "output_type": "display_data"
    },
    {
     "data": {
      "application/vnd.jupyter.widget-view+json": {
       "model_id": "211ac17d69f8470cb10700be1c3dbf36",
       "version_major": 2,
       "version_minor": 0
      },
      "text/plain": [
       "evaluating:   0%|          | 0/100 [00:00<?, ?it/s]"
      ]
     },
     "metadata": {},
     "output_type": "display_data"
    },
    {
     "name": "stdout",
     "output_type": "stream",
     "text": [
      "2024-12-10 22:28:00,629 - research - INFO - epoch=5: win_rate=71.0000%, avg_reward=0.58, avg_loss=0.0046, avg_grad=0.2019\n"
     ]
    },
    {
     "data": {
      "application/vnd.jupyter.widget-view+json": {
       "model_id": "b9ae344100fd435894e70080c3fa3e20",
       "version_major": 2,
       "version_minor": 0
      },
      "text/plain": [
       "practicing:   0%|          | 0/500 [00:00<?, ?it/s]"
      ]
     },
     "metadata": {},
     "output_type": "display_data"
    },
    {
     "data": {
      "application/vnd.jupyter.widget-view+json": {
       "model_id": "275571c4bf064c9bb082b31b01a75d50",
       "version_major": 2,
       "version_minor": 0
      },
      "text/plain": [
       "evaluating:   0%|          | 0/100 [00:00<?, ?it/s]"
      ]
     },
     "metadata": {},
     "output_type": "display_data"
    },
    {
     "name": "stdout",
     "output_type": "stream",
     "text": [
      "2024-12-10 22:28:17,348 - research - INFO - epoch=6: win_rate=48.0000%, avg_reward=-0.01, avg_loss=0.0037, avg_grad=0.1998\n"
     ]
    },
    {
     "data": {
      "application/vnd.jupyter.widget-view+json": {
       "model_id": "88c9a39189b2440d94ceb7d284b5f518",
       "version_major": 2,
       "version_minor": 0
      },
      "text/plain": [
       "practicing:   0%|          | 0/500 [00:00<?, ?it/s]"
      ]
     },
     "metadata": {},
     "output_type": "display_data"
    },
    {
     "data": {
      "application/vnd.jupyter.widget-view+json": {
       "model_id": "82884b68b9f7498a842270c154b397d2",
       "version_major": 2,
       "version_minor": 0
      },
      "text/plain": [
       "evaluating:   0%|          | 0/100 [00:00<?, ?it/s]"
      ]
     },
     "metadata": {},
     "output_type": "display_data"
    },
    {
     "name": "stdout",
     "output_type": "stream",
     "text": [
      "2024-12-10 22:28:34,280 - research - INFO - epoch=7: win_rate=54.0000%, avg_reward=0.08, avg_loss=0.0046, avg_grad=0.2031\n"
     ]
    },
    {
     "data": {
      "application/vnd.jupyter.widget-view+json": {
       "model_id": "7f64c44556bb43ed95fd43953fe6a80e",
       "version_major": 2,
       "version_minor": 0
      },
      "text/plain": [
       "practicing:   0%|          | 0/500 [00:00<?, ?it/s]"
      ]
     },
     "metadata": {},
     "output_type": "display_data"
    },
    {
     "data": {
      "application/vnd.jupyter.widget-view+json": {
       "model_id": "2fe7c839d6e64831a9bf7cba4331394d",
       "version_major": 2,
       "version_minor": 0
      },
      "text/plain": [
       "evaluating:   0%|          | 0/100 [00:00<?, ?it/s]"
      ]
     },
     "metadata": {},
     "output_type": "display_data"
    },
    {
     "name": "stdout",
     "output_type": "stream",
     "text": [
      "2024-12-10 22:28:50,837 - research - INFO - epoch=8: win_rate=26.0000%, avg_reward=-0.75, avg_loss=0.0038, avg_grad=0.1727\n"
     ]
    },
    {
     "data": {
      "application/vnd.jupyter.widget-view+json": {
       "model_id": "d646f5f99d464a89803f28993148237f",
       "version_major": 2,
       "version_minor": 0
      },
      "text/plain": [
       "practicing:   0%|          | 0/500 [00:00<?, ?it/s]"
      ]
     },
     "metadata": {},
     "output_type": "display_data"
    }
   ],
   "source": [
    "train_eval_loop(nn_player, epochs=10, practice_games=500, eval_games=100, sync_every=250, lr=0.0005, gamma=0.99, grad_clip=10, soft_epsilon=0.25)"
   ]
  },
  {
   "cell_type": "code",
   "execution_count": null,
   "metadata": {},
   "outputs": [],
   "source": [
    "train_eval_loop(nn_player, epochs=10, practice_games=500, eval_games=100, sync_every=250, lr=0.00025, gamma=0.99, grad_clip=10, soft_epsilon=0.10)"
   ]
  },
  {
   "cell_type": "code",
   "execution_count": null,
   "metadata": {},
   "outputs": [],
   "source": [
    "train_eval_loop(nn_player, epochs=10, practice_games=500, eval_games=100, sync_every=250, lr=0.000005, gamma=0.99, grad_clip=10, soft_epsilon=0.05)"
   ]
  },
  {
   "cell_type": "code",
   "execution_count": null,
   "metadata": {},
   "outputs": [],
   "source": [
    "train_eval_loop(nn_player, epochs=10, practice_games=500, eval_games=100, sync_every=250, lr=0.000001, gamma=0.99, grad_clip=10, soft_epsilon=0.01)"
   ]
  },
  {
   "cell_type": "code",
   "execution_count": null,
   "metadata": {},
   "outputs": [],
   "source": [
    "train_eval_loop(nn_player, epochs=10, practice_games=500, eval_games=100, sync_every=250, lr=0.0000005, gamma=0.99, grad_clip=10, soft_epsilon=0.0)"
   ]
  },
  {
   "cell_type": "markdown",
   "metadata": {},
   "source": [
    "### Experiments with scatter & reduce:"
   ]
  },
  {
   "cell_type": "code",
   "execution_count": null,
   "metadata": {},
   "outputs": [
    {
     "data": {
      "text/plain": [
       "tensor([-1.3251,  7.6956,  5.5489,  0.0000])"
      ]
     },
     "execution_count": 160,
     "metadata": {},
     "output_type": "execute_result"
    }
   ],
   "source": [
    "# q_score = nn_player.q_network(curr_state_actions)\n",
    "\n",
    "# with torch.no_grad():\n",
    "#     t_score = nn_player.t_network(next_state_actions).squeeze()\n",
    "#     t_score_max = torch.zeros_like(rewards).scatter_reduce(0, index=next_state_actions_idx, src=t_score, reduce=\"max\", include_self=False)\n",
    "    \n",
    "# t_score_max"
   ]
  },
  {
   "cell_type": "code",
   "execution_count": null,
   "metadata": {},
   "outputs": [
    {
     "data": {
      "text/plain": [
       "tensor([-1.3251,  7.6956,  5.5489])"
      ]
     },
     "execution_count": 161,
     "metadata": {},
     "output_type": "execute_result"
    }
   ],
   "source": [
    "# q_score = nn_player.q_network(curr_state_actions)\n",
    "\n",
    "# with torch.no_grad():\n",
    "#     t_score = nn_player.t_network(next_state_actions).squeeze()\n",
    "#     t_score_max, t_score_idx = torch_scatter.scatter_max(t_score, index=next_state_actions_idx, dim=0)\n",
    "    \n",
    "# t_score_max"
   ]
  },
  {
   "cell_type": "code",
   "execution_count": null,
   "metadata": {},
   "outputs": [
    {
     "data": {
      "text/plain": [
       "(tensor([[ 3.5378],\n",
       "         [ 2.6326],\n",
       "         [-1.3690],\n",
       "         [ 7.6219]]),\n",
       " tensor([[0],\n",
       "         [3],\n",
       "         [4],\n",
       "         [7]]))"
      ]
     },
     "execution_count": 146,
     "metadata": {},
     "output_type": "execute_result"
    }
   ],
   "source": [
    "# max_score, max_score_idx = torch_scatter.scatter_max(score, index=next_state_actions_idx, dim=0)\n",
    "# max_score, max_score_idx"
   ]
  },
  {
   "cell_type": "code",
   "execution_count": null,
   "metadata": {},
   "outputs": [
    {
     "data": {
      "text/plain": [
       "tensor([ 3.5378,  2.6326, -1.3690,  7.6219])"
      ]
     },
     "execution_count": 147,
     "metadata": {},
     "output_type": "execute_result"
    }
   ],
   "source": [
    "# torch.zeros_like(rewards).scatter_reduce(0, index=next_state_actions_idx, src=score.squeeze(), reduce=\"max\", include_self=False)"
   ]
  },
  {
   "cell_type": "code",
   "execution_count": null,
   "metadata": {},
   "outputs": [],
   "source": [
    "# max_score, max_score_idx = torch_scatter.scatter_max(score, index=next_state_actions_idx, dim=0)\n",
    "# max_score, max_score_idx"
   ]
  },
  {
   "cell_type": "code",
   "execution_count": null,
   "metadata": {},
   "outputs": [
    {
     "data": {
      "text/plain": [
       "tensor([[ 0,  1,  2,  3,  4,  5],\n",
       "        [ 6,  7,  8,  9, 10, 11],\n",
       "        [12, 13, 14, 15, 16, 17],\n",
       "        [18, 19, 20, 21, 22, 23]])"
      ]
     },
     "execution_count": 162,
     "metadata": {},
     "output_type": "execute_result"
    }
   ],
   "source": [
    "# data = torch.arange(24).view(-1,6).long()\n",
    "# data"
   ]
  },
  {
   "cell_type": "code",
   "execution_count": 163,
   "metadata": {},
   "outputs": [
    {
     "data": {
      "text/plain": [
       "tensor([ 15.,  51.,  87., 123.])"
      ]
     },
     "execution_count": 163,
     "metadata": {},
     "output_type": "execute_result"
    }
   ],
   "source": [
    "# score = data.float().sum(dim=1)\n",
    "# score"
   ]
  },
  {
   "cell_type": "code",
   "execution_count": 164,
   "metadata": {},
   "outputs": [
    {
     "data": {
      "text/plain": [
       "(tensor([ 87., 123.]), tensor([2, 3]))"
      ]
     },
     "execution_count": 164,
     "metadata": {},
     "output_type": "execute_result"
    }
   ],
   "source": [
    "# max_score, max_score_idx = torch_scatter.scatter_max(score, index=torch.tensor([0,0,0,1]), dim=0)\n",
    "# max_score, max_score_idx"
   ]
  },
  {
   "cell_type": "code",
   "execution_count": null,
   "metadata": {},
   "outputs": [
    {
     "data": {
      "text/plain": [
       "tensor([[12, 13, 14, 15, 16, 17],\n",
       "        [18, 19, 20, 21, 22, 23]])"
      ]
     },
     "execution_count": 165,
     "metadata": {},
     "output_type": "execute_result"
    }
   ],
   "source": [
    "# data[max_score_idx]"
   ]
  },
  {
   "cell_type": "code",
   "execution_count": null,
   "metadata": {},
   "outputs": [],
   "source": []
  }
 ],
 "metadata": {
  "kernelspec": {
   "display_name": "XCS234",
   "language": "python",
   "name": "python3"
  },
  "language_info": {
   "codemirror_mode": {
    "name": "ipython",
    "version": 3
   },
   "file_extension": ".py",
   "mimetype": "text/x-python",
   "name": "python",
   "nbconvert_exporter": "python",
   "pygments_lexer": "ipython3",
   "version": "3.10.13"
  }
 },
 "nbformat": 4,
 "nbformat_minor": 2
}
