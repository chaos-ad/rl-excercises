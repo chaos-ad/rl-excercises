{
 "cells": [
  {
   "cell_type": "code",
   "execution_count": 77,
   "metadata": {},
   "outputs": [],
   "source": [
    "import sys\n",
    "import copy \n",
    "import random\n",
    "import pandas as pd\n",
    "import numpy as np\n",
    "import torch\n",
    "import tqdm.auto as tqdm\n",
    "from pathlib import Path\n",
    "\n",
    "from typing import *\n",
    "from enum import Enum\n",
    "from dataclasses import dataclass"
   ]
  },
  {
   "cell_type": "code",
   "execution_count": 2,
   "metadata": {},
   "outputs": [],
   "source": [
    "%load_ext autoreload\n",
    "%autoreload 2"
   ]
  },
  {
   "cell_type": "code",
   "execution_count": 3,
   "metadata": {},
   "outputs": [],
   "source": [
    "import logging\n",
    "logger = logging.getLogger(\"research\")"
   ]
  },
  {
   "cell_type": "code",
   "execution_count": 4,
   "metadata": {},
   "outputs": [],
   "source": [
    "import os,sys\n",
    "sys.path.insert(0, str(Path.cwd().parent))"
   ]
  },
  {
   "cell_type": "code",
   "execution_count": 5,
   "metadata": {},
   "outputs": [],
   "source": [
    "import utils.logging\n",
    "utils.logging.setup(debug=False)"
   ]
  },
  {
   "cell_type": "markdown",
   "metadata": {},
   "source": [
    "### Narde rules\n",
    "https://www.bkgm.com/variants/Narde.html"
   ]
  },
  {
   "cell_type": "code",
   "execution_count": 31,
   "metadata": {},
   "outputs": [],
   "source": [
    "class Game:\n",
    "    class Step(Enum):\n",
    "        IDLE = \"idle\"\n",
    "        ROLL = \"roll\"\n",
    "        TURN = \"trun\"\n",
    "        FINISHED = \"finished\"\n",
    "\n",
    "    def __init__(self, seed: Optional[int] = None):\n",
    "        self.seed = random.randint(0, 2**32-1) if seed is None else seed\n",
    "        logger.debug(f\"new game started, seed={self.seed}\")\n",
    "        random.seed(self.seed)\n",
    "        np.random.seed(self.seed)\n",
    "        self.board = np.zeros(24, dtype=int)\n",
    "        self.board[0] = 15\n",
    "        self.board[12] = -15\n",
    "        self.dice = [0, 0]\n",
    "        self.home = [0, 0]\n",
    "        self.pturn = 0\n",
    "        self.t = 0\n",
    "        self.step : Game.Step = Game.Step.IDLE\n",
    "\n",
    "    def _get_dst_idx(self, src_idx: int, steps: int) -> int:\n",
    "        dst_idx = src_idx + steps\n",
    "        if dst_idx > 24:\n",
    "            dst_idx = dst_idx % 25 + 1\n",
    "        return dst_idx\n",
    "\n",
    "    def _can_bearoff(self):\n",
    "        counter = self.home[self.pturn]\n",
    "        sign = 1 if self.pturn == 0 else -1\n",
    "        home = range(19, 25) if self.pturn == 0 else range(7, 13)\n",
    "        for idx in home:\n",
    "            if sign * self.board[idx-1] > 0:\n",
    "                counter += sign * self.board[idx-1]\n",
    "        return counter == 15\n",
    "\n",
    "    def _is_bearoff(self, src_idx: int, steps: int) -> bool:\n",
    "        dst_idx = self._get_dst_idx(src_idx, steps)\n",
    "        return (self.pturn == 0 and dst_idx < src_idx) or \\\n",
    "               (self.pturn == 1 and src_idx <= 12 and dst_idx > 12)\n",
    "    \n",
    "    def _check_move(self, src_idx: int, steps: int):\n",
    "        dst_idx = self._get_dst_idx(src_idx, steps)\n",
    "        sign = 1 if self.pturn == 0 else -1\n",
    "        if self.step != Game.Step.TURN:\n",
    "            raise RuntimeError(\"invalid action\")\n",
    "        if not (1 <= src_idx <= 24):\n",
    "            raise RuntimeError(\"invalid position\")\n",
    "        if not (sign * self.board[src_idx-1] > 0):\n",
    "            raise RuntimeError(f\"no checkers at position {src_idx}\")\n",
    "        if steps not in self.dice:\n",
    "            raise RuntimeError(f\"no dice with value {steps}\")\n",
    "        if self._is_bearoff(src_idx, steps):\n",
    "            if not self._can_bearoff():\n",
    "                raise RuntimeError(f\"not all checkers are at home\")\n",
    "        elif not (sign * self.board[dst_idx-1] >= 0):\n",
    "            raise RuntimeError(f\"can't move to position {dst_idx}\")\n",
    "\n",
    "    def _enum_valid_moves(self) -> Iterator[Tuple[int, int]]:\n",
    "        eligible_moves = []\n",
    "        sign = 1 if self.pturn == 0 else -1\n",
    "        for src_idx in range(1, 25):\n",
    "            if sign * self.board[src_idx-1] > 0:\n",
    "                for steps in range(1, 7):\n",
    "                    if self._is_valid_move(src_idx, steps):\n",
    "                        yield (src_idx, steps)\n",
    "        return eligible_moves\n",
    "        \n",
    "    def _is_valid_move(self, src_idx: int, steps: int) -> bool:\n",
    "        try:\n",
    "            self._check_move(src_idx, steps)\n",
    "            return True\n",
    "        except RuntimeError as e:\n",
    "            return False\n",
    "        \n",
    "    def _can_move(self):\n",
    "        try:\n",
    "            next(iter(self._enum_valid_moves()))\n",
    "            return True\n",
    "        except StopIteration:\n",
    "            return False\n",
    "\n",
    "    def start(self, d1: int = 0, d2: int = 0) -> \"Game\":\n",
    "        if self.step != Game.Step.IDLE:\n",
    "            raise RuntimeError(\"invalid action\")\n",
    "\n",
    "        self.dice = [d1 or random.randint(1, 6), d2 or random.randint(1, 6)]\n",
    "        while self.dice[0] == self.dice[1]:\n",
    "            self.dice = [random.randint(1, 6), random.randint(1, 6)]\n",
    "\n",
    "        self.step = Game.Step.ROLL\n",
    "        if self.dice[0] > self.dice[1]:\n",
    "            self.pturn = 0\n",
    "        else: # self.dice[0] < self.dice[1]:\n",
    "            self.pturn = 1\n",
    "        return self\n",
    "\n",
    "    def roll(self, d1: int = 0, d2: int = 0) -> \"Game\":\n",
    "        if self.step != Game.Step.ROLL:\n",
    "            raise RuntimeError(\"invalid action\")\n",
    "        self.dice = [d1 or random.randint(1, 6), d2 or random.randint(1, 6)]\n",
    "        if self.dice[0] == self.dice[1]:\n",
    "            self.dice += self.dice\n",
    "        self.step = Game.Step.TURN\n",
    "        return self\n",
    "\n",
    "    def turn(self, src_idx: int, steps: int) -> \"Game\":\n",
    "        dst_idx = self._get_dst_idx(src_idx, steps)\n",
    "        sign = 1 if self.pturn == 0 else -1\n",
    "        \n",
    "        self._check_move(src_idx, steps)\n",
    "        \n",
    "        if self._is_bearoff(src_idx, steps):\n",
    "            self.board[src_idx-1] -= sign\n",
    "            self.home[self.pturn] += 1\n",
    "        else:\n",
    "            self.board[src_idx-1] -= sign\n",
    "            self.board[dst_idx-1] += sign\n",
    "\n",
    "        if len(self.dice) > 2:\n",
    "            self.dice.pop(self.dice.index(steps, -1))\n",
    "        else:\n",
    "            self.dice[self.dice.index(steps)] = 0\n",
    "\n",
    "        if self.home[self.pturn] == 15:\n",
    "            self.step = Game.Step.FINISHED\n",
    "        elif self.dice[0] == 0 and self.dice[1] == 0:\n",
    "            self.step = Game.Step.ROLL\n",
    "            self.pturn = (self.pturn + 1) % 2\n",
    "            self.t += 1\n",
    "        \n",
    "        return self\n",
    "    \n",
    "    def is_finished(self):\n",
    "        return self.step == Game.Step.FINISHED\n",
    "    \n",
    "    def skip(self) -> \"Game\":\n",
    "        if self.step != Game.Step.TURN:\n",
    "            raise RuntimeError(\"invalid action\")\n",
    "        \n",
    "        if not self._can_move():\n",
    "            self.dice = [0, 0]\n",
    "            self.step = Game.Step.ROLL\n",
    "            self.pturn = (self.pturn + 1) % 2\n",
    "            self.t += 1\n",
    "        \n",
    "        return self\n",
    "\n",
    "    def __repr__(self):\n",
    "        template = \"\"\"\n",
    "        |{OHM}| 24 | 23 | 22 | 21 | 20 | 19 | {X} | 18 | 17 | 16 | 15 | 14 | 13 |  X  |\n",
    "        |     |-----------------------------|     |-----------------------------|     |\n",
    "        |     |{d6}|{d5}|{d4}|{d3}|{d2}|{d1}|     |{c6}|{c5}|{c4}|{c3}|{c2}|{c1}|     |\n",
    "        |     |    |    |    |    |    |    |     |    |    |    |    |    |    |     |\n",
    "        |     |    |    |    |    |    |    |     |    |    |    |    |    |    |     |\n",
    "        |     |    |    |    |    |    |    |     |    |    |    |    |    |    |     |\n",
    "        |     |    |    |    |    |    |    |     |    |    |    |    |    |    |     |\n",
    "        |     |-----------------------------|{dcs}|-----------------------------|     |\n",
    "        |     |    |    |    |    |    |    |     |    |    |    |    |    |    |     |\n",
    "        |     |    |    |    |    |    |    |     |    |    |    |    |    |    |     |\n",
    "        |     |    |    |    |    |    |    |     |    |    |    |    |    |    |     |\n",
    "        |     |    |    |    |    |    |    |     |    |    |    |    |    |    |     |\n",
    "        |     |{a1}|{a2}|{a3}|{a4}|{a5}|{a6}|     |{b1}|{b2}|{b3}|{b4}|{b5}|{b6}|     |\n",
    "        |     |-----------------------------|     |-----------------------------|     |\n",
    "        |  O  |  1 |  2 |  3 |  4 |  5 |  6 | {O} |  7 |  8 |  9 | 10 | 11 | 12 |{XHM}|\n",
    "        \"\"\"\n",
    "        values = {}\n",
    "        for c in [\"a\", \"b\", \"c\", \"d\"]:\n",
    "            for n in range(1, 7):\n",
    "                idx = 6 * (ord(c) - ord(\"a\")) + n-1\n",
    "                val = int(self.board[idx])\n",
    "                if val < 0:\n",
    "                    val = f\" O{-val}\".ljust(4)\n",
    "                elif val > 0:\n",
    "                    val = f\" X{val}\".ljust(4)\n",
    "                else:\n",
    "                    val = f\"    \"\n",
    "                values[f\"{c}{n}\"] = val\n",
    "        values[\"dcs\"] = f\" {self.dice[0] or ' '}:{self.dice[1] or ' '} \"\n",
    "        values[\"X\"] = \"   \"\n",
    "        values[\"O\"] = \"   \"\n",
    "        values[\"XHM\"] = \"     \"\n",
    "        values[\"OHM\"] = \"     \"\n",
    "        if self.step == Game.Step.ROLL:\n",
    "            values[\"O\" if self.pturn == 0 else \"X\"] = \" * \"\n",
    "        elif self.step == self.step.TURN:\n",
    "            values[\"O\" if self.pturn == 0 else \"X\"] = f\"({len([d for d in self.dice if d])})\"\n",
    "        if self.home[0] > 0:\n",
    "            values[\"OHM\"] = f\"  {self.home[0]}\".ljust(5)\n",
    "        if self.home[1] > 0:\n",
    "            values[\"XHM\"] = f\"  {self.home[1]}\".ljust(5)\n",
    "        return template.format(**values)"
   ]
  },
  {
   "cell_type": "code",
   "execution_count": 59,
   "metadata": {},
   "outputs": [],
   "source": [
    "def random_move(game: Game):\n",
    "    if not game.is_finished():\n",
    "        moves = list(game._enum_valid_moves())\n",
    "        if len(moves) > 0:\n",
    "            pos, steps = random.choice(moves)\n",
    "            logger.debug(f\"t={game.t}, p={game.pturn} moves ({pos}+{steps})\")\n",
    "            game.turn(pos, steps)\n",
    "            return True\n",
    "        else:\n",
    "            logger.debug(f\"t={game.t}, p={game.pturn} has no eligible moves, skipping\")\n",
    "            game.skip()\n",
    "    return False\n",
    "\n",
    "def auto_turn(game: Game):\n",
    "    game.roll()\n",
    "    logger.debug(f\"t={game.t}, p={game.pturn} rolls {game.dice}\")\n",
    "    for _ in range(len(game.dice)):\n",
    "        if not random_move(game):\n",
    "            break\n",
    "    return game\n",
    "\n",
    "def auto_rollout(game, turns: int = 100):\n",
    "    for turn in range(turns):\n",
    "        logger.debug(f\"{turn=}\")\n",
    "        auto_turn(game)\n",
    "        if game.is_finished():\n",
    "            logger.debug(f\"t={game.t}, game finished, p={game.pturn} wins\")\n",
    "            break\n",
    "    return game"
   ]
  },
  {
   "cell_type": "code",
   "execution_count": 60,
   "metadata": {},
   "outputs": [
    {
     "data": {
      "text/plain": [
       "\n",
       "        |     | 24 | 23 | 22 | 21 | 20 | 19 |     | 18 | 17 | 16 | 15 | 14 | 13 |  X  |\n",
       "        |     |-----------------------------|     |-----------------------------|     |\n",
       "        |     |    |    | X1 |    |    | O2 |     |    |    |    |    |    | O13|     |\n",
       "        |     |    |    |    |    |    |    |     |    |    |    |    |    |    |     |\n",
       "        |     |    |    |    |    |    |    |     |    |    |    |    |    |    |     |\n",
       "        |     |    |    |    |    |    |    |     |    |    |    |    |    |    |     |\n",
       "        |     |    |    |    |    |    |    |     |    |    |    |    |    |    |     |\n",
       "        |     |-----------------------------|  :6 |-----------------------------|     |\n",
       "        |     |    |    |    |    |    |    |     |    |    |    |    |    |    |     |\n",
       "        |     |    |    |    |    |    |    |     |    |    |    |    |    |    |     |\n",
       "        |     |    |    |    |    |    |    |     |    |    |    |    |    |    |     |\n",
       "        |     |    |    |    |    |    |    |     |    |    |    |    |    |    |     |\n",
       "        |     | X12|    |    |    |    |    |     | X2 |    |    |    |    |    |     |\n",
       "        |     |-----------------------------|     |-----------------------------|     |\n",
       "        |  O  |  1 |  2 |  3 |  4 |  5 |  6 | (1) |  7 |  8 |  9 | 10 | 11 | 12 |     |\n",
       "        "
      ]
     },
     "execution_count": 60,
     "metadata": {},
     "output_type": "execute_result"
    }
   ],
   "source": [
    "g = Game(seed=42)\n",
    "g.start().roll().turn(1, 6).turn(7, 1).roll().turn(13, 3).turn(16, 2).roll().turn(1, 2).turn(3, 2).turn(5, 2).turn(8, 2).roll().turn(13,6).turn(18,1).roll()\n",
    "g.turn(10, 6).turn(16,6).turn(1, 6) # < there's no moves for red here"
   ]
  },
  {
   "cell_type": "code",
   "execution_count": 61,
   "metadata": {},
   "outputs": [
    {
     "data": {
      "text/plain": [
       "\n",
       "        |  15 | 24 | 23 | 22 | 21 | 20 | 19 |     | 18 | 17 | 16 | 15 | 14 | 13 |  X  |\n",
       "        |     |-----------------------------|     |-----------------------------|     |\n",
       "        |     |    |    |    |    |    |    |     |    |    |    |    |    |    |     |\n",
       "        |     |    |    |    |    |    |    |     |    |    |    |    |    |    |     |\n",
       "        |     |    |    |    |    |    |    |     |    |    |    |    |    |    |     |\n",
       "        |     |    |    |    |    |    |    |     |    |    |    |    |    |    |     |\n",
       "        |     |    |    |    |    |    |    |     |    |    |    |    |    |    |     |\n",
       "        |     |-----------------------------|  :  |-----------------------------|     |\n",
       "        |     |    |    |    |    |    |    |     |    |    |    |    |    |    |     |\n",
       "        |     |    |    |    |    |    |    |     |    |    |    |    |    |    |     |\n",
       "        |     |    |    |    |    |    |    |     |    |    |    |    |    |    |     |\n",
       "        |     |    |    |    |    |    |    |     |    |    |    |    |    |    |     |\n",
       "        |     |    |    |    |    |    |    |     |    |    |    |    | O2 |    |     |\n",
       "        |     |-----------------------------|     |-----------------------------|     |\n",
       "        |  O  |  1 |  2 |  3 |  4 |  5 |  6 |     |  7 |  8 |  9 | 10 | 11 | 12 |  13 |\n",
       "        "
      ]
     },
     "execution_count": 61,
     "metadata": {},
     "output_type": "execute_result"
    }
   ],
   "source": [
    "g = Game(seed=1761854789)\n",
    "auto_rollout(g.start(), turns=100)"
   ]
  },
  {
   "cell_type": "code",
   "execution_count": 62,
   "metadata": {},
   "outputs": [
    {
     "data": {
      "text/plain": [
       "\n",
       "        |     | 24 | 23 | 22 | 21 | 20 | 19 |     | 18 | 17 | 16 | 15 | 14 | 13 |  X  |\n",
       "        |     |-----------------------------|     |-----------------------------|     |\n",
       "        |     |    | O1 |    |    |    |    |     |    |    |    |    | O1 | O13|     |\n",
       "        |     |    |    |    |    |    |    |     |    |    |    |    |    |    |     |\n",
       "        |     |    |    |    |    |    |    |     |    |    |    |    |    |    |     |\n",
       "        |     |    |    |    |    |    |    |     |    |    |    |    |    |    |     |\n",
       "        |     |    |    |    |    |    |    |     |    |    |    |    |    |    |     |\n",
       "        |     |-----------------------------|  :  |-----------------------------|     |\n",
       "        |     |    |    |    |    |    |    |     |    |    |    |    |    |    |     |\n",
       "        |     |    |    |    |    |    |    |     |    |    |    |    |    |    |     |\n",
       "        |     |    |    |    |    |    |    |     |    |    |    |    |    |    |     |\n",
       "        |     |    |    |    |    |    |    |     |    |    |    |    |    |    |     |\n",
       "        |     | X14|    |    |    |    |    |     | X1 |    |    |    |    |    |     |\n",
       "        |     |-----------------------------|     |-----------------------------|     |\n",
       "        |  O  |  1 |  2 |  3 |  4 |  5 |  6 |  *  |  7 |  8 |  9 | 10 | 11 | 12 |     |\n",
       "        "
      ]
     },
     "execution_count": 62,
     "metadata": {},
     "output_type": "execute_result"
    }
   ],
   "source": [
    "g = Game()\n",
    "auto_rollout(g.start(), turns=3)"
   ]
  },
  {
   "cell_type": "code",
   "execution_count": 63,
   "metadata": {},
   "outputs": [
    {
     "data": {
      "text/plain": [
       "\n",
       "        |  10 | 24 | 23 | 22 | 21 | 20 | 19 |     | 18 | 17 | 16 | 15 | 14 | 13 |  X  |\n",
       "        |     |-----------------------------|     |-----------------------------|     |\n",
       "        |     | X5 |    |    |    |    |    |     |    |    |    |    |    |    |     |\n",
       "        |     |    |    |    |    |    |    |     |    |    |    |    |    |    |     |\n",
       "        |     |    |    |    |    |    |    |     |    |    |    |    |    |    |     |\n",
       "        |     |    |    |    |    |    |    |     |    |    |    |    |    |    |     |\n",
       "        |     |    |    |    |    |    |    |     |    |    |    |    |    |    |     |\n",
       "        |     |-----------------------------|  :5 |-----------------------------|     |\n",
       "        |     |    |    |    |    |    |    |     |    |    |    |    |    |    |     |\n",
       "        |     |    |    |    |    |    |    |     |    |    |    |    |    |    |     |\n",
       "        |     |    |    |    |    |    |    |     |    |    |    |    |    |    |     |\n",
       "        |     |    |    |    |    |    |    |     |    |    |    |    |    |    |     |\n",
       "        |     |    |    |    |    |    |    |     |    |    |    |    |    |    |     |\n",
       "        |     |-----------------------------|     |-----------------------------|     |\n",
       "        |  O  |  1 |  2 |  3 |  4 |  5 |  6 |     |  7 |  8 |  9 | 10 | 11 | 12 |  15 |\n",
       "        "
      ]
     },
     "execution_count": 63,
     "metadata": {},
     "output_type": "execute_result"
    }
   ],
   "source": [
    "auto_rollout(Game().start(), turns=500)"
   ]
  },
  {
   "cell_type": "code",
   "execution_count": 64,
   "metadata": {},
   "outputs": [
    {
     "name": "stderr",
     "output_type": "stream",
     "text": [
      "100%|██████████| 1000/1000 [00:06<00:00, 147.54it/s]\n"
     ]
    },
    {
     "data": {
      "text/plain": [
       "np.float64(0.513)"
      ]
     },
     "execution_count": 64,
     "metadata": {},
     "output_type": "execute_result"
    }
   ],
   "source": [
    "np.array([rollout(Game().start(), turns=500).pturn for _ in tqdm.trange(1000)]).mean()"
   ]
  },
  {
   "cell_type": "code",
   "execution_count": 78,
   "metadata": {},
   "outputs": [],
   "source": [
    "class Policy:\n",
    "    def make_move(self, game: Game) -> bool:\n",
    "        pass\n",
    "\n",
    "    def play_turn(self, game: Game) -> Game:\n",
    "        game.roll()\n",
    "        logger.debug(f\"t={game.t}, p={game.pturn} rolls {game.dice}\")\n",
    "        for _ in range(len(game.dice)):\n",
    "            if not self._make_move(game):\n",
    "                break\n",
    "        return game\n",
    "\n",
    "class RandomPolicy(Policy):\n",
    "    def _make_move(self, game: Game):\n",
    "        if not game.is_finished():\n",
    "            moves = list(game._enum_valid_moves())\n",
    "            if len(moves) > 0:\n",
    "                pos, steps = random.choice(moves)\n",
    "                logger.debug(f\"t={game.t}, p={game.pturn} moves ({pos}+{steps})\")\n",
    "                game.turn(pos, steps)\n",
    "                return True\n",
    "            else:\n",
    "                logger.debug(f\"t={game.t}, p={game.pturn} has no eligible moves, skipping\")\n",
    "                game.skip()\n",
    "        return False\n",
    "\n",
    "class LazyPolicy(Policy):\n",
    "    def _first_move(self, game: Game) -> Optional[Tuple[int, int]]:\n",
    "        try:\n",
    "            return next(iter(game._enum_valid_moves()))\n",
    "        except StopIteration:\n",
    "            return None\n",
    "\n",
    "    def _make_move(self, game: Game):\n",
    "        if not game.is_finished():\n",
    "            move = self._first_move(game)\n",
    "            if move:\n",
    "                pos, steps = move\n",
    "                logger.debug(f\"t={game.t}, p={game.pturn} moves ({pos}+{steps})\")\n",
    "                game.turn(pos, steps)\n",
    "                return True\n",
    "            else:\n",
    "                logger.debug(f\"t={game.t}, p={game.pturn} has no eligible moves, skipping\")\n",
    "                game.skip()\n",
    "        return False\n",
    "\n",
    "@dataclass\n",
    "class Results:\n",
    "    winner: int\n",
    "    turns: int\n",
    "    reward: int\n",
    "\n",
    "def calc_reward(game: Game) -> int:\n",
    "    opponent = 1 if game.pturn == 0 else 0\n",
    "    return 2 if game.home[opponent] == 0 else 1\n",
    "\n",
    "\n",
    "def tournament(game: Game, player1: Policy, player2: Policy, turns: int = 100) -> Results:\n",
    "    game.start()   \n",
    "    for turn in range(turns):\n",
    "        if game.is_finished():\n",
    "            logger.debug(f\"t={game.t}, game finished, p={game.pturn} wins\")\n",
    "            break\n",
    "        cur_player = player1 if game.pturn == 0 else player2\n",
    "        cur_player.play_turn(game)\n",
    "    return Results(winner=game.pturn, turns=game.t, reward=calc_reward(game))"
   ]
  },
  {
   "cell_type": "code",
   "execution_count": null,
   "metadata": {},
   "outputs": [
    {
     "data": {
      "text/plain": [
       "{'winner': 1, 'turns': 90, 'reward': 1}"
      ]
     },
     "execution_count": 83,
     "metadata": {},
     "output_type": "execute_result"
    }
   ],
   "source": [
    "p1 = LazyPolicy()\n",
    "p2 = LazyPolicy()\n",
    "tournament(Game(), LazyPolicy(), LazyPolicy(), turns=1000)"
   ]
  },
  {
   "cell_type": "code",
   "execution_count": 86,
   "metadata": {},
   "outputs": [
    {
     "name": "stderr",
     "output_type": "stream",
     "text": [
      "100%|██████████| 10000/10000 [00:17<00:00, 574.19it/s]\n"
     ]
    },
    {
     "data": {
      "text/plain": [
       "winner     0.5589\n",
       "turns     91.8149\n",
       "reward     1.0760\n",
       "dtype: float64"
      ]
     },
     "execution_count": 86,
     "metadata": {},
     "output_type": "execute_result"
    }
   ],
   "source": [
    "pd.DataFrame([tournament(Game(), LazyPolicy(), LazyPolicy(), turns=1000).__dict__ for _ in tqdm.trange(10000)]).mean()"
   ]
  },
  {
   "cell_type": "code",
   "execution_count": 87,
   "metadata": {},
   "outputs": [
    {
     "name": "stderr",
     "output_type": "stream",
     "text": [
      "100%|██████████| 10000/10000 [01:07<00:00, 148.44it/s]\n"
     ]
    },
    {
     "data": {
      "text/plain": [
       "winner     0.5025\n",
       "turns     94.0544\n",
       "reward     1.1808\n",
       "dtype: float64"
      ]
     },
     "execution_count": 87,
     "metadata": {},
     "output_type": "execute_result"
    }
   ],
   "source": [
    "pd.DataFrame([tournament(Game(), RandomPolicy(), RandomPolicy(), turns=1000).__dict__ for _ in tqdm.trange(10000)]).mean()"
   ]
  },
  {
   "cell_type": "code",
   "execution_count": 85,
   "metadata": {},
   "outputs": [
    {
     "name": "stderr",
     "output_type": "stream",
     "text": [
      "100%|██████████| 10000/10000 [00:44<00:00, 225.66it/s]\n"
     ]
    },
    {
     "data": {
      "text/plain": [
       "winner     0.5116\n",
       "turns     92.5525\n",
       "reward     1.1385\n",
       "dtype: float64"
      ]
     },
     "execution_count": 85,
     "metadata": {},
     "output_type": "execute_result"
    }
   ],
   "source": [
    "pd.DataFrame([tournament(Game(), RandomPolicy(), LazyPolicy(), turns=1000).__dict__ for _ in tqdm.trange(10000)]).mean()"
   ]
  }
 ],
 "metadata": {
  "kernelspec": {
   "display_name": "XCS234",
   "language": "python",
   "name": "python3"
  },
  "language_info": {
   "codemirror_mode": {
    "name": "ipython",
    "version": 3
   },
   "file_extension": ".py",
   "mimetype": "text/x-python",
   "name": "python",
   "nbconvert_exporter": "python",
   "pygments_lexer": "ipython3",
   "version": "3.10.13"
  }
 },
 "nbformat": 4,
 "nbformat_minor": 2
}
