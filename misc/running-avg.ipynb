{
 "cells": [
  {
   "cell_type": "code",
   "execution_count": 9,
   "metadata": {},
   "outputs": [],
   "source": [
    "# %pip install numpy"
   ]
  },
  {
   "cell_type": "code",
   "execution_count": 10,
   "metadata": {},
   "outputs": [],
   "source": [
    "import numpy as np"
   ]
  },
  {
   "cell_type": "code",
   "execution_count": 11,
   "metadata": {},
   "outputs": [],
   "source": [
    "def calc_avg_naive(input: np.ndarray) -> np.float64:\n",
    "    result = np.float64(0)\n",
    "    for idx in range(input.shape[0]):\n",
    "        result += input[idx] / input.shape[0]\n",
    "    return result"
   ]
  },
  {
   "cell_type": "code",
   "execution_count": 12,
   "metadata": {},
   "outputs": [],
   "source": [
    "def calc_avg_v2(input: np.ndarray) -> np.float64:\n",
    "    input = np.sort(input)\n",
    "    result = np.float64(0)\n",
    "    for idx in range(input.shape[0]):\n",
    "        result += input[idx] / input.shape[0]\n",
    "    return result"
   ]
  },
  {
   "cell_type": "code",
   "execution_count": 13,
   "metadata": {},
   "outputs": [],
   "source": [
    "def calc_avg_v3(iter: np.nditer) -> np.float64:\n",
    "    avg = 0\n",
    "    cnt = 0\n",
    "    for val in iter:\n",
    "        avg = avg * cnt/(cnt+1) + val/(cnt+1)\n",
    "        cnt += 1\n",
    "    return avg"
   ]
  },
  {
   "cell_type": "code",
   "execution_count": 14,
   "metadata": {},
   "outputs": [],
   "source": [
    "def make_test_array(big_val, big_rep, small_val, small_rep):\n",
    "    x1 = np.full(big_rep, fill_value=np.float64(big_val))\n",
    "    x2 = np.full(small_rep, fill_value=np.float64(small_val))\n",
    "    x = np.concat([x1, x2])\n",
    "    return x"
   ]
  },
  {
   "cell_type": "code",
   "execution_count": 15,
   "metadata": {},
   "outputs": [
    {
     "data": {
      "text/plain": [
       "(1000000,)"
      ]
     },
     "execution_count": 15,
     "metadata": {},
     "output_type": "execute_result"
    }
   ],
   "source": [
    "x = make_test_array(big_val=10**20, big_rep=1, small_val=1.0, small_rep=10**6-1)\n",
    "x.shape"
   ]
  },
  {
   "cell_type": "markdown",
   "metadata": {},
   "source": [
    "[2sum algo](https://en.wikipedia.org/wiki/2Sum):"
   ]
  },
  {
   "cell_type": "code",
   "execution_count": 18,
   "metadata": {},
   "outputs": [],
   "source": [
    "import typing as t\n",
    "\n",
    "def two_sum(a: float, b: float) -> t.Tuple[float, float]:\n",
    "    s = a + b\n",
    "    a_virt = s - b\n",
    "    b_virt = s - a_virt\n",
    "    ea = a - a_virt\n",
    "    eb = b - b_virt\n",
    "    e = ea + eb\n",
    "    return s, e"
   ]
  },
  {
   "cell_type": "code",
   "execution_count": 19,
   "metadata": {},
   "outputs": [
    {
     "data": {
      "text/plain": [
       "(1e+30, 1.0)"
      ]
     },
     "execution_count": 19,
     "metadata": {},
     "output_type": "execute_result"
    }
   ],
   "source": [
    "a = 10**30\n",
    "b = 1.0\n",
    "two_sum(a,b)"
   ]
  },
  {
   "cell_type": "code",
   "execution_count": 20,
   "metadata": {},
   "outputs": [],
   "source": [
    "def fast2sum(a: float, b: float, swap: bool = True) -> t.Tuple[float, float]:\n",
    "    if abs(a) < abs(b) and swap:\n",
    "        a, b = b, a\n",
    "    s = a + b\n",
    "    b2 = s - a\n",
    "    e = b - b2\n",
    "    return s, e"
   ]
  },
  {
   "cell_type": "code",
   "execution_count": 21,
   "metadata": {},
   "outputs": [
    {
     "data": {
      "text/plain": [
       "(1e+30, 1.0)"
      ]
     },
     "execution_count": 21,
     "metadata": {},
     "output_type": "execute_result"
    }
   ],
   "source": [
    "fast2sum(a, b, swap=False)"
   ]
  },
  {
   "cell_type": "code",
   "execution_count": 22,
   "metadata": {},
   "outputs": [
    {
     "data": {
      "text/plain": [
       "(1e+30, 0.0)"
      ]
     },
     "execution_count": 22,
     "metadata": {},
     "output_type": "execute_result"
    }
   ],
   "source": [
    "fast2sum(b, a, swap=False)"
   ]
  },
  {
   "cell_type": "code",
   "execution_count": 23,
   "metadata": {},
   "outputs": [
    {
     "data": {
      "text/plain": [
       "(1e+30, 1.0)"
      ]
     },
     "execution_count": 23,
     "metadata": {},
     "output_type": "execute_result"
    }
   ],
   "source": [
    "fast2sum(b, a, swap=True)"
   ]
  },
  {
   "cell_type": "markdown",
   "metadata": {},
   "source": [
    "$$\\bar X_N = \\frac{1}{N} \\sum_{i=1}^N X_i$$\n",
    "$$\\bar X_{N} = \\frac {(N-1)} {N} \\times \\bar X_{N-1} + \\frac 1 N \\times {X_N} $$\n",
    "$$\\bar X_{N} = (\\frac {N} {N} \\times \\bar X_{N-1} - \\frac 1 N \\times \\bar X_{N-1}) + \\frac 1 N \\times {X_N} $$\n",
    "$$\\bar X_{N} = \\bar X_{N-1} + \\frac {X_N - \\bar X_{N-1}} {N}$$"
   ]
  },
  {
   "cell_type": "code",
   "execution_count": 24,
   "metadata": {},
   "outputs": [],
   "source": [
    "def calc_avg_kahan_welford(iter: np.nditer, callback: t.Optional[t.Callable[[float, float], None]] = None, call_freq: int = 1) -> [float, float]:\n",
    "    result = error = 0.0\n",
    "    count = 0\n",
    "    call_ctr = call_freq\n",
    "    for value in iter:\n",
    "        x1, x2 = result * count/(count+1), value / (count+1)\n",
    "        result, error_part = fast2sum(x1, x2)\n",
    "        error += error_part\n",
    "        count += 1\n",
    "        if callback:\n",
    "            call_ctr -= 1\n",
    "            if call_ctr <= 0:\n",
    "                callback(result, error)\n",
    "                call_ctr = call_freq\n",
    "    return result, error"
   ]
  },
  {
   "cell_type": "code",
   "execution_count": 25,
   "metadata": {},
   "outputs": [],
   "source": [
    "def calc_avg_kahan_welford_v2(\n",
    "    iter: np.nditer, \n",
    "    callback: t.Optional[t.Callable[[float, float], None]] = None, \n",
    "    call_freq: int = 1\n",
    ") -> [float, float]:\n",
    "    result = error = 0.0\n",
    "    count = 0\n",
    "    call_ctr = call_freq\n",
    "    for value in iter:\n",
    "        count += 1\n",
    "        delta = (value - result) / count\n",
    "        result, error = fast2sum(result, delta+error, swap=True)\n",
    "        if callback:\n",
    "            call_ctr -= 1\n",
    "            if call_ctr <= 0:\n",
    "                callback(result, error)\n",
    "                call_ctr = call_freq\n",
    "    return result, error"
   ]
  },
  {
   "cell_type": "code",
   "execution_count": 40,
   "metadata": {},
   "outputs": [],
   "source": [
    "x = make_test_array(big_val=10**20, big_rep=1, small_val=1.0, small_rep=10**6-1)"
   ]
  },
  {
   "cell_type": "code",
   "execution_count": 41,
   "metadata": {},
   "outputs": [
    {
     "data": {
      "text/plain": [
       "np.float64(100000000000000.0)"
      ]
     },
     "execution_count": 41,
     "metadata": {},
     "output_type": "execute_result"
    }
   ],
   "source": [
    "calc_avg_naive(x)"
   ]
  },
  {
   "cell_type": "code",
   "execution_count": 42,
   "metadata": {},
   "outputs": [
    {
     "data": {
      "text/plain": [
       "np.float64(100000000000001.0)"
      ]
     },
     "execution_count": 42,
     "metadata": {},
     "output_type": "execute_result"
    }
   ],
   "source": [
    "calc_avg_v2(x)"
   ]
  },
  {
   "cell_type": "code",
   "execution_count": 43,
   "metadata": {},
   "outputs": [
    {
     "data": {
      "text/plain": [
       "np.float64(99999999999999.77)"
      ]
     },
     "execution_count": 43,
     "metadata": {},
     "output_type": "execute_result"
    }
   ],
   "source": [
    "calc_avg_v3(np.nditer(x))"
   ]
  },
  {
   "cell_type": "code",
   "execution_count": 44,
   "metadata": {},
   "outputs": [
    {
     "name": "stdout",
     "output_type": "stream",
     "text": [
      "avg=np.float64(1000000000000013.1), err=np.float64(11.09014612986337)\n",
      "avg=np.float64(500000000000013.1), err=np.float64(11.783290810429856)\n",
      "avg=np.float64(333333333333343.1), err=np.float64(12.188755085205699)\n",
      "avg=np.float64(250000000000005.2), err=np.float64(12.476436740991062)\n",
      "avg=np.float64(200000000000004.16), err=np.float64(12.699580042305662)\n",
      "avg=np.float64(166666666666669.03), err=np.float64(12.881901432432912)\n",
      "avg=np.float64(142857142857141.7), err=np.float64(13.03605199321237)\n",
      "avg=np.float64(124999999999999.72), err=np.float64(13.169583296550895)\n",
      "avg=np.float64(111111111111110.86), err=np.float64(13.287366262762905)\n",
      "avg=np.float64(99999999999999.77), err=np.float64(13.392726722865024)\n"
     ]
    },
    {
     "data": {
      "text/plain": [
       "(np.float64(99999999999999.77), np.float64(13.392726722865024))"
      ]
     },
     "execution_count": 44,
     "metadata": {},
     "output_type": "execute_result"
    }
   ],
   "source": [
    "calc_avg_kahan_welford(\n",
    "    np.nditer(x), \n",
    "    callback = lambda avg,err: print(f\"{avg=}, {err=}\"),\n",
    "    call_freq = len(x) / 10\n",
    ")"
   ]
  },
  {
   "cell_type": "code",
   "execution_count": 45,
   "metadata": {},
   "outputs": [
    {
     "name": "stdout",
     "output_type": "stream",
     "text": [
      "avg=1000000000000001.000000, err=-0.019924\n",
      "avg=500000000000001.000000, err=-0.010029\n",
      "avg=333333333333334.312500, err=0.014098\n",
      "avg=250000000000001.000000, err=-0.005062\n",
      "avg=200000000000001.000000, err=-0.004056\n",
      "avg=166666666666667.656250, err=0.007034\n",
      "avg=142857142857143.843750, err=0.010490\n",
      "avg=125000000000001.000000, err=-0.002541\n",
      "avg=111111111111112.109375, err=-0.000520\n",
      "avg=100000000000001.000000, err=-0.002030\n"
     ]
    },
    {
     "data": {
      "text/plain": [
       "(np.float64(100000000000001.0), np.float64(-0.002029985189437866))"
      ]
     },
     "execution_count": 45,
     "metadata": {},
     "output_type": "execute_result"
    }
   ],
   "source": [
    "calc_avg_kahan_welford_v2(\n",
    "    np.nditer(x), \n",
    "    callback = lambda avg,err: print(f\"{avg=:.6f}, {err=:.6f}\"),\n",
    "    call_freq = len(x) / 10\n",
    ")"
   ]
  },
  {
   "cell_type": "code",
   "execution_count": 37,
   "metadata": {},
   "outputs": [
    {
     "data": {
      "text/plain": [
       "1000000"
      ]
     },
     "execution_count": 37,
     "metadata": {},
     "output_type": "execute_result"
    }
   ],
   "source": [
    "len(x)"
   ]
  },
  {
   "cell_type": "code",
   "execution_count": null,
   "metadata": {},
   "outputs": [],
   "source": [
    "10**20 / 10000000"
   ]
  },
  {
   "cell_type": "code",
   "execution_count": null,
   "metadata": {},
   "outputs": [],
   "source": [
    "(len(x) - 1)"
   ]
  },
  {
   "cell_type": "code",
   "execution_count": null,
   "metadata": {},
   "outputs": [],
   "source": [
    "10**20/10000000 + 9999999/10000000"
   ]
  },
  {
   "cell_type": "code",
   "execution_count": null,
   "metadata": {},
   "outputs": [],
   "source": [
    "two_sum(10**20/10000000, 9999999/10000000)"
   ]
  },
  {
   "cell_type": "code",
   "execution_count": null,
   "metadata": {},
   "outputs": [],
   "source": [
    "fast2sum(10**20/10000000, 9999999/10000000)"
   ]
  },
  {
   "cell_type": "code",
   "execution_count": null,
   "metadata": {},
   "outputs": [],
   "source": [
    "1 - (9999999 / 10000000)"
   ]
  },
  {
   "cell_type": "code",
   "execution_count": null,
   "metadata": {},
   "outputs": [],
   "source": [
    "sum(int(item) for item in x.tolist()) / len(x)"
   ]
  },
  {
   "cell_type": "code",
   "execution_count": null,
   "metadata": {},
   "outputs": [],
   "source": [
    "x.astype('int').sum()/len(x)"
   ]
  },
  {
   "cell_type": "code",
   "execution_count": null,
   "metadata": {},
   "outputs": [],
   "source": [
    "((2 * 10**-30 + 10**30) - 10**30) - 10**-30"
   ]
  },
  {
   "cell_type": "code",
   "execution_count": null,
   "metadata": {},
   "outputs": [],
   "source": [
    "class DDouble:\n",
    "    def __init__(self, val: float = 0.0, err: float = 0.0):\n",
    "        self.val = val\n",
    "        self.err = err\n",
    "\n",
    "    def __add__(self, y: \"DDouble\") -> \"DDouble\":\n",
    "        self.val, err = two_sum(self.val, y.val)\n",
    "        self.err += err\n",
    "        self.err += y.err\n",
    "        return self\n",
    "    \n",
    "    def __sub__(self, y: \"DDouble\") -> \"DDouble\":\n",
    "        return self.__add__(DDouble(val=-y.val, err=-y.err))\n",
    "    \n",
    "    def __repr__(self) -> str:\n",
    "        return f\"({self.val}, {self.err})\""
   ]
  },
  {
   "cell_type": "code",
   "execution_count": null,
   "metadata": {},
   "outputs": [],
   "source": [
    "((DDouble(2*10**-30) + DDouble(10**30)) - DDouble(10**30)) - DDouble(10**-30)"
   ]
  },
  {
   "cell_type": "code",
   "execution_count": null,
   "metadata": {},
   "outputs": [],
   "source": [
    "two_sum(2 * 10**-30, 10**30)"
   ]
  },
  {
   "cell_type": "code",
   "execution_count": null,
   "metadata": {},
   "outputs": [],
   "source": [
    "from decimal import Decimal"
   ]
  },
  {
   "cell_type": "code",
   "execution_count": null,
   "metadata": {},
   "outputs": [],
   "source": [
    "x1 = Decimal(10.0**20)\n",
    "x1.as_tuple()"
   ]
  },
  {
   "cell_type": "code",
   "execution_count": null,
   "metadata": {},
   "outputs": [],
   "source": [
    "x2 = Decimal(1.0)\n",
    "x2.as_tuple()"
   ]
  },
  {
   "cell_type": "code",
   "execution_count": null,
   "metadata": {},
   "outputs": [],
   "source": [
    "10.0**20 + 1.0"
   ]
  },
  {
   "cell_type": "code",
   "execution_count": null,
   "metadata": {},
   "outputs": [],
   "source": [
    "x1 + x2"
   ]
  },
  {
   "cell_type": "code",
   "execution_count": null,
   "metadata": {},
   "outputs": [],
   "source": [
    "Decimal(0.1).as_tuple()"
   ]
  },
  {
   "cell_type": "code",
   "execution_count": null,
   "metadata": {},
   "outputs": [],
   "source": [
    "Decimal(154.3).as_tuple()"
   ]
  },
  {
   "cell_type": "code",
   "execution_count": null,
   "metadata": {},
   "outputs": [],
   "source": []
  }
 ],
 "metadata": {
  "kernelspec": {
   "display_name": "Python 3",
   "language": "python",
   "name": "python3"
  },
  "language_info": {
   "codemirror_mode": {
    "name": "ipython",
    "version": 3
   },
   "file_extension": ".py",
   "mimetype": "text/x-python",
   "name": "python",
   "nbconvert_exporter": "python",
   "pygments_lexer": "ipython3",
   "version": "3.9.2"
  }
 },
 "nbformat": 4,
 "nbformat_minor": 2
}
