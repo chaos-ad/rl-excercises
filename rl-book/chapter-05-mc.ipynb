{
 "cells": [
  {
   "cell_type": "code",
   "execution_count": 1,
   "metadata": {},
   "outputs": [],
   "source": [
    "# %pip install ipywidgets"
   ]
  },
  {
   "cell_type": "code",
   "execution_count": 2,
   "metadata": {},
   "outputs": [],
   "source": [
    "# !jupyter nbextension enable --py widgetsnbextension"
   ]
  },
  {
   "cell_type": "code",
   "execution_count": 3,
   "metadata": {
    "notebookRunGroups": {
     "groupValue": "1"
    }
   },
   "outputs": [],
   "source": [
    "from typing import *\n",
    "\n",
    "import logging\n",
    "import numpy as np\n",
    "import pandas as pd\n",
    "import random\n",
    "import matplotlib.pyplot as plt\n",
    "import tqdm.auto as tqdm"
   ]
  },
  {
   "cell_type": "markdown",
   "metadata": {},
   "source": [
    "### Board, game logic"
   ]
  },
  {
   "cell_type": "code",
   "execution_count": 4,
   "metadata": {},
   "outputs": [],
   "source": [
    "SUITES = {\n",
    "    0: '♣',\n",
    "    1: '♦',\n",
    "    2: '♥',\n",
    "    3: '♠'\n",
    "}"
   ]
  },
  {
   "cell_type": "code",
   "execution_count": 5,
   "metadata": {},
   "outputs": [],
   "source": [
    "FACES = {\n",
    "    v-2: str(v) for v in range(2,11)\n",
    "}\n",
    "FACES[9] = 'J'\n",
    "FACES[10] = 'Q'\n",
    "FACES[11] = 'K'\n",
    "FACES[12] = 'A'"
   ]
  },
  {
   "cell_type": "code",
   "execution_count": 6,
   "metadata": {},
   "outputs": [],
   "source": [
    "class Card:\n",
    "    def __init__(self, card_id: Optional[int] = None):\n",
    "        self.id = card_id if card_id is not None else random.randint(0, 51)\n",
    "\n",
    "    def get_id(self):\n",
    "        return self.id\n",
    "\n",
    "    def get_value(self):\n",
    "        \n",
    "        value = 2 + self.id % 13\n",
    "        if value == 13:\n",
    "            value \n",
    "        return value\n",
    "\n",
    "    def get_suite(self):\n",
    "        return self.id // 13\n",
    "    \n",
    "    def get_face(self):\n",
    "        return self.id % 13\n",
    "\n",
    "    def get_value(self):\n",
    "        if self.get_face() == 12:\n",
    "            return 11\n",
    "        return min(10, 2 + self.get_face())\n",
    "\n",
    "    def __repr__(self) -> str:\n",
    "        return FACES[self.id % 13] + SUITES[self.id // 13]\n",
    "    \n",
    "    @staticmethod\n",
    "    def random(self) -> \"Card\":\n",
    "        return Card(random.randint(0, 51))"
   ]
  },
  {
   "cell_type": "code",
   "execution_count": 7,
   "metadata": {},
   "outputs": [],
   "source": [
    "# deck = []\n",
    "# for i in range(52):\n",
    "#     card = Card(i)\n",
    "#     deck.append(card)"
   ]
  },
  {
   "cell_type": "code",
   "execution_count": 8,
   "metadata": {},
   "outputs": [],
   "source": [
    "# deck_pd = pd.DataFrame([\n",
    "#     {'id': card.get_id(), 'suite': card.get_suite(), 'face': card.get_face(), 'value': card.get_value(), 'rep': card} for card in deck\n",
    "# ]).set_index('id')\n",
    "# deck_pd"
   ]
  },
  {
   "cell_type": "code",
   "execution_count": 9,
   "metadata": {},
   "outputs": [],
   "source": [
    "class Hand:\n",
    "    def __init__(self, *cards):\n",
    "        self.cards = list(cards)\n",
    "        self.usable_ace = False\n",
    "        self.value = None\n",
    "        self._update()\n",
    "\n",
    "    def _update(self):\n",
    "        aces = 0\n",
    "        value = 0\n",
    "        for card in self.cards:\n",
    "            value += card.get_value()\n",
    "            if card.get_value() == 11:\n",
    "                aces += 1\n",
    "        if aces > 0:\n",
    "            if value > 21:\n",
    "                value -= 10 # count one ace as 1\n",
    "                aces -= 1\n",
    "        \n",
    "        self.value = value\n",
    "        self.usable_ace = aces > 0\n",
    "\n",
    "    def add(self, card: Card):\n",
    "        self.cards.append(card)\n",
    "        self._update()\n",
    "\n",
    "    def has_usable_ace(self):\n",
    "        return self.usable_ace\n",
    "    \n",
    "    def get_value(self):\n",
    "        return self.value\n",
    "\n",
    "    def __repr__(self):\n",
    "        return \"[%s]=%s\" % ((\",\".join(map(str, self.cards))), self.get_value())\n",
    "    \n",
    "    def __len__(self):\n",
    "        return len(self.cards)"
   ]
  },
  {
   "cell_type": "code",
   "execution_count": 10,
   "metadata": {},
   "outputs": [
    {
     "data": {
      "text/plain": [
       "[A♣,A♦,A♥]=23"
      ]
     },
     "execution_count": 10,
     "metadata": {},
     "output_type": "execute_result"
    }
   ],
   "source": [
    "h = Hand(Card(12), Card(25), Card(38))\n",
    "h"
   ]
  },
  {
   "cell_type": "code",
   "execution_count": 11,
   "metadata": {},
   "outputs": [
    {
     "data": {
      "text/plain": [
       "[A♣,2♣,2♦,2♥,4♥,9♥]=20"
      ]
     },
     "execution_count": 11,
     "metadata": {},
     "output_type": "execute_result"
    }
   ],
   "source": [
    "h = Hand(Card(12), Card(0), Card(13), Card(26), Card(28), Card(33))\n",
    "h"
   ]
  },
  {
   "cell_type": "code",
   "execution_count": 12,
   "metadata": {},
   "outputs": [
    {
     "data": {
      "text/plain": [
       "False"
      ]
     },
     "execution_count": 12,
     "metadata": {},
     "output_type": "execute_result"
    }
   ],
   "source": [
    "h.has_usable_ace()"
   ]
  },
  {
   "cell_type": "code",
   "execution_count": 244,
   "metadata": {},
   "outputs": [],
   "source": [
    "from dataclasses import dataclass\n",
    "from enum import Enum\n",
    "\n",
    "class Game:\n",
    "    class Step(Enum):\n",
    "        IDLE = \"idle\"\n",
    "        STARTED = \"started\"\n",
    "        FINISHED = \"finished\"\n",
    "\n",
    "    def __init__(self, seed = None, dealer_card: Optional[Card] = None, player_hand: Optional[Hand] = None, delay_start: bool = False):\n",
    "        self.seed = random.randint(0, 2**32-1) if seed is None else seed\n",
    "        random.seed(self.seed)\n",
    "        np.random.seed(self.seed)\n",
    "        self.step = Game.Step.IDLE\n",
    "        self.reward = None\n",
    "        self.dealer = Hand(dealer_card) if dealer_card else Hand(Card())\n",
    "        if player_hand and len(player_hand.cards) > 2:\n",
    "            raise RuntimeError(\"Invalid initialization hand\")\n",
    "        self.player = player_hand if player_hand else Hand()\n",
    "        while len(self.player) < 2:\n",
    "            self.player.add(Card())\n",
    "        if not delay_start:\n",
    "            self.start()\n",
    "    \n",
    "    def start(self) -> \"Game\":\n",
    "        if self.step != Game.Step.IDLE:\n",
    "            raise RuntimeError(\"Invalid action\")\n",
    "        self.step = Game.Step.STARTED\n",
    "        if self.player.get_value() == 21:\n",
    "            self.dealer.add(Card())\n",
    "            if self.dealer.get_value() == 21:\n",
    "                self._draw()\n",
    "            else:\n",
    "                self._win()\n",
    "        return self\n",
    "\n",
    "    def _finish(self, reward: int):\n",
    "        self.step = Game.Step.FINISHED\n",
    "        self.reward = reward\n",
    "\n",
    "    def _win(self):\n",
    "        self._finish(reward=1)\n",
    "    \n",
    "    def _draw(self):\n",
    "        self._finish(reward=0)\n",
    "    \n",
    "    def _lose(self):\n",
    "        self._finish(reward=-1)\n",
    "\n",
    "    def get_state(self) -> Dict[str, Any]:\n",
    "        result = {'seed': self.seed, 'step': self.step}\n",
    "        result['dealer'] = self.dealer\n",
    "        result['player'] = self.player\n",
    "        if self.reward is not None:\n",
    "            result['reward'] = self.reward\n",
    "        return result\n",
    "\n",
    "    def is_finished(self) -> bool:\n",
    "        return self.step == Game.Step.FINISHED\n",
    "\n",
    "    def get_reward(self) -> int:\n",
    "        if self.step != Game.Step.FINISHED:\n",
    "            raise RuntimeError(\"Game is not finished yet\")\n",
    "        return self.reward\n",
    "\n",
    "    def hit(self) -> \"Game\":\n",
    "        if self.step != Game.Step.STARTED:\n",
    "            raise RuntimeError(\"Invalid action\")\n",
    "        self.player.add(Card())\n",
    "        if self.player.get_value() > 21:\n",
    "            self._lose()\n",
    "        return self\n",
    "    \n",
    "    def stick(self) -> \"Game\":\n",
    "        if self.step != Game.Step.STARTED:\n",
    "            raise RuntimeError(\"Invalid action\")\n",
    "\n",
    "        while self.dealer.get_value() < 17:\n",
    "            self.dealer.add(Card())\n",
    "        \n",
    "        if self.dealer.get_value() > 21:\n",
    "            self._win()\n",
    "        elif self.dealer.get_value() < self.player.get_value():\n",
    "            self._win()\n",
    "        elif self.dealer.get_value() > self.player.get_value():\n",
    "            self._lose()\n",
    "        else:\n",
    "            self._draw()\n",
    "        return self\n",
    "\n",
    "    def __repr__(self):\n",
    "        return str(self.get_state())"
   ]
  },
  {
   "cell_type": "code",
   "execution_count": 172,
   "metadata": {},
   "outputs": [
    {
     "data": {
      "text/plain": [
       "{'seed': 519605348, 'step': <Step.STARTED: 'started'>, 'dealer': [K♣]=10, 'player': [J♣,8♣]=18}"
      ]
     },
     "execution_count": 172,
     "metadata": {},
     "output_type": "execute_result"
    }
   ],
   "source": [
    "Game()"
   ]
  },
  {
   "cell_type": "code",
   "execution_count": 173,
   "metadata": {},
   "outputs": [
    {
     "data": {
      "text/plain": [
       "{'seed': 809289762, 'step': <Step.STARTED: 'started'>, 'dealer': [Q♠]=10, 'player': [2♥,9♠]=11}"
      ]
     },
     "execution_count": 173,
     "metadata": {},
     "output_type": "execute_result"
    }
   ],
   "source": [
    "Game(809289762)"
   ]
  },
  {
   "cell_type": "code",
   "execution_count": 174,
   "metadata": {},
   "outputs": [
    {
     "data": {
      "text/plain": [
       "{'seed': 809289762, 'step': <Step.FINISHED: 'finished'>, 'dealer': [Q♠,K♣]=20, 'player': [2♥,9♠]=11, 'reward': -1}"
      ]
     },
     "execution_count": 174,
     "metadata": {},
     "output_type": "execute_result"
    }
   ],
   "source": [
    "Game(809289762).stick()"
   ]
  },
  {
   "cell_type": "code",
   "execution_count": 175,
   "metadata": {},
   "outputs": [
    {
     "data": {
      "text/plain": [
       "{'seed': 809289762, 'step': <Step.STARTED: 'started'>, 'dealer': [Q♠]=10, 'player': [2♥,9♠,K♣]=21}"
      ]
     },
     "execution_count": 175,
     "metadata": {},
     "output_type": "execute_result"
    }
   ],
   "source": [
    "Game(809289762).hit()"
   ]
  },
  {
   "cell_type": "code",
   "execution_count": 176,
   "metadata": {},
   "outputs": [
    {
     "data": {
      "text/plain": [
       "{'seed': 809289762, 'step': <Step.FINISHED: 'finished'>, 'dealer': [Q♠,6♣,10♣]=26, 'player': [2♥,9♠,K♣]=21, 'reward': 1}"
      ]
     },
     "execution_count": 176,
     "metadata": {},
     "output_type": "execute_result"
    }
   ],
   "source": [
    "Game(809289762).hit().stick()"
   ]
  },
  {
   "cell_type": "code",
   "execution_count": 177,
   "metadata": {},
   "outputs": [
    {
     "data": {
      "text/plain": [
       "{'seed': 1014215201, 'step': <Step.FINISHED: 'finished'>, 'dealer': [A♣,9♥]=20, 'player': [A♦,K♦]=21, 'reward': 1}"
      ]
     },
     "execution_count": 177,
     "metadata": {},
     "output_type": "execute_result"
    }
   ],
   "source": [
    "Game(dealer_card=Card(12), player_hand=Hand(Card(25), Card(24)))"
   ]
  },
  {
   "cell_type": "code",
   "execution_count": 178,
   "metadata": {},
   "outputs": [
    {
     "data": {
      "text/plain": [
       "{'seed': 201771888, 'step': <Step.FINISHED: 'finished'>, 'dealer': [A♣,3♠]=14, 'player': [A♦,K♦]=21, 'reward': 1}"
      ]
     },
     "execution_count": 178,
     "metadata": {},
     "output_type": "execute_result"
    }
   ],
   "source": [
    "Game(seed=201771888, dealer_card=Card(12), player_hand=Hand(Card(25), Card(24)))"
   ]
  },
  {
   "cell_type": "code",
   "execution_count": 179,
   "metadata": {},
   "outputs": [
    {
     "data": {
      "text/plain": [
       "{'seed': 201771888, 'step': <Step.IDLE: 'idle'>, 'dealer': [A♣]=11, 'player': [A♦,K♦]=21}"
      ]
     },
     "execution_count": 179,
     "metadata": {},
     "output_type": "execute_result"
    }
   ],
   "source": [
    "Game(seed=201771888, dealer_card=Card(12), player_hand=Hand(Card(25), Card(24)), delay_start=True)"
   ]
  },
  {
   "cell_type": "code",
   "execution_count": 180,
   "metadata": {},
   "outputs": [
    {
     "data": {
      "text/plain": [
       "{'seed': 201771888, 'step': <Step.FINISHED: 'finished'>, 'dealer': [A♣,3♠]=14, 'player': [A♦,K♦]=21, 'reward': 1}"
      ]
     },
     "execution_count": 180,
     "metadata": {},
     "output_type": "execute_result"
    }
   ],
   "source": [
    "Game(seed=201771888, dealer_card=Card(12), player_hand=Hand(Card(25), Card(24)), delay_start=True).start()"
   ]
  },
  {
   "cell_type": "code",
   "execution_count": 181,
   "metadata": {},
   "outputs": [
    {
     "data": {
      "text/plain": [
       "{'seed': 2770671493, 'step': <Step.FINISHED: 'finished'>, 'dealer': [A♣,K♣]=21, 'player': [A♦,K♦]=21, 'reward': 0}"
      ]
     },
     "execution_count": 181,
     "metadata": {},
     "output_type": "execute_result"
    }
   ],
   "source": [
    "Game(seed=2770671493, dealer_card=Card(12), player_hand=Hand(Card(25), Card(24)))"
   ]
  },
  {
   "cell_type": "markdown",
   "metadata": {},
   "source": [
    "### Policy end evaluation framework"
   ]
  },
  {
   "cell_type": "code",
   "execution_count": 182,
   "metadata": {},
   "outputs": [],
   "source": [
    "class HitUntilPolicy:\n",
    "    def __init__(self, min_value=20):\n",
    "        self.min_value = min_value\n",
    "\n",
    "    def play(self, game: Game):\n",
    "        while not game.is_finished():\n",
    "            if game.get_state()['player'].get_value() >= self.min_value:\n",
    "                game.stick()\n",
    "            else:\n",
    "                game.hit()\n"
   ]
  },
  {
   "cell_type": "code",
   "execution_count": 183,
   "metadata": {},
   "outputs": [],
   "source": [
    "p = HitUntilPolicy()"
   ]
  },
  {
   "cell_type": "code",
   "execution_count": 184,
   "metadata": {},
   "outputs": [
    {
     "data": {
      "text/plain": [
       "{'seed': 2598249481, 'step': <Step.FINISHED: 'finished'>, 'dealer': [9♥,A♦]=20, 'player': [Q♥,6♠,2♠,2♣]=20, 'reward': 0}"
      ]
     },
     "execution_count": 184,
     "metadata": {},
     "output_type": "execute_result"
    }
   ],
   "source": [
    "g = Game(2598249481)\n",
    "p.play(g)\n",
    "g"
   ]
  },
  {
   "cell_type": "code",
   "execution_count": 185,
   "metadata": {},
   "outputs": [
    {
     "data": {
      "text/plain": [
       "{'seed': 3792117417, 'step': <Step.FINISHED: 'finished'>, 'dealer': [J♥,4♣,5♠]=19, 'player': [J♥,3♦,8♥]=21, 'reward': 1}"
      ]
     },
     "execution_count": 185,
     "metadata": {},
     "output_type": "execute_result"
    }
   ],
   "source": [
    "g = Game()\n",
    "p.play(g)\n",
    "g"
   ]
  },
  {
   "cell_type": "markdown",
   "metadata": {},
   "source": [
    "### Approximate state values:"
   ]
  },
  {
   "cell_type": "code",
   "execution_count": 186,
   "metadata": {},
   "outputs": [],
   "source": [
    "import collections"
   ]
  },
  {
   "cell_type": "code",
   "execution_count": 272,
   "metadata": {},
   "outputs": [],
   "source": [
    "def get_state_key(game: Game):\n",
    "    return (game.dealer.get_value(), game.player.get_value(), game.player.has_usable_ace())"
   ]
  },
  {
   "cell_type": "code",
   "execution_count": 273,
   "metadata": {},
   "outputs": [],
   "source": [
    "def exploring_starts_eval(policy_name, policy, iterations=100):\n",
    "    state_values = collections.defaultdict(collections.Counter)\n",
    "    pbar = tqdm.tqdm(total=13*13*13*iterations, desc=f\"evaluating {policy_name}...\")\n",
    "    for dcard in range(13):\n",
    "        for pcard1 in range(13):\n",
    "            for pcard2 in range(13):\n",
    "                for _ in range(iterations):\n",
    "                    game = Game(dealer_card=Card(dcard), player_hand=Hand(Card(pcard1), Card(pcard2)), delay_start=True)\n",
    "                    state_key = get_state_key(game)\n",
    "                    policy.play(game.start())\n",
    "                    state_values[state_key]['episodes'] += 1\n",
    "                    state_values[state_key]['reward'] += game.get_reward()\n",
    "                    pbar.update(1)\n",
    "    pbar.close()\n",
    "    return state_values"
   ]
  },
  {
   "cell_type": "code",
   "execution_count": 274,
   "metadata": {},
   "outputs": [
    {
     "data": {
      "application/vnd.jupyter.widget-view+json": {
       "model_id": "741afb3c9fa44ac0a70fef8345980c53",
       "version_major": 2,
       "version_minor": 0
      },
      "text/plain": [
       "evaluating min14...:   0%|          | 0/219700 [00:00<?, ?it/s]"
      ]
     },
     "metadata": {},
     "output_type": "display_data"
    },
    {
     "data": {
      "application/vnd.jupyter.widget-view+json": {
       "model_id": "09eaccbbba824a4f8138fdc83f8ebf42",
       "version_major": 2,
       "version_minor": 0
      },
      "text/plain": [
       "evaluating min15...:   0%|          | 0/219700 [00:00<?, ?it/s]"
      ]
     },
     "metadata": {},
     "output_type": "display_data"
    },
    {
     "data": {
      "application/vnd.jupyter.widget-view+json": {
       "model_id": "da35cc8f66a94a29baf56246e046f0a8",
       "version_major": 2,
       "version_minor": 0
      },
      "text/plain": [
       "evaluating min16...:   0%|          | 0/219700 [00:00<?, ?it/s]"
      ]
     },
     "metadata": {},
     "output_type": "display_data"
    },
    {
     "ename": "KeyboardInterrupt",
     "evalue": "",
     "output_type": "error",
     "traceback": [
      "\u001b[0;31m---------------------------------------------------------------------------\u001b[0m",
      "\u001b[0;31mKeyboardInterrupt\u001b[0m                         Traceback (most recent call last)",
      "Cell \u001b[0;32mIn[274], line 4\u001b[0m\n\u001b[1;32m      2\u001b[0m \u001b[38;5;28;01mfor\u001b[39;00m min_value \u001b[38;5;129;01min\u001b[39;00m \u001b[38;5;28mrange\u001b[39m(\u001b[38;5;241m14\u001b[39m, \u001b[38;5;241m21\u001b[39m):\n\u001b[1;32m      3\u001b[0m     policy_name \u001b[38;5;241m=\u001b[39m \u001b[38;5;124mf\u001b[39m\u001b[38;5;124m\"\u001b[39m\u001b[38;5;124mmin\u001b[39m\u001b[38;5;132;01m{\u001b[39;00mmin_value\u001b[38;5;132;01m}\u001b[39;00m\u001b[38;5;124m\"\u001b[39m\n\u001b[0;32m----> 4\u001b[0m     policy_stats[policy_name] \u001b[38;5;241m=\u001b[39m \u001b[43mexploring_starts_eval\u001b[49m\u001b[43m(\u001b[49m\u001b[43mpolicy_name\u001b[49m\u001b[43m,\u001b[49m\u001b[43m \u001b[49m\u001b[43mHitUntilPolicy\u001b[49m\u001b[43m(\u001b[49m\u001b[43mmin_value\u001b[49m\u001b[38;5;241;43m=\u001b[39;49m\u001b[43mmin_value\u001b[49m\u001b[43m)\u001b[49m\u001b[43m)\u001b[49m\n",
      "Cell \u001b[0;32mIn[273], line 10\u001b[0m, in \u001b[0;36mexploring_starts_eval\u001b[0;34m(policy_name, policy, iterations)\u001b[0m\n\u001b[1;32m      8\u001b[0m game \u001b[38;5;241m=\u001b[39m Game(dealer_card\u001b[38;5;241m=\u001b[39mCard(dcard), player_hand\u001b[38;5;241m=\u001b[39mHand(Card(pcard1), Card(pcard2)), delay_start\u001b[38;5;241m=\u001b[39m\u001b[38;5;28;01mTrue\u001b[39;00m)\n\u001b[1;32m      9\u001b[0m state_key \u001b[38;5;241m=\u001b[39m get_state_key(game)\n\u001b[0;32m---> 10\u001b[0m \u001b[43mpolicy\u001b[49m\u001b[38;5;241;43m.\u001b[39;49m\u001b[43mplay\u001b[49m\u001b[43m(\u001b[49m\u001b[43mgame\u001b[49m\u001b[38;5;241;43m.\u001b[39;49m\u001b[43mstart\u001b[49m\u001b[43m(\u001b[49m\u001b[43m)\u001b[49m\u001b[43m)\u001b[49m\n\u001b[1;32m     11\u001b[0m state_values[state_key][\u001b[38;5;124m'\u001b[39m\u001b[38;5;124mepisodes\u001b[39m\u001b[38;5;124m'\u001b[39m] \u001b[38;5;241m+\u001b[39m\u001b[38;5;241m=\u001b[39m \u001b[38;5;241m1\u001b[39m\n\u001b[1;32m     12\u001b[0m state_values[state_key][\u001b[38;5;124m'\u001b[39m\u001b[38;5;124mreward\u001b[39m\u001b[38;5;124m'\u001b[39m] \u001b[38;5;241m+\u001b[39m\u001b[38;5;241m=\u001b[39m game\u001b[38;5;241m.\u001b[39mget_reward()\n",
      "Cell \u001b[0;32mIn[182], line 7\u001b[0m, in \u001b[0;36mHitUntilPolicy.play\u001b[0;34m(self, game)\u001b[0m\n\u001b[1;32m      5\u001b[0m \u001b[38;5;28;01mdef\u001b[39;00m \u001b[38;5;21mplay\u001b[39m(\u001b[38;5;28mself\u001b[39m, game: Game):\n\u001b[1;32m      6\u001b[0m     \u001b[38;5;28;01mwhile\u001b[39;00m \u001b[38;5;129;01mnot\u001b[39;00m game\u001b[38;5;241m.\u001b[39mis_finished():\n\u001b[0;32m----> 7\u001b[0m         \u001b[38;5;28;01mif\u001b[39;00m \u001b[43mgame\u001b[49m\u001b[38;5;241;43m.\u001b[39;49m\u001b[43mget_state\u001b[49m\u001b[43m(\u001b[49m\u001b[43m)\u001b[49m[\u001b[38;5;124m'\u001b[39m\u001b[38;5;124mplayer\u001b[39m\u001b[38;5;124m'\u001b[39m]\u001b[38;5;241m.\u001b[39mget_value() \u001b[38;5;241m>\u001b[39m\u001b[38;5;241m=\u001b[39m \u001b[38;5;28mself\u001b[39m\u001b[38;5;241m.\u001b[39mmin_value:\n\u001b[1;32m      8\u001b[0m             game\u001b[38;5;241m.\u001b[39mstick()\n\u001b[1;32m      9\u001b[0m         \u001b[38;5;28;01melse\u001b[39;00m:\n",
      "Cell \u001b[0;32mIn[244], line 50\u001b[0m, in \u001b[0;36mGame.get_state\u001b[0;34m(self)\u001b[0m\n\u001b[1;32m     47\u001b[0m \u001b[38;5;28;01mdef\u001b[39;00m \u001b[38;5;21m_lose\u001b[39m(\u001b[38;5;28mself\u001b[39m):\n\u001b[1;32m     48\u001b[0m     \u001b[38;5;28mself\u001b[39m\u001b[38;5;241m.\u001b[39m_finish(reward\u001b[38;5;241m=\u001b[39m\u001b[38;5;241m-\u001b[39m\u001b[38;5;241m1\u001b[39m)\n\u001b[0;32m---> 50\u001b[0m \u001b[38;5;28;01mdef\u001b[39;00m \u001b[38;5;21mget_state\u001b[39m(\u001b[38;5;28mself\u001b[39m) \u001b[38;5;241m-\u001b[39m\u001b[38;5;241m>\u001b[39m Dict[\u001b[38;5;28mstr\u001b[39m, Any]:\n\u001b[1;32m     51\u001b[0m     result \u001b[38;5;241m=\u001b[39m {\u001b[38;5;124m'\u001b[39m\u001b[38;5;124mseed\u001b[39m\u001b[38;5;124m'\u001b[39m: \u001b[38;5;28mself\u001b[39m\u001b[38;5;241m.\u001b[39mseed, \u001b[38;5;124m'\u001b[39m\u001b[38;5;124mstep\u001b[39m\u001b[38;5;124m'\u001b[39m: \u001b[38;5;28mself\u001b[39m\u001b[38;5;241m.\u001b[39mstep}\n\u001b[1;32m     52\u001b[0m     result[\u001b[38;5;124m'\u001b[39m\u001b[38;5;124mdealer\u001b[39m\u001b[38;5;124m'\u001b[39m] \u001b[38;5;241m=\u001b[39m \u001b[38;5;28mself\u001b[39m\u001b[38;5;241m.\u001b[39mdealer\n",
      "File \u001b[0;32m~/.local/lib/python3.9/site-packages/debugpy/_vendored/pydevd/_pydevd_bundle/pydevd_trace_dispatch_regular.py:404\u001b[0m, in \u001b[0;36mThreadTracer.__call__\u001b[0;34m(self, frame, event, arg)\u001b[0m\n\u001b[1;32m    401\u001b[0m \u001b[38;5;28;01mif\u001b[39;00m frame_cache_key \u001b[38;5;129;01min\u001b[39;00m cache_skips:\n\u001b[1;32m    402\u001b[0m     \u001b[38;5;28;01mif\u001b[39;00m \u001b[38;5;129;01mnot\u001b[39;00m is_stepping:\n\u001b[1;32m    403\u001b[0m         \u001b[38;5;66;03m# if DEBUG: print('skipped: trace_dispatch (cache hit)', frame_cache_key, frame.f_lineno, event, frame.f_code.co_name)\u001b[39;00m\n\u001b[0;32m--> 404\u001b[0m         \u001b[38;5;28;01mreturn\u001b[39;00m \u001b[38;5;28;01mNone\u001b[39;00m \u001b[38;5;28;01mif\u001b[39;00m \u001b[43mevent\u001b[49m\u001b[43m \u001b[49m\u001b[38;5;241;43m==\u001b[39;49m\u001b[43m \u001b[49m\u001b[38;5;124;43m\"\u001b[39;49m\u001b[38;5;124;43mcall\u001b[39;49m\u001b[38;5;124;43m\"\u001b[39;49m \u001b[38;5;28;01melse\u001b[39;00m NO_FTRACE\n\u001b[1;32m    405\u001b[0m     \u001b[38;5;28;01melse\u001b[39;00m:\n\u001b[1;32m    406\u001b[0m         \u001b[38;5;66;03m# When stepping we can't take into account caching based on the breakpoints (only global filtering).\u001b[39;00m\n\u001b[1;32m    407\u001b[0m         \u001b[38;5;28;01mif\u001b[39;00m cache_skips\u001b[38;5;241m.\u001b[39mget(frame_cache_key) \u001b[38;5;241m==\u001b[39m \u001b[38;5;241m1\u001b[39m:\n",
      "\u001b[0;31mKeyboardInterrupt\u001b[0m: "
     ]
    }
   ],
   "source": [
    "policy_stats = {}\n",
    "for min_value in range(14, 21):\n",
    "    policy_name = f\"min{min_value}\"\n",
    "    policy_stats[policy_name] = exploring_starts_eval(policy_name, HitUntilPolicy(min_value=min_value))"
   ]
  },
  {
   "cell_type": "code",
   "execution_count": 191,
   "metadata": {},
   "outputs": [],
   "source": [
    "# results = []\n",
    "# for policy_name, stats in policy_stats.items():\n",
    "#     for (dv, pv, ua), info in stats.items():\n",
    "#         results.append({\n",
    "#             'policy': policy_name, \n",
    "#             'dealer_value': dv, \n",
    "#             'player_value': pv, \n",
    "#             'usable_ace': bool(ua), \n",
    "#             'episodes': info['episodes'], \n",
    "#             'reward': info['reward']\n",
    "#         })\n",
    "\n",
    "# results = pd.DataFrame(results)\n",
    "# results.to_csv(\"./chapter-05-blackjack-results.tsv\", sep=\"\\t\", index=False)\n",
    "# results"
   ]
  },
  {
   "attachments": {
    "image-3.png": {
     "image/png": "[encoded data removed]"
    }
   },
   "cell_type": "markdown",
   "metadata": {},
   "source": [
    "This is how the surface for various state values look like for the strategy min17, across all states including ones with usable ace:\n",
    "\n",
    "![image-3.png](attachment:image-3.png)"
   ]
  },
  {
   "cell_type": "code",
   "execution_count": 215,
   "metadata": {},
   "outputs": [
    {
     "data": {
      "application/vnd.jupyter.widget-view+json": {
       "model_id": "9605dbb4caa84936b6d57cd6a1bdeca3",
       "version_major": 2,
       "version_minor": 0
      },
      "text/plain": [
       "evaluating min20...:   0%|          | 0/219700 [00:00<?, ?it/s]"
      ]
     },
     "metadata": {},
     "output_type": "display_data"
    },
    {
     "name": "stdout",
     "output_type": "stream",
     "text": [
      "-35.92%\n"
     ]
    }
   ],
   "source": [
    "min20_results = exploring_starts_eval(\"min20\", HitUntilPolicy(min_value=20))\n",
    "min20_avg_reward = sum([v[\"reward\"] for v in min20_results.values()]) / sum([v[\"episodes\"] for v in min20_results.values()])\n",
    "print(f\"{min20_avg_reward:.2%}\")"
   ]
  },
  {
   "cell_type": "markdown",
   "metadata": {},
   "source": [
    "### Optimized exploring starts"
   ]
  },
  {
   "cell_type": "code",
   "execution_count": 344,
   "metadata": {},
   "outputs": [],
   "source": [
    "import math"
   ]
  },
  {
   "cell_type": "code",
   "execution_count": 473,
   "metadata": {},
   "outputs": [],
   "source": [
    "class TrainablePolicy:\n",
    "\n",
    "    @dataclass\n",
    "    class StateActionInfo:\n",
    "        observations: int = 0\n",
    "        rewards: int = 0\n",
    "\n",
    "        def update(self, reward: int):\n",
    "            self.observations += 1\n",
    "            self.rewards += reward\n",
    "\n",
    "        def get_average_reward(self) -> float:\n",
    "            if self.observations == 0:\n",
    "                return 0.0\n",
    "            return self.rewards / self.observations\n",
    "\n",
    "    @staticmethod\n",
    "    def _init_qvalues():\n",
    "        result = collections.defaultdict(lambda: collections.defaultdict(lambda: TrainablePolicy.StateActionInfo()))\n",
    "        for dealer_value in range(13):\n",
    "            for player_value in range(21):\n",
    "                for usable_ace in [True, False]:\n",
    "                    state_key = (dealer_value, player_value, usable_ace)\n",
    "                    if player_value >= 20:\n",
    "                        result[state_key]['hit'] = TrainablePolicy.StateActionInfo(1, 0)\n",
    "                        result[state_key]['stick'] = TrainablePolicy.StateActionInfo(1, 1)\n",
    "                    else:\n",
    "                        result[state_key]['hit'] = TrainablePolicy.StateActionInfo(1, 1)\n",
    "                        result[state_key]['stick'] = TrainablePolicy.StateActionInfo(1, 0)\n",
    "        return result\n",
    "\n",
    "    def __init__(self):\n",
    "        self.qvalues = self._init_qvalues()\n",
    "\n",
    "    def get_state_info(self, game: Game):\n",
    "        return self.qvalues[get_state_key(game)]\n",
    "    \n",
    "    def get_action_info(self, game: Game, action: str):\n",
    "        return self.get_state_info(game)[action]\n",
    "    \n",
    "    def get_action_value(self, game: Game, action: str):\n",
    "        return self.get_action_info(game, action).get_average_reward()\n",
    "    \n",
    "    def get_hit_value(self, game: Game):\n",
    "        return self.get_action_value(game, 'hit')\n",
    "    \n",
    "    def get_stick_value(self, game: Game):\n",
    "        return self.get_action_value(game, 'hit')\n",
    "    \n",
    "    def get_optimal_action(self, game: Game):\n",
    "        optimal_value = -math.inf\n",
    "        optimal_action = None\n",
    "        for action, info in self.get_state_info(game).items():\n",
    "            if optimal_value < info.get_average_reward():\n",
    "                optimal_value = info.get_average_reward()\n",
    "                optimal_action = action\n",
    "        return optimal_action, optimal_value\n",
    "    \n",
    "    def play(self, game: Game):\n",
    "        actions = []\n",
    "        while not game.is_finished():\n",
    "            state_key = get_state_key(game)\n",
    "            action, _ = self.get_optimal_action(game)\n",
    "            if action == 'hit':\n",
    "                game.hit()\n",
    "                actions.append((state_key, 'hit'))\n",
    "            else:\n",
    "                game.stick()\n",
    "                actions.append((state_key, 'stick'))\n",
    "\n",
    "        for state_key, action in actions:\n",
    "            self.learn(state_key, action, game.get_reward())\n",
    "\n",
    "    def learn(self, state_key: Any, action: str, reward: float):\n",
    "        self.qvalues[state_key][action].update(reward)\n",
    "        "
   ]
  },
  {
   "cell_type": "code",
   "execution_count": 474,
   "metadata": {},
   "outputs": [],
   "source": [
    "# policy = TrainablePolicy()"
   ]
  },
  {
   "cell_type": "code",
   "execution_count": 475,
   "metadata": {},
   "outputs": [],
   "source": [
    "# game = Game(seed=1829427999, dealer_card=Card(9), player_hand=Hand(Card(5), Card(11)))\n",
    "# game"
   ]
  },
  {
   "cell_type": "code",
   "execution_count": 476,
   "metadata": {},
   "outputs": [],
   "source": [
    "# policy.get_state_info(game)"
   ]
  },
  {
   "cell_type": "code",
   "execution_count": 477,
   "metadata": {},
   "outputs": [],
   "source": [
    "# policy.play(game)"
   ]
  },
  {
   "cell_type": "code",
   "execution_count": 478,
   "metadata": {},
   "outputs": [],
   "source": [
    "# game = Game(seed=1829427999, dealer_card=Card(9), player_hand=Hand(Card(5), Card(11)))\n",
    "# policy.get_state_info(game)"
   ]
  },
  {
   "cell_type": "code",
   "execution_count": 489,
   "metadata": {},
   "outputs": [],
   "source": [
    "policy_stats = {}"
   ]
  },
  {
   "cell_type": "code",
   "execution_count": 490,
   "metadata": {},
   "outputs": [
    {
     "data": {
      "application/vnd.jupyter.widget-view+json": {
       "model_id": "d45490a83daf44e9a61d263088ab5ba7",
       "version_major": 2,
       "version_minor": 0
      },
      "text/plain": [
       "evaluating mc-min20-100...:   0%|          | 0/219700 [00:00<?, ?it/s]"
      ]
     },
     "metadata": {},
     "output_type": "display_data"
    },
    {
     "name": "stdout",
     "output_type": "stream",
     "text": [
      "-8.32%\n"
     ]
    }
   ],
   "source": [
    "exp_name = \"mc-min20-100\"\n",
    "policy_stats[exp_name] = exploring_starts_eval(exp_name, policy=TrainablePolicy(), iterations=100)\n",
    "avg_reward = sum([v[\"reward\"] for v in policy_stats[exp_name].values()]) / sum([v[\"episodes\"] for v in policy_stats[exp_name].values()])\n",
    "print(f\"{avg_reward:.2%}\")"
   ]
  },
  {
   "cell_type": "code",
   "execution_count": 491,
   "metadata": {},
   "outputs": [
    {
     "data": {
      "application/vnd.jupyter.widget-view+json": {
       "model_id": "8075764bb79f4e3c9a558506d7ab1fed",
       "version_major": 2,
       "version_minor": 0
      },
      "text/plain": [
       "evaluating mc-min20-500...:   0%|          | 0/1098500 [00:00<?, ?it/s]"
      ]
     },
     "metadata": {},
     "output_type": "display_data"
    },
    {
     "name": "stdout",
     "output_type": "stream",
     "text": [
      "-8.07%\n"
     ]
    }
   ],
   "source": [
    "exp_name = \"mc-min20-500\"\n",
    "policy_stats[exp_name] = exploring_starts_eval(exp_name, policy=TrainablePolicy(), iterations=500)\n",
    "avg_reward = sum([v[\"reward\"] for v in policy_stats[exp_name].values()]) / sum([v[\"episodes\"] for v in policy_stats[exp_name].values()])\n",
    "print(f\"{avg_reward:.2%}\")"
   ]
  },
  {
   "cell_type": "code",
   "execution_count": 492,
   "metadata": {},
   "outputs": [
    {
     "data": {
      "text/html": [
       "<div>\n",
       "<style scoped>\n",
       "    .dataframe tbody tr th:only-of-type {\n",
       "        vertical-align: middle;\n",
       "    }\n",
       "\n",
       "    .dataframe tbody tr th {\n",
       "        vertical-align: top;\n",
       "    }\n",
       "\n",
       "    .dataframe thead th {\n",
       "        text-align: right;\n",
       "    }\n",
       "</style>\n",
       "<table border=\"1\" class=\"dataframe\">\n",
       "  <thead>\n",
       "    <tr style=\"text-align: right;\">\n",
       "      <th></th>\n",
       "      <th>policy</th>\n",
       "      <th>dealer_value</th>\n",
       "      <th>player_value</th>\n",
       "      <th>usable_ace</th>\n",
       "      <th>episodes</th>\n",
       "      <th>reward</th>\n",
       "    </tr>\n",
       "  </thead>\n",
       "  <tbody>\n",
       "    <tr>\n",
       "      <th>0</th>\n",
       "      <td>mc-min20-100</td>\n",
       "      <td>2</td>\n",
       "      <td>4</td>\n",
       "      <td>False</td>\n",
       "      <td>100</td>\n",
       "      <td>-19</td>\n",
       "    </tr>\n",
       "    <tr>\n",
       "      <th>1</th>\n",
       "      <td>mc-min20-100</td>\n",
       "      <td>2</td>\n",
       "      <td>5</td>\n",
       "      <td>False</td>\n",
       "      <td>200</td>\n",
       "      <td>-32</td>\n",
       "    </tr>\n",
       "    <tr>\n",
       "      <th>2</th>\n",
       "      <td>mc-min20-100</td>\n",
       "      <td>2</td>\n",
       "      <td>6</td>\n",
       "      <td>False</td>\n",
       "      <td>300</td>\n",
       "      <td>-72</td>\n",
       "    </tr>\n",
       "    <tr>\n",
       "      <th>3</th>\n",
       "      <td>mc-min20-100</td>\n",
       "      <td>2</td>\n",
       "      <td>7</td>\n",
       "      <td>False</td>\n",
       "      <td>400</td>\n",
       "      <td>-33</td>\n",
       "    </tr>\n",
       "    <tr>\n",
       "      <th>4</th>\n",
       "      <td>mc-min20-100</td>\n",
       "      <td>2</td>\n",
       "      <td>8</td>\n",
       "      <td>False</td>\n",
       "      <td>500</td>\n",
       "      <td>-32</td>\n",
       "    </tr>\n",
       "    <tr>\n",
       "      <th>...</th>\n",
       "      <td>...</td>\n",
       "      <td>...</td>\n",
       "      <td>...</td>\n",
       "      <td>...</td>\n",
       "      <td>...</td>\n",
       "      <td>...</td>\n",
       "    </tr>\n",
       "    <tr>\n",
       "      <th>535</th>\n",
       "      <td>mc-min20-500</td>\n",
       "      <td>11</td>\n",
       "      <td>19</td>\n",
       "      <td>False</td>\n",
       "      <td>4000</td>\n",
       "      <td>-376</td>\n",
       "    </tr>\n",
       "    <tr>\n",
       "      <th>536</th>\n",
       "      <td>mc-min20-500</td>\n",
       "      <td>11</td>\n",
       "      <td>20</td>\n",
       "      <td>True</td>\n",
       "      <td>1000</td>\n",
       "      <td>166</td>\n",
       "    </tr>\n",
       "    <tr>\n",
       "      <th>537</th>\n",
       "      <td>mc-min20-500</td>\n",
       "      <td>11</td>\n",
       "      <td>20</td>\n",
       "      <td>False</td>\n",
       "      <td>8000</td>\n",
       "      <td>1350</td>\n",
       "    </tr>\n",
       "    <tr>\n",
       "      <th>538</th>\n",
       "      <td>mc-min20-500</td>\n",
       "      <td>11</td>\n",
       "      <td>21</td>\n",
       "      <td>True</td>\n",
       "      <td>4000</td>\n",
       "      <td>2758</td>\n",
       "    </tr>\n",
       "    <tr>\n",
       "      <th>539</th>\n",
       "      <td>mc-min20-500</td>\n",
       "      <td>11</td>\n",
       "      <td>12</td>\n",
       "      <td>True</td>\n",
       "      <td>500</td>\n",
       "      <td>-380</td>\n",
       "    </tr>\n",
       "  </tbody>\n",
       "</table>\n",
       "<p>540 rows × 6 columns</p>\n",
       "</div>"
      ],
      "text/plain": [
       "           policy  dealer_value  player_value  usable_ace  episodes  reward\n",
       "0    mc-min20-100             2             4       False       100     -19\n",
       "1    mc-min20-100             2             5       False       200     -32\n",
       "2    mc-min20-100             2             6       False       300     -72\n",
       "3    mc-min20-100             2             7       False       400     -33\n",
       "4    mc-min20-100             2             8       False       500     -32\n",
       "..            ...           ...           ...         ...       ...     ...\n",
       "535  mc-min20-500            11            19       False      4000    -376\n",
       "536  mc-min20-500            11            20        True      1000     166\n",
       "537  mc-min20-500            11            20       False      8000    1350\n",
       "538  mc-min20-500            11            21        True      4000    2758\n",
       "539  mc-min20-500            11            12        True       500    -380\n",
       "\n",
       "[540 rows x 6 columns]"
      ]
     },
     "execution_count": 492,
     "metadata": {},
     "output_type": "execute_result"
    }
   ],
   "source": [
    "results = []\n",
    "for policy_name, stats in policy_stats.items():\n",
    "    for (dv, pv, ua), info in stats.items():\n",
    "        results.append({\n",
    "            'policy': policy_name, \n",
    "            'dealer_value': dv, \n",
    "            'player_value': pv, \n",
    "            'usable_ace': bool(ua), \n",
    "            'episodes': info['episodes'], \n",
    "            'reward': info['reward']\n",
    "        })\n",
    "\n",
    "results = pd.DataFrame(results)\n",
    "results.to_csv(\"./chapter-05-blackjack-results-mc.tsv\", sep=\"\\t\", index=False)\n",
    "results"
   ]
  },
  {
   "cell_type": "code",
   "execution_count": null,
   "metadata": {},
   "outputs": [],
   "source": []
  }
 ],
 "metadata": {
  "kernelspec": {
   "display_name": "Python 3",
   "language": "python",
   "name": "python3"
  },
  "language_info": {
   "codemirror_mode": {
    "name": "ipython",
    "version": 3
   },
   "file_extension": ".py",
   "mimetype": "text/x-python",
   "name": "python",
   "nbconvert_exporter": "python",
   "pygments_lexer": "ipython3",
   "version": "3.9.2"
  }
 },
 "nbformat": 4,
 "nbformat_minor": 2
}
